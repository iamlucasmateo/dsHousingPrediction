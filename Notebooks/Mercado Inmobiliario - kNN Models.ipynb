{
 "cells": [
  {
   "cell_type": "markdown",
   "metadata": {},
   "source": [
    "# Modelos kNN para el mercado inmobiliario"
   ]
  },
  {
   "cell_type": "markdown",
   "metadata": {},
   "source": [
    "En el presente notebook investigamos distintos tipos de modelos kNN para predecir los valores de las propiedades en el mercado inmobiliario de Buenos Aires. El modelo kNN, por su naturaleza, captura la intuición habitual con respecto a la determinación de los precios de las propiedades: que lo más determinante es la zona en la que se encuentran. Asimismo, pareciera ser el modelo que utiliza [Properati](https://www.properati.com.ar/data/) (de donde fueron extraídos los datos del presente notebook) para su [preciómetro](https://www.properati.com.ar/tools/valuador-propiedades)."
   ]
  },
  {
   "cell_type": "code",
   "execution_count": 1,
   "metadata": {},
   "outputs": [],
   "source": [
    "import os\n",
    "# import warnings\n",
    "# warnings.filterwarnings('ignore')\n",
    "import numpy as np\n",
    "import pandas as pd\n",
    "import matplotlib.pylab as plt\n",
    "import seaborn as sns"
   ]
  },
  {
   "cell_type": "code",
   "execution_count": 2,
   "metadata": {},
   "outputs": [
    {
     "data": {
      "text/html": [
       "<div>\n",
       "<style scoped>\n",
       "    .dataframe tbody tr th:only-of-type {\n",
       "        vertical-align: middle;\n",
       "    }\n",
       "\n",
       "    .dataframe tbody tr th {\n",
       "        vertical-align: top;\n",
       "    }\n",
       "\n",
       "    .dataframe thead th {\n",
       "        text-align: right;\n",
       "    }\n",
       "</style>\n",
       "<table border=\"1\" class=\"dataframe\">\n",
       "  <thead>\n",
       "    <tr style=\"text-align: right;\">\n",
       "      <th></th>\n",
       "      <th>index</th>\n",
       "      <th>created_on</th>\n",
       "      <th>lat</th>\n",
       "      <th>lon</th>\n",
       "      <th>barrio_publicado</th>\n",
       "      <th>rooms</th>\n",
       "      <th>surface_total</th>\n",
       "      <th>surface_covered</th>\n",
       "      <th>price</th>\n",
       "      <th>title</th>\n",
       "      <th>...</th>\n",
       "      <th>VILLA LURO</th>\n",
       "      <th>VILLA ORTUZAR</th>\n",
       "      <th>VILLA PUEYRREDON</th>\n",
       "      <th>VILLA REAL</th>\n",
       "      <th>VILLA RIACHUELO</th>\n",
       "      <th>VILLA SANTA RITA</th>\n",
       "      <th>VILLA SOLDATI</th>\n",
       "      <th>VILLA URQUIZA</th>\n",
       "      <th>surface_uncovered</th>\n",
       "      <th>price_m2</th>\n",
       "    </tr>\n",
       "  </thead>\n",
       "  <tbody>\n",
       "    <tr>\n",
       "      <td>0</td>\n",
       "      <td>0</td>\n",
       "      <td>2019-08-04</td>\n",
       "      <td>-34.601864</td>\n",
       "      <td>-58.443563</td>\n",
       "      <td>Villa Crespo</td>\n",
       "      <td>3.0</td>\n",
       "      <td>67.0</td>\n",
       "      <td>60.0</td>\n",
       "      <td>110000.0</td>\n",
       "      <td>Departamento venta</td>\n",
       "      <td>...</td>\n",
       "      <td>0.0</td>\n",
       "      <td>0.0</td>\n",
       "      <td>0.0</td>\n",
       "      <td>0.0</td>\n",
       "      <td>0.0</td>\n",
       "      <td>0.0</td>\n",
       "      <td>0.0</td>\n",
       "      <td>0.0</td>\n",
       "      <td>7.0</td>\n",
       "      <td>1732.283465</td>\n",
       "    </tr>\n",
       "    <tr>\n",
       "      <td>1</td>\n",
       "      <td>1</td>\n",
       "      <td>2019-08-04</td>\n",
       "      <td>-34.644735</td>\n",
       "      <td>-58.421061</td>\n",
       "      <td>Boedo</td>\n",
       "      <td>2.0</td>\n",
       "      <td>40.0</td>\n",
       "      <td>40.0</td>\n",
       "      <td>79900.0</td>\n",
       "      <td>Departamento - Boedo - 2 amb  MUY LUMINOSO!!  ...</td>\n",
       "      <td>...</td>\n",
       "      <td>0.0</td>\n",
       "      <td>0.0</td>\n",
       "      <td>0.0</td>\n",
       "      <td>0.0</td>\n",
       "      <td>0.0</td>\n",
       "      <td>0.0</td>\n",
       "      <td>0.0</td>\n",
       "      <td>0.0</td>\n",
       "      <td>0.0</td>\n",
       "      <td>1997.500000</td>\n",
       "    </tr>\n",
       "    <tr>\n",
       "      <td>2</td>\n",
       "      <td>2</td>\n",
       "      <td>2019-08-04</td>\n",
       "      <td>-34.603423</td>\n",
       "      <td>-58.431140</td>\n",
       "      <td>Almagro</td>\n",
       "      <td>2.0</td>\n",
       "      <td>38.0</td>\n",
       "      <td>38.0</td>\n",
       "      <td>112000.0</td>\n",
       "      <td>Dos Ambientes Reciclado a 1 cuadra del Subte B</td>\n",
       "      <td>...</td>\n",
       "      <td>0.0</td>\n",
       "      <td>0.0</td>\n",
       "      <td>0.0</td>\n",
       "      <td>0.0</td>\n",
       "      <td>0.0</td>\n",
       "      <td>0.0</td>\n",
       "      <td>0.0</td>\n",
       "      <td>0.0</td>\n",
       "      <td>0.0</td>\n",
       "      <td>2947.368421</td>\n",
       "    </tr>\n",
       "    <tr>\n",
       "      <td>3</td>\n",
       "      <td>3</td>\n",
       "      <td>2019-08-04</td>\n",
       "      <td>-34.609326</td>\n",
       "      <td>-58.492374</td>\n",
       "      <td>Villa del Parque</td>\n",
       "      <td>2.0</td>\n",
       "      <td>94.0</td>\n",
       "      <td>77.0</td>\n",
       "      <td>169000.0</td>\n",
       "      <td>PH  DE 3 PLANTAS  CON COCHERA PROPIA Y TERRAZA</td>\n",
       "      <td>...</td>\n",
       "      <td>0.0</td>\n",
       "      <td>0.0</td>\n",
       "      <td>0.0</td>\n",
       "      <td>0.0</td>\n",
       "      <td>0.0</td>\n",
       "      <td>0.0</td>\n",
       "      <td>0.0</td>\n",
       "      <td>0.0</td>\n",
       "      <td>17.0</td>\n",
       "      <td>1976.608187</td>\n",
       "    </tr>\n",
       "    <tr>\n",
       "      <td>4</td>\n",
       "      <td>4</td>\n",
       "      <td>2019-05-27</td>\n",
       "      <td>-34.629607</td>\n",
       "      <td>-58.439279</td>\n",
       "      <td>NaN</td>\n",
       "      <td>1.0</td>\n",
       "      <td>41.0</td>\n",
       "      <td>37.0</td>\n",
       "      <td>118000.0</td>\n",
       "      <td>Departamento venta</td>\n",
       "      <td>...</td>\n",
       "      <td>0.0</td>\n",
       "      <td>0.0</td>\n",
       "      <td>0.0</td>\n",
       "      <td>0.0</td>\n",
       "      <td>0.0</td>\n",
       "      <td>0.0</td>\n",
       "      <td>0.0</td>\n",
       "      <td>0.0</td>\n",
       "      <td>4.0</td>\n",
       "      <td>3025.641026</td>\n",
       "    </tr>\n",
       "  </tbody>\n",
       "</table>\n",
       "<p>5 rows × 68 columns</p>\n",
       "</div>"
      ],
      "text/plain": [
       "   index  created_on        lat        lon  barrio_publicado  rooms  \\\n",
       "0      0  2019-08-04 -34.601864 -58.443563      Villa Crespo    3.0   \n",
       "1      1  2019-08-04 -34.644735 -58.421061             Boedo    2.0   \n",
       "2      2  2019-08-04 -34.603423 -58.431140           Almagro    2.0   \n",
       "3      3  2019-08-04 -34.609326 -58.492374  Villa del Parque    2.0   \n",
       "4      4  2019-05-27 -34.629607 -58.439279               NaN    1.0   \n",
       "\n",
       "   surface_total  surface_covered     price  \\\n",
       "0           67.0             60.0  110000.0   \n",
       "1           40.0             40.0   79900.0   \n",
       "2           38.0             38.0  112000.0   \n",
       "3           94.0             77.0  169000.0   \n",
       "4           41.0             37.0  118000.0   \n",
       "\n",
       "                                               title  ... VILLA LURO  \\\n",
       "0                                 Departamento venta  ...        0.0   \n",
       "1  Departamento - Boedo - 2 amb  MUY LUMINOSO!!  ...  ...        0.0   \n",
       "2     Dos Ambientes Reciclado a 1 cuadra del Subte B  ...        0.0   \n",
       "3     PH  DE 3 PLANTAS  CON COCHERA PROPIA Y TERRAZA  ...        0.0   \n",
       "4                                 Departamento venta  ...        0.0   \n",
       "\n",
       "  VILLA ORTUZAR VILLA PUEYRREDON  VILLA REAL  VILLA RIACHUELO  \\\n",
       "0           0.0              0.0         0.0              0.0   \n",
       "1           0.0              0.0         0.0              0.0   \n",
       "2           0.0              0.0         0.0              0.0   \n",
       "3           0.0              0.0         0.0              0.0   \n",
       "4           0.0              0.0         0.0              0.0   \n",
       "\n",
       "   VILLA SANTA RITA  VILLA SOLDATI  VILLA URQUIZA  surface_uncovered  \\\n",
       "0               0.0            0.0            0.0                7.0   \n",
       "1               0.0            0.0            0.0                0.0   \n",
       "2               0.0            0.0            0.0                0.0   \n",
       "3               0.0            0.0            0.0               17.0   \n",
       "4               0.0            0.0            0.0                4.0   \n",
       "\n",
       "      price_m2  \n",
       "0  1732.283465  \n",
       "1  1997.500000  \n",
       "2  2947.368421  \n",
       "3  1976.608187  \n",
       "4  3025.641026  \n",
       "\n",
       "[5 rows x 68 columns]"
      ]
     },
     "execution_count": 2,
     "metadata": {},
     "output_type": "execute_result"
    }
   ],
   "source": [
    "df = pd.read_csv('Properati_data_clean.csv')\n",
    "df.head()"
   ]
  },
  {
   "cell_type": "code",
   "execution_count": 3,
   "metadata": {},
   "outputs": [
    {
     "data": {
      "text/plain": [
       "Index(['index', 'created_on', 'lat', 'lon', 'barrio_publicado', 'rooms',\n",
       "       'surface_total', 'surface_covered', 'price', 'title', 'description',\n",
       "       'property_type', 'barrio', 'densidad', 'NBI', 'Casa', 'Departamento',\n",
       "       'PH', 'AGRONOMIA', 'ALMAGRO', 'BALVANERA', 'BARRACAS', 'BELGRANO',\n",
       "       'BOCA', 'BOEDO', 'CABALLITO', 'CHACARITA', 'COGHLAN', 'COLEGIALES',\n",
       "       'CONSTITUCION', 'FLORES', 'FLORESTA', 'LINIERS', 'MATADEROS',\n",
       "       'MONSERRAT', 'MONTE CASTRO', 'NUEVA POMPEYA', 'NUNEZ', 'PALERMO',\n",
       "       'PARQUE AVELLANEDA', 'PARQUE CHACABUCO', 'PARQUE CHAS',\n",
       "       'PARQUE PATRICIOS', 'PATERNAL', 'PUERTO MADERO', 'RECOLETA', 'RETIRO',\n",
       "       'SAAVEDRA', 'SAN CRISTOBAL', 'SAN NICOLAS', 'SAN TELMO',\n",
       "       'VELEZ SARSFIELD', 'VERSALLES', 'VILLA CRESPO', 'VILLA DEL PARQUE',\n",
       "       'VILLA DEVOTO', 'VILLA GRAL. MITRE', 'VILLA LUGANO', 'VILLA LURO',\n",
       "       'VILLA ORTUZAR', 'VILLA PUEYRREDON', 'VILLA REAL', 'VILLA RIACHUELO',\n",
       "       'VILLA SANTA RITA', 'VILLA SOLDATI', 'VILLA URQUIZA',\n",
       "       'surface_uncovered', 'price_m2'],\n",
       "      dtype='object')"
      ]
     },
     "execution_count": 3,
     "metadata": {},
     "output_type": "execute_result"
    }
   ],
   "source": [
    "# Chequeo columnas\n",
    "df.columns"
   ]
  },
  {
   "cell_type": "code",
   "execution_count": 4,
   "metadata": {},
   "outputs": [
    {
     "data": {
      "text/html": [
       "<div>\n",
       "<style scoped>\n",
       "    .dataframe tbody tr th:only-of-type {\n",
       "        vertical-align: middle;\n",
       "    }\n",
       "\n",
       "    .dataframe tbody tr th {\n",
       "        vertical-align: top;\n",
       "    }\n",
       "\n",
       "    .dataframe thead th {\n",
       "        text-align: right;\n",
       "    }\n",
       "</style>\n",
       "<table border=\"1\" class=\"dataframe\">\n",
       "  <thead>\n",
       "    <tr style=\"text-align: right;\">\n",
       "      <th></th>\n",
       "      <th>lat</th>\n",
       "      <th>lon</th>\n",
       "      <th>surface_covered</th>\n",
       "      <th>surface_uncovered</th>\n",
       "      <th>rooms</th>\n",
       "      <th>NBI</th>\n",
       "      <th>densidad</th>\n",
       "      <th>Casa</th>\n",
       "      <th>Departamento</th>\n",
       "      <th>PH</th>\n",
       "      <th>...</th>\n",
       "      <th>VILLA LUGANO</th>\n",
       "      <th>CONSTITUCION</th>\n",
       "      <th>FLORES</th>\n",
       "      <th>BOCA</th>\n",
       "      <th>NUNEZ</th>\n",
       "      <th>BELGRANO</th>\n",
       "      <th>RECOLETA</th>\n",
       "      <th>PALERMO</th>\n",
       "      <th>price_m2</th>\n",
       "      <th>price</th>\n",
       "    </tr>\n",
       "  </thead>\n",
       "  <tbody>\n",
       "    <tr>\n",
       "      <td>0</td>\n",
       "      <td>-34.601864</td>\n",
       "      <td>-58.443563</td>\n",
       "      <td>60.0</td>\n",
       "      <td>7.0</td>\n",
       "      <td>3.0</td>\n",
       "      <td>0.74</td>\n",
       "      <td>21699.484109</td>\n",
       "      <td>0.0</td>\n",
       "      <td>1.0</td>\n",
       "      <td>0.0</td>\n",
       "      <td>...</td>\n",
       "      <td>0.0</td>\n",
       "      <td>0.0</td>\n",
       "      <td>0.0</td>\n",
       "      <td>0.0</td>\n",
       "      <td>0.0</td>\n",
       "      <td>0.0</td>\n",
       "      <td>0.0</td>\n",
       "      <td>0.0</td>\n",
       "      <td>1732.283465</td>\n",
       "      <td>110000.0</td>\n",
       "    </tr>\n",
       "    <tr>\n",
       "      <td>1</td>\n",
       "      <td>-34.644735</td>\n",
       "      <td>-58.421061</td>\n",
       "      <td>40.0</td>\n",
       "      <td>0.0</td>\n",
       "      <td>2.0</td>\n",
       "      <td>5.80</td>\n",
       "      <td>11797.712026</td>\n",
       "      <td>0.0</td>\n",
       "      <td>1.0</td>\n",
       "      <td>0.0</td>\n",
       "      <td>...</td>\n",
       "      <td>0.0</td>\n",
       "      <td>0.0</td>\n",
       "      <td>0.0</td>\n",
       "      <td>0.0</td>\n",
       "      <td>0.0</td>\n",
       "      <td>0.0</td>\n",
       "      <td>0.0</td>\n",
       "      <td>0.0</td>\n",
       "      <td>1997.500000</td>\n",
       "      <td>79900.0</td>\n",
       "    </tr>\n",
       "    <tr>\n",
       "      <td>2</td>\n",
       "      <td>-34.603423</td>\n",
       "      <td>-58.431140</td>\n",
       "      <td>38.0</td>\n",
       "      <td>0.0</td>\n",
       "      <td>2.0</td>\n",
       "      <td>0.92</td>\n",
       "      <td>63288.443473</td>\n",
       "      <td>0.0</td>\n",
       "      <td>1.0</td>\n",
       "      <td>0.0</td>\n",
       "      <td>...</td>\n",
       "      <td>0.0</td>\n",
       "      <td>0.0</td>\n",
       "      <td>0.0</td>\n",
       "      <td>0.0</td>\n",
       "      <td>0.0</td>\n",
       "      <td>0.0</td>\n",
       "      <td>0.0</td>\n",
       "      <td>0.0</td>\n",
       "      <td>2947.368421</td>\n",
       "      <td>112000.0</td>\n",
       "    </tr>\n",
       "    <tr>\n",
       "      <td>3</td>\n",
       "      <td>-34.609326</td>\n",
       "      <td>-58.492374</td>\n",
       "      <td>77.0</td>\n",
       "      <td>17.0</td>\n",
       "      <td>2.0</td>\n",
       "      <td>0.27</td>\n",
       "      <td>13914.638078</td>\n",
       "      <td>0.0</td>\n",
       "      <td>0.0</td>\n",
       "      <td>1.0</td>\n",
       "      <td>...</td>\n",
       "      <td>0.0</td>\n",
       "      <td>0.0</td>\n",
       "      <td>0.0</td>\n",
       "      <td>0.0</td>\n",
       "      <td>0.0</td>\n",
       "      <td>0.0</td>\n",
       "      <td>0.0</td>\n",
       "      <td>0.0</td>\n",
       "      <td>1976.608187</td>\n",
       "      <td>169000.0</td>\n",
       "    </tr>\n",
       "    <tr>\n",
       "      <td>4</td>\n",
       "      <td>-34.629607</td>\n",
       "      <td>-58.439279</td>\n",
       "      <td>37.0</td>\n",
       "      <td>4.0</td>\n",
       "      <td>1.0</td>\n",
       "      <td>6.03</td>\n",
       "      <td>20216.713377</td>\n",
       "      <td>0.0</td>\n",
       "      <td>1.0</td>\n",
       "      <td>0.0</td>\n",
       "      <td>...</td>\n",
       "      <td>0.0</td>\n",
       "      <td>0.0</td>\n",
       "      <td>0.0</td>\n",
       "      <td>0.0</td>\n",
       "      <td>0.0</td>\n",
       "      <td>0.0</td>\n",
       "      <td>0.0</td>\n",
       "      <td>0.0</td>\n",
       "      <td>3025.641026</td>\n",
       "      <td>118000.0</td>\n",
       "    </tr>\n",
       "  </tbody>\n",
       "</table>\n",
       "<p>5 rows × 21 columns</p>\n",
       "</div>"
      ],
      "text/plain": [
       "         lat        lon  surface_covered  surface_uncovered  rooms   NBI  \\\n",
       "0 -34.601864 -58.443563             60.0                7.0    3.0  0.74   \n",
       "1 -34.644735 -58.421061             40.0                0.0    2.0  5.80   \n",
       "2 -34.603423 -58.431140             38.0                0.0    2.0  0.92   \n",
       "3 -34.609326 -58.492374             77.0               17.0    2.0  0.27   \n",
       "4 -34.629607 -58.439279             37.0                4.0    1.0  6.03   \n",
       "\n",
       "       densidad  Casa  Departamento   PH  ...  VILLA LUGANO  CONSTITUCION  \\\n",
       "0  21699.484109   0.0           1.0  0.0  ...           0.0           0.0   \n",
       "1  11797.712026   0.0           1.0  0.0  ...           0.0           0.0   \n",
       "2  63288.443473   0.0           1.0  0.0  ...           0.0           0.0   \n",
       "3  13914.638078   0.0           0.0  1.0  ...           0.0           0.0   \n",
       "4  20216.713377   0.0           1.0  0.0  ...           0.0           0.0   \n",
       "\n",
       "   FLORES  BOCA  NUNEZ  BELGRANO  RECOLETA  PALERMO     price_m2     price  \n",
       "0     0.0   0.0    0.0       0.0       0.0      0.0  1732.283465  110000.0  \n",
       "1     0.0   0.0    0.0       0.0       0.0      0.0  1997.500000   79900.0  \n",
       "2     0.0   0.0    0.0       0.0       0.0      0.0  2947.368421  112000.0  \n",
       "3     0.0   0.0    0.0       0.0       0.0      0.0  1976.608187  169000.0  \n",
       "4     0.0   0.0    0.0       0.0       0.0      0.0  3025.641026  118000.0  \n",
       "\n",
       "[5 rows x 21 columns]"
      ]
     },
     "execution_count": 4,
     "metadata": {},
     "output_type": "execute_result"
    }
   ],
   "source": [
    "# Me quedo con las columnas que me interesan\n",
    "features = ['lat', 'lon','surface_covered','surface_uncovered','rooms','NBI','densidad','Casa', 'Departamento','PH',]\n",
    "barrios = ['BALVANERA','VILLA LUGANO','CONSTITUCION','FLORES','BOCA','NUNEZ','BELGRANO','RECOLETA','PALERMO']\n",
    "targets = ['price_m2','price',]\n",
    "columnas = features + barrios + targets\n",
    "df = df[columnas]\n",
    "df.head()"
   ]
  },
  {
   "cell_type": "code",
   "execution_count": 5,
   "metadata": {},
   "outputs": [
    {
     "data": {
      "text/plain": [
       "lat                  0\n",
       "lon                  0\n",
       "surface_covered      0\n",
       "surface_uncovered    0\n",
       "rooms                0\n",
       "NBI                  0\n",
       "densidad             0\n",
       "Casa                 0\n",
       "Departamento         0\n",
       "PH                   0\n",
       "BALVANERA            0\n",
       "VILLA LUGANO         0\n",
       "CONSTITUCION         0\n",
       "FLORES               0\n",
       "BOCA                 0\n",
       "NUNEZ                0\n",
       "BELGRANO             0\n",
       "RECOLETA             0\n",
       "PALERMO              0\n",
       "price_m2             0\n",
       "price                0\n",
       "dtype: int64"
      ]
     },
     "execution_count": 5,
     "metadata": {},
     "output_type": "execute_result"
    }
   ],
   "source": [
    "df.dropna(inplace=True)\n",
    "df.isna().sum()"
   ]
  },
  {
   "cell_type": "markdown",
   "metadata": {},
   "source": [
    "### Train test split"
   ]
  },
  {
   "cell_type": "code",
   "execution_count": 6,
   "metadata": {},
   "outputs": [],
   "source": [
    "from sklearn.model_selection import train_test_split\n",
    "\n",
    "# Shuffleamos\n",
    "np.random.seed(seed=49)\n",
    "df_perm = np.random.permutation(df)\n",
    "df = pd.DataFrame(df_perm,columns=df.columns)\n",
    "\n",
    "# Vamos a dividir en tres conjuntos: train, validation, test\n",
    "df_train, df_val_test = train_test_split(df,test_size=0.3,random_state=50)\n",
    "df_validation, df_test = train_test_split(df_val_test,test_size=0.5,random_state=51)"
   ]
  },
  {
   "cell_type": "code",
   "execution_count": 7,
   "metadata": {},
   "outputs": [],
   "source": [
    "# Tomaremos como target la variable precio, y como input todo lo demás\n",
    "X_train = df_train.drop(columns=['price','price_m2'])\n",
    "X_validation = df_validation.drop(columns=['price','price_m2'])\n",
    "X_test = df_test.drop(columns=['price','price_m2'])\n",
    "y_train = df_train['price']\n",
    "y_validation = df_validation['price'] \n",
    "y_test = df_test['price']"
   ]
  },
  {
   "cell_type": "markdown",
   "metadata": {},
   "source": [
    "### kNN default"
   ]
  },
  {
   "cell_type": "markdown",
   "metadata": {},
   "source": [
    "A continuación aplicamos el regresor kNN (con los parámetros default de sklearn) a nuestros datos. Como es habitual, escalaremos los datos antes de fitear el kNN.\n",
    "\n",
    "El score que utilizaremos para evaluar nuestros modelos será el RMSE (root mean squared error), aunque también indicaremos el R2 cuando ello resulte adecuado."
   ]
  },
  {
   "cell_type": "code",
   "execution_count": 8,
   "metadata": {},
   "outputs": [
    {
     "name": "stdout",
     "output_type": "stream",
     "text": [
      "El RMSE en el conjunto de train es 30080.518447504484\n",
      "El RMSE en el conjunto de test es 36421.503825956315\n",
      "El R2 en el conjunto de train es 0.8680893168092587\n",
      "El R2 en el conjunto de test es 0.8076601885618133\n"
     ]
    }
   ],
   "source": [
    "from sklearn.metrics import mean_squared_error,r2_score\n",
    "from sklearn.neighbors import KNeighborsRegressor as KNR\n",
    "from sklearn.preprocessing import StandardScaler\n",
    "\n",
    "\n",
    "# Estandarizamos los datos\n",
    "scaler1 = StandardScaler()\n",
    "scaler1.fit(X_train)\n",
    "X_train_scaled = scaler1.transform(X_train)\n",
    "X_test_scaled = scaler1.transform(X_test)\n",
    " \n",
    "# Aplicamos KNN\n",
    "knr1 = KNR()\n",
    "knr1.fit(X_train_scaled,y_train)\n",
    "y_train_pred_knr1 = knr1.predict(X_train_scaled)\n",
    "y_test_pred_knr1 = knr1.predict(X_test_scaled)\n",
    "\n",
    "# Calculamos RMSE y R2\n",
    "rmse_knr1_train = np.sqrt(mean_squared_error(y_train,y_train_pred_knr1))\n",
    "rmse_knr1_test = np.sqrt(mean_squared_error(y_test,y_test_pred_knr1))\n",
    "r2_knr1_train = r2_score(y_train,y_train_pred_knr1)\n",
    "r2_knr1_test = r2_score(y_test,y_test_pred_knr1)\n",
    "\n",
    "# Output metricas\n",
    "print(f\"El RMSE en el conjunto de train es {rmse_knr1_train}\")\n",
    "print(f\"El RMSE en el conjunto de test es {rmse_knr1_test}\")\n",
    "print(f\"El R2 en el conjunto de train es {r2_knr1_train}\")\n",
    "print(f\"El R2 en el conjunto de test es {r2_knr1_test}\")"
   ]
  },
  {
   "cell_type": "markdown",
   "metadata": {},
   "source": [
    "Este modelo inicial será nuestro benchmark. Durante el resto del notebook trabajaremos en mejorar su performance."
   ]
  },
  {
   "cell_type": "markdown",
   "metadata": {},
   "source": [
    "### Optimización de parámetros: encontrando el k óptimo con Grid Search"
   ]
  },
  {
   "cell_type": "markdown",
   "metadata": {},
   "source": [
    "Más arriba calculamos el modelo kNN con los valores default de sci-kit learn; en particular, se toma n_neghbors = 5. A su vez, realizamos el cálculo de nuestros scores solamente para los conjuntos de train y test, lo que podría hacer que nuestros resultados sean muy sensibles a dicha partición. \n",
    "\n",
    "En este apartado nos dedicamos a refinar nuestro modelo: calcularemos scores de cross validation para distintos valores de k, tanto para el modelo escalado como sin escalar, pudiendo así tener un scoring más robusto (a través del cross validation) y mejor (a través del hyperparameter tuning)."
   ]
  },
  {
   "cell_type": "code",
   "execution_count": 9,
   "metadata": {},
   "outputs": [
    {
     "name": "stdout",
     "output_type": "stream",
     "text": [
      "Score promedio: 38311.77000442967\n"
     ]
    }
   ],
   "source": [
    "from sklearn.pipeline import Pipeline\n",
    "from sklearn.model_selection import cross_val_score, cross_validate\n",
    "\n",
    "# Creamos un pipeline que escale cada fold de cross validation\n",
    "# De este modo no leakeamos datos del train fold al test fold\n",
    "knr_pipe = Pipeline([('scaler',StandardScaler()),('knr',KNR())])\n",
    "knr_pipe.fit(X_train,y_train)\n",
    "knr_scores = np.sqrt(-cross_val_score(knr_pipe, X_train, y_train, cv=5,scoring='neg_mean_squared_error'))\n",
    "\n",
    "print(f'Score promedio: {knr_scores.mean()}')"
   ]
  },
  {
   "cell_type": "markdown",
   "metadata": {},
   "source": [
    "Los resultados en efecto son similares a los anteriores (aunque ambos empeoraron, posiblemente por reducir el tamaño de muestra para cada fold y porque puede haber folds con mucho error que inflen el promedio).\n",
    "\n",
    "Seguimos con el hyperparameter tuning, a través del GridSearchCV de sci-kit learn. Vamos a variar tanto el numero de vecinos como la función de peso (weight), que establece la naturaleza del voting de predicción entre los vecinos más cercanos."
   ]
  },
  {
   "cell_type": "code",
   "execution_count": 10,
   "metadata": {
    "collapsed": true
   },
   "outputs": [
    {
     "data": {
      "text/plain": [
       "GridSearchCV(cv=2, error_score='raise-deprecating',\n",
       "             estimator=Pipeline(memory=None,\n",
       "                                steps=[('scaler',\n",
       "                                        StandardScaler(copy=True,\n",
       "                                                       with_mean=True,\n",
       "                                                       with_std=True)),\n",
       "                                       ('knr',\n",
       "                                        KNeighborsRegressor(algorithm='auto',\n",
       "                                                            leaf_size=30,\n",
       "                                                            metric='minkowski',\n",
       "                                                            metric_params=None,\n",
       "                                                            n_jobs=None,\n",
       "                                                            n_neighbors=5, p=2,\n",
       "                                                            weights='uniform'))],\n",
       "                                verbose=False),\n",
       "             iid='warn', n_jobs=-1,\n",
       "             param_grid={'knr__n_neighbors': [5, 10, 15, 20],\n",
       "                         'knr__weights': ['uniform', 'distance']},\n",
       "             pre_dispatch='2*n_jobs', refit=True, return_train_score=False,\n",
       "             scoring='neg_mean_squared_error', verbose=0)"
      ]
     },
     "execution_count": 10,
     "metadata": {},
     "output_type": "execute_result"
    }
   ],
   "source": [
    "from sklearn.model_selection import GridSearchCV\n",
    "\n",
    "k_grid1 = {'knr__n_neighbors':[5,10,15,20],'knr__weights':['uniform','distance']}\n",
    "# Hacemos dos folds en un rango amplio, para estrechar luego la búsqueda\n",
    "grid1 = GridSearchCV(knr_pipe,k_grid1,scoring='neg_mean_squared_error',cv=2,n_jobs=-1)\n",
    "grid1.fit(X_train,y_train)"
   ]
  },
  {
   "cell_type": "code",
   "execution_count": 11,
   "metadata": {},
   "outputs": [
    {
     "data": {
      "text/html": [
       "<div>\n",
       "<style scoped>\n",
       "    .dataframe tbody tr th:only-of-type {\n",
       "        vertical-align: middle;\n",
       "    }\n",
       "\n",
       "    .dataframe tbody tr th {\n",
       "        vertical-align: top;\n",
       "    }\n",
       "\n",
       "    .dataframe thead th {\n",
       "        text-align: right;\n",
       "    }\n",
       "</style>\n",
       "<table border=\"1\" class=\"dataframe\">\n",
       "  <thead>\n",
       "    <tr style=\"text-align: right;\">\n",
       "      <th></th>\n",
       "      <th>k</th>\n",
       "      <th>weights</th>\n",
       "      <th>rank_test_score</th>\n",
       "      <th>rmse</th>\n",
       "    </tr>\n",
       "  </thead>\n",
       "  <tbody>\n",
       "    <tr>\n",
       "      <td>3</td>\n",
       "      <td>10</td>\n",
       "      <td>distance</td>\n",
       "      <td>1</td>\n",
       "      <td>35702.749314</td>\n",
       "    </tr>\n",
       "    <tr>\n",
       "      <td>5</td>\n",
       "      <td>15</td>\n",
       "      <td>distance</td>\n",
       "      <td>2</td>\n",
       "      <td>35761.223868</td>\n",
       "    </tr>\n",
       "    <tr>\n",
       "      <td>7</td>\n",
       "      <td>20</td>\n",
       "      <td>distance</td>\n",
       "      <td>3</td>\n",
       "      <td>35939.015261</td>\n",
       "    </tr>\n",
       "    <tr>\n",
       "      <td>1</td>\n",
       "      <td>5</td>\n",
       "      <td>distance</td>\n",
       "      <td>4</td>\n",
       "      <td>36418.053578</td>\n",
       "    </tr>\n",
       "    <tr>\n",
       "      <td>0</td>\n",
       "      <td>5</td>\n",
       "      <td>uniform</td>\n",
       "      <td>5</td>\n",
       "      <td>39458.458544</td>\n",
       "    </tr>\n",
       "    <tr>\n",
       "      <td>2</td>\n",
       "      <td>10</td>\n",
       "      <td>uniform</td>\n",
       "      <td>6</td>\n",
       "      <td>39595.917797</td>\n",
       "    </tr>\n",
       "    <tr>\n",
       "      <td>4</td>\n",
       "      <td>15</td>\n",
       "      <td>uniform</td>\n",
       "      <td>7</td>\n",
       "      <td>40022.384638</td>\n",
       "    </tr>\n",
       "    <tr>\n",
       "      <td>6</td>\n",
       "      <td>20</td>\n",
       "      <td>uniform</td>\n",
       "      <td>8</td>\n",
       "      <td>40403.498983</td>\n",
       "    </tr>\n",
       "  </tbody>\n",
       "</table>\n",
       "</div>"
      ],
      "text/plain": [
       "    k   weights  rank_test_score          rmse\n",
       "3  10  distance                1  35702.749314\n",
       "5  15  distance                2  35761.223868\n",
       "7  20  distance                3  35939.015261\n",
       "1   5  distance                4  36418.053578\n",
       "0   5   uniform                5  39458.458544\n",
       "2  10   uniform                6  39595.917797\n",
       "4  15   uniform                7  40022.384638\n",
       "6  20   uniform                8  40403.498983"
      ]
     },
     "execution_count": 11,
     "metadata": {},
     "output_type": "execute_result"
    }
   ],
   "source": [
    "df_scores1 = pd.DataFrame(grid1.cv_results_)\n",
    "df_scores1 = df_scores1[['param_knr__n_neighbors','param_knr__weights','mean_test_score','rank_test_score']]\n",
    "df_scores1.rename({'param_knr__n_neighbors':'k','param_knr__weights':'weights'},inplace=True,axis=1)\n",
    "df_scores1['rmse'] = np.sqrt(-df_scores1['mean_test_score'])\n",
    "df_scores1.drop(columns='mean_test_score',inplace=True)\n",
    "df_scores1.sort_values(by='rmse')"
   ]
  },
  {
   "cell_type": "markdown",
   "metadata": {},
   "source": [
    "Vamos a plotear un heatmap con este dataframe."
   ]
  },
  {
   "cell_type": "code",
   "execution_count": 12,
   "metadata": {},
   "outputs": [
    {
     "data": {
      "text/plain": [
       "<matplotlib.axes._subplots.AxesSubplot at 0x1a1a799e108>"
      ]
     },
     "execution_count": 12,
     "metadata": {},
     "output_type": "execute_result"
    },
    {
     "data": {
      "image/png": "[encoded data removed]",
      "text/plain": [
       "<Figure size 648x432 with 2 Axes>"
      ]
     },
     "metadata": {},
     "output_type": "display_data"
    }
   ],
   "source": [
    "sns.set()\n",
    "df_heat = df_scores1.drop(columns='rank_test_score').groupby(['weights','k'])\n",
    "df_heat = df_heat['rmse'].sum().unstack()\n",
    "f, ax = plt.subplots(figsize=(9, 6))\n",
    "sns.heatmap(df_heat, annot=True, linewidths=.5, cmap='viridis_r', ax=ax, fmt='.2f')"
   ]
  },
  {
   "cell_type": "markdown",
   "metadata": {},
   "source": [
    "Como nos muestra el heatmap, ponderar por la distancia nos está dando mejores resultados. En cuanto al número de vecinos, el óptimo parece estar alrededor de 10. Ahora aumentamos los folds de cv."
   ]
  },
  {
   "cell_type": "code",
   "execution_count": 13,
   "metadata": {},
   "outputs": [
    {
     "data": {
      "text/plain": [
       "GridSearchCV(cv=5, error_score='raise-deprecating',\n",
       "             estimator=Pipeline(memory=None,\n",
       "                                steps=[('scaler',\n",
       "                                        StandardScaler(copy=True,\n",
       "                                                       with_mean=True,\n",
       "                                                       with_std=True)),\n",
       "                                       ('knr',\n",
       "                                        KNeighborsRegressor(algorithm='auto',\n",
       "                                                            leaf_size=30,\n",
       "                                                            metric='minkowski',\n",
       "                                                            metric_params=None,\n",
       "                                                            n_jobs=None,\n",
       "                                                            n_neighbors=5, p=2,\n",
       "                                                            weights='distance'))],\n",
       "                                verbose=False),\n",
       "             iid='warn', n_jobs=-1,\n",
       "             param_grid={'knr__n_neighbors': range(8, 15)},\n",
       "             pre_dispatch='2*n_jobs', refit=True, return_train_score=False,\n",
       "             scoring='neg_mean_squared_error', verbose=0)"
      ]
     },
     "execution_count": 13,
     "metadata": {},
     "output_type": "execute_result"
    }
   ],
   "source": [
    "knr_pipe = Pipeline([('scaler',StandardScaler()),('knr',KNR(weights='distance'))])\n",
    "k_grid2 = {'knr__n_neighbors':range(8,15),}\n",
    "grid2 = GridSearchCV(knr_pipe,k_grid2,scoring='neg_mean_squared_error',cv=5,n_jobs=-1)\n",
    "grid2.fit(X_train,y_train)"
   ]
  },
  {
   "cell_type": "code",
   "execution_count": 14,
   "metadata": {},
   "outputs": [
    {
     "data": {
      "text/html": [
       "<div>\n",
       "<style scoped>\n",
       "    .dataframe tbody tr th:only-of-type {\n",
       "        vertical-align: middle;\n",
       "    }\n",
       "\n",
       "    .dataframe tbody tr th {\n",
       "        vertical-align: top;\n",
       "    }\n",
       "\n",
       "    .dataframe thead th {\n",
       "        text-align: right;\n",
       "    }\n",
       "</style>\n",
       "<table border=\"1\" class=\"dataframe\">\n",
       "  <thead>\n",
       "    <tr style=\"text-align: right;\">\n",
       "      <th></th>\n",
       "      <th>k</th>\n",
       "      <th>rank_test_score</th>\n",
       "      <th>rmse</th>\n",
       "    </tr>\n",
       "  </thead>\n",
       "  <tbody>\n",
       "    <tr>\n",
       "      <td>5</td>\n",
       "      <td>13</td>\n",
       "      <td>1</td>\n",
       "      <td>33552.219514</td>\n",
       "    </tr>\n",
       "    <tr>\n",
       "      <td>4</td>\n",
       "      <td>12</td>\n",
       "      <td>2</td>\n",
       "      <td>33557.967804</td>\n",
       "    </tr>\n",
       "    <tr>\n",
       "      <td>6</td>\n",
       "      <td>14</td>\n",
       "      <td>3</td>\n",
       "      <td>33581.816792</td>\n",
       "    </tr>\n",
       "    <tr>\n",
       "      <td>3</td>\n",
       "      <td>11</td>\n",
       "      <td>4</td>\n",
       "      <td>33600.413137</td>\n",
       "    </tr>\n",
       "    <tr>\n",
       "      <td>2</td>\n",
       "      <td>10</td>\n",
       "      <td>5</td>\n",
       "      <td>33606.686920</td>\n",
       "    </tr>\n",
       "    <tr>\n",
       "      <td>1</td>\n",
       "      <td>9</td>\n",
       "      <td>6</td>\n",
       "      <td>33677.319482</td>\n",
       "    </tr>\n",
       "    <tr>\n",
       "      <td>0</td>\n",
       "      <td>8</td>\n",
       "      <td>7</td>\n",
       "      <td>33732.960875</td>\n",
       "    </tr>\n",
       "  </tbody>\n",
       "</table>\n",
       "</div>"
      ],
      "text/plain": [
       "    k  rank_test_score          rmse\n",
       "5  13                1  33552.219514\n",
       "4  12                2  33557.967804\n",
       "6  14                3  33581.816792\n",
       "3  11                4  33600.413137\n",
       "2  10                5  33606.686920\n",
       "1   9                6  33677.319482\n",
       "0   8                7  33732.960875"
      ]
     },
     "execution_count": 14,
     "metadata": {},
     "output_type": "execute_result"
    }
   ],
   "source": [
    "df_scores2 = pd.DataFrame(grid2.cv_results_)\n",
    "df_scores2 = df_scores2[['param_knr__n_neighbors','mean_test_score','rank_test_score']]\n",
    "df_scores2.rename({'param_knr__n_neighbors':'k'},inplace=True,axis=1)\n",
    "df_scores2['rmse'] = np.sqrt(-df_scores2['mean_test_score'])\n",
    "df_scores2.drop(columns='mean_test_score',inplace=True)\n",
    "df_scores2.sort_values(by='rmse')"
   ]
  },
  {
   "cell_type": "markdown",
   "metadata": {},
   "source": [
    "Veámoslo gráficamente."
   ]
  },
  {
   "cell_type": "code",
   "execution_count": 15,
   "metadata": {},
   "outputs": [
    {
     "data": {
      "text/plain": [
       "<matplotlib.legend.Legend at 0x1a1a840b0c8>"
      ]
     },
     "execution_count": 15,
     "metadata": {},
     "output_type": "execute_result"
    },
    {
     "data": {
      "image/png": "[encoded data removed]",
      "text/plain": [
       "<Figure size 432x288 with 1 Axes>"
      ]
     },
     "metadata": {},
     "output_type": "display_data"
    }
   ],
   "source": [
    "plt.plot(df_scores2.k,df_scores2.rmse,label='RMSE Mean GridSearchCV')\n",
    "plt.xlabel('k')\n",
    "plt.ylabel('RMSE')\n",
    "plt.legend()"
   ]
  },
  {
   "cell_type": "markdown",
   "metadata": {},
   "source": [
    "Del hyperparameter tuning, nos quedamos con n_neighbors = 13 y weights = distance. Este será nuestro segundo modelo, grid2. Lo evaluamos en nuestro conjunto de test."
   ]
  },
  {
   "cell_type": "code",
   "execution_count": 16,
   "metadata": {},
   "outputs": [
    {
     "name": "stdout",
     "output_type": "stream",
     "text": [
      "El RMSE en el conjunto de train es 2427.106075555156\n",
      "El RMSE en el conjunto de test es 31406.287006433075\n",
      "El R2 en el conjunto de train es 0.9991412102545146\n",
      "El R2 en el conjunto de test es 0.8569833407648588\n",
      "Mejora benchmark: 13.77 %\n"
     ]
    }
   ],
   "source": [
    "# Aplicamos KNN\n",
    "knr2 = KNR(n_neighbors=13,weights='distance')\n",
    "knr2.fit(X_train_scaled,y_train)\n",
    "y_train_pred_knr2 = knr2.predict(X_train_scaled)\n",
    "y_test_pred_knr2 = knr2.predict(X_test_scaled)\n",
    "\n",
    "# Calculamos RMSE y R2\n",
    "rmse_knr2_train = np.sqrt(mean_squared_error(y_train,y_train_pred_knr2))\n",
    "rmse_knr2_test = np.sqrt(mean_squared_error(y_test,y_test_pred_knr2))\n",
    "r2_knr2_train = r2_score(y_train,y_train_pred_knr2)\n",
    "r2_knr2_test = r2_score(y_test,y_test_pred_knr2)\n",
    "\n",
    "# Output metricas\n",
    "print(f\"El RMSE en el conjunto de train es {rmse_knr2_train}\")\n",
    "print(f\"El RMSE en el conjunto de test es {rmse_knr2_test}\")\n",
    "print(f\"El R2 en el conjunto de train es {r2_knr2_train}\")\n",
    "print(f\"El R2 en el conjunto de test es {r2_knr2_test}\")\n",
    "print('Mejora benchmark: %.2f'% (((rmse_knr1_test - rmse_knr2_test)/rmse_knr1_test)*100)+' %')"
   ]
  },
  {
   "cell_type": "markdown",
   "metadata": {},
   "source": [
    "## Bagging"
   ]
  },
  {
   "cell_type": "markdown",
   "metadata": {},
   "source": [
    "Mejoramos la performance, pero tenemos también un gran overfitting del conjunto de test. Esta alta varianza sugiere la posibilidad de explorar un ensamble para modelos de bajo bias y alta variance: Bagging Regressor."
   ]
  },
  {
   "cell_type": "code",
   "execution_count": 17,
   "metadata": {},
   "outputs": [],
   "source": [
    "from sklearn.ensemble import BaggingRegressor"
   ]
  },
  {
   "cell_type": "code",
   "execution_count": 18,
   "metadata": {},
   "outputs": [],
   "source": [
    "bag1 = BaggingRegressor(base_estimator=knr2,max_samples=0.5,\\\n",
    "                       max_features=0.7,n_estimators=100,n_jobs=-1)\n",
    "bag1.fit(X_train_scaled,y_train)\n",
    "y_train_pred_bag1 = bag1.predict(X_train_scaled)\n",
    "y_test_pred_bag1 = bag1.predict(X_test_scaled)"
   ]
  },
  {
   "cell_type": "code",
   "execution_count": 19,
   "metadata": {},
   "outputs": [
    {
     "name": "stdout",
     "output_type": "stream",
     "text": [
      "El RMSE en el conjunto de train es 20832.56641276709\n",
      "El RMSE en el conjunto de test es 33329.46973797159\n",
      "El R2 en el conjunto de train es 0.936730429651417\n",
      "El R2 en el conjunto de test es 0.8389316361426375\n",
      "Mejora benchmark: 8.49 %\n"
     ]
    }
   ],
   "source": [
    "# Calculamos RMSE y R2\n",
    "rmse_bag1_train = np.sqrt(mean_squared_error(y_train,y_train_pred_bag1))\n",
    "rmse_bag1_test = np.sqrt(mean_squared_error(y_test,y_test_pred_bag1))\n",
    "r2_bag1_train = r2_score(y_train,y_train_pred_bag1)\n",
    "r2_bag1_test = r2_score(y_test,y_test_pred_bag1)\n",
    "\n",
    "# Output metricas\n",
    "print(f\"El RMSE en el conjunto de train es {rmse_bag1_train}\")\n",
    "print(f\"El RMSE en el conjunto de test es {rmse_bag1_test}\")\n",
    "print(f\"El R2 en el conjunto de train es {r2_bag1_train}\")\n",
    "print(f\"El R2 en el conjunto de test es {r2_bag1_test}\")\n",
    "print('Mejora benchmark: %.2f'% (((rmse_knr1_test - rmse_bag1_test)/rmse_knr1_test)*100)+' %')"
   ]
  },
  {
   "cell_type": "markdown",
   "metadata": {},
   "source": [
    "Vemos alguna mejora en nuestra performance. Probamos con otros parámetros."
   ]
  },
  {
   "cell_type": "code",
   "execution_count": 20,
   "metadata": {},
   "outputs": [],
   "source": [
    "bag2 = BaggingRegressor(base_estimator=knr2,max_samples=0.8,\\\n",
    "                       max_features=0.9,n_estimators=100,n_jobs=-1)\n",
    "bag2.fit(X_train_scaled,y_train)\n",
    "y_train_pred_bag2 = bag2.predict(X_train_scaled)\n",
    "y_test_pred_bag2 = bag2.predict(X_test_scaled)"
   ]
  },
  {
   "cell_type": "code",
   "execution_count": 21,
   "metadata": {},
   "outputs": [
    {
     "name": "stdout",
     "output_type": "stream",
     "text": [
      "El RMSE en el conjunto de train es 14911.805617233853\n",
      "El RMSE en el conjunto de test es 31929.58378929097\n",
      "El R2 en el conjunto de train es 0.967583225282166\n",
      "El R2 en el conjunto de test es 0.8521777005921809\n",
      "Mejora benchmark: 12.33 %\n"
     ]
    }
   ],
   "source": [
    "# Calculamos RMSE y R2\n",
    "rmse_bag2_train = np.sqrt(mean_squared_error(y_train,y_train_pred_bag2))\n",
    "rmse_bag2_test = np.sqrt(mean_squared_error(y_test,y_test_pred_bag2))\n",
    "r2_bag2_train = r2_score(y_train,y_train_pred_bag2)\n",
    "r2_bag2_test = r2_score(y_test,y_test_pred_bag2)\n",
    "\n",
    "# Output metricas\n",
    "print(f\"El RMSE en el conjunto de train es {rmse_bag2_train}\")\n",
    "print(f\"El RMSE en el conjunto de test es {rmse_bag2_test}\")\n",
    "print(f\"El R2 en el conjunto de train es {r2_bag2_train}\")\n",
    "print(f\"El R2 en el conjunto de test es {r2_bag2_test}\")\n",
    "print('Mejora benchmark: %.2f'% (((rmse_knr1_test - rmse_bag2_test)/rmse_knr1_test)*100)+' %')"
   ]
  },
  {
   "cell_type": "markdown",
   "metadata": {},
   "source": [
    "Una mejora superior a la anterior, un poco por debajo del modelo optimizado. Podríamos hacer un Grid Search para ver si podemos mejorar la performance aún más."
   ]
  },
  {
   "cell_type": "markdown",
   "metadata": {},
   "source": [
    "### Prediciendo precio a través del precio por m2"
   ]
  },
  {
   "cell_type": "markdown",
   "metadata": {},
   "source": [
    "Otra aproximación al problema sería tomar construir un modelo para predecir el precio por m2, y desde ahí estimar el precio de la propiedad. Es lo que haremos a continuación."
   ]
  },
  {
   "cell_type": "code",
   "execution_count": 22,
   "metadata": {},
   "outputs": [],
   "source": [
    "# Tomaremos como target la variable precio por m2\n",
    "z_train = df_train['price_m2']\n",
    "z_validation = df_validation['price_m2'] \n",
    "z_test = df_test['price_m2']"
   ]
  },
  {
   "cell_type": "code",
   "execution_count": 23,
   "metadata": {
    "collapsed": true
   },
   "outputs": [
    {
     "data": {
      "text/plain": [
       "GridSearchCV(cv=2, error_score='raise-deprecating',\n",
       "             estimator=Pipeline(memory=None,\n",
       "                                steps=[('scaler',\n",
       "                                        StandardScaler(copy=True,\n",
       "                                                       with_mean=True,\n",
       "                                                       with_std=True)),\n",
       "                                       ('knr',\n",
       "                                        KNeighborsRegressor(algorithm='auto',\n",
       "                                                            leaf_size=30,\n",
       "                                                            metric='minkowski',\n",
       "                                                            metric_params=None,\n",
       "                                                            n_jobs=None,\n",
       "                                                            n_neighbors=5, p=2,\n",
       "                                                            weights='distance'))],\n",
       "                                verbose=False),\n",
       "             iid='warn', n_jobs=-1,\n",
       "             param_grid={'knr__n_neighbors': [5, 10, 15, 20]},\n",
       "             pre_dispatch='2*n_jobs', refit=True, return_train_score=False,\n",
       "             scoring='neg_mean_squared_error', verbose=0)"
      ]
     },
     "execution_count": 23,
     "metadata": {},
     "output_type": "execute_result"
    }
   ],
   "source": [
    "knr_pipe = Pipeline([('scaler',StandardScaler()),('knr',KNR(weights='distance'))])\n",
    "k_grid2 = {'knr__n_neighbors':[5,10,15,20],}\n",
    "# Hacemos dos folds en un rango amplio, para estrechar luego la búsqueda\n",
    "grid3 = GridSearchCV(knr_pipe,k_grid2,scoring='neg_mean_squared_error',cv=2,n_jobs=-1)\n",
    "grid3.fit(X_train,z_train)"
   ]
  },
  {
   "cell_type": "code",
   "execution_count": 24,
   "metadata": {},
   "outputs": [
    {
     "data": {
      "text/html": [
       "<div>\n",
       "<style scoped>\n",
       "    .dataframe tbody tr th:only-of-type {\n",
       "        vertical-align: middle;\n",
       "    }\n",
       "\n",
       "    .dataframe tbody tr th {\n",
       "        vertical-align: top;\n",
       "    }\n",
       "\n",
       "    .dataframe thead th {\n",
       "        text-align: right;\n",
       "    }\n",
       "</style>\n",
       "<table border=\"1\" class=\"dataframe\">\n",
       "  <thead>\n",
       "    <tr style=\"text-align: right;\">\n",
       "      <th></th>\n",
       "      <th>param_knr__n_neighbors</th>\n",
       "      <th>mean_test_score</th>\n",
       "      <th>rank_test_score</th>\n",
       "    </tr>\n",
       "  </thead>\n",
       "  <tbody>\n",
       "    <tr>\n",
       "      <td>0</td>\n",
       "      <td>5</td>\n",
       "      <td>-252481.454775</td>\n",
       "      <td>4</td>\n",
       "    </tr>\n",
       "    <tr>\n",
       "      <td>1</td>\n",
       "      <td>10</td>\n",
       "      <td>-236306.247899</td>\n",
       "      <td>3</td>\n",
       "    </tr>\n",
       "    <tr>\n",
       "      <td>2</td>\n",
       "      <td>15</td>\n",
       "      <td>-232486.136902</td>\n",
       "      <td>2</td>\n",
       "    </tr>\n",
       "    <tr>\n",
       "      <td>3</td>\n",
       "      <td>20</td>\n",
       "      <td>-230939.499115</td>\n",
       "      <td>1</td>\n",
       "    </tr>\n",
       "  </tbody>\n",
       "</table>\n",
       "</div>"
      ],
      "text/plain": [
       "  param_knr__n_neighbors  mean_test_score  rank_test_score\n",
       "0                      5   -252481.454775                4\n",
       "1                     10   -236306.247899                3\n",
       "2                     15   -232486.136902                2\n",
       "3                     20   -230939.499115                1"
      ]
     },
     "execution_count": 24,
     "metadata": {},
     "output_type": "execute_result"
    }
   ],
   "source": [
    "df_scores3 = pd.DataFrame(grid3.cv_results_)\n",
    "df_scores3 = df_scores3[['param_knr__n_neighbors','mean_test_score','rank_test_score']]\n",
    "df_scores3"
   ]
  },
  {
   "cell_type": "code",
   "execution_count": 25,
   "metadata": {
    "collapsed": true
   },
   "outputs": [
    {
     "data": {
      "text/plain": [
       "GridSearchCV(cv=2, error_score='raise-deprecating',\n",
       "             estimator=Pipeline(memory=None,\n",
       "                                steps=[('scaler',\n",
       "                                        StandardScaler(copy=True,\n",
       "                                                       with_mean=True,\n",
       "                                                       with_std=True)),\n",
       "                                       ('knr',\n",
       "                                        KNeighborsRegressor(algorithm='auto',\n",
       "                                                            leaf_size=30,\n",
       "                                                            metric='minkowski',\n",
       "                                                            metric_params=None,\n",
       "                                                            n_jobs=None,\n",
       "                                                            n_neighbors=5, p=2,\n",
       "                                                            weights='distance'))],\n",
       "                                verbose=False),\n",
       "             iid='warn', n_jobs=-1,\n",
       "             param_grid={'knr__n_neighbors': [18, 20, 25, 30]},\n",
       "             pre_dispatch='2*n_jobs', refit=True, return_train_score=False,\n",
       "             scoring='neg_mean_squared_error', verbose=0)"
      ]
     },
     "execution_count": 25,
     "metadata": {},
     "output_type": "execute_result"
    }
   ],
   "source": [
    "# Seguimos buscando\n",
    "knr_pipe = Pipeline([('scaler',StandardScaler()),('knr',KNR(weights='distance'))])\n",
    "k_grid3 = {'knr__n_neighbors':[18,20,25,30],}\n",
    "# Hacemos dos folds en un rango amplio, para estrechar luego la búsqueda\n",
    "grid4 = GridSearchCV(knr_pipe,k_grid3,scoring='neg_mean_squared_error',cv=2,n_jobs=-1)\n",
    "grid4.fit(X_train,z_train)"
   ]
  },
  {
   "cell_type": "code",
   "execution_count": 26,
   "metadata": {},
   "outputs": [
    {
     "data": {
      "text/html": [
       "<div>\n",
       "<style scoped>\n",
       "    .dataframe tbody tr th:only-of-type {\n",
       "        vertical-align: middle;\n",
       "    }\n",
       "\n",
       "    .dataframe tbody tr th {\n",
       "        vertical-align: top;\n",
       "    }\n",
       "\n",
       "    .dataframe thead th {\n",
       "        text-align: right;\n",
       "    }\n",
       "</style>\n",
       "<table border=\"1\" class=\"dataframe\">\n",
       "  <thead>\n",
       "    <tr style=\"text-align: right;\">\n",
       "      <th></th>\n",
       "      <th>param_knr__n_neighbors</th>\n",
       "      <th>mean_test_score</th>\n",
       "      <th>rank_test_score</th>\n",
       "    </tr>\n",
       "  </thead>\n",
       "  <tbody>\n",
       "    <tr>\n",
       "      <td>0</td>\n",
       "      <td>18</td>\n",
       "      <td>-231430.220524</td>\n",
       "      <td>4</td>\n",
       "    </tr>\n",
       "    <tr>\n",
       "      <td>1</td>\n",
       "      <td>20</td>\n",
       "      <td>-230939.499115</td>\n",
       "      <td>3</td>\n",
       "    </tr>\n",
       "    <tr>\n",
       "      <td>2</td>\n",
       "      <td>25</td>\n",
       "      <td>-230318.489960</td>\n",
       "      <td>1</td>\n",
       "    </tr>\n",
       "    <tr>\n",
       "      <td>3</td>\n",
       "      <td>30</td>\n",
       "      <td>-230933.793435</td>\n",
       "      <td>2</td>\n",
       "    </tr>\n",
       "  </tbody>\n",
       "</table>\n",
       "</div>"
      ],
      "text/plain": [
       "  param_knr__n_neighbors  mean_test_score  rank_test_score\n",
       "0                     18   -231430.220524                4\n",
       "1                     20   -230939.499115                3\n",
       "2                     25   -230318.489960                1\n",
       "3                     30   -230933.793435                2"
      ]
     },
     "execution_count": 26,
     "metadata": {},
     "output_type": "execute_result"
    }
   ],
   "source": [
    "df_scores4 = pd.DataFrame(grid4.cv_results_)\n",
    "df_scores4 = df_scores4[['param_knr__n_neighbors','mean_test_score','rank_test_score']]\n",
    "df_scores4"
   ]
  },
  {
   "cell_type": "code",
   "execution_count": 27,
   "metadata": {
    "collapsed": true
   },
   "outputs": [
    {
     "data": {
      "text/plain": [
       "GridSearchCV(cv=2, error_score='raise-deprecating',\n",
       "             estimator=Pipeline(memory=None,\n",
       "                                steps=[('scaler',\n",
       "                                        StandardScaler(copy=True,\n",
       "                                                       with_mean=True,\n",
       "                                                       with_std=True)),\n",
       "                                       ('knr',\n",
       "                                        KNeighborsRegressor(algorithm='auto',\n",
       "                                                            leaf_size=30,\n",
       "                                                            metric='minkowski',\n",
       "                                                            metric_params=None,\n",
       "                                                            n_jobs=None,\n",
       "                                                            n_neighbors=5, p=2,\n",
       "                                                            weights='distance'))],\n",
       "                                verbose=False),\n",
       "             iid='warn', n_jobs=-1,\n",
       "             param_grid={'knr__n_neighbors': range(21, 28)},\n",
       "             pre_dispatch='2*n_jobs', refit=True, return_train_score=False,\n",
       "             scoring='neg_mean_squared_error', verbose=0)"
      ]
     },
     "execution_count": 27,
     "metadata": {},
     "output_type": "execute_result"
    }
   ],
   "source": [
    "# Hilando fino\n",
    "knr_pipe = Pipeline([('scaler',StandardScaler()),('knr',KNR(weights='distance'))])\n",
    "k_grid4 = {'knr__n_neighbors':range(21,28)}\n",
    "# Hacemos dos folds en un rango amplio, para estrechar luego la búsqueda\n",
    "grid5 = GridSearchCV(knr_pipe,k_grid4,scoring='neg_mean_squared_error',cv=2,n_jobs=-1)\n",
    "grid5.fit(X_train,z_train)"
   ]
  },
  {
   "cell_type": "code",
   "execution_count": 28,
   "metadata": {},
   "outputs": [
    {
     "data": {
      "text/html": [
       "<div>\n",
       "<style scoped>\n",
       "    .dataframe tbody tr th:only-of-type {\n",
       "        vertical-align: middle;\n",
       "    }\n",
       "\n",
       "    .dataframe tbody tr th {\n",
       "        vertical-align: top;\n",
       "    }\n",
       "\n",
       "    .dataframe thead th {\n",
       "        text-align: right;\n",
       "    }\n",
       "</style>\n",
       "<table border=\"1\" class=\"dataframe\">\n",
       "  <thead>\n",
       "    <tr style=\"text-align: right;\">\n",
       "      <th></th>\n",
       "      <th>param_knr__n_neighbors</th>\n",
       "      <th>mean_test_score</th>\n",
       "      <th>rank_test_score</th>\n",
       "    </tr>\n",
       "  </thead>\n",
       "  <tbody>\n",
       "    <tr>\n",
       "      <td>0</td>\n",
       "      <td>21</td>\n",
       "      <td>-230693.859933</td>\n",
       "      <td>6</td>\n",
       "    </tr>\n",
       "    <tr>\n",
       "      <td>1</td>\n",
       "      <td>22</td>\n",
       "      <td>-230389.325042</td>\n",
       "      <td>4</td>\n",
       "    </tr>\n",
       "    <tr>\n",
       "      <td>2</td>\n",
       "      <td>23</td>\n",
       "      <td>-230384.205833</td>\n",
       "      <td>3</td>\n",
       "    </tr>\n",
       "    <tr>\n",
       "      <td>3</td>\n",
       "      <td>24</td>\n",
       "      <td>-230171.411927</td>\n",
       "      <td>1</td>\n",
       "    </tr>\n",
       "    <tr>\n",
       "      <td>4</td>\n",
       "      <td>25</td>\n",
       "      <td>-230318.489960</td>\n",
       "      <td>2</td>\n",
       "    </tr>\n",
       "    <tr>\n",
       "      <td>5</td>\n",
       "      <td>26</td>\n",
       "      <td>-230565.504424</td>\n",
       "      <td>5</td>\n",
       "    </tr>\n",
       "    <tr>\n",
       "      <td>6</td>\n",
       "      <td>27</td>\n",
       "      <td>-230796.583598</td>\n",
       "      <td>7</td>\n",
       "    </tr>\n",
       "  </tbody>\n",
       "</table>\n",
       "</div>"
      ],
      "text/plain": [
       "  param_knr__n_neighbors  mean_test_score  rank_test_score\n",
       "0                     21   -230693.859933                6\n",
       "1                     22   -230389.325042                4\n",
       "2                     23   -230384.205833                3\n",
       "3                     24   -230171.411927                1\n",
       "4                     25   -230318.489960                2\n",
       "5                     26   -230565.504424                5\n",
       "6                     27   -230796.583598                7"
      ]
     },
     "execution_count": 28,
     "metadata": {},
     "output_type": "execute_result"
    }
   ],
   "source": [
    "df_scores5 = pd.DataFrame(grid5.cv_results_)\n",
    "df_scores5 = df_scores5[['param_knr__n_neighbors','mean_test_score','rank_test_score']]\n",
    "df_scores5"
   ]
  },
  {
   "cell_type": "markdown",
   "metadata": {},
   "source": [
    "Nuestro ganador es n=24, lo graficamos."
   ]
  },
  {
   "cell_type": "code",
   "execution_count": 29,
   "metadata": {},
   "outputs": [],
   "source": [
    "df_scores5['rmse'] = np.sqrt(-df_scores5['mean_test_score'])\n",
    "df_scores5.rename({'param_knr__n_neighbors':'k'},inplace=True,axis=1)"
   ]
  },
  {
   "cell_type": "code",
   "execution_count": 30,
   "metadata": {},
   "outputs": [
    {
     "data": {
      "text/plain": [
       "<matplotlib.legend.Legend at 0x1a1a9412488>"
      ]
     },
     "execution_count": 30,
     "metadata": {},
     "output_type": "execute_result"
    },
    {
     "data": {
      "image/png": "[encoded data removed]",
      "text/plain": [
       "<Figure size 432x288 with 1 Axes>"
      ]
     },
     "metadata": {},
     "output_type": "display_data"
    }
   ],
   "source": [
    "plt.plot(df_scores5.k,df_scores5.rmse,label='RMSE Mean GridSearchCV')\n",
    "plt.xlabel('k')\n",
    "plt.ylabel('RMSE')\n",
    "plt.legend()"
   ]
  },
  {
   "cell_type": "markdown",
   "metadata": {},
   "source": [
    "Vamos a predecir con este modelo la misma variable que en los anteriores, precio (en lugar de precio por m2), para poder comparar."
   ]
  },
  {
   "cell_type": "code",
   "execution_count": 31,
   "metadata": {},
   "outputs": [
    {
     "name": "stdout",
     "output_type": "stream",
     "text": [
      "El RMSE en el conjunto de train es 2427.106075555156\n",
      "El RMSE en el conjunto de test es 28965.104682398418\n",
      "El R2 en el conjunto de train es 0.9991412102545146\n",
      "El R2 en el conjunto de test es 0.8783523724362465\n",
      "Mejora benchmark: 20.47 %\n"
     ]
    }
   ],
   "source": [
    "# Aplicamos KNN\n",
    "knr3 = KNR(n_neighbors=24,weights='distance')\n",
    "knr3.fit(X_train_scaled,z_train)\n",
    "# Predecimos precio por m2\n",
    "z_train_pred_knr3 = knr3.predict(X_train_scaled)\n",
    "z_test_pred_knr3 = knr3.predict(X_test_scaled)\n",
    "# Calculamos precio total, teniendo en cuenta la superficie\n",
    "y_train_pred_knr3 = z_train_pred_knr3*(X_train['surface_covered'] + X_train['surface_uncovered']*0.5) \n",
    "y_test_pred_knr3 = z_test_pred_knr3*(X_test['surface_covered'] + X_test['surface_uncovered']*0.5) \n",
    "\n",
    "# Calculamos RMSE y R2\n",
    "rmse_knr3_train = np.sqrt(mean_squared_error(y_train,y_train_pred_knr3))\n",
    "rmse_knr3_test = np.sqrt(mean_squared_error(y_test,y_test_pred_knr3))\n",
    "r2_knr3_train = r2_score(y_train,y_train_pred_knr3)\n",
    "r2_knr3_test = r2_score(y_test,y_test_pred_knr3)\n",
    "\n",
    "# Output metricas\n",
    "print(f\"El RMSE en el conjunto de train es {rmse_knr3_train}\")\n",
    "print(f\"El RMSE en el conjunto de test es {rmse_knr3_test}\")\n",
    "print(f\"El R2 en el conjunto de train es {r2_knr3_train}\")\n",
    "print(f\"El R2 en el conjunto de test es {r2_knr3_test}\")\n",
    "print('Mejora benchmark: %.2f'% (((rmse_knr1_test - rmse_knr3_test)/rmse_knr1_test)*100)+' %')"
   ]
  },
  {
   "cell_type": "markdown",
   "metadata": {},
   "source": [
    "### Distancia Euclideana Ponderada"
   ]
  },
  {
   "cell_type": "markdown",
   "metadata": {},
   "source": [
    "Otro conjunto de hiperparámetros \"implícitos\" en el modelo kNN son las ponderaciones de la distancia; es decir, cuánto pesa cada feature en el cálculo de la distancia entre dos data points. Probaremos algunas ponderaciones según dos medidas del \"peso\" de cada feature: correlación (en valor absoluto) y feature importance, extraída de un modelo Random Forest."
   ]
  },
  {
   "cell_type": "code",
   "execution_count": 32,
   "metadata": {},
   "outputs": [],
   "source": [
    "corr = df_train.corr('pearson')\n",
    "corr_abs = abs(corr['price'])\n",
    "corr_weights = corr_abs.values[0:-2]"
   ]
  },
  {
   "cell_type": "code",
   "execution_count": 33,
   "metadata": {},
   "outputs": [
    {
     "name": "stdout",
     "output_type": "stream",
     "text": [
      "El RMSE en el conjunto de train es 2427.106075555156\n",
      "El RMSE en el conjunto de test es 31044.32650415861\n",
      "El R2 en el conjunto de train es 0.9991412102545146\n",
      "El R2 en el conjunto de test es 0.8602609058915818\n",
      "Mejora benchmark: 14.76 %\n"
     ]
    }
   ],
   "source": [
    "# Aplicamos kNN con weighted euclidean distance\n",
    "knr4 = KNR(n_neighbors=13,weights='distance',metric='wminkowski',metric_params={'w':corr_weights})\n",
    "knr4.fit(X_train_scaled,y_train)\n",
    "y_train_pred_knr4 = knr4.predict(X_train_scaled)\n",
    "y_test_pred_knr4 = knr4.predict(X_test_scaled)\n",
    "\n",
    "# Calculamos RMSE y R2\n",
    "rmse_knr4_train = np.sqrt(mean_squared_error(y_train,y_train_pred_knr4))\n",
    "rmse_knr4_test = np.sqrt(mean_squared_error(y_test,y_test_pred_knr4))\n",
    "r2_knr4_train = r2_score(y_train,y_train_pred_knr4)\n",
    "r2_knr4_test = r2_score(y_test,y_test_pred_knr4)\n",
    "\n",
    "# Output metricas\n",
    "print(f\"El RMSE en el conjunto de train es {rmse_knr4_train}\")\n",
    "print(f\"El RMSE en el conjunto de test es {rmse_knr4_test}\")\n",
    "print(f\"El R2 en el conjunto de train es {r2_knr4_train}\")\n",
    "print(f\"El R2 en el conjunto de test es {r2_knr4_test}\")\n",
    "print('Mejora benchmark: %.2f'% (((rmse_knr1_test - rmse_knr4_test)/rmse_knr1_test)*100)+' %')"
   ]
  },
  {
   "cell_type": "markdown",
   "metadata": {},
   "source": [
    "Interesante mejora. Ahora haremos lo mismo con el array de feature importances de Random Forest."
   ]
  },
  {
   "cell_type": "code",
   "execution_count": 34,
   "metadata": {},
   "outputs": [],
   "source": [
    "importance = [1.46950480e+03, 5.11196693e+02, 5.01101363e+03, 5.15047328e+02,\\\n",
    " 1.40625873e+03, 4.24962986e+02, 3.40308313e+02, 1.16980497e+01,\\\n",
    " 5.58928922e+01, 6.56886396e+01, 1.39077335e+01, 1.73843572e+01,\\\n",
    " 8.78352191e+00, 1.05221318e+01, 3.63225846e+00, 7.33607329e+00,\\\n",
    " 1.60968823e+01, 3.38647514e+01, 7.69002348e+01]"
   ]
  },
  {
   "cell_type": "code",
   "execution_count": 35,
   "metadata": {},
   "outputs": [
    {
     "name": "stdout",
     "output_type": "stream",
     "text": [
      "El RMSE en el conjunto de train es 2427.106075555156\n",
      "El RMSE en el conjunto de test es 30941.67136895862\n",
      "El R2 en el conjunto de train es 0.9991412102545146\n",
      "El R2 en el conjunto de test es 0.8611835361956\n",
      "Mejora benchmark: 15.05 %\n"
     ]
    }
   ],
   "source": [
    "# Aplicamos kNN con weighted euclidean distance\n",
    "knr5 = KNR(n_neighbors=13,weights='distance',metric='wminkowski',metric_params={'w':importance})\n",
    "knr5.fit(X_train_scaled,y_train)\n",
    "y_train_pred_knr5 = knr5.predict(X_train_scaled)\n",
    "y_test_pred_knr5 = knr5.predict(X_test_scaled)\n",
    "\n",
    "# Calculamos RMSE y R2\n",
    "rmse_knr5_train = np.sqrt(mean_squared_error(y_train,y_train_pred_knr5))\n",
    "rmse_knr5_test = np.sqrt(mean_squared_error(y_test,y_test_pred_knr5))\n",
    "r2_knr5_train = r2_score(y_train,y_train_pred_knr5)\n",
    "r2_knr5_test = r2_score(y_test,y_test_pred_knr5)\n",
    "\n",
    "# Output metricas\n",
    "print(f\"El RMSE en el conjunto de train es {rmse_knr5_train}\")\n",
    "print(f\"El RMSE en el conjunto de test es {rmse_knr5_test}\")\n",
    "print(f\"El R2 en el conjunto de train es {r2_knr5_train}\")\n",
    "print(f\"El R2 en el conjunto de test es {r2_knr5_test}\")\n",
    "print('Mejora benchmark: %.2f'% (((rmse_knr1_test - rmse_knr5_test)/rmse_knr1_test)*100)+' %')"
   ]
  },
  {
   "cell_type": "markdown",
   "metadata": {},
   "source": [
    "Ahora utilizaremos este array importance para predecir con el precio por m2."
   ]
  },
  {
   "cell_type": "code",
   "execution_count": 36,
   "metadata": {},
   "outputs": [
    {
     "name": "stdout",
     "output_type": "stream",
     "text": [
      "El RMSE en el conjunto de train es 2427.106075555156\n",
      "El RMSE en el conjunto de test es 30790.022401581256\n",
      "El R2 en el conjunto de train es 0.9991412102545146\n",
      "El R2 en el conjunto de test es 0.8625409150808636\n",
      "Mejora benchmark: 15.46 %\n"
     ]
    }
   ],
   "source": [
    "# Aplicamos KNN\n",
    "knr6 = KNR(n_neighbors=24,weights='distance',metric='wminkowski',metric_params={'w':importance})\n",
    "knr6.fit(X_train_scaled,z_train)\n",
    "# Predecimos precio por m2\n",
    "z_train_pred_knr6 = knr6.predict(X_train_scaled)\n",
    "z_test_pred_knr6 = knr6.predict(X_test_scaled)\n",
    "# Calculamos precio total, teniendo en cuenta la superficie\n",
    "y_train_pred_knr6 = z_train_pred_knr6*(X_train['surface_covered'] + X_train['surface_uncovered']*0.5) \n",
    "y_test_pred_knr6 = z_test_pred_knr6*(X_test['surface_covered'] + X_test['surface_uncovered']*0.5) \n",
    "\n",
    "# Calculamos RMSE y R2\n",
    "rmse_knr6_train = np.sqrt(mean_squared_error(y_train,y_train_pred_knr6))\n",
    "rmse_knr6_test = np.sqrt(mean_squared_error(y_test,y_test_pred_knr6))\n",
    "r2_knr6_train = r2_score(y_train,y_train_pred_knr6)\n",
    "r2_knr6_test = r2_score(y_test,y_test_pred_knr6)\n",
    "\n",
    "# Output metricas\n",
    "print(f\"El RMSE en el conjunto de train es {rmse_knr6_train}\")\n",
    "print(f\"El RMSE en el conjunto de test es {rmse_knr6_test}\")\n",
    "print(f\"El R2 en el conjunto de train es {r2_knr6_train}\")\n",
    "print(f\"El R2 en el conjunto de test es {r2_knr6_test}\")\n",
    "print('Mejora benchmark: %.2f'% (((rmse_knr1_test - rmse_knr6_test)/rmse_knr1_test)*100)+' %')"
   ]
  },
  {
   "cell_type": "markdown",
   "metadata": {},
   "source": [
    "### Algoritmo adaptativo"
   ]
  },
  {
   "cell_type": "markdown",
   "metadata": {},
   "source": [
    "Voy a tomar el modelo knr5 (distancia euclideana ponderada por la feature importance) y ver si podemos mejorar las ponderaciones adaptativamente."
   ]
  },
  {
   "cell_type": "code",
   "execution_count": 37,
   "metadata": {},
   "outputs": [],
   "source": [
    "# Esta función me indica el valor del RMSE para una lista de ponderaciones dada\n",
    "def rmse_weights(sets,weight_list,n):\n",
    "    '''\n",
    "    Devuelve el RMSE para un conjunto de sets (train, test) y un listado de ponderaciones.\n",
    "    \n",
    "    sets: 4-tuple X_train,y_train,X_test,y_test\n",
    "    weight_list: weighted values for euclidean metric\n",
    "    n: neighbor parameters for KNR\n",
    "    \n",
    "    '''\n",
    "    knr_weight = KNR(n_neighbors=n,metric='wminkowski', p=2,metric_params={'w': weight_list})\n",
    "    knr_weight.fit(sets[0],sets[1])\n",
    "    y_test_pred = knr_weight.predict(sets[2])\n",
    "    rmse_test = np.sqrt(mean_squared_error(y_test_pred, sets[3]))\n",
    "    return rmse_test"
   ]
  },
  {
   "cell_type": "code",
   "execution_count": 38,
   "metadata": {},
   "outputs": [],
   "source": [
    "# Esta función se encarga de mejorar nuestras ponderaciones, reduciendo el RMSE (test)\n",
    "# Tiene un parámetro, time_limit, con el cual puedo indicar cuánto tiempo le voy a dar para optimizar\n",
    "\n",
    "import time\n",
    "\n",
    "def improve_rmse(sets,weight_list,delta=0.1,n=5,time_limit=60):\n",
    "    '''\n",
    "    Devuelve pesos mejorados para un modelo KNR con distancia euclideana ponderada.\n",
    "    \n",
    "    sets: 4-tuple (X_train,y_train,X_test,y_test)\n",
    "    weight_list: weighted values for euclidean metric\n",
    "    n: neighbor parameters for KNR\n",
    "    delta: how much will each weight change (in percent)\n",
    "    \n",
    "    '''\n",
    "    t0 = time.time()\n",
    "    weight_work = weight_list.copy()\n",
    "    initial_score = rmse_weights(sets,weight_list,n)\n",
    "    score = initial_score\n",
    "    # Realizo pequenios cambios (delta) en los weights (positivo/negativo)\n",
    "    # Si mejoran el score, me quedo con el nuevo valor del weight\n",
    "    while time.time() - t0 < time_limit:\n",
    "        print('Tiempo: ',time.time()-t0,'\\nRMSE: ',score) # para control\n",
    "        last_score = score\n",
    "        for j in range(len(weight_work)):\n",
    "            if (time.time() - t0 > time_limit):\n",
    "                break\n",
    "            print('Tiempo: ',time.time()-t0,', j: ',j) # para control\n",
    "            for change in [1+delta,1-delta]:\n",
    "                weight_aux = weight_work.copy()\n",
    "                weight_aux[j] = weight_aux[j]*change\n",
    "                score_aux = rmse_weights(sets,weight_aux,n)\n",
    "                if score_aux < score:\n",
    "                    weight_work = weight_aux\n",
    "                    score = score_aux\n",
    "        # Si el score no mejora, aumento el delta\n",
    "        if score == last_score:\n",
    "            delta = delta*2\n",
    "    return weight_work, score, initial_score"
   ]
  },
  {
   "cell_type": "code",
   "execution_count": 39,
   "metadata": {},
   "outputs": [
    {
     "name": "stdout",
     "output_type": "stream",
     "text": [
      "Tiempo:  63.66278696060181 \n",
      "RMSE:  37062.29947520749\n",
      "Tiempo:  63.66278696060181 , j:  0\n",
      "Tiempo:  195.02241134643555 , j:  1\n",
      "Tiempo:  329.07297444343567 , j:  2\n",
      "Tiempo:  455.26107811927795 , j:  3\n",
      "Tiempo:  584.8020446300507 , j:  4\n",
      "Ponderaciones:  [2203.5, 766.5, 2505.5, 515, 703.0, 424, 340, 11, 55, 65, 13, 17, 8, 10, 3, 7, 16, 33, 76]\n",
      "RMSE test mejorado:  34975.920820834006\n",
      "Mejora initial score: 5.63 %\n"
     ]
    }
   ],
   "source": [
    "# Voy a usar la función para hallar ponderaciones que mejoren el scoring\n",
    "# Nuestro benchmark es un KNR con k=13 y con ponderaciones = feature importance\n",
    "# Como conjunto para mejorar tomamos df_validation, para no overfittear df_test\n",
    "# Le voy a dar 10 minutos para evolucionar\n",
    "\n",
    "X_validation_scaled = scaler1.transform(X_validation)\n",
    "sets = (X_train_scaled,y_train,X_validation_scaled,y_validation)\n",
    "weight_init = [int(x) for x in importance] # pesos feature importance, en enteros\n",
    "results = improve_rmse(sets,weight_init,delta=0.5,n=13,time_limit=600)\n",
    "ponderaciones = results[0]\n",
    "print('Ponderaciones: ',ponderaciones)\n",
    "print('RMSE test mejorado: ',results[1])\n",
    "print('Mejora initial score: %.2f'% (((results[2] - results[1])/results[2])*100)+' %')"
   ]
  },
  {
   "cell_type": "markdown",
   "metadata": {},
   "source": [
    "Ahora lo utilizamos en nuestros conjuntos originales."
   ]
  },
  {
   "cell_type": "code",
   "execution_count": 40,
   "metadata": {},
   "outputs": [
    {
     "name": "stdout",
     "output_type": "stream",
     "text": [
      "El RMSE en el conjunto de train es 2427.106075555156\n",
      "El RMSE en el conjunto de test es 29525.07899773691\n",
      "El R2 en el conjunto de train es 0.9991412102545146\n",
      "El R2 en el conjunto de test es 0.8736033466106978\n",
      "Mejora benchmark: 18.94 %\n"
     ]
    }
   ],
   "source": [
    "# Aplicamos kNN con weighted euclidean distance\n",
    "knr7 = KNR(n_neighbors=13,weights='distance',metric='wminkowski',metric_params={'w':ponderaciones})\n",
    "knr7.fit(X_train_scaled,y_train)\n",
    "y_train_pred_knr7 = knr7.predict(X_train_scaled)\n",
    "y_test_pred_knr7 = knr7.predict(X_test_scaled)\n",
    "\n",
    "# Calculamos RMSE y R2\n",
    "rmse_knr7_train = np.sqrt(mean_squared_error(y_train,y_train_pred_knr7))\n",
    "rmse_knr7_test = np.sqrt(mean_squared_error(y_test,y_test_pred_knr7))\n",
    "r2_knr7_train = r2_score(y_train,y_train_pred_knr7)\n",
    "r2_knr7_test = r2_score(y_test,y_test_pred_knr7)\n",
    "\n",
    "# Output metricas\n",
    "print(f\"El RMSE en el conjunto de train es {rmse_knr7_train}\")\n",
    "print(f\"El RMSE en el conjunto de test es {rmse_knr7_test}\")\n",
    "print(f\"El R2 en el conjunto de train es {r2_knr7_train}\")\n",
    "print(f\"El R2 en el conjunto de test es {r2_knr7_test}\")\n",
    "print('Mejora benchmark: %.2f'% (((rmse_knr1_test - rmse_knr7_test)/rmse_knr1_test)*100)+' %')"
   ]
  },
  {
   "cell_type": "markdown",
   "metadata": {},
   "source": [
    "## Apéndice: exportando información para mapas interactivos"
   ]
  },
  {
   "cell_type": "code",
   "execution_count": 41,
   "metadata": {},
   "outputs": [
    {
     "data": {
      "text/plain": [
       "77"
      ]
     },
     "execution_count": 41,
     "metadata": {},
     "output_type": "execute_result"
    }
   ],
   "source": [
    "# Sampleo subconjunto de test para mapa interactivo\n",
    "# Quiero una muestra de tamaño 80 aprox\n",
    "\n",
    "descarte,sample = train_test_split(df_test,test_size=0.02,random_state=11)\n",
    "X_sample = sample.drop(columns=['price','price_m2'])\n",
    "y_sample = sample.price\n",
    "X_sample_scaled = scaler1.transform(X_sample)\n",
    "X_sample.shape[0]"
   ]
  },
  {
   "cell_type": "markdown",
   "metadata": {},
   "source": [
    "A continuación exportamos los datos de esta muestra para utilizar en el mapa interactivo."
   ]
  },
  {
   "cell_type": "code",
   "execution_count": 42,
   "metadata": {},
   "outputs": [],
   "source": [
    "# Exporto datos de muestra para mapa (index, lat, lon, price, price_m2, surface)\n",
    "index_list,lat_list,lon_list,price_list,price_m2_list,surface_list = [],[],[],[],[],[]\n",
    "# Uso la referencia de índices del df original\n",
    "for j in (X_sample.index):\n",
    "    lat,lon = X_sample.at[j,'lat'],X_sample.at[j,'lon']\n",
    "    surface = X_sample.at[j,'surface_covered']\n",
    "    price = df_test.at[j,'price']\n",
    "    price_m2 = df_test.at[j,'price'] / (df_test.at[j,'surface_covered'] + df_test.at[j,'surface_covered']*0.5)\n",
    "    index_list.append(j),lat_list.append(lat),lon_list.append(lon)\n",
    "    price_list.append(price),price_m2_list.append(round(price_m2,2)),surface_list.append(surface)\n",
    "\n",
    "# This is a javascript object\n",
    "sampleList = {\n",
    "    'index':index_list,\n",
    "    'lat':lat_list,\n",
    "    'lon':lon_list,\n",
    "    'price':price_list,\n",
    "    'price_m2':price_m2_list,\n",
    "    'surface':surface_list,\n",
    "}\n",
    "\n",
    "with open('samplekNN.txt', 'w') as file:\n",
    "        file.write('var sampleList = '+str(sampleList))"
   ]
  },
  {
   "cell_type": "markdown",
   "metadata": {},
   "source": [
    "La función de la celda siguiente nos crea las predicciones detalladas para los mapas interactivos."
   ]
  },
  {
   "cell_type": "code",
   "execution_count": 43,
   "metadata": {},
   "outputs": [],
   "source": [
    "def create_prediction_javascript(predictions,neighbors_ind,filename,var_name):\n",
    "    # Create lists:\n",
    "    neigh_lat_list_list, neigh_lon_list_list = [],[]\n",
    "    neigh_price_m2_list_list, neigh_surf_list_list = [],[]\n",
    "    neigh_mean_surf_list,neigh_mean_price_m2_list = [],[]\n",
    "    target_surf_list,target_price_m2_list = [],[]\n",
    "    pred_price_list,target_price_list = [],[]\n",
    "    \n",
    "    # Loop each element from the sample, add its data and the prediction's\n",
    "    for i, j in zip(range(X_sample.shape[0]),X_sample.index):\n",
    "        neighbors = df.iloc[neighbors_ind[i],:]\n",
    "        neighbors['price_m2'] = round(neighbors['price'] / (neighbors['surface_covered']+0.5*neighbors['surface_uncovered']),2)\n",
    "        surf_mean = neighbors['surface_covered'].mean()\n",
    "        price_m2_mean = neighbors['price_m2'].mean()\n",
    "        price_mean = neighbors['price'].mean()\n",
    "        price_m2_target = df.at[j,'price'] / (df_test.at[j,'surface_covered'] + df_test.at[j,'surface_covered']*0.5)\n",
    "        lat_list = list(neighbors['lat'])\n",
    "        lat_list.append(df.at[j,'lat'])\n",
    "        neigh_lat_list_list.append(lat_list)\n",
    "        lon_list = list(neighbors['lon'])\n",
    "        lon_list.append(df.at[j,'lon'])\n",
    "        neigh_lon_list_list.append(lon_list)\n",
    "        price_m2_list = list(neighbors['price_m2'])\n",
    "        price_m2_list.append(price_m2_target)\n",
    "        neigh_price_m2_list_list.append(price_m2_list)\n",
    "        surface_total_list = list(neighbors['surface_covered'])\n",
    "        surface_total_list.append(df.at[j,'surface_covered'])\n",
    "        neigh_surf_list_list.append(surface_total_list)\n",
    "        neigh_mean_surf_list.append(round(surf_mean))\n",
    "        target_surf_list.append(df.at[j,'surface_covered'])\n",
    "        neigh_mean_price_m2_list.append(round(price_m2_mean,2))\n",
    "        target_price_m2_list.append(round(price_m2_target,2))\n",
    "        pred_price_list.append(round(predictions[i],2))\n",
    "        target_price_list.append(df.at[j,'price'])\n",
    "\n",
    "    # javascript Object\n",
    "    predictionObj = {\n",
    "        'neigh_lat_list':neigh_lat_list_list,\n",
    "        'neigh_lon_list':neigh_lon_list_list,\n",
    "        'neigh_price_m2_list':neigh_price_m2_list_list,\n",
    "        'neigh_surf_list':neigh_surf_list_list,\n",
    "        'neigh_mean_surf':neigh_mean_surf_list,\n",
    "        'target_surf':target_surf_list,\n",
    "        'neigh_mean_price_m2':neigh_mean_price_m2_list,\n",
    "        'target_price_m2':target_price_m2_list, \n",
    "        'pred_price':pred_price_list,\n",
    "        'target_price':target_price_list,\n",
    "    }\n",
    "    \n",
    "    with open(str(filename)+'.txt', 'w') as file:\n",
    "            file.write('var '+str(var_name)+' = '+str(predictionObj))"
   ]
  },
  {
   "cell_type": "code",
   "execution_count": 44,
   "metadata": {},
   "outputs": [],
   "source": [
    "import warnings\n",
    "warnings.filterwarnings('ignore')"
   ]
  },
  {
   "cell_type": "code",
   "execution_count": 45,
   "metadata": {},
   "outputs": [],
   "source": [
    "# Predicciones para el Grid Search\n",
    "predictions = knr2.predict(X_sample_scaled)\n",
    "neighbors_ind = knr2.kneighbors(X_sample_scaled)[1]\n",
    "create_prediction_javascript(predictions,neighbors_ind,'grid','grid')"
   ]
  },
  {
   "cell_type": "code",
   "execution_count": 46,
   "metadata": {},
   "outputs": [],
   "source": [
    "# Predicciones para el modelo con precio por m2\n",
    "price_m2_pred = knr3.predict(X_sample_scaled)\n",
    "# Calculamos precio total, teniendo en cuenta la superficie\n",
    "predictions = price_m2_pred*(X_sample['surface_covered'] + X_sample['surface_uncovered']*0.5)\n",
    "predictions = predictions.values\n",
    "neighbors_ind = knr3.kneighbors(X_sample_scaled)[1]\n",
    "create_prediction_javascript(predictions,neighbors_ind,'target','target')"
   ]
  },
  {
   "cell_type": "code",
   "execution_count": 47,
   "metadata": {},
   "outputs": [],
   "source": [
    "# Predicciones para el modelo con Bagging\n",
    "bag_predictions = bag2.predict(X_sample_scaled)"
   ]
  },
  {
   "cell_type": "code",
   "execution_count": 48,
   "metadata": {},
   "outputs": [],
   "source": [
    "predictionObj = {\n",
    "        'neigh_lat_list':[],\n",
    "        'neigh_lon_list':[],\n",
    "        'neigh_price_m2_list':[],\n",
    "        'neigh_surf_list':[],\n",
    "        'neigh_mean_surf':[],\n",
    "        'target_surf':[],\n",
    "        'neigh_mean_price_m2':[],\n",
    "        'target_price_m2':[],\n",
    "        'pred_price':list(bag_predictions),\n",
    "        'target_price':[],\n",
    "    }\n",
    "    \n",
    "with open('bagging.txt', 'w') as file:\n",
    "    file.write('var bagging = ' + str(predictionObj))"
   ]
  },
  {
   "cell_type": "code",
   "execution_count": 49,
   "metadata": {},
   "outputs": [],
   "source": [
    "# Predicciones para el modelo con pesos = correlaciones\n",
    "predictions = knr4.predict(X_sample_scaled)\n",
    "neighbors_ind = knr4.kneighbors(X_sample_scaled)[1]\n",
    "create_prediction_javascript(predictions,neighbors_ind,'correlation','correlation')"
   ]
  },
  {
   "cell_type": "code",
   "execution_count": 50,
   "metadata": {},
   "outputs": [],
   "source": [
    "# Predicciones para el modelo Adaptive\n",
    "predictions = knr7.predict(X_sample_scaled)\n",
    "neighbors_ind = knr7.kneighbors(X_sample_scaled)[1]\n",
    "create_prediction_javascript(predictions,neighbors_ind,'adaptive','adaptive')"
   ]
  },
  {
   "cell_type": "markdown",
   "metadata": {},
   "source": [
    "### Errores: histograma"
   ]
  },
  {
   "cell_type": "code",
   "execution_count": 51,
   "metadata": {},
   "outputs": [
    {
     "data": {
      "text/html": [
       "<div>\n",
       "<style scoped>\n",
       "    .dataframe tbody tr th:only-of-type {\n",
       "        vertical-align: middle;\n",
       "    }\n",
       "\n",
       "    .dataframe tbody tr th {\n",
       "        vertical-align: top;\n",
       "    }\n",
       "\n",
       "    .dataframe thead th {\n",
       "        text-align: right;\n",
       "    }\n",
       "</style>\n",
       "<table border=\"1\" class=\"dataframe\">\n",
       "  <thead>\n",
       "    <tr style=\"text-align: right;\">\n",
       "      <th></th>\n",
       "      <th>lat</th>\n",
       "      <th>lon</th>\n",
       "      <th>surface_covered</th>\n",
       "      <th>surface_uncovered</th>\n",
       "      <th>rooms</th>\n",
       "      <th>NBI</th>\n",
       "      <th>densidad</th>\n",
       "      <th>Casa</th>\n",
       "      <th>Departamento</th>\n",
       "      <th>PH</th>\n",
       "      <th>...</th>\n",
       "      <th>BELGRANO</th>\n",
       "      <th>RECOLETA</th>\n",
       "      <th>PALERMO</th>\n",
       "      <th>price_m2</th>\n",
       "      <th>price</th>\n",
       "      <th>pred_grid</th>\n",
       "      <th>pred_bagging</th>\n",
       "      <th>pred_target</th>\n",
       "      <th>pred_correlation</th>\n",
       "      <th>pred_adaptive</th>\n",
       "    </tr>\n",
       "  </thead>\n",
       "  <tbody>\n",
       "    <tr>\n",
       "      <td>20051</td>\n",
       "      <td>-34.566249</td>\n",
       "      <td>-58.435773</td>\n",
       "      <td>42.0</td>\n",
       "      <td>2.0</td>\n",
       "      <td>2.0</td>\n",
       "      <td>0.44</td>\n",
       "      <td>29699.316073</td>\n",
       "      <td>0.0</td>\n",
       "      <td>1.0</td>\n",
       "      <td>0.0</td>\n",
       "      <td>...</td>\n",
       "      <td>0.0</td>\n",
       "      <td>0.0</td>\n",
       "      <td>1.0</td>\n",
       "      <td>3372.093023</td>\n",
       "      <td>145000.0</td>\n",
       "      <td>175722.409825</td>\n",
       "      <td>172298.330775</td>\n",
       "      <td>156856.006793</td>\n",
       "      <td>172134.022894</td>\n",
       "      <td>158758.882963</td>\n",
       "    </tr>\n",
       "    <tr>\n",
       "      <td>5831</td>\n",
       "      <td>-34.589389</td>\n",
       "      <td>-58.432844</td>\n",
       "      <td>61.0</td>\n",
       "      <td>19.0</td>\n",
       "      <td>3.0</td>\n",
       "      <td>14.62</td>\n",
       "      <td>15852.996062</td>\n",
       "      <td>0.0</td>\n",
       "      <td>1.0</td>\n",
       "      <td>0.0</td>\n",
       "      <td>...</td>\n",
       "      <td>0.0</td>\n",
       "      <td>0.0</td>\n",
       "      <td>1.0</td>\n",
       "      <td>3120.567376</td>\n",
       "      <td>220000.0</td>\n",
       "      <td>261823.008135</td>\n",
       "      <td>249179.784396</td>\n",
       "      <td>239294.403200</td>\n",
       "      <td>277881.727786</td>\n",
       "      <td>235809.681662</td>\n",
       "    </tr>\n",
       "    <tr>\n",
       "      <td>15088</td>\n",
       "      <td>-34.563948</td>\n",
       "      <td>-58.493088</td>\n",
       "      <td>47.0</td>\n",
       "      <td>9.0</td>\n",
       "      <td>2.0</td>\n",
       "      <td>4.68</td>\n",
       "      <td>11931.125315</td>\n",
       "      <td>0.0</td>\n",
       "      <td>1.0</td>\n",
       "      <td>0.0</td>\n",
       "      <td>...</td>\n",
       "      <td>0.0</td>\n",
       "      <td>0.0</td>\n",
       "      <td>0.0</td>\n",
       "      <td>3592.233010</td>\n",
       "      <td>185000.0</td>\n",
       "      <td>154892.455080</td>\n",
       "      <td>153876.797042</td>\n",
       "      <td>159554.432176</td>\n",
       "      <td>167351.710535</td>\n",
       "      <td>153735.173950</td>\n",
       "    </tr>\n",
       "    <tr>\n",
       "      <td>21379</td>\n",
       "      <td>-34.559046</td>\n",
       "      <td>-58.475664</td>\n",
       "      <td>67.0</td>\n",
       "      <td>20.0</td>\n",
       "      <td>3.0</td>\n",
       "      <td>2.88</td>\n",
       "      <td>11832.936445</td>\n",
       "      <td>0.0</td>\n",
       "      <td>0.0</td>\n",
       "      <td>1.0</td>\n",
       "      <td>...</td>\n",
       "      <td>0.0</td>\n",
       "      <td>0.0</td>\n",
       "      <td>0.0</td>\n",
       "      <td>2467.532468</td>\n",
       "      <td>190000.0</td>\n",
       "      <td>212968.819446</td>\n",
       "      <td>204228.461492</td>\n",
       "      <td>209484.286092</td>\n",
       "      <td>217129.343347</td>\n",
       "      <td>239762.185641</td>\n",
       "    </tr>\n",
       "    <tr>\n",
       "      <td>15377</td>\n",
       "      <td>-34.573314</td>\n",
       "      <td>-58.486807</td>\n",
       "      <td>54.0</td>\n",
       "      <td>25.0</td>\n",
       "      <td>3.0</td>\n",
       "      <td>1.78</td>\n",
       "      <td>20794.036925</td>\n",
       "      <td>0.0</td>\n",
       "      <td>1.0</td>\n",
       "      <td>0.0</td>\n",
       "      <td>...</td>\n",
       "      <td>0.0</td>\n",
       "      <td>0.0</td>\n",
       "      <td>0.0</td>\n",
       "      <td>2631.578947</td>\n",
       "      <td>175000.0</td>\n",
       "      <td>204268.313680</td>\n",
       "      <td>202061.734417</td>\n",
       "      <td>193127.804597</td>\n",
       "      <td>203968.636536</td>\n",
       "      <td>190209.259698</td>\n",
       "    </tr>\n",
       "  </tbody>\n",
       "</table>\n",
       "<p>5 rows × 26 columns</p>\n",
       "</div>"
      ],
      "text/plain": [
       "             lat        lon  surface_covered  surface_uncovered  rooms    NBI  \\\n",
       "20051 -34.566249 -58.435773             42.0                2.0    2.0   0.44   \n",
       "5831  -34.589389 -58.432844             61.0               19.0    3.0  14.62   \n",
       "15088 -34.563948 -58.493088             47.0                9.0    2.0   4.68   \n",
       "21379 -34.559046 -58.475664             67.0               20.0    3.0   2.88   \n",
       "15377 -34.573314 -58.486807             54.0               25.0    3.0   1.78   \n",
       "\n",
       "           densidad  Casa  Departamento   PH  ...  BELGRANO  RECOLETA  \\\n",
       "20051  29699.316073   0.0           1.0  0.0  ...       0.0       0.0   \n",
       "5831   15852.996062   0.0           1.0  0.0  ...       0.0       0.0   \n",
       "15088  11931.125315   0.0           1.0  0.0  ...       0.0       0.0   \n",
       "21379  11832.936445   0.0           0.0  1.0  ...       0.0       0.0   \n",
       "15377  20794.036925   0.0           1.0  0.0  ...       0.0       0.0   \n",
       "\n",
       "       PALERMO     price_m2     price      pred_grid   pred_bagging  \\\n",
       "20051      1.0  3372.093023  145000.0  175722.409825  172298.330775   \n",
       "5831       1.0  3120.567376  220000.0  261823.008135  249179.784396   \n",
       "15088      0.0  3592.233010  185000.0  154892.455080  153876.797042   \n",
       "21379      0.0  2467.532468  190000.0  212968.819446  204228.461492   \n",
       "15377      0.0  2631.578947  175000.0  204268.313680  202061.734417   \n",
       "\n",
       "         pred_target  pred_correlation  pred_adaptive  \n",
       "20051  156856.006793     172134.022894  158758.882963  \n",
       "5831   239294.403200     277881.727786  235809.681662  \n",
       "15088  159554.432176     167351.710535  153735.173950  \n",
       "21379  209484.286092     217129.343347  239762.185641  \n",
       "15377  193127.804597     203968.636536  190209.259698  \n",
       "\n",
       "[5 rows x 26 columns]"
      ]
     },
     "execution_count": 51,
     "metadata": {},
     "output_type": "execute_result"
    }
   ],
   "source": [
    "# Creamos dataframe con las predicciones de cada modelo\n",
    "df_pred = df_test\n",
    "df_pred['pred_grid'] = y_test_pred_knr2\n",
    "df_pred['pred_bagging'] = y_test_pred_bag2\n",
    "df_pred['pred_target'] = y_test_pred_knr3\n",
    "df_pred['pred_correlation'] = y_test_pred_knr4\n",
    "df_pred['pred_adaptive'] = y_test_pred_knr7\n",
    "df_pred.head()"
   ]
  },
  {
   "cell_type": "code",
   "execution_count": 52,
   "metadata": {},
   "outputs": [],
   "source": [
    "# Calculamos sus errores\n",
    "df_pred['err_grid'] = df_pred['price'] - df_pred['pred_grid']\n",
    "df_pred['err_bagging'] = df_pred['price'] - df_pred['pred_bagging']\n",
    "df_pred['err_target'] = df_pred['price'] - df_pred['pred_target']\n",
    "df_pred['err_correlation'] = df_pred['price'] - df_pred['pred_correlation']\n",
    "df_pred['err_adaptive'] = df_pred['price'] - df_pred['pred_adaptive']"
   ]
  },
  {
   "cell_type": "code",
   "execution_count": 53,
   "metadata": {},
   "outputs": [
    {
     "data": {
      "text/html": [
       "<div>\n",
       "<style scoped>\n",
       "    .dataframe tbody tr th:only-of-type {\n",
       "        vertical-align: middle;\n",
       "    }\n",
       "\n",
       "    .dataframe tbody tr th {\n",
       "        vertical-align: top;\n",
       "    }\n",
       "\n",
       "    .dataframe thead th {\n",
       "        text-align: right;\n",
       "    }\n",
       "</style>\n",
       "<table border=\"1\" class=\"dataframe\">\n",
       "  <thead>\n",
       "    <tr style=\"text-align: right;\">\n",
       "      <th></th>\n",
       "      <th>lat</th>\n",
       "      <th>lon</th>\n",
       "      <th>surface_covered</th>\n",
       "      <th>surface_uncovered</th>\n",
       "      <th>rooms</th>\n",
       "      <th>NBI</th>\n",
       "      <th>densidad</th>\n",
       "      <th>Casa</th>\n",
       "      <th>Departamento</th>\n",
       "      <th>PH</th>\n",
       "      <th>...</th>\n",
       "      <th>pred_grid</th>\n",
       "      <th>pred_bagging</th>\n",
       "      <th>pred_target</th>\n",
       "      <th>pred_correlation</th>\n",
       "      <th>pred_adaptive</th>\n",
       "      <th>err_grid</th>\n",
       "      <th>err_bagging</th>\n",
       "      <th>err_target</th>\n",
       "      <th>err_correlation</th>\n",
       "      <th>err_adaptive</th>\n",
       "    </tr>\n",
       "  </thead>\n",
       "  <tbody>\n",
       "    <tr>\n",
       "      <td>20051</td>\n",
       "      <td>-34.566249</td>\n",
       "      <td>-58.435773</td>\n",
       "      <td>42.0</td>\n",
       "      <td>2.0</td>\n",
       "      <td>2.0</td>\n",
       "      <td>0.44</td>\n",
       "      <td>29699.316073</td>\n",
       "      <td>0.0</td>\n",
       "      <td>1.0</td>\n",
       "      <td>0.0</td>\n",
       "      <td>...</td>\n",
       "      <td>175722.409825</td>\n",
       "      <td>172298.330775</td>\n",
       "      <td>156856.006793</td>\n",
       "      <td>172134.022894</td>\n",
       "      <td>158758.882963</td>\n",
       "      <td>-30722.409825</td>\n",
       "      <td>-27298.330775</td>\n",
       "      <td>-11856.006793</td>\n",
       "      <td>-27134.022894</td>\n",
       "      <td>-13758.882963</td>\n",
       "    </tr>\n",
       "    <tr>\n",
       "      <td>5831</td>\n",
       "      <td>-34.589389</td>\n",
       "      <td>-58.432844</td>\n",
       "      <td>61.0</td>\n",
       "      <td>19.0</td>\n",
       "      <td>3.0</td>\n",
       "      <td>14.62</td>\n",
       "      <td>15852.996062</td>\n",
       "      <td>0.0</td>\n",
       "      <td>1.0</td>\n",
       "      <td>0.0</td>\n",
       "      <td>...</td>\n",
       "      <td>261823.008135</td>\n",
       "      <td>249179.784396</td>\n",
       "      <td>239294.403200</td>\n",
       "      <td>277881.727786</td>\n",
       "      <td>235809.681662</td>\n",
       "      <td>-41823.008135</td>\n",
       "      <td>-29179.784396</td>\n",
       "      <td>-19294.403200</td>\n",
       "      <td>-57881.727786</td>\n",
       "      <td>-15809.681662</td>\n",
       "    </tr>\n",
       "    <tr>\n",
       "      <td>15088</td>\n",
       "      <td>-34.563948</td>\n",
       "      <td>-58.493088</td>\n",
       "      <td>47.0</td>\n",
       "      <td>9.0</td>\n",
       "      <td>2.0</td>\n",
       "      <td>4.68</td>\n",
       "      <td>11931.125315</td>\n",
       "      <td>0.0</td>\n",
       "      <td>1.0</td>\n",
       "      <td>0.0</td>\n",
       "      <td>...</td>\n",
       "      <td>154892.455080</td>\n",
       "      <td>153876.797042</td>\n",
       "      <td>159554.432176</td>\n",
       "      <td>167351.710535</td>\n",
       "      <td>153735.173950</td>\n",
       "      <td>30107.544920</td>\n",
       "      <td>31123.202958</td>\n",
       "      <td>25445.567824</td>\n",
       "      <td>17648.289465</td>\n",
       "      <td>31264.826050</td>\n",
       "    </tr>\n",
       "    <tr>\n",
       "      <td>21379</td>\n",
       "      <td>-34.559046</td>\n",
       "      <td>-58.475664</td>\n",
       "      <td>67.0</td>\n",
       "      <td>20.0</td>\n",
       "      <td>3.0</td>\n",
       "      <td>2.88</td>\n",
       "      <td>11832.936445</td>\n",
       "      <td>0.0</td>\n",
       "      <td>0.0</td>\n",
       "      <td>1.0</td>\n",
       "      <td>...</td>\n",
       "      <td>212968.819446</td>\n",
       "      <td>204228.461492</td>\n",
       "      <td>209484.286092</td>\n",
       "      <td>217129.343347</td>\n",
       "      <td>239762.185641</td>\n",
       "      <td>-22968.819446</td>\n",
       "      <td>-14228.461492</td>\n",
       "      <td>-19484.286092</td>\n",
       "      <td>-27129.343347</td>\n",
       "      <td>-49762.185641</td>\n",
       "    </tr>\n",
       "    <tr>\n",
       "      <td>15377</td>\n",
       "      <td>-34.573314</td>\n",
       "      <td>-58.486807</td>\n",
       "      <td>54.0</td>\n",
       "      <td>25.0</td>\n",
       "      <td>3.0</td>\n",
       "      <td>1.78</td>\n",
       "      <td>20794.036925</td>\n",
       "      <td>0.0</td>\n",
       "      <td>1.0</td>\n",
       "      <td>0.0</td>\n",
       "      <td>...</td>\n",
       "      <td>204268.313680</td>\n",
       "      <td>202061.734417</td>\n",
       "      <td>193127.804597</td>\n",
       "      <td>203968.636536</td>\n",
       "      <td>190209.259698</td>\n",
       "      <td>-29268.313680</td>\n",
       "      <td>-27061.734417</td>\n",
       "      <td>-18127.804597</td>\n",
       "      <td>-28968.636536</td>\n",
       "      <td>-15209.259698</td>\n",
       "    </tr>\n",
       "  </tbody>\n",
       "</table>\n",
       "<p>5 rows × 31 columns</p>\n",
       "</div>"
      ],
      "text/plain": [
       "             lat        lon  surface_covered  surface_uncovered  rooms    NBI  \\\n",
       "20051 -34.566249 -58.435773             42.0                2.0    2.0   0.44   \n",
       "5831  -34.589389 -58.432844             61.0               19.0    3.0  14.62   \n",
       "15088 -34.563948 -58.493088             47.0                9.0    2.0   4.68   \n",
       "21379 -34.559046 -58.475664             67.0               20.0    3.0   2.88   \n",
       "15377 -34.573314 -58.486807             54.0               25.0    3.0   1.78   \n",
       "\n",
       "           densidad  Casa  Departamento   PH  ...      pred_grid  \\\n",
       "20051  29699.316073   0.0           1.0  0.0  ...  175722.409825   \n",
       "5831   15852.996062   0.0           1.0  0.0  ...  261823.008135   \n",
       "15088  11931.125315   0.0           1.0  0.0  ...  154892.455080   \n",
       "21379  11832.936445   0.0           0.0  1.0  ...  212968.819446   \n",
       "15377  20794.036925   0.0           1.0  0.0  ...  204268.313680   \n",
       "\n",
       "        pred_bagging    pred_target  pred_correlation  pred_adaptive  \\\n",
       "20051  172298.330775  156856.006793     172134.022894  158758.882963   \n",
       "5831   249179.784396  239294.403200     277881.727786  235809.681662   \n",
       "15088  153876.797042  159554.432176     167351.710535  153735.173950   \n",
       "21379  204228.461492  209484.286092     217129.343347  239762.185641   \n",
       "15377  202061.734417  193127.804597     203968.636536  190209.259698   \n",
       "\n",
       "           err_grid   err_bagging    err_target  err_correlation  err_adaptive  \n",
       "20051 -30722.409825 -27298.330775 -11856.006793    -27134.022894 -13758.882963  \n",
       "5831  -41823.008135 -29179.784396 -19294.403200    -57881.727786 -15809.681662  \n",
       "15088  30107.544920  31123.202958  25445.567824     17648.289465  31264.826050  \n",
       "21379 -22968.819446 -14228.461492 -19484.286092    -27129.343347 -49762.185641  \n",
       "15377 -29268.313680 -27061.734417 -18127.804597    -28968.636536 -15209.259698  \n",
       "\n",
       "[5 rows x 31 columns]"
      ]
     },
     "execution_count": 53,
     "metadata": {},
     "output_type": "execute_result"
    }
   ],
   "source": [
    "df_pred.head()"
   ]
  },
  {
   "cell_type": "code",
   "execution_count": 54,
   "metadata": {},
   "outputs": [],
   "source": [
    "df_pred.to_csv('kNN_test_pred.csv',sep=',',columns=df_pred.columns,index=False)"
   ]
  },
  {
   "cell_type": "code",
   "execution_count": 55,
   "metadata": {},
   "outputs": [],
   "source": [
    "err_list = ['err_grid','err_bagging','err_target','err_correlation','err_adaptive']\n",
    "minx = np.amin(np.amin(df_pred[err_list]))\n",
    "maxx = np.amax(np.amax(df_pred[err_list]))\n",
    "fontdict = {'fontsize': 15,'fontweight' :'bold',}\n",
    "for x in err_list:\n",
    "    plt.figure(figsize=(6,5))\n",
    "    plt.hist(df_pred[x])\n",
    "    plt.xlim(minx,maxx)\n",
    "    plt.ylim(0,2700)\n",
    "    plt.title(x,fontdict=fontdict)\n",
    "    plt.savefig('Imgs/hist_'+x+'.png')\n",
    "    plt.close()"
   ]
  },
  {
   "cell_type": "markdown",
   "metadata": {},
   "source": [
    "### Errores: mapa"
   ]
  },
  {
   "cell_type": "code",
   "execution_count": 56,
   "metadata": {},
   "outputs": [],
   "source": [
    "# Importo geopandas, importo mapa de los barrios\n",
    "import geopandas as gpd\n",
    "map_df = gpd.read_file('barrios.csv')"
   ]
  },
  {
   "cell_type": "code",
   "execution_count": 57,
   "metadata": {},
   "outputs": [],
   "source": [
    "for x in err_list:\n",
    "    pd.set_option('display.float_format', lambda x: '%.0f' % x)\n",
    "    fig, ax = plt.subplots(1, figsize=(12, 12))\n",
    "    # Scatter de las propiedades, color coded según price_m2\n",
    "    df_pred.plot(kind=\"scatter\", x=\"lon\", y=\"lat\", alpha=1,\n",
    "        c=x, cmap=plt.get_cmap(\"jet\"), colorbar=True,sharex=True, ax=ax)\n",
    "    # Polígonos de los barrios\n",
    "    map_df.plot(linewidth=0.7, ax=ax, edgecolor='0',facecolor='none')\n",
    "    ax.axis('off')\n",
    "    ax.set_title('Errores de '+x+' según ubicación', fontdict={'fontsize': '18', 'fontweight' : '3'})\n",
    "    plt.savefig('Imgs/map_'+x+'.png')\n",
    "    plt.close()"
   ]
  },
  {
   "cell_type": "markdown",
   "metadata": {},
   "source": [
    "### Validation set"
   ]
  },
  {
   "cell_type": "code",
   "execution_count": 58,
   "metadata": {},
   "outputs": [],
   "source": [
    "X_validation_scaled = scaler1.transform(X_validation)\n",
    "y_validation_pred_knr2 = knr2.predict(X_validation_scaled)\n",
    "y_validation_pred_bag2 = bag2.predict(X_validation_scaled)\n",
    "y_validation_pred_knr3 = knr3.predict(X_validation_scaled)\n",
    "y_validation_pred_knr4 = knr4.predict(X_validation_scaled)\n",
    "y_validation_pred_knr7 = knr7.predict(X_validation_scaled)"
   ]
  },
  {
   "cell_type": "code",
   "execution_count": 59,
   "metadata": {},
   "outputs": [],
   "source": [
    "df_pred_valid = df_validation\n",
    "df_pred_valid['pred_grid'] = y_validation_pred_knr2\n",
    "df_pred_valid['pred_bagging'] = y_validation_pred_bag2\n",
    "df_pred_valid['pred_target'] = y_validation_pred_knr3\n",
    "df_pred_valid['pred_correlation'] = y_validation_pred_knr4\n",
    "df_pred_valid['pred_adaptive'] = y_validation_pred_knr7"
   ]
  },
  {
   "cell_type": "code",
   "execution_count": 60,
   "metadata": {},
   "outputs": [],
   "source": [
    "df_pred_valid['err_grid'] = df_pred_valid['price'] - df_pred_valid['pred_grid']\n",
    "df_pred_valid['err_bagging'] = df_pred_valid['price'] - df_pred_valid['pred_bagging']\n",
    "df_pred_valid['err_target'] = df_pred_valid['price'] - df_pred_valid['pred_target']\n",
    "df_pred_valid['err_correlation'] = df_pred_valid['price'] - df_pred_valid['pred_correlation']\n",
    "df_pred_valid['err_adaptive'] = df_pred_valid['price'] - df_pred_valid['pred_adaptive']"
   ]
  },
  {
   "cell_type": "code",
   "execution_count": 61,
   "metadata": {},
   "outputs": [],
   "source": [
    "df_pred_valid.to_csv('kNN_valid_pred.csv',sep=',',columns=df_pred_valid.columns,index=False)"
   ]
  }
 ],
 "metadata": {
  "kernelspec": {
   "display_name": "Python 3",
   "language": "python",
   "name": "python3"
  },
  "language_info": {
   "codemirror_mode": {
    "name": "ipython",
    "version": 3
   },
   "file_extension": ".py",
   "mimetype": "text/x-python",
   "name": "python",
   "nbconvert_exporter": "python",
   "pygments_lexer": "ipython3",
   "version": "3.7.4"
  }
 },
 "nbformat": 4,
 "nbformat_minor": 2
}
