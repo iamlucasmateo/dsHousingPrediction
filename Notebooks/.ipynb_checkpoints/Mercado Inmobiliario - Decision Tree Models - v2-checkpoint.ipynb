{
 "cells": [
  {
   "cell_type": "markdown",
   "metadata": {},
   "source": [
    "# Decision Tree Models para el mercado inmobiliario"
   ]
  },
  {
   "cell_type": "markdown",
   "metadata": {},
   "source": [
    "En el presente notebook investigamos distintos tipos de modelos basados en árboles de decisión para predecir los valores de las propiedades en el mercado inmobiliario de Buenos Aires. Los árboles de decisión y sus ensambles tienen la capacidad de generar buenos ajustes en datasets heterogéneos y complejos como el que trabajamos aquí. La información ha sido extraída de [Properati](https://www.properati.com.ar/data/).\n",
    "\n",
    "Empezamos por importar librerías, y acomodar el dataset para su posterior modelado."
   ]
  },
  {
   "cell_type": "code",
   "execution_count": 1,
   "metadata": {},
   "outputs": [],
   "source": [
    "import os\n",
    "# import warnings\n",
    "# warnings.filterwarnings('ignore')\n",
    "import pandas as pd\n",
    "import numpy as np\n",
    "import matplotlib.pylab as plt\n",
    "import seaborn as sns"
   ]
  },
  {
   "cell_type": "code",
   "execution_count": 2,
   "metadata": {},
   "outputs": [
    {
     "data": {
      "text/html": [
       "<div>\n",
       "<style scoped>\n",
       "    .dataframe tbody tr th:only-of-type {\n",
       "        vertical-align: middle;\n",
       "    }\n",
       "\n",
       "    .dataframe tbody tr th {\n",
       "        vertical-align: top;\n",
       "    }\n",
       "\n",
       "    .dataframe thead th {\n",
       "        text-align: right;\n",
       "    }\n",
       "</style>\n",
       "<table border=\"1\" class=\"dataframe\">\n",
       "  <thead>\n",
       "    <tr style=\"text-align: right;\">\n",
       "      <th></th>\n",
       "      <th>index</th>\n",
       "      <th>created_on</th>\n",
       "      <th>lat</th>\n",
       "      <th>lon</th>\n",
       "      <th>barrio_publicado</th>\n",
       "      <th>rooms</th>\n",
       "      <th>surface_total</th>\n",
       "      <th>surface_covered</th>\n",
       "      <th>price</th>\n",
       "      <th>title</th>\n",
       "      <th>...</th>\n",
       "      <th>VILLA LURO</th>\n",
       "      <th>VILLA ORTUZAR</th>\n",
       "      <th>VILLA PUEYRREDON</th>\n",
       "      <th>VILLA REAL</th>\n",
       "      <th>VILLA RIACHUELO</th>\n",
       "      <th>VILLA SANTA RITA</th>\n",
       "      <th>VILLA SOLDATI</th>\n",
       "      <th>VILLA URQUIZA</th>\n",
       "      <th>surface_uncovered</th>\n",
       "      <th>price_m2</th>\n",
       "    </tr>\n",
       "  </thead>\n",
       "  <tbody>\n",
       "    <tr>\n",
       "      <td>0</td>\n",
       "      <td>0</td>\n",
       "      <td>2019-08-04</td>\n",
       "      <td>-34.601864</td>\n",
       "      <td>-58.443563</td>\n",
       "      <td>Villa Crespo</td>\n",
       "      <td>3.0</td>\n",
       "      <td>67.0</td>\n",
       "      <td>60.0</td>\n",
       "      <td>110000.0</td>\n",
       "      <td>Departamento venta</td>\n",
       "      <td>...</td>\n",
       "      <td>0.0</td>\n",
       "      <td>0.0</td>\n",
       "      <td>0.0</td>\n",
       "      <td>0.0</td>\n",
       "      <td>0.0</td>\n",
       "      <td>0.0</td>\n",
       "      <td>0.0</td>\n",
       "      <td>0.0</td>\n",
       "      <td>7.0</td>\n",
       "      <td>1732.283465</td>\n",
       "    </tr>\n",
       "    <tr>\n",
       "      <td>1</td>\n",
       "      <td>1</td>\n",
       "      <td>2019-08-04</td>\n",
       "      <td>-34.644735</td>\n",
       "      <td>-58.421061</td>\n",
       "      <td>Boedo</td>\n",
       "      <td>2.0</td>\n",
       "      <td>40.0</td>\n",
       "      <td>40.0</td>\n",
       "      <td>79900.0</td>\n",
       "      <td>Departamento - Boedo - 2 amb  MUY LUMINOSO!!  ...</td>\n",
       "      <td>...</td>\n",
       "      <td>0.0</td>\n",
       "      <td>0.0</td>\n",
       "      <td>0.0</td>\n",
       "      <td>0.0</td>\n",
       "      <td>0.0</td>\n",
       "      <td>0.0</td>\n",
       "      <td>0.0</td>\n",
       "      <td>0.0</td>\n",
       "      <td>0.0</td>\n",
       "      <td>1997.500000</td>\n",
       "    </tr>\n",
       "    <tr>\n",
       "      <td>2</td>\n",
       "      <td>2</td>\n",
       "      <td>2019-08-04</td>\n",
       "      <td>-34.603423</td>\n",
       "      <td>-58.431140</td>\n",
       "      <td>Almagro</td>\n",
       "      <td>2.0</td>\n",
       "      <td>38.0</td>\n",
       "      <td>38.0</td>\n",
       "      <td>112000.0</td>\n",
       "      <td>Dos Ambientes Reciclado a 1 cuadra del Subte B</td>\n",
       "      <td>...</td>\n",
       "      <td>0.0</td>\n",
       "      <td>0.0</td>\n",
       "      <td>0.0</td>\n",
       "      <td>0.0</td>\n",
       "      <td>0.0</td>\n",
       "      <td>0.0</td>\n",
       "      <td>0.0</td>\n",
       "      <td>0.0</td>\n",
       "      <td>0.0</td>\n",
       "      <td>2947.368421</td>\n",
       "    </tr>\n",
       "    <tr>\n",
       "      <td>3</td>\n",
       "      <td>3</td>\n",
       "      <td>2019-08-04</td>\n",
       "      <td>-34.609326</td>\n",
       "      <td>-58.492374</td>\n",
       "      <td>Villa del Parque</td>\n",
       "      <td>2.0</td>\n",
       "      <td>94.0</td>\n",
       "      <td>77.0</td>\n",
       "      <td>169000.0</td>\n",
       "      <td>PH  DE 3 PLANTAS  CON COCHERA PROPIA Y TERRAZA</td>\n",
       "      <td>...</td>\n",
       "      <td>0.0</td>\n",
       "      <td>0.0</td>\n",
       "      <td>0.0</td>\n",
       "      <td>0.0</td>\n",
       "      <td>0.0</td>\n",
       "      <td>0.0</td>\n",
       "      <td>0.0</td>\n",
       "      <td>0.0</td>\n",
       "      <td>17.0</td>\n",
       "      <td>1976.608187</td>\n",
       "    </tr>\n",
       "    <tr>\n",
       "      <td>4</td>\n",
       "      <td>4</td>\n",
       "      <td>2019-05-27</td>\n",
       "      <td>-34.629607</td>\n",
       "      <td>-58.439279</td>\n",
       "      <td>NaN</td>\n",
       "      <td>1.0</td>\n",
       "      <td>41.0</td>\n",
       "      <td>37.0</td>\n",
       "      <td>118000.0</td>\n",
       "      <td>Departamento venta</td>\n",
       "      <td>...</td>\n",
       "      <td>0.0</td>\n",
       "      <td>0.0</td>\n",
       "      <td>0.0</td>\n",
       "      <td>0.0</td>\n",
       "      <td>0.0</td>\n",
       "      <td>0.0</td>\n",
       "      <td>0.0</td>\n",
       "      <td>0.0</td>\n",
       "      <td>4.0</td>\n",
       "      <td>3025.641026</td>\n",
       "    </tr>\n",
       "  </tbody>\n",
       "</table>\n",
       "<p>5 rows × 68 columns</p>\n",
       "</div>"
      ],
      "text/plain": [
       "   index  created_on        lat        lon  barrio_publicado  rooms  \\\n",
       "0      0  2019-08-04 -34.601864 -58.443563      Villa Crespo    3.0   \n",
       "1      1  2019-08-04 -34.644735 -58.421061             Boedo    2.0   \n",
       "2      2  2019-08-04 -34.603423 -58.431140           Almagro    2.0   \n",
       "3      3  2019-08-04 -34.609326 -58.492374  Villa del Parque    2.0   \n",
       "4      4  2019-05-27 -34.629607 -58.439279               NaN    1.0   \n",
       "\n",
       "   surface_total  surface_covered     price  \\\n",
       "0           67.0             60.0  110000.0   \n",
       "1           40.0             40.0   79900.0   \n",
       "2           38.0             38.0  112000.0   \n",
       "3           94.0             77.0  169000.0   \n",
       "4           41.0             37.0  118000.0   \n",
       "\n",
       "                                               title  ... VILLA LURO  \\\n",
       "0                                 Departamento venta  ...        0.0   \n",
       "1  Departamento - Boedo - 2 amb  MUY LUMINOSO!!  ...  ...        0.0   \n",
       "2     Dos Ambientes Reciclado a 1 cuadra del Subte B  ...        0.0   \n",
       "3     PH  DE 3 PLANTAS  CON COCHERA PROPIA Y TERRAZA  ...        0.0   \n",
       "4                                 Departamento venta  ...        0.0   \n",
       "\n",
       "  VILLA ORTUZAR VILLA PUEYRREDON  VILLA REAL  VILLA RIACHUELO  \\\n",
       "0           0.0              0.0         0.0              0.0   \n",
       "1           0.0              0.0         0.0              0.0   \n",
       "2           0.0              0.0         0.0              0.0   \n",
       "3           0.0              0.0         0.0              0.0   \n",
       "4           0.0              0.0         0.0              0.0   \n",
       "\n",
       "   VILLA SANTA RITA  VILLA SOLDATI  VILLA URQUIZA  surface_uncovered  \\\n",
       "0               0.0            0.0            0.0                7.0   \n",
       "1               0.0            0.0            0.0                0.0   \n",
       "2               0.0            0.0            0.0                0.0   \n",
       "3               0.0            0.0            0.0               17.0   \n",
       "4               0.0            0.0            0.0                4.0   \n",
       "\n",
       "      price_m2  \n",
       "0  1732.283465  \n",
       "1  1997.500000  \n",
       "2  2947.368421  \n",
       "3  1976.608187  \n",
       "4  3025.641026  \n",
       "\n",
       "[5 rows x 68 columns]"
      ]
     },
     "execution_count": 2,
     "metadata": {},
     "output_type": "execute_result"
    }
   ],
   "source": [
    "df = pd.read_csv('Properati_data_clean.csv')\n",
    "df.head()"
   ]
  },
  {
   "cell_type": "code",
   "execution_count": 3,
   "metadata": {},
   "outputs": [
    {
     "data": {
      "text/plain": [
       "Index(['index', 'created_on', 'lat', 'lon', 'barrio_publicado', 'rooms',\n",
       "       'surface_total', 'surface_covered', 'price', 'title', 'description',\n",
       "       'property_type', 'barrio', 'densidad', 'NBI', 'Casa', 'Departamento',\n",
       "       'PH', 'AGRONOMIA', 'ALMAGRO', 'BALVANERA', 'BARRACAS', 'BELGRANO',\n",
       "       'BOCA', 'BOEDO', 'CABALLITO', 'CHACARITA', 'COGHLAN', 'COLEGIALES',\n",
       "       'CONSTITUCION', 'FLORES', 'FLORESTA', 'LINIERS', 'MATADEROS',\n",
       "       'MONSERRAT', 'MONTE CASTRO', 'NUEVA POMPEYA', 'NUNEZ', 'PALERMO',\n",
       "       'PARQUE AVELLANEDA', 'PARQUE CHACABUCO', 'PARQUE CHAS',\n",
       "       'PARQUE PATRICIOS', 'PATERNAL', 'PUERTO MADERO', 'RECOLETA', 'RETIRO',\n",
       "       'SAAVEDRA', 'SAN CRISTOBAL', 'SAN NICOLAS', 'SAN TELMO',\n",
       "       'VELEZ SARSFIELD', 'VERSALLES', 'VILLA CRESPO', 'VILLA DEL PARQUE',\n",
       "       'VILLA DEVOTO', 'VILLA GRAL. MITRE', 'VILLA LUGANO', 'VILLA LURO',\n",
       "       'VILLA ORTUZAR', 'VILLA PUEYRREDON', 'VILLA REAL', 'VILLA RIACHUELO',\n",
       "       'VILLA SANTA RITA', 'VILLA SOLDATI', 'VILLA URQUIZA',\n",
       "       'surface_uncovered', 'price_m2'],\n",
       "      dtype='object')"
      ]
     },
     "execution_count": 3,
     "metadata": {},
     "output_type": "execute_result"
    }
   ],
   "source": [
    "# Chequeo columnas\n",
    "df.columns"
   ]
  },
  {
   "cell_type": "code",
   "execution_count": 4,
   "metadata": {},
   "outputs": [
    {
     "data": {
      "text/html": [
       "<div>\n",
       "<style scoped>\n",
       "    .dataframe tbody tr th:only-of-type {\n",
       "        vertical-align: middle;\n",
       "    }\n",
       "\n",
       "    .dataframe tbody tr th {\n",
       "        vertical-align: top;\n",
       "    }\n",
       "\n",
       "    .dataframe thead th {\n",
       "        text-align: right;\n",
       "    }\n",
       "</style>\n",
       "<table border=\"1\" class=\"dataframe\">\n",
       "  <thead>\n",
       "    <tr style=\"text-align: right;\">\n",
       "      <th></th>\n",
       "      <th>lat</th>\n",
       "      <th>lon</th>\n",
       "      <th>surface_covered</th>\n",
       "      <th>surface_uncovered</th>\n",
       "      <th>rooms</th>\n",
       "      <th>NBI</th>\n",
       "      <th>densidad</th>\n",
       "      <th>Casa</th>\n",
       "      <th>Departamento</th>\n",
       "      <th>PH</th>\n",
       "      <th>...</th>\n",
       "      <th>CONSTITUCION</th>\n",
       "      <th>FLORES</th>\n",
       "      <th>BOCA</th>\n",
       "      <th>NUNEZ</th>\n",
       "      <th>BELGRANO</th>\n",
       "      <th>RECOLETA</th>\n",
       "      <th>PALERMO</th>\n",
       "      <th>PUERTO MADERO</th>\n",
       "      <th>price_m2</th>\n",
       "      <th>price</th>\n",
       "    </tr>\n",
       "  </thead>\n",
       "  <tbody>\n",
       "    <tr>\n",
       "      <td>0</td>\n",
       "      <td>-34.601864</td>\n",
       "      <td>-58.443563</td>\n",
       "      <td>60.0</td>\n",
       "      <td>7.0</td>\n",
       "      <td>3.0</td>\n",
       "      <td>0.74</td>\n",
       "      <td>21699.484109</td>\n",
       "      <td>0.0</td>\n",
       "      <td>1.0</td>\n",
       "      <td>0.0</td>\n",
       "      <td>...</td>\n",
       "      <td>0.0</td>\n",
       "      <td>0.0</td>\n",
       "      <td>0.0</td>\n",
       "      <td>0.0</td>\n",
       "      <td>0.0</td>\n",
       "      <td>0.0</td>\n",
       "      <td>0.0</td>\n",
       "      <td>0.0</td>\n",
       "      <td>1732.283465</td>\n",
       "      <td>110000.0</td>\n",
       "    </tr>\n",
       "    <tr>\n",
       "      <td>1</td>\n",
       "      <td>-34.644735</td>\n",
       "      <td>-58.421061</td>\n",
       "      <td>40.0</td>\n",
       "      <td>0.0</td>\n",
       "      <td>2.0</td>\n",
       "      <td>5.80</td>\n",
       "      <td>11797.712026</td>\n",
       "      <td>0.0</td>\n",
       "      <td>1.0</td>\n",
       "      <td>0.0</td>\n",
       "      <td>...</td>\n",
       "      <td>0.0</td>\n",
       "      <td>0.0</td>\n",
       "      <td>0.0</td>\n",
       "      <td>0.0</td>\n",
       "      <td>0.0</td>\n",
       "      <td>0.0</td>\n",
       "      <td>0.0</td>\n",
       "      <td>0.0</td>\n",
       "      <td>1997.500000</td>\n",
       "      <td>79900.0</td>\n",
       "    </tr>\n",
       "    <tr>\n",
       "      <td>2</td>\n",
       "      <td>-34.603423</td>\n",
       "      <td>-58.431140</td>\n",
       "      <td>38.0</td>\n",
       "      <td>0.0</td>\n",
       "      <td>2.0</td>\n",
       "      <td>0.92</td>\n",
       "      <td>63288.443473</td>\n",
       "      <td>0.0</td>\n",
       "      <td>1.0</td>\n",
       "      <td>0.0</td>\n",
       "      <td>...</td>\n",
       "      <td>0.0</td>\n",
       "      <td>0.0</td>\n",
       "      <td>0.0</td>\n",
       "      <td>0.0</td>\n",
       "      <td>0.0</td>\n",
       "      <td>0.0</td>\n",
       "      <td>0.0</td>\n",
       "      <td>0.0</td>\n",
       "      <td>2947.368421</td>\n",
       "      <td>112000.0</td>\n",
       "    </tr>\n",
       "    <tr>\n",
       "      <td>3</td>\n",
       "      <td>-34.609326</td>\n",
       "      <td>-58.492374</td>\n",
       "      <td>77.0</td>\n",
       "      <td>17.0</td>\n",
       "      <td>2.0</td>\n",
       "      <td>0.27</td>\n",
       "      <td>13914.638078</td>\n",
       "      <td>0.0</td>\n",
       "      <td>0.0</td>\n",
       "      <td>1.0</td>\n",
       "      <td>...</td>\n",
       "      <td>0.0</td>\n",
       "      <td>0.0</td>\n",
       "      <td>0.0</td>\n",
       "      <td>0.0</td>\n",
       "      <td>0.0</td>\n",
       "      <td>0.0</td>\n",
       "      <td>0.0</td>\n",
       "      <td>0.0</td>\n",
       "      <td>1976.608187</td>\n",
       "      <td>169000.0</td>\n",
       "    </tr>\n",
       "    <tr>\n",
       "      <td>4</td>\n",
       "      <td>-34.629607</td>\n",
       "      <td>-58.439279</td>\n",
       "      <td>37.0</td>\n",
       "      <td>4.0</td>\n",
       "      <td>1.0</td>\n",
       "      <td>6.03</td>\n",
       "      <td>20216.713377</td>\n",
       "      <td>0.0</td>\n",
       "      <td>1.0</td>\n",
       "      <td>0.0</td>\n",
       "      <td>...</td>\n",
       "      <td>0.0</td>\n",
       "      <td>0.0</td>\n",
       "      <td>0.0</td>\n",
       "      <td>0.0</td>\n",
       "      <td>0.0</td>\n",
       "      <td>0.0</td>\n",
       "      <td>0.0</td>\n",
       "      <td>0.0</td>\n",
       "      <td>3025.641026</td>\n",
       "      <td>118000.0</td>\n",
       "    </tr>\n",
       "  </tbody>\n",
       "</table>\n",
       "<p>5 rows × 22 columns</p>\n",
       "</div>"
      ],
      "text/plain": [
       "         lat        lon  surface_covered  surface_uncovered  rooms   NBI  \\\n",
       "0 -34.601864 -58.443563             60.0                7.0    3.0  0.74   \n",
       "1 -34.644735 -58.421061             40.0                0.0    2.0  5.80   \n",
       "2 -34.603423 -58.431140             38.0                0.0    2.0  0.92   \n",
       "3 -34.609326 -58.492374             77.0               17.0    2.0  0.27   \n",
       "4 -34.629607 -58.439279             37.0                4.0    1.0  6.03   \n",
       "\n",
       "       densidad  Casa  Departamento   PH  ...  CONSTITUCION  FLORES  BOCA  \\\n",
       "0  21699.484109   0.0           1.0  0.0  ...           0.0     0.0   0.0   \n",
       "1  11797.712026   0.0           1.0  0.0  ...           0.0     0.0   0.0   \n",
       "2  63288.443473   0.0           1.0  0.0  ...           0.0     0.0   0.0   \n",
       "3  13914.638078   0.0           0.0  1.0  ...           0.0     0.0   0.0   \n",
       "4  20216.713377   0.0           1.0  0.0  ...           0.0     0.0   0.0   \n",
       "\n",
       "   NUNEZ  BELGRANO  RECOLETA  PALERMO  PUERTO MADERO     price_m2     price  \n",
       "0    0.0       0.0       0.0      0.0            0.0  1732.283465  110000.0  \n",
       "1    0.0       0.0       0.0      0.0            0.0  1997.500000   79900.0  \n",
       "2    0.0       0.0       0.0      0.0            0.0  2947.368421  112000.0  \n",
       "3    0.0       0.0       0.0      0.0            0.0  1976.608187  169000.0  \n",
       "4    0.0       0.0       0.0      0.0            0.0  3025.641026  118000.0  \n",
       "\n",
       "[5 rows x 22 columns]"
      ]
     },
     "execution_count": 4,
     "metadata": {},
     "output_type": "execute_result"
    }
   ],
   "source": [
    "# Me quedo con las columnas que me interesan\n",
    "features = ['lat', 'lon','surface_covered','surface_uncovered','rooms','NBI','densidad','Casa', 'Departamento','PH',]\n",
    "barrios = ['BALVANERA','VILLA LUGANO','CONSTITUCION','FLORES','BOCA','NUNEZ','BELGRANO','RECOLETA','PALERMO','PUERTO MADERO']\n",
    "targets = ['price_m2','price',]\n",
    "columnas = features + barrios + targets\n",
    "df = df[columnas]\n",
    "df.head()"
   ]
  },
  {
   "cell_type": "code",
   "execution_count": 5,
   "metadata": {},
   "outputs": [
    {
     "data": {
      "text/plain": [
       "lat                  0\n",
       "lon                  0\n",
       "surface_covered      0\n",
       "surface_uncovered    0\n",
       "rooms                0\n",
       "NBI                  0\n",
       "densidad             0\n",
       "Casa                 0\n",
       "Departamento         0\n",
       "PH                   0\n",
       "BALVANERA            0\n",
       "VILLA LUGANO         0\n",
       "CONSTITUCION         0\n",
       "FLORES               0\n",
       "BOCA                 0\n",
       "NUNEZ                0\n",
       "BELGRANO             0\n",
       "RECOLETA             0\n",
       "PALERMO              0\n",
       "PUERTO MADERO        0\n",
       "price_m2             0\n",
       "price                0\n",
       "dtype: int64"
      ]
     },
     "execution_count": 5,
     "metadata": {},
     "output_type": "execute_result"
    }
   ],
   "source": [
    "df.dropna(inplace=True)\n",
    "df.isna().sum()"
   ]
  },
  {
   "cell_type": "markdown",
   "metadata": {},
   "source": [
    "### Train/Test Split"
   ]
  },
  {
   "cell_type": "code",
   "execution_count": 6,
   "metadata": {},
   "outputs": [],
   "source": [
    "from sklearn.model_selection import train_test_split\n",
    "\n",
    "# Shuffleamos\n",
    "np.random.seed(seed=49)\n",
    "df_perm = np.random.permutation(df)\n",
    "df = pd.DataFrame(df_perm,columns=df.columns)\n",
    "\n",
    "# Vamos a dividir en tres conjuntos: train, validation, test\n",
    "df_train, df_val_test = train_test_split(df,test_size=0.3,random_state=50)\n",
    "df_validation, df_test = train_test_split(df_val_test,test_size=0.5,random_state=51)"
   ]
  },
  {
   "cell_type": "code",
   "execution_count": 7,
   "metadata": {},
   "outputs": [],
   "source": [
    "# Tomaremos como target la variable precio, y como input todo lo demás\n",
    "X_train = df_train.drop(columns=['price','price_m2'])\n",
    "X_validation = df_validation.drop(columns=['price','price_m2'])\n",
    "X_test = df_test.drop(columns=['price','price_m2'])\n",
    "y_train = df_train['price']\n",
    "y_validation = df_validation['price'] \n",
    "y_test = df_test['price']"
   ]
  },
  {
   "cell_type": "markdown",
   "metadata": {},
   "source": [
    "### Decision Tree"
   ]
  },
  {
   "cell_type": "markdown",
   "metadata": {},
   "source": [
    "Empezamos por utilizar la versión más elemental de esta familia de modelos: el árbol de decisión. Es probable que no constituya nuestro modelo demasiado bueno, pero servirá de benchmark para ir mejorando nuestras predicciones. Comenzaremos con los parámetros default de sci-kit learn."
   ]
  },
  {
   "cell_type": "code",
   "execution_count": 8,
   "metadata": {
    "scrolled": true
   },
   "outputs": [
    {
     "name": "stdout",
     "output_type": "stream",
     "text": [
      "RMSE: 37821.673484905674\n",
      "R2: 0.7925875025982526\n"
     ]
    }
   ],
   "source": [
    "from sklearn.tree import DecisionTreeRegressor\n",
    "from sklearn.metrics import mean_squared_error,r2_score\n",
    "from sklearn.model_selection import cross_val_score, GridSearchCV, cross_validate\n",
    "\n",
    "tree1 = DecisionTreeRegressor(random_state=52)\n",
    "tree1.fit(X_train,y_train)\n",
    "y_pred1 = tree1.predict(X_test)\n",
    "rmse1 = np.sqrt(mean_squared_error(y_test,y_pred1))\n",
    "r2_tree1 = r2_score(y_test,y_pred1)\n",
    "print(f\"RMSE: {rmse1}\")\n",
    "print(f\"R2: {r2_tree1}\")"
   ]
  },
  {
   "cell_type": "markdown",
   "metadata": {},
   "source": [
    "### Random Forest Regressor"
   ]
  },
  {
   "cell_type": "markdown",
   "metadata": {},
   "source": [
    "A continuación entrenamos un modelo más poderoso, Random Forest. El procedimiento será similar al apartado anterior."
   ]
  },
  {
   "cell_type": "code",
   "execution_count": 9,
   "metadata": {},
   "outputs": [
    {
     "name": "stderr",
     "output_type": "stream",
     "text": [
      "C:\\Users\\Usuario\\Python\\Anaconda\\lib\\site-packages\\sklearn\\ensemble\\forest.py:245: FutureWarning: The default value of n_estimators will change from 10 in version 0.20 to 100 in 0.22.\n",
      "  \"10 in version 0.20 to 100 in 0.22.\", FutureWarning)\n"
     ]
    },
    {
     "name": "stdout",
     "output_type": "stream",
     "text": [
      "RMSE train: 13181.451747908532\n",
      "RMSE test: 30065.96677151543\n",
      "Mejora benchmark: 20.51 %\n"
     ]
    }
   ],
   "source": [
    "from sklearn.ensemble import RandomForestRegressor\n",
    "\n",
    "rfr = RandomForestRegressor(random_state=52,n_jobs=-1)\n",
    "rfr.fit(X_train,y_train)\n",
    "y_train_pred4 = rfr.predict(X_train)\n",
    "y_test_pred4 = rfr.predict(X_test)\n",
    "rmse_train4 = np.sqrt(mean_squared_error(y_train,y_train_pred4))\n",
    "rmse_test4 = np.sqrt(mean_squared_error(y_test,y_test_pred4))\n",
    "print(f'RMSE train: {rmse_train4}')\n",
    "print(f'RMSE test: {rmse_test4}')\n",
    "print('Mejora benchmark: %.2f'% (((rmse1 - rmse_test4)/rmse1)*100)+' %')"
   ]
  },
  {
   "cell_type": "markdown",
   "metadata": {},
   "source": [
    "Pese a la sustancial mejora respecto de nuestro benchmark, tenemos un enorme grado de overfitting. A continuación haremos Grid Search con cross validation para seguir mejorando la performance."
   ]
  },
  {
   "cell_type": "code",
   "execution_count": 10,
   "metadata": {
    "scrolled": true
   },
   "outputs": [],
   "source": [
    "forest_grid = {'n_estimators':[30,50,70,100,120,150],'max_depth':[None,5,10,20,30,50]}\n",
    "# cv=2 por el tiempo de espera, luego se puede ajustar\n",
    "rnr_grid = GridSearchCV(rfr,forest_grid,cv=2,scoring='neg_mean_squared_error',return_train_score=True).fit(X_train,y_train)"
   ]
  },
  {
   "cell_type": "code",
   "execution_count": 11,
   "metadata": {
    "scrolled": true
   },
   "outputs": [
    {
     "data": {
      "text/html": [
       "<div>\n",
       "<style scoped>\n",
       "    .dataframe tbody tr th:only-of-type {\n",
       "        vertical-align: middle;\n",
       "    }\n",
       "\n",
       "    .dataframe tbody tr th {\n",
       "        vertical-align: top;\n",
       "    }\n",
       "\n",
       "    .dataframe thead th {\n",
       "        text-align: right;\n",
       "    }\n",
       "</style>\n",
       "<table border=\"1\" class=\"dataframe\">\n",
       "  <thead>\n",
       "    <tr style=\"text-align: right;\">\n",
       "      <th></th>\n",
       "      <th>param_max_depth</th>\n",
       "      <th>param_n_estimators</th>\n",
       "      <th>mean_test_score</th>\n",
       "      <th>rank_test_score</th>\n",
       "      <th>mean_fit_time</th>\n",
       "      <th>rmse_test</th>\n",
       "    </tr>\n",
       "  </thead>\n",
       "  <tbody>\n",
       "    <tr>\n",
       "      <td>29</td>\n",
       "      <td>30</td>\n",
       "      <td>150</td>\n",
       "      <td>-1.033645e+09</td>\n",
       "      <td>1</td>\n",
       "      <td>1.963759</td>\n",
       "      <td>32150.343868</td>\n",
       "    </tr>\n",
       "    <tr>\n",
       "      <td>5</td>\n",
       "      <td>None</td>\n",
       "      <td>150</td>\n",
       "      <td>-1.033678e+09</td>\n",
       "      <td>2</td>\n",
       "      <td>1.540990</td>\n",
       "      <td>32150.862606</td>\n",
       "    </tr>\n",
       "    <tr>\n",
       "      <td>35</td>\n",
       "      <td>50</td>\n",
       "      <td>150</td>\n",
       "      <td>-1.033678e+09</td>\n",
       "      <td>2</td>\n",
       "      <td>1.733323</td>\n",
       "      <td>32150.862606</td>\n",
       "    </tr>\n",
       "    <tr>\n",
       "      <td>23</td>\n",
       "      <td>20</td>\n",
       "      <td>150</td>\n",
       "      <td>-1.033748e+09</td>\n",
       "      <td>4</td>\n",
       "      <td>1.875855</td>\n",
       "      <td>32151.947319</td>\n",
       "    </tr>\n",
       "    <tr>\n",
       "      <td>28</td>\n",
       "      <td>30</td>\n",
       "      <td>120</td>\n",
       "      <td>-1.034521e+09</td>\n",
       "      <td>5</td>\n",
       "      <td>1.383237</td>\n",
       "      <td>32163.975530</td>\n",
       "    </tr>\n",
       "    <tr>\n",
       "      <td>4</td>\n",
       "      <td>None</td>\n",
       "      <td>120</td>\n",
       "      <td>-1.034950e+09</td>\n",
       "      <td>6</td>\n",
       "      <td>1.192635</td>\n",
       "      <td>32170.641543</td>\n",
       "    </tr>\n",
       "    <tr>\n",
       "      <td>34</td>\n",
       "      <td>50</td>\n",
       "      <td>120</td>\n",
       "      <td>-1.034950e+09</td>\n",
       "      <td>6</td>\n",
       "      <td>1.485273</td>\n",
       "      <td>32170.641543</td>\n",
       "    </tr>\n",
       "  </tbody>\n",
       "</table>\n",
       "</div>"
      ],
      "text/plain": [
       "   param_max_depth param_n_estimators  mean_test_score  rank_test_score  \\\n",
       "29              30                150    -1.033645e+09                1   \n",
       "5             None                150    -1.033678e+09                2   \n",
       "35              50                150    -1.033678e+09                2   \n",
       "23              20                150    -1.033748e+09                4   \n",
       "28              30                120    -1.034521e+09                5   \n",
       "4             None                120    -1.034950e+09                6   \n",
       "34              50                120    -1.034950e+09                6   \n",
       "\n",
       "    mean_fit_time     rmse_test  \n",
       "29       1.963759  32150.343868  \n",
       "5        1.540990  32150.862606  \n",
       "35       1.733323  32150.862606  \n",
       "23       1.875855  32151.947319  \n",
       "28       1.383237  32163.975530  \n",
       "4        1.192635  32170.641543  \n",
       "34       1.485273  32170.641543  "
      ]
     },
     "execution_count": 11,
     "metadata": {},
     "output_type": "execute_result"
    }
   ],
   "source": [
    "rnrgrid_df1 = pd.DataFrame(rnr_grid.cv_results_)\n",
    "rnrgrid_df1 = rnrgrid_df1[['param_max_depth','param_n_estimators',\\\n",
    "                    'mean_test_score','rank_test_score','mean_fit_time']]\n",
    "rnrgrid_df1 = rnrgrid_df1\n",
    "rnrgrid_df1['rmse_test'] = np.sqrt(-rnrgrid_df1['mean_test_score'])\n",
    "# Veamos una muestra\n",
    "rnrgrid_df1.sort_values(by='rank_test_score').head(7)"
   ]
  },
  {
   "cell_type": "markdown",
   "metadata": {},
   "source": [
    "Gráficamente:"
   ]
  },
  {
   "cell_type": "code",
   "execution_count": 12,
   "metadata": {},
   "outputs": [],
   "source": [
    "# Convierto los None a string para que pandas los tabule\n",
    "rnrgrid_df1.fillna('None',inplace=True)\n",
    "# Creo una tabla tipo pivot con mis parámetros\n",
    "table = rnrgrid_df1.groupby(['param_max_depth','param_n_estimators'])['rmse_test'].sum().unstack()\n",
    "table = round(table/1000,2)"
   ]
  },
  {
   "cell_type": "code",
   "execution_count": 13,
   "metadata": {},
   "outputs": [
    {
     "data": {
      "text/plain": [
       "<matplotlib.axes._subplots.AxesSubplot at 0x1c897d80308>"
      ]
     },
     "execution_count": 13,
     "metadata": {},
     "output_type": "execute_result"
    },
    {
     "data": {
      "image/png": "[encoded data removed]",
      "text/plain": [
       "<Figure size 864x576 with 2 Axes>"
      ]
     },
     "metadata": {},
     "output_type": "display_data"
    }
   ],
   "source": [
    "# Grid Search Heatmap\n",
    "sns.set()\n",
    "f, ax = plt.subplots(figsize=(12, 8))\n",
    "sns.heatmap(table, annot=True, fmt='.2f',linewidths=.5, cmap='viridis_r', ax=ax, vmin=31, vmax=38)"
   ]
  },
  {
   "cell_type": "markdown",
   "metadata": {},
   "source": [
    "El RMSE disminuye a medida que nos movemos hacia abajo (mayor max_depth) y hacia la derecha (mayor n_estimators). A partir de una profunidad de 20 o 30 la ganancia es cada vez más reducida. A continuación haremos un Grid Search con más parámetros."
   ]
  },
  {
   "cell_type": "code",
   "execution_count": 14,
   "metadata": {},
   "outputs": [],
   "source": [
    "forest_grid2 = {'max_depth':[30,50],'max_features':[5,8,11],'n_estimators':[150],'min_samples_split':[2,5,10,20,50]}\n",
    "rnr_grid2 = GridSearchCV(rfr,forest_grid2,cv=2,scoring='neg_mean_squared_error',return_train_score=True).fit(X_train,y_train)"
   ]
  },
  {
   "cell_type": "code",
   "execution_count": 15,
   "metadata": {},
   "outputs": [
    {
     "data": {
      "text/html": [
       "<div>\n",
       "<style scoped>\n",
       "    .dataframe tbody tr th:only-of-type {\n",
       "        vertical-align: middle;\n",
       "    }\n",
       "\n",
       "    .dataframe tbody tr th {\n",
       "        vertical-align: top;\n",
       "    }\n",
       "\n",
       "    .dataframe thead th {\n",
       "        text-align: right;\n",
       "    }\n",
       "</style>\n",
       "<table border=\"1\" class=\"dataframe\">\n",
       "  <thead>\n",
       "    <tr style=\"text-align: right;\">\n",
       "      <th></th>\n",
       "      <th>param_max_depth</th>\n",
       "      <th>param_n_estimators</th>\n",
       "      <th>param_min_samples_split</th>\n",
       "      <th>param_max_features</th>\n",
       "      <th>rank_test_score</th>\n",
       "      <th>mean_fit_time</th>\n",
       "      <th>rmse_test</th>\n",
       "    </tr>\n",
       "  </thead>\n",
       "  <tbody>\n",
       "    <tr>\n",
       "      <td>20</td>\n",
       "      <td>50</td>\n",
       "      <td>150</td>\n",
       "      <td>2</td>\n",
       "      <td>8</td>\n",
       "      <td>1</td>\n",
       "      <td>1.006977</td>\n",
       "      <td>31671.591142</td>\n",
       "    </tr>\n",
       "    <tr>\n",
       "      <td>5</td>\n",
       "      <td>30</td>\n",
       "      <td>150</td>\n",
       "      <td>2</td>\n",
       "      <td>8</td>\n",
       "      <td>2</td>\n",
       "      <td>1.136395</td>\n",
       "      <td>31671.769675</td>\n",
       "    </tr>\n",
       "    <tr>\n",
       "      <td>10</td>\n",
       "      <td>30</td>\n",
       "      <td>150</td>\n",
       "      <td>2</td>\n",
       "      <td>11</td>\n",
       "      <td>3</td>\n",
       "      <td>1.172114</td>\n",
       "      <td>31684.250798</td>\n",
       "    </tr>\n",
       "    <tr>\n",
       "      <td>25</td>\n",
       "      <td>50</td>\n",
       "      <td>150</td>\n",
       "      <td>2</td>\n",
       "      <td>11</td>\n",
       "      <td>4</td>\n",
       "      <td>1.298013</td>\n",
       "      <td>31692.213844</td>\n",
       "    </tr>\n",
       "    <tr>\n",
       "      <td>15</td>\n",
       "      <td>50</td>\n",
       "      <td>150</td>\n",
       "      <td>2</td>\n",
       "      <td>5</td>\n",
       "      <td>5</td>\n",
       "      <td>0.919103</td>\n",
       "      <td>31797.342145</td>\n",
       "    </tr>\n",
       "    <tr>\n",
       "      <td>0</td>\n",
       "      <td>30</td>\n",
       "      <td>150</td>\n",
       "      <td>2</td>\n",
       "      <td>5</td>\n",
       "      <td>6</td>\n",
       "      <td>0.837029</td>\n",
       "      <td>31808.765406</td>\n",
       "    </tr>\n",
       "    <tr>\n",
       "      <td>21</td>\n",
       "      <td>50</td>\n",
       "      <td>150</td>\n",
       "      <td>5</td>\n",
       "      <td>8</td>\n",
       "      <td>7</td>\n",
       "      <td>0.910339</td>\n",
       "      <td>31975.492929</td>\n",
       "    </tr>\n",
       "  </tbody>\n",
       "</table>\n",
       "</div>"
      ],
      "text/plain": [
       "   param_max_depth param_n_estimators param_min_samples_split  \\\n",
       "20              50                150                       2   \n",
       "5               30                150                       2   \n",
       "10              30                150                       2   \n",
       "25              50                150                       2   \n",
       "15              50                150                       2   \n",
       "0               30                150                       2   \n",
       "21              50                150                       5   \n",
       "\n",
       "   param_max_features  rank_test_score  mean_fit_time     rmse_test  \n",
       "20                  8                1       1.006977  31671.591142  \n",
       "5                   8                2       1.136395  31671.769675  \n",
       "10                 11                3       1.172114  31684.250798  \n",
       "25                 11                4       1.298013  31692.213844  \n",
       "15                  5                5       0.919103  31797.342145  \n",
       "0                   5                6       0.837029  31808.765406  \n",
       "21                  8                7       0.910339  31975.492929  "
      ]
     },
     "execution_count": 15,
     "metadata": {},
     "output_type": "execute_result"
    }
   ],
   "source": [
    "rnrgrid_df2 = pd.DataFrame(rnr_grid2.cv_results_)\n",
    "rnrgrid_df2 = rnrgrid_df2[['param_max_depth','param_n_estimators',\\\n",
    "                'param_min_samples_split', 'param_max_features',\\\n",
    "                    'mean_test_score','rank_test_score','mean_fit_time']]\n",
    "rnrgrid_df2['rmse_test'] = np.sqrt(-rnrgrid_df2['mean_test_score'])\n",
    "rnrgrid_df2 = rnrgrid_df2.drop(columns=['mean_test_score'])\n",
    "# Veamos una muestra\n",
    "rnrgrid_df2.sort_values(by='rank_test_score').head(7)"
   ]
  },
  {
   "cell_type": "code",
   "execution_count": 16,
   "metadata": {},
   "outputs": [],
   "source": [
    "# Hilando un poco más fino\n",
    "forest_grid3 = {'max_depth':[30,40,50],'max_features':[7,8,9],'n_estimators':[150,200,300],'min_samples_split':[2]}\n",
    "rnr_grid3 = GridSearchCV(rfr,forest_grid3,cv=2,scoring='neg_mean_squared_error',return_train_score=True).fit(X_train,y_train)"
   ]
  },
  {
   "cell_type": "code",
   "execution_count": 17,
   "metadata": {},
   "outputs": [
    {
     "data": {
      "text/html": [
       "<div>\n",
       "<style scoped>\n",
       "    .dataframe tbody tr th:only-of-type {\n",
       "        vertical-align: middle;\n",
       "    }\n",
       "\n",
       "    .dataframe tbody tr th {\n",
       "        vertical-align: top;\n",
       "    }\n",
       "\n",
       "    .dataframe thead th {\n",
       "        text-align: right;\n",
       "    }\n",
       "</style>\n",
       "<table border=\"1\" class=\"dataframe\">\n",
       "  <thead>\n",
       "    <tr style=\"text-align: right;\">\n",
       "      <th></th>\n",
       "      <th>param_max_depth</th>\n",
       "      <th>param_n_estimators</th>\n",
       "      <th>param_min_samples_split</th>\n",
       "      <th>param_max_features</th>\n",
       "      <th>rank_test_score</th>\n",
       "      <th>mean_fit_time</th>\n",
       "      <th>rmse_test</th>\n",
       "    </tr>\n",
       "  </thead>\n",
       "  <tbody>\n",
       "    <tr>\n",
       "      <td>11</td>\n",
       "      <td>40</td>\n",
       "      <td>300</td>\n",
       "      <td>2</td>\n",
       "      <td>7</td>\n",
       "      <td>1</td>\n",
       "      <td>1.944073</td>\n",
       "      <td>31576.619349</td>\n",
       "    </tr>\n",
       "    <tr>\n",
       "      <td>8</td>\n",
       "      <td>30</td>\n",
       "      <td>300</td>\n",
       "      <td>2</td>\n",
       "      <td>9</td>\n",
       "      <td>2</td>\n",
       "      <td>2.135030</td>\n",
       "      <td>31576.630993</td>\n",
       "    </tr>\n",
       "    <tr>\n",
       "      <td>17</td>\n",
       "      <td>40</td>\n",
       "      <td>300</td>\n",
       "      <td>2</td>\n",
       "      <td>9</td>\n",
       "      <td>3</td>\n",
       "      <td>2.076233</td>\n",
       "      <td>31578.094866</td>\n",
       "    </tr>\n",
       "    <tr>\n",
       "      <td>26</td>\n",
       "      <td>50</td>\n",
       "      <td>300</td>\n",
       "      <td>2</td>\n",
       "      <td>9</td>\n",
       "      <td>3</td>\n",
       "      <td>2.171533</td>\n",
       "      <td>31578.094866</td>\n",
       "    </tr>\n",
       "    <tr>\n",
       "      <td>20</td>\n",
       "      <td>50</td>\n",
       "      <td>300</td>\n",
       "      <td>2</td>\n",
       "      <td>7</td>\n",
       "      <td>5</td>\n",
       "      <td>1.963664</td>\n",
       "      <td>31578.315316</td>\n",
       "    </tr>\n",
       "    <tr>\n",
       "      <td>2</td>\n",
       "      <td>30</td>\n",
       "      <td>300</td>\n",
       "      <td>2</td>\n",
       "      <td>7</td>\n",
       "      <td>6</td>\n",
       "      <td>1.974080</td>\n",
       "      <td>31582.246376</td>\n",
       "    </tr>\n",
       "    <tr>\n",
       "      <td>25</td>\n",
       "      <td>50</td>\n",
       "      <td>200</td>\n",
       "      <td>2</td>\n",
       "      <td>9</td>\n",
       "      <td>7</td>\n",
       "      <td>1.587880</td>\n",
       "      <td>31603.435513</td>\n",
       "    </tr>\n",
       "  </tbody>\n",
       "</table>\n",
       "</div>"
      ],
      "text/plain": [
       "   param_max_depth param_n_estimators param_min_samples_split  \\\n",
       "11              40                300                       2   \n",
       "8               30                300                       2   \n",
       "17              40                300                       2   \n",
       "26              50                300                       2   \n",
       "20              50                300                       2   \n",
       "2               30                300                       2   \n",
       "25              50                200                       2   \n",
       "\n",
       "   param_max_features  rank_test_score  mean_fit_time     rmse_test  \n",
       "11                  7                1       1.944073  31576.619349  \n",
       "8                   9                2       2.135030  31576.630993  \n",
       "17                  9                3       2.076233  31578.094866  \n",
       "26                  9                3       2.171533  31578.094866  \n",
       "20                  7                5       1.963664  31578.315316  \n",
       "2                   7                6       1.974080  31582.246376  \n",
       "25                  9                7       1.587880  31603.435513  "
      ]
     },
     "execution_count": 17,
     "metadata": {},
     "output_type": "execute_result"
    }
   ],
   "source": [
    "rnrgrid_df3 = pd.DataFrame(rnr_grid3.cv_results_)\n",
    "rnrgrid_df3 = rnrgrid_df3[['param_max_depth','param_n_estimators',\\\n",
    "                'param_min_samples_split', 'param_max_features',\\\n",
    "                    'mean_test_score','rank_test_score','mean_fit_time']]\n",
    "rnrgrid_df3['rmse_test'] = np.sqrt(-rnrgrid_df3['mean_test_score'])\n",
    "rnrgrid_df3 = rnrgrid_df3.drop(columns=['mean_test_score'])\n",
    "# Veamos una muestra\n",
    "rnrgrid_df3.sort_values(by='rank_test_score').head(7)"
   ]
  },
  {
   "cell_type": "markdown",
   "metadata": {},
   "source": [
    "Como vemos, las ganancias son cada vez más exiguas. Nos quedaremos entonces con los parámetros óptimos del último Grid Search."
   ]
  },
  {
   "cell_type": "code",
   "execution_count": 18,
   "metadata": {},
   "outputs": [
    {
     "data": {
      "text/plain": [
       "{'max_depth': 40,\n",
       " 'max_features': 7,\n",
       " 'min_samples_split': 2,\n",
       " 'n_estimators': 300}"
      ]
     },
     "execution_count": 18,
     "metadata": {},
     "output_type": "execute_result"
    }
   ],
   "source": [
    "rnr_grid3.best_params_"
   ]
  },
  {
   "cell_type": "markdown",
   "metadata": {},
   "source": [
    "Podría estimarse el modelo directamente desde el Grid Search fiteado, pero para calcular luego la feature importance necesito una instancia del Random Forest Regressor."
   ]
  },
  {
   "cell_type": "code",
   "execution_count": 19,
   "metadata": {},
   "outputs": [
    {
     "name": "stdout",
     "output_type": "stream",
     "text": [
      "RMSE test (Random Forest óptimo): 28044.116399661616\n",
      "Mejora benchmark: 25.85 %\n"
     ]
    }
   ],
   "source": [
    "rfr_opt = RandomForestRegressor(max_depth=30,max_features=7,\n",
    "                                 min_samples_split=2,n_estimators=300)\n",
    "rfr_opt.fit(X_train,y_train)\n",
    "y_pred_rf = rfr_opt.predict(X_test)\n",
    "rmse_rf = np.sqrt(mean_squared_error(y_test,y_pred_rf))\n",
    "print(f'RMSE test (Random Forest óptimo): {rmse_rf}')\n",
    "print('Mejora benchmark: %.2f'% (((rmse1 - rmse_rf)/rmse1)*100)+' %')"
   ]
  },
  {
   "cell_type": "markdown",
   "metadata": {},
   "source": [
    "Una gran ventaja del modelo Random Forest (y de los modelos de árboles de decisión en general) es que tienen un alto grado de interpretabilidad. En particular, poseen una métrica, <b>feature importance</b>, que nos permite entender cuáles son los features que más importancia tienen en la regresión. A continuación la estudiaremos."
   ]
  },
  {
   "cell_type": "code",
   "execution_count": 20,
   "metadata": {},
   "outputs": [
    {
     "data": {
      "text/plain": [
       "([0, 1, 2, 3, 4, 5, 6, 7, 8, 9, 10, 11, 12, 13, 14, 15, 16, 17, 18, 19],\n",
       " <a list of 20 Text xticklabel objects>)"
      ]
     },
     "execution_count": 20,
     "metadata": {},
     "output_type": "execute_result"
    },
    {
     "data": {
      "image/png": "[encoded data removed]",
      "text/plain": [
       "<Figure size 432x432 with 1 Axes>"
      ]
     },
     "metadata": {},
     "output_type": "display_data"
    }
   ],
   "source": [
    "importance = rfr_opt.feature_importances_\n",
    "Xcolumns = X_train.columns\n",
    "plt.figure(figsize=(6,6))\n",
    "plt.bar(Xcolumns,importance)\n",
    "plt.xticks(rotation=90)"
   ]
  },
  {
   "cell_type": "markdown",
   "metadata": {},
   "source": [
    "De aquí surgen algunas observaciones interesantes: en primer lugar, y como es esperable, las variables más importantes son las de superficie; por lejos la superficie total es el factor que más explica el precio de una propiedad. En segundo lugar, se nota la asimetría de las coordenadas geográficas: las latitudes son más importantes que las longitudes. Esto no es otra cosa que el reflejo de una conocida característica del mercado inmobiliario porteño: las diferencias más grandes están entre el Norte y el Sur de la Ciudad (las latitudes se mueven \"verticalmente\" en un mapa, mientras que las longitudes lo hacen de manera \"horizontal\"). Otra cuestión que surge es el hecho de que, de los features que agregamos de otras bases de datos, el ingreso per cápita de la comuna es una variable más relevante que la densidad poblacional a la hora de explicar el precio de una propiedad. Por último, curiosamente, el feature menos relevante entre los que consideramos es el tipo de propiedad."
   ]
  },
  {
   "cell_type": "code",
   "execution_count": 21,
   "metadata": {},
   "outputs": [
    {
     "data": {
      "text/plain": [
       "array([1.40417491e+03, 5.07121573e+02, 4.87877617e+03, 5.95937628e+02,\n",
       "       1.42088564e+03, 4.39002071e+02, 3.54889725e+02, 1.48449490e+01,\n",
       "       5.34083656e+01, 6.93940777e+01, 2.04037361e+01, 2.04363553e+01,\n",
       "       9.38565422e+00, 1.14968593e+01, 4.30553977e+00, 8.73107619e+00,\n",
       "       2.23372836e+01, 6.48057966e+01, 9.03060389e+01, 9.35654460e+00])"
      ]
     },
     "execution_count": 21,
     "metadata": {},
     "output_type": "execute_result"
    }
   ],
   "source": [
    "# Exporto feature importance para modelos kNN\n",
    "importance*10000"
   ]
  },
  {
   "cell_type": "markdown",
   "metadata": {},
   "source": [
    "### XGBoost"
   ]
  },
  {
   "cell_type": "code",
   "execution_count": 22,
   "metadata": {},
   "outputs": [],
   "source": [
    "from xgboost import XGBRegressor"
   ]
  },
  {
   "cell_type": "code",
   "execution_count": 23,
   "metadata": {},
   "outputs": [
    {
     "name": "stdout",
     "output_type": "stream",
     "text": [
      "RMSE test (XGBoost): 30654.99385256664\n",
      "Mejora benchmark: 18.95 %\n"
     ]
    }
   ],
   "source": [
    "xgb = XGBRegressor()\n",
    "xgb.fit(X_train,y_train)\n",
    "y_pred_xgb_test = xgb.predict(X_test)\n",
    "rmse_xgb = np.sqrt(mean_squared_error(y_test,y_pred_xgb_test))\n",
    "print(f'RMSE test (XGBoost): {rmse_xgb}')\n",
    "print('Mejora benchmark: %.2f'% (((rmse1 - rmse_xgb)/rmse1)*100)+' %')"
   ]
  },
  {
   "cell_type": "markdown",
   "metadata": {},
   "source": [
    "### Grid Search"
   ]
  },
  {
   "cell_type": "code",
   "execution_count": 24,
   "metadata": {
    "collapsed": true
   },
   "outputs": [
    {
     "name": "stderr",
     "output_type": "stream",
     "text": [
      "C:\\Users\\Usuario\\Python\\Anaconda\\lib\\site-packages\\sklearn\\model_selection\\_split.py:1978: FutureWarning: The default value of cv will change from 3 to 5 in version 0.22. Specify it explicitly to silence this warning.\n",
      "  warnings.warn(CV_WARNING, FutureWarning)\n"
     ]
    },
    {
     "data": {
      "text/plain": [
       "GridSearchCV(cv='warn', error_score='raise-deprecating',\n",
       "             estimator=XGBRegressor(base_score=0.5, booster=None,\n",
       "                                    colsample_bylevel=1, colsample_bynode=1,\n",
       "                                    colsample_bytree=1, gamma=0, gpu_id=-1,\n",
       "                                    importance_type='gain',\n",
       "                                    interaction_constraints=None,\n",
       "                                    learning_rate=0.300000012, max_delta_step=0,\n",
       "                                    max_depth=6, min_child_weight=1,\n",
       "                                    missing=nan, monotone_constraints=None,\n",
       "                                    n_es...\n",
       "             param_grid={'colsample_bytree': [0.4, 0.6, 0.8],\n",
       "                         'gamma': [0, 0.03, 0.1, 0.3],\n",
       "                         'learning_rate': [0.1, 0.07], 'max_depth': [3],\n",
       "                         'min_child_weight': [1.5, 6, 10],\n",
       "                         'n_estimators': [100],\n",
       "                         'reg_alpha': [1e-05, 0.01, 0.75],\n",
       "                         'reg_lambda': [1e-05, 0.01, 0.45],\n",
       "                         'subsample': [0.6, 0.95]},\n",
       "             pre_dispatch='2*n_jobs', refit=True, return_train_score=False,\n",
       "             scoring='neg_mean_squared_error', verbose=0)"
      ]
     },
     "execution_count": 24,
     "metadata": {},
     "output_type": "execute_result"
    }
   ],
   "source": [
    "xgb_params = {\n",
    "   'colsample_bytree':[0.4,0.6,0.8],\n",
    "   'gamma':[0,0.03,0.1,0.3],\n",
    "   'min_child_weight':[1.5,6,10],\n",
    "   'learning_rate':[0.1,0.07],\n",
    "   'max_depth':[3],\n",
    "   'n_estimators':[100],\n",
    "   'reg_alpha':[1e-5, 1e-2,  0.75],\n",
    "   'reg_lambda':[1e-5, 1e-2, 0.45],\n",
    "   'subsample':[0.6,0.95]  \n",
    "}\n",
    "grid_xgb1 = GridSearchCV(estimator = xgb, param_grid = xgb_params, n_jobs=-1,scoring='neg_mean_squared_error')\n",
    "grid_xgb1.fit(X_train,y_train)"
   ]
  },
  {
   "cell_type": "code",
   "execution_count": 25,
   "metadata": {
    "collapsed": true
   },
   "outputs": [
    {
     "data": {
      "text/plain": [
       "GridSearchCV(cv='warn', error_score='raise-deprecating',\n",
       "             estimator=XGBRegressor(base_score=0.5, booster=None,\n",
       "                                    colsample_bylevel=1, colsample_bynode=1,\n",
       "                                    colsample_bytree=1, gamma=0, gpu_id=-1,\n",
       "                                    importance_type='gain',\n",
       "                                    interaction_constraints=None,\n",
       "                                    learning_rate=0.300000012, max_delta_step=0,\n",
       "                                    max_depth=6, min_child_weight=1,\n",
       "                                    missing=nan, monotone_constraints=None,\n",
       "                                    n_es...\n",
       "             param_grid={'colsample_bytree': [0.4, 0.6, 0.8],\n",
       "                         'gamma': [0, 0.03, 0.1, 0.3],\n",
       "                         'learning_rate': [0.1, 0.07], 'max_depth': [5],\n",
       "                         'min_child_weight': [1.5, 6, 10],\n",
       "                         'n_estimators': [100],\n",
       "                         'reg_alpha': [1e-05, 0.01, 0.75],\n",
       "                         'reg_lambda': [1e-05, 0.01, 0.45],\n",
       "                         'subsample': [0.6, 0.95]},\n",
       "             pre_dispatch='2*n_jobs', refit=True, return_train_score=False,\n",
       "             scoring='neg_mean_squared_error', verbose=0)"
      ]
     },
     "execution_count": 25,
     "metadata": {},
     "output_type": "execute_result"
    }
   ],
   "source": [
    "xgb_params = {\n",
    "   'colsample_bytree':[0.4,0.6,0.8],\n",
    "   'gamma':[0,0.03,0.1,0.3],\n",
    "   'min_child_weight':[1.5,6,10],\n",
    "   'learning_rate':[0.1,0.07],\n",
    "   'max_depth':[5],\n",
    "   'n_estimators':[100],\n",
    "   'reg_alpha':[1e-5, 1e-2,  0.75],\n",
    "   'reg_lambda':[1e-5, 1e-2, 0.45],\n",
    "   'subsample':[0.6,0.95]  \n",
    "}\n",
    "grid_xgb2 = GridSearchCV(estimator = xgb, param_grid = xgb_params, n_jobs=-1,scoring='neg_mean_squared_error')\n",
    "grid_xgb2.fit(X_train,y_train)"
   ]
  },
  {
   "cell_type": "code",
   "execution_count": 26,
   "metadata": {
    "collapsed": true
   },
   "outputs": [
    {
     "data": {
      "text/plain": [
       "GridSearchCV(cv='warn', error_score='raise-deprecating',\n",
       "             estimator=XGBRegressor(base_score=0.5, booster=None,\n",
       "                                    colsample_bylevel=1, colsample_bynode=1,\n",
       "                                    colsample_bytree=1, gamma=0, gpu_id=-1,\n",
       "                                    importance_type='gain',\n",
       "                                    interaction_constraints=None,\n",
       "                                    learning_rate=0.300000012, max_delta_step=0,\n",
       "                                    max_depth=6, min_child_weight=1,\n",
       "                                    missing=nan, monotone_constraints=None,\n",
       "                                    n_es...\n",
       "             param_grid={'colsample_bytree': [0.4, 0.6, 0.8],\n",
       "                         'gamma': [0, 0.03, 0.1, 0.3],\n",
       "                         'learning_rate': [0.1, 0.07], 'max_depth': [3],\n",
       "                         'min_child_weight': [1.5, 6, 10],\n",
       "                         'n_estimators': [300],\n",
       "                         'reg_alpha': [1e-05, 0.01, 0.75],\n",
       "                         'reg_lambda': [1e-05, 0.01, 0.45],\n",
       "                         'subsample': [0.6, 0.95]},\n",
       "             pre_dispatch='2*n_jobs', refit=True, return_train_score=False,\n",
       "             scoring='neg_mean_squared_error', verbose=0)"
      ]
     },
     "execution_count": 26,
     "metadata": {},
     "output_type": "execute_result"
    }
   ],
   "source": [
    "xgb_params = {\n",
    "   'colsample_bytree':[0.4,0.6,0.8],\n",
    "   'gamma':[0,0.03,0.1,0.3],\n",
    "   'min_child_weight':[1.5,6,10],\n",
    "   'learning_rate':[0.1,0.07],\n",
    "   'max_depth':[3],\n",
    "   'n_estimators':[300],\n",
    "   'reg_alpha':[1e-5, 1e-2,  0.75],\n",
    "   'reg_lambda':[1e-5, 1e-2, 0.45],\n",
    "   'subsample':[0.6,0.95]  \n",
    "}\n",
    "grid_xgb3 = GridSearchCV(estimator = xgb, param_grid = xgb_params, n_jobs=-1,scoring='neg_mean_squared_error')\n",
    "grid_xgb3.fit(X_train,y_train)"
   ]
  },
  {
   "cell_type": "code",
   "execution_count": 27,
   "metadata": {
    "collapsed": true
   },
   "outputs": [
    {
     "data": {
      "text/plain": [
       "GridSearchCV(cv='warn', error_score='raise-deprecating',\n",
       "             estimator=XGBRegressor(base_score=0.5, booster=None,\n",
       "                                    colsample_bylevel=1, colsample_bynode=1,\n",
       "                                    colsample_bytree=1, gamma=0, gpu_id=-1,\n",
       "                                    importance_type='gain',\n",
       "                                    interaction_constraints=None,\n",
       "                                    learning_rate=0.300000012, max_delta_step=0,\n",
       "                                    max_depth=6, min_child_weight=1,\n",
       "                                    missing=nan, monotone_constraints=None,\n",
       "                                    n_es...\n",
       "             param_grid={'colsample_bytree': [0.4, 0.6, 0.8],\n",
       "                         'gamma': [0, 0.03, 0.1, 0.3],\n",
       "                         'learning_rate': [0.1, 0.07], 'max_depth': [5],\n",
       "                         'min_child_weight': [1.5, 6, 10],\n",
       "                         'n_estimators': [300],\n",
       "                         'reg_alpha': [1e-05, 0.01, 0.75],\n",
       "                         'reg_lambda': [1e-05, 0.01, 0.45],\n",
       "                         'subsample': [0.6, 0.95]},\n",
       "             pre_dispatch='2*n_jobs', refit=True, return_train_score=False,\n",
       "             scoring='neg_mean_squared_error', verbose=0)"
      ]
     },
     "execution_count": 27,
     "metadata": {},
     "output_type": "execute_result"
    }
   ],
   "source": [
    "xgb_params = {\n",
    "   'colsample_bytree':[0.4,0.6,0.8],\n",
    "   'gamma':[0,0.03,0.1,0.3],\n",
    "   'min_child_weight':[1.5,6,10],\n",
    "   'learning_rate':[0.1,0.07],\n",
    "   'max_depth':[5],\n",
    "   'n_estimators':[300],\n",
    "   'reg_alpha':[1e-5, 1e-2,  0.75],\n",
    "   'reg_lambda':[1e-5, 1e-2, 0.45],\n",
    "   'subsample':[0.6,0.95]  \n",
    "}\n",
    "grid_xgb4 = GridSearchCV(estimator = xgb, param_grid = xgb_params, n_jobs=-1,scoring='neg_mean_squared_error')\n",
    "grid_xgb4.fit(X_train,y_train)"
   ]
  },
  {
   "cell_type": "markdown",
   "metadata": {},
   "source": [
    "Hasta ahí desde las 23 hasta las 6 am."
   ]
  },
  {
   "cell_type": "code",
   "execution_count": 28,
   "metadata": {},
   "outputs": [
    {
     "ename": "KeyboardInterrupt",
     "evalue": "",
     "output_type": "error",
     "traceback": [
      "\u001b[1;31m---------------------------------------------------------------------------\u001b[0m",
      "\u001b[1;31mKeyboardInterrupt\u001b[0m                         Traceback (most recent call last)",
      "\u001b[1;32m<ipython-input-28-40e4c9faabae>\u001b[0m in \u001b[0;36m<module>\u001b[1;34m\u001b[0m\n\u001b[0;32m     11\u001b[0m }\n\u001b[0;32m     12\u001b[0m \u001b[0mgrid_xgb4\u001b[0m \u001b[1;33m=\u001b[0m \u001b[0mGridSearchCV\u001b[0m\u001b[1;33m(\u001b[0m\u001b[0mestimator\u001b[0m \u001b[1;33m=\u001b[0m \u001b[0mxgb\u001b[0m\u001b[1;33m,\u001b[0m \u001b[0mparam_grid\u001b[0m \u001b[1;33m=\u001b[0m \u001b[0mxgb_params\u001b[0m\u001b[1;33m,\u001b[0m \u001b[0mn_jobs\u001b[0m\u001b[1;33m=\u001b[0m\u001b[1;33m-\u001b[0m\u001b[1;36m1\u001b[0m\u001b[1;33m,\u001b[0m\u001b[0mscoring\u001b[0m\u001b[1;33m=\u001b[0m\u001b[1;34m'neg_mean_squared_error'\u001b[0m\u001b[1;33m)\u001b[0m\u001b[1;33m\u001b[0m\u001b[1;33m\u001b[0m\u001b[0m\n\u001b[1;32m---> 13\u001b[1;33m \u001b[0mgrid_xgb4\u001b[0m\u001b[1;33m.\u001b[0m\u001b[0mfit\u001b[0m\u001b[1;33m(\u001b[0m\u001b[0mX_train\u001b[0m\u001b[1;33m,\u001b[0m\u001b[0my_train\u001b[0m\u001b[1;33m)\u001b[0m\u001b[1;33m\u001b[0m\u001b[1;33m\u001b[0m\u001b[0m\n\u001b[0m",
      "\u001b[1;32m~\\Python\\Anaconda\\lib\\site-packages\\sklearn\\model_selection\\_search.py\u001b[0m in \u001b[0;36mfit\u001b[1;34m(self, X, y, groups, **fit_params)\u001b[0m\n\u001b[0;32m    686\u001b[0m                 \u001b[1;32mreturn\u001b[0m \u001b[0mresults\u001b[0m\u001b[1;33m\u001b[0m\u001b[1;33m\u001b[0m\u001b[0m\n\u001b[0;32m    687\u001b[0m \u001b[1;33m\u001b[0m\u001b[0m\n\u001b[1;32m--> 688\u001b[1;33m             \u001b[0mself\u001b[0m\u001b[1;33m.\u001b[0m\u001b[0m_run_search\u001b[0m\u001b[1;33m(\u001b[0m\u001b[0mevaluate_candidates\u001b[0m\u001b[1;33m)\u001b[0m\u001b[1;33m\u001b[0m\u001b[1;33m\u001b[0m\u001b[0m\n\u001b[0m\u001b[0;32m    689\u001b[0m \u001b[1;33m\u001b[0m\u001b[0m\n\u001b[0;32m    690\u001b[0m         \u001b[1;31m# For multi-metric evaluation, store the best_index_, best_params_ and\u001b[0m\u001b[1;33m\u001b[0m\u001b[1;33m\u001b[0m\u001b[1;33m\u001b[0m\u001b[0m\n",
      "\u001b[1;32m~\\Python\\Anaconda\\lib\\site-packages\\sklearn\\model_selection\\_search.py\u001b[0m in \u001b[0;36m_run_search\u001b[1;34m(self, evaluate_candidates)\u001b[0m\n\u001b[0;32m   1147\u001b[0m     \u001b[1;32mdef\u001b[0m \u001b[0m_run_search\u001b[0m\u001b[1;33m(\u001b[0m\u001b[0mself\u001b[0m\u001b[1;33m,\u001b[0m \u001b[0mevaluate_candidates\u001b[0m\u001b[1;33m)\u001b[0m\u001b[1;33m:\u001b[0m\u001b[1;33m\u001b[0m\u001b[1;33m\u001b[0m\u001b[0m\n\u001b[0;32m   1148\u001b[0m         \u001b[1;34m\"\"\"Search all candidates in param_grid\"\"\"\u001b[0m\u001b[1;33m\u001b[0m\u001b[1;33m\u001b[0m\u001b[0m\n\u001b[1;32m-> 1149\u001b[1;33m         \u001b[0mevaluate_candidates\u001b[0m\u001b[1;33m(\u001b[0m\u001b[0mParameterGrid\u001b[0m\u001b[1;33m(\u001b[0m\u001b[0mself\u001b[0m\u001b[1;33m.\u001b[0m\u001b[0mparam_grid\u001b[0m\u001b[1;33m)\u001b[0m\u001b[1;33m)\u001b[0m\u001b[1;33m\u001b[0m\u001b[1;33m\u001b[0m\u001b[0m\n\u001b[0m\u001b[0;32m   1150\u001b[0m \u001b[1;33m\u001b[0m\u001b[0m\n\u001b[0;32m   1151\u001b[0m \u001b[1;33m\u001b[0m\u001b[0m\n",
      "\u001b[1;32m~\\Python\\Anaconda\\lib\\site-packages\\sklearn\\model_selection\\_search.py\u001b[0m in \u001b[0;36mevaluate_candidates\u001b[1;34m(candidate_params)\u001b[0m\n\u001b[0;32m    665\u001b[0m                                \u001b[1;32mfor\u001b[0m \u001b[0mparameters\u001b[0m\u001b[1;33m,\u001b[0m \u001b[1;33m(\u001b[0m\u001b[0mtrain\u001b[0m\u001b[1;33m,\u001b[0m \u001b[0mtest\u001b[0m\u001b[1;33m)\u001b[0m\u001b[1;33m\u001b[0m\u001b[1;33m\u001b[0m\u001b[0m\n\u001b[0;32m    666\u001b[0m                                in product(candidate_params,\n\u001b[1;32m--> 667\u001b[1;33m                                           cv.split(X, y, groups)))\n\u001b[0m\u001b[0;32m    668\u001b[0m \u001b[1;33m\u001b[0m\u001b[0m\n\u001b[0;32m    669\u001b[0m                 \u001b[1;32mif\u001b[0m \u001b[0mlen\u001b[0m\u001b[1;33m(\u001b[0m\u001b[0mout\u001b[0m\u001b[1;33m)\u001b[0m \u001b[1;33m<\u001b[0m \u001b[1;36m1\u001b[0m\u001b[1;33m:\u001b[0m\u001b[1;33m\u001b[0m\u001b[1;33m\u001b[0m\u001b[0m\n",
      "\u001b[1;32m~\\Python\\Anaconda\\lib\\site-packages\\joblib\\parallel.py\u001b[0m in \u001b[0;36m__call__\u001b[1;34m(self, iterable)\u001b[0m\n\u001b[0;32m    932\u001b[0m \u001b[1;33m\u001b[0m\u001b[0m\n\u001b[0;32m    933\u001b[0m             \u001b[1;32mwith\u001b[0m \u001b[0mself\u001b[0m\u001b[1;33m.\u001b[0m\u001b[0m_backend\u001b[0m\u001b[1;33m.\u001b[0m\u001b[0mretrieval_context\u001b[0m\u001b[1;33m(\u001b[0m\u001b[1;33m)\u001b[0m\u001b[1;33m:\u001b[0m\u001b[1;33m\u001b[0m\u001b[1;33m\u001b[0m\u001b[0m\n\u001b[1;32m--> 934\u001b[1;33m                 \u001b[0mself\u001b[0m\u001b[1;33m.\u001b[0m\u001b[0mretrieve\u001b[0m\u001b[1;33m(\u001b[0m\u001b[1;33m)\u001b[0m\u001b[1;33m\u001b[0m\u001b[1;33m\u001b[0m\u001b[0m\n\u001b[0m\u001b[0;32m    935\u001b[0m             \u001b[1;31m# Make sure that we get a last message telling us we are done\u001b[0m\u001b[1;33m\u001b[0m\u001b[1;33m\u001b[0m\u001b[1;33m\u001b[0m\u001b[0m\n\u001b[0;32m    936\u001b[0m             \u001b[0melapsed_time\u001b[0m \u001b[1;33m=\u001b[0m \u001b[0mtime\u001b[0m\u001b[1;33m.\u001b[0m\u001b[0mtime\u001b[0m\u001b[1;33m(\u001b[0m\u001b[1;33m)\u001b[0m \u001b[1;33m-\u001b[0m \u001b[0mself\u001b[0m\u001b[1;33m.\u001b[0m\u001b[0m_start_time\u001b[0m\u001b[1;33m\u001b[0m\u001b[1;33m\u001b[0m\u001b[0m\n",
      "\u001b[1;32m~\\Python\\Anaconda\\lib\\site-packages\\joblib\\parallel.py\u001b[0m in \u001b[0;36mretrieve\u001b[1;34m(self)\u001b[0m\n\u001b[0;32m    831\u001b[0m             \u001b[1;32mtry\u001b[0m\u001b[1;33m:\u001b[0m\u001b[1;33m\u001b[0m\u001b[1;33m\u001b[0m\u001b[0m\n\u001b[0;32m    832\u001b[0m                 \u001b[1;32mif\u001b[0m \u001b[0mgetattr\u001b[0m\u001b[1;33m(\u001b[0m\u001b[0mself\u001b[0m\u001b[1;33m.\u001b[0m\u001b[0m_backend\u001b[0m\u001b[1;33m,\u001b[0m \u001b[1;34m'supports_timeout'\u001b[0m\u001b[1;33m,\u001b[0m \u001b[1;32mFalse\u001b[0m\u001b[1;33m)\u001b[0m\u001b[1;33m:\u001b[0m\u001b[1;33m\u001b[0m\u001b[1;33m\u001b[0m\u001b[0m\n\u001b[1;32m--> 833\u001b[1;33m                     \u001b[0mself\u001b[0m\u001b[1;33m.\u001b[0m\u001b[0m_output\u001b[0m\u001b[1;33m.\u001b[0m\u001b[0mextend\u001b[0m\u001b[1;33m(\u001b[0m\u001b[0mjob\u001b[0m\u001b[1;33m.\u001b[0m\u001b[0mget\u001b[0m\u001b[1;33m(\u001b[0m\u001b[0mtimeout\u001b[0m\u001b[1;33m=\u001b[0m\u001b[0mself\u001b[0m\u001b[1;33m.\u001b[0m\u001b[0mtimeout\u001b[0m\u001b[1;33m)\u001b[0m\u001b[1;33m)\u001b[0m\u001b[1;33m\u001b[0m\u001b[1;33m\u001b[0m\u001b[0m\n\u001b[0m\u001b[0;32m    834\u001b[0m                 \u001b[1;32melse\u001b[0m\u001b[1;33m:\u001b[0m\u001b[1;33m\u001b[0m\u001b[1;33m\u001b[0m\u001b[0m\n\u001b[0;32m    835\u001b[0m                     \u001b[0mself\u001b[0m\u001b[1;33m.\u001b[0m\u001b[0m_output\u001b[0m\u001b[1;33m.\u001b[0m\u001b[0mextend\u001b[0m\u001b[1;33m(\u001b[0m\u001b[0mjob\u001b[0m\u001b[1;33m.\u001b[0m\u001b[0mget\u001b[0m\u001b[1;33m(\u001b[0m\u001b[1;33m)\u001b[0m\u001b[1;33m)\u001b[0m\u001b[1;33m\u001b[0m\u001b[1;33m\u001b[0m\u001b[0m\n",
      "\u001b[1;32m~\\Python\\Anaconda\\lib\\site-packages\\joblib\\_parallel_backends.py\u001b[0m in \u001b[0;36mwrap_future_result\u001b[1;34m(future, timeout)\u001b[0m\n\u001b[0;32m    519\u001b[0m         AsyncResults.get from multiprocessing.\"\"\"\n\u001b[0;32m    520\u001b[0m         \u001b[1;32mtry\u001b[0m\u001b[1;33m:\u001b[0m\u001b[1;33m\u001b[0m\u001b[1;33m\u001b[0m\u001b[0m\n\u001b[1;32m--> 521\u001b[1;33m             \u001b[1;32mreturn\u001b[0m \u001b[0mfuture\u001b[0m\u001b[1;33m.\u001b[0m\u001b[0mresult\u001b[0m\u001b[1;33m(\u001b[0m\u001b[0mtimeout\u001b[0m\u001b[1;33m=\u001b[0m\u001b[0mtimeout\u001b[0m\u001b[1;33m)\u001b[0m\u001b[1;33m\u001b[0m\u001b[1;33m\u001b[0m\u001b[0m\n\u001b[0m\u001b[0;32m    522\u001b[0m         \u001b[1;32mexcept\u001b[0m \u001b[0mLokyTimeoutError\u001b[0m\u001b[1;33m:\u001b[0m\u001b[1;33m\u001b[0m\u001b[1;33m\u001b[0m\u001b[0m\n\u001b[0;32m    523\u001b[0m             \u001b[1;32mraise\u001b[0m \u001b[0mTimeoutError\u001b[0m\u001b[1;33m(\u001b[0m\u001b[1;33m)\u001b[0m\u001b[1;33m\u001b[0m\u001b[1;33m\u001b[0m\u001b[0m\n",
      "\u001b[1;32m~\\Python\\Anaconda\\lib\\concurrent\\futures\\_base.py\u001b[0m in \u001b[0;36mresult\u001b[1;34m(self, timeout)\u001b[0m\n\u001b[0;32m    428\u001b[0m                 \u001b[1;32mreturn\u001b[0m \u001b[0mself\u001b[0m\u001b[1;33m.\u001b[0m\u001b[0m__get_result\u001b[0m\u001b[1;33m(\u001b[0m\u001b[1;33m)\u001b[0m\u001b[1;33m\u001b[0m\u001b[1;33m\u001b[0m\u001b[0m\n\u001b[0;32m    429\u001b[0m \u001b[1;33m\u001b[0m\u001b[0m\n\u001b[1;32m--> 430\u001b[1;33m             \u001b[0mself\u001b[0m\u001b[1;33m.\u001b[0m\u001b[0m_condition\u001b[0m\u001b[1;33m.\u001b[0m\u001b[0mwait\u001b[0m\u001b[1;33m(\u001b[0m\u001b[0mtimeout\u001b[0m\u001b[1;33m)\u001b[0m\u001b[1;33m\u001b[0m\u001b[1;33m\u001b[0m\u001b[0m\n\u001b[0m\u001b[0;32m    431\u001b[0m \u001b[1;33m\u001b[0m\u001b[0m\n\u001b[0;32m    432\u001b[0m             \u001b[1;32mif\u001b[0m \u001b[0mself\u001b[0m\u001b[1;33m.\u001b[0m\u001b[0m_state\u001b[0m \u001b[1;32min\u001b[0m \u001b[1;33m[\u001b[0m\u001b[0mCANCELLED\u001b[0m\u001b[1;33m,\u001b[0m \u001b[0mCANCELLED_AND_NOTIFIED\u001b[0m\u001b[1;33m]\u001b[0m\u001b[1;33m:\u001b[0m\u001b[1;33m\u001b[0m\u001b[1;33m\u001b[0m\u001b[0m\n",
      "\u001b[1;32m~\\Python\\Anaconda\\lib\\threading.py\u001b[0m in \u001b[0;36mwait\u001b[1;34m(self, timeout)\u001b[0m\n\u001b[0;32m    294\u001b[0m         \u001b[1;32mtry\u001b[0m\u001b[1;33m:\u001b[0m    \u001b[1;31m# restore state no matter what (e.g., KeyboardInterrupt)\u001b[0m\u001b[1;33m\u001b[0m\u001b[1;33m\u001b[0m\u001b[0m\n\u001b[0;32m    295\u001b[0m             \u001b[1;32mif\u001b[0m \u001b[0mtimeout\u001b[0m \u001b[1;32mis\u001b[0m \u001b[1;32mNone\u001b[0m\u001b[1;33m:\u001b[0m\u001b[1;33m\u001b[0m\u001b[1;33m\u001b[0m\u001b[0m\n\u001b[1;32m--> 296\u001b[1;33m                 \u001b[0mwaiter\u001b[0m\u001b[1;33m.\u001b[0m\u001b[0macquire\u001b[0m\u001b[1;33m(\u001b[0m\u001b[1;33m)\u001b[0m\u001b[1;33m\u001b[0m\u001b[1;33m\u001b[0m\u001b[0m\n\u001b[0m\u001b[0;32m    297\u001b[0m                 \u001b[0mgotit\u001b[0m \u001b[1;33m=\u001b[0m \u001b[1;32mTrue\u001b[0m\u001b[1;33m\u001b[0m\u001b[1;33m\u001b[0m\u001b[0m\n\u001b[0;32m    298\u001b[0m             \u001b[1;32melse\u001b[0m\u001b[1;33m:\u001b[0m\u001b[1;33m\u001b[0m\u001b[1;33m\u001b[0m\u001b[0m\n",
      "\u001b[1;31mKeyboardInterrupt\u001b[0m: "
     ]
    }
   ],
   "source": [
    "xgb_params = {\n",
    "   'colsample_bytree':[0.4,0.6,0.8],\n",
    "   'gamma':[0,0.03,0.1,0.3],\n",
    "   'min_child_weight':[1.5,6,10],\n",
    "   'learning_rate':[0.1,0.07],\n",
    "   'max_depth':[3],\n",
    "   'n_estimators':[1000],\n",
    "   'reg_alpha':[1e-5, 1e-2,  0.75],\n",
    "   'reg_lambda':[1e-5, 1e-2, 0.45],\n",
    "   'subsample':[0.6,0.95]  \n",
    "}\n",
    "grid_xgb5 = GridSearchCV(estimator = xgb, param_grid = xgb_params, n_jobs=-1,scoring='neg_mean_squared_error')\n",
    "grid_xgb5.fit(X_train,y_train)"
   ]
  },
  {
   "cell_type": "code",
   "execution_count": null,
   "metadata": {},
   "outputs": [],
   "source": [
    "xgb_params = {\n",
    "   'colsample_bytree':[0.4,0.6,0.8],\n",
    "   'gamma':[0,0.03,0.1,0.3],\n",
    "   'min_child_weight':[1.5,6,10],\n",
    "   'learning_rate':[0.1,0.07],\n",
    "   'max_depth':[5],\n",
    "   'n_estimators':[1000],\n",
    "   'reg_alpha':[1e-5, 1e-2,  0.75],\n",
    "   'reg_lambda':[1e-5, 1e-2, 0.45],\n",
    "   'subsample':[0.6,0.95]  \n",
    "}\n",
    "grid_xgb6 = GridSearchCV(estimator = xgb, param_grid = xgb_params, n_jobs=-1,scoring='neg_mean_squared_error')\n",
    "grid_xgb6.fit(X_train,y_train)"
   ]
  },
  {
   "cell_type": "code",
   "execution_count": null,
   "metadata": {},
   "outputs": [],
   "source": [
    "xgb_params = {\n",
    "   'colsample_bytree':[0.4,0.6,0.8],\n",
    "   'gamma':[0,0.03,0.1,0.3],\n",
    "   'min_child_weight':[1.5,6,10],\n",
    "   'learning_rate':[0.1,0.07],\n",
    "   'max_depth':[3,5],\n",
    "   'n_estimators':[5000],\n",
    "   'reg_alpha':[1e-5, 1e-2,  0.75],\n",
    "   'reg_lambda':[1e-5, 1e-2, 0.45],\n",
    "   'subsample':[0.6,0.95]  \n",
    "}\n",
    "grid_xgb7 = GridSearchCV(estimator = xgb, param_grid = xgb_params, n_jobs=-1,scoring='neg_mean_squared_error')\n",
    "grid_xgb7.fit(X_train,y_train)"
   ]
  },
  {
   "cell_type": "code",
   "execution_count": null,
   "metadata": {},
   "outputs": [],
   "source": [
    "# xgb_params = {\n",
    "#    'colsample_bytree':[0.4,0.6,0.8],\n",
    "#    'gamma':[0,0.03,0.1,0.3],\n",
    "#    'min_child_weight':[1.5,6,10],\n",
    "#    'learning_rate':[0.1,0.07],\n",
    "#    'max_depth':[3,5],\n",
    "#    'n_estimators':[100,300,1000],\n",
    "#    'reg_alpha':[1e-5, 1e-2,  0.75],\n",
    "#    'reg_lambda':[1e-5, 1e-2, 0.45],\n",
    "#    'subsample':[0.6,0.95]  \n",
    "# }\n",
    "# grid_xgb = GridSearchCV(estimator = xgb, param_grid = xgb_params, n_jobs=-1,scoring='neg_mean_squared_error')\n",
    "# grid_xgb.fit(X_train,y_train)"
   ]
  },
  {
   "cell_type": "markdown",
   "metadata": {},
   "source": [
    "### Export Values"
   ]
  },
  {
   "cell_type": "code",
   "execution_count": null,
   "metadata": {},
   "outputs": [],
   "source": [
    "y_test_pred_rfr = rfr_opt.predict(X_test)\n",
    "y_test_pred_xgb = xgb.predict(X_test)\n",
    "df_pred_test = df_test\n",
    "df_pred_test['pred_rfr'] = y_test_pred_rfr\n",
    "df_pred_test['pred_xgb'] = y_test_pred_xgb\n",
    "df_pred_test['err_rfr'] = df_pred_test['price'] - df_pred_test['pred_rfr']\n",
    "df_pred_test['err_xgb'] = df_pred_test['price'] - df_pred_test['pred_xgb']\n",
    "df_pred_test.to_csv('trees_test_pred.csv',sep=',',columns=df_pred_test.columns,index=False)"
   ]
  },
  {
   "cell_type": "code",
   "execution_count": null,
   "metadata": {},
   "outputs": [],
   "source": [
    "y_validation_pred_rfr = rfr_opt.predict(X_validation)\n",
    "y_validation_pred_xgb = xgb.predict(X_validation)\n",
    "df_pred_valid = df_validation\n",
    "df_pred_valid['pred_rfr'] = y_validation_pred_rfr\n",
    "df_pred_valid['pred_xgb'] = y_validation_pred_xgb\n",
    "df_pred_valid['err_rfr'] = df_pred_valid['price'] - df_pred_valid['pred_rfr']\n",
    "df_pred_valid['err_xgb'] = df_pred_valid['price'] - df_pred_valid['pred_xgb']\n",
    "df_pred_valid.to_csv('trees_valid_pred.csv',sep=',',columns=df_pred_valid.columns,index=False)"
   ]
  }
 ],
 "metadata": {
  "kernelspec": {
   "display_name": "Python 3",
   "language": "python",
   "name": "python3"
  },
  "language_info": {
   "codemirror_mode": {
    "name": "ipython",
    "version": 3
   },
   "file_extension": ".py",
   "mimetype": "text/x-python",
   "name": "python",
   "nbconvert_exporter": "python",
   "pygments_lexer": "ipython3",
   "version": "3.7.4"
  }
 },
 "nbformat": 4,
 "nbformat_minor": 2
}
