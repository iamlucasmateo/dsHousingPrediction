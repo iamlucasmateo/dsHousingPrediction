{
 "cells": [
  {
   "cell_type": "markdown",
   "metadata": {},
   "source": [
    "# Decision Tree Models para el mercado inmobiliario"
   ]
  },
  {
   "cell_type": "markdown",
   "metadata": {},
   "source": [
    "En el presente notebook investigamos distintos tipos de modelos basados en árboles de decisión para predecir los valores de las propiedades en el mercado inmobiliario de Buenos Aires. Los árboles de decisión y sus ensambles tienen la capacidad de generar buenos ajustes en datasets heterogéneos y complejos como el que trabajamos aquí. La información ha sido extraída de [Properati](https://www.properati.com.ar/data/).\n",
    "\n",
    "Empezamos por importar librerías, y acomodar el dataset para su posterior modelado."
   ]
  },
  {
   "cell_type": "code",
   "execution_count": 1,
   "metadata": {},
   "outputs": [],
   "source": [
    "import os\n",
    "# import warnings\n",
    "# warnings.filterwarnings('ignore')\n",
    "import pandas as pd\n",
    "import numpy as np\n",
    "import matplotlib.pylab as plt\n",
    "import seaborn as sns"
   ]
  },
  {
   "cell_type": "code",
   "execution_count": 2,
   "metadata": {},
   "outputs": [
    {
     "data": {
      "text/html": [
       "<div>\n",
       "<style scoped>\n",
       "    .dataframe tbody tr th:only-of-type {\n",
       "        vertical-align: middle;\n",
       "    }\n",
       "\n",
       "    .dataframe tbody tr th {\n",
       "        vertical-align: top;\n",
       "    }\n",
       "\n",
       "    .dataframe thead th {\n",
       "        text-align: right;\n",
       "    }\n",
       "</style>\n",
       "<table border=\"1\" class=\"dataframe\">\n",
       "  <thead>\n",
       "    <tr style=\"text-align: right;\">\n",
       "      <th></th>\n",
       "      <th>index</th>\n",
       "      <th>created_on</th>\n",
       "      <th>lat</th>\n",
       "      <th>lon</th>\n",
       "      <th>barrio_publicado</th>\n",
       "      <th>rooms</th>\n",
       "      <th>surface_total</th>\n",
       "      <th>surface_covered</th>\n",
       "      <th>price</th>\n",
       "      <th>title</th>\n",
       "      <th>...</th>\n",
       "      <th>VILLA LURO</th>\n",
       "      <th>VILLA ORTUZAR</th>\n",
       "      <th>VILLA PUEYRREDON</th>\n",
       "      <th>VILLA REAL</th>\n",
       "      <th>VILLA RIACHUELO</th>\n",
       "      <th>VILLA SANTA RITA</th>\n",
       "      <th>VILLA SOLDATI</th>\n",
       "      <th>VILLA URQUIZA</th>\n",
       "      <th>surface_uncovered</th>\n",
       "      <th>price_m2</th>\n",
       "    </tr>\n",
       "  </thead>\n",
       "  <tbody>\n",
       "    <tr>\n",
       "      <td>0</td>\n",
       "      <td>0</td>\n",
       "      <td>2019-08-04</td>\n",
       "      <td>-34.601864</td>\n",
       "      <td>-58.443563</td>\n",
       "      <td>Villa Crespo</td>\n",
       "      <td>3.0</td>\n",
       "      <td>67.0</td>\n",
       "      <td>60.0</td>\n",
       "      <td>110000.0</td>\n",
       "      <td>Departamento venta</td>\n",
       "      <td>...</td>\n",
       "      <td>0.0</td>\n",
       "      <td>0.0</td>\n",
       "      <td>0.0</td>\n",
       "      <td>0.0</td>\n",
       "      <td>0.0</td>\n",
       "      <td>0.0</td>\n",
       "      <td>0.0</td>\n",
       "      <td>0.0</td>\n",
       "      <td>7.0</td>\n",
       "      <td>1732.283465</td>\n",
       "    </tr>\n",
       "    <tr>\n",
       "      <td>1</td>\n",
       "      <td>1</td>\n",
       "      <td>2019-08-04</td>\n",
       "      <td>-34.644735</td>\n",
       "      <td>-58.421061</td>\n",
       "      <td>Boedo</td>\n",
       "      <td>2.0</td>\n",
       "      <td>40.0</td>\n",
       "      <td>40.0</td>\n",
       "      <td>79900.0</td>\n",
       "      <td>Departamento - Boedo - 2 amb  MUY LUMINOSO!!  ...</td>\n",
       "      <td>...</td>\n",
       "      <td>0.0</td>\n",
       "      <td>0.0</td>\n",
       "      <td>0.0</td>\n",
       "      <td>0.0</td>\n",
       "      <td>0.0</td>\n",
       "      <td>0.0</td>\n",
       "      <td>0.0</td>\n",
       "      <td>0.0</td>\n",
       "      <td>0.0</td>\n",
       "      <td>1997.500000</td>\n",
       "    </tr>\n",
       "    <tr>\n",
       "      <td>2</td>\n",
       "      <td>2</td>\n",
       "      <td>2019-08-04</td>\n",
       "      <td>-34.603423</td>\n",
       "      <td>-58.431140</td>\n",
       "      <td>Almagro</td>\n",
       "      <td>2.0</td>\n",
       "      <td>38.0</td>\n",
       "      <td>38.0</td>\n",
       "      <td>112000.0</td>\n",
       "      <td>Dos Ambientes Reciclado a 1 cuadra del Subte B</td>\n",
       "      <td>...</td>\n",
       "      <td>0.0</td>\n",
       "      <td>0.0</td>\n",
       "      <td>0.0</td>\n",
       "      <td>0.0</td>\n",
       "      <td>0.0</td>\n",
       "      <td>0.0</td>\n",
       "      <td>0.0</td>\n",
       "      <td>0.0</td>\n",
       "      <td>0.0</td>\n",
       "      <td>2947.368421</td>\n",
       "    </tr>\n",
       "    <tr>\n",
       "      <td>3</td>\n",
       "      <td>3</td>\n",
       "      <td>2019-08-04</td>\n",
       "      <td>-34.609326</td>\n",
       "      <td>-58.492374</td>\n",
       "      <td>Villa del Parque</td>\n",
       "      <td>2.0</td>\n",
       "      <td>94.0</td>\n",
       "      <td>77.0</td>\n",
       "      <td>169000.0</td>\n",
       "      <td>PH  DE 3 PLANTAS  CON COCHERA PROPIA Y TERRAZA</td>\n",
       "      <td>...</td>\n",
       "      <td>0.0</td>\n",
       "      <td>0.0</td>\n",
       "      <td>0.0</td>\n",
       "      <td>0.0</td>\n",
       "      <td>0.0</td>\n",
       "      <td>0.0</td>\n",
       "      <td>0.0</td>\n",
       "      <td>0.0</td>\n",
       "      <td>17.0</td>\n",
       "      <td>1976.608187</td>\n",
       "    </tr>\n",
       "    <tr>\n",
       "      <td>4</td>\n",
       "      <td>4</td>\n",
       "      <td>2019-05-27</td>\n",
       "      <td>-34.629607</td>\n",
       "      <td>-58.439279</td>\n",
       "      <td>NaN</td>\n",
       "      <td>1.0</td>\n",
       "      <td>41.0</td>\n",
       "      <td>37.0</td>\n",
       "      <td>118000.0</td>\n",
       "      <td>Departamento venta</td>\n",
       "      <td>...</td>\n",
       "      <td>0.0</td>\n",
       "      <td>0.0</td>\n",
       "      <td>0.0</td>\n",
       "      <td>0.0</td>\n",
       "      <td>0.0</td>\n",
       "      <td>0.0</td>\n",
       "      <td>0.0</td>\n",
       "      <td>0.0</td>\n",
       "      <td>4.0</td>\n",
       "      <td>3025.641026</td>\n",
       "    </tr>\n",
       "  </tbody>\n",
       "</table>\n",
       "<p>5 rows × 68 columns</p>\n",
       "</div>"
      ],
      "text/plain": [
       "   index  created_on        lat        lon  barrio_publicado  rooms  \\\n",
       "0      0  2019-08-04 -34.601864 -58.443563      Villa Crespo    3.0   \n",
       "1      1  2019-08-04 -34.644735 -58.421061             Boedo    2.0   \n",
       "2      2  2019-08-04 -34.603423 -58.431140           Almagro    2.0   \n",
       "3      3  2019-08-04 -34.609326 -58.492374  Villa del Parque    2.0   \n",
       "4      4  2019-05-27 -34.629607 -58.439279               NaN    1.0   \n",
       "\n",
       "   surface_total  surface_covered     price  \\\n",
       "0           67.0             60.0  110000.0   \n",
       "1           40.0             40.0   79900.0   \n",
       "2           38.0             38.0  112000.0   \n",
       "3           94.0             77.0  169000.0   \n",
       "4           41.0             37.0  118000.0   \n",
       "\n",
       "                                               title  ... VILLA LURO  \\\n",
       "0                                 Departamento venta  ...        0.0   \n",
       "1  Departamento - Boedo - 2 amb  MUY LUMINOSO!!  ...  ...        0.0   \n",
       "2     Dos Ambientes Reciclado a 1 cuadra del Subte B  ...        0.0   \n",
       "3     PH  DE 3 PLANTAS  CON COCHERA PROPIA Y TERRAZA  ...        0.0   \n",
       "4                                 Departamento venta  ...        0.0   \n",
       "\n",
       "  VILLA ORTUZAR VILLA PUEYRREDON  VILLA REAL  VILLA RIACHUELO  \\\n",
       "0           0.0              0.0         0.0              0.0   \n",
       "1           0.0              0.0         0.0              0.0   \n",
       "2           0.0              0.0         0.0              0.0   \n",
       "3           0.0              0.0         0.0              0.0   \n",
       "4           0.0              0.0         0.0              0.0   \n",
       "\n",
       "   VILLA SANTA RITA  VILLA SOLDATI  VILLA URQUIZA  surface_uncovered  \\\n",
       "0               0.0            0.0            0.0                7.0   \n",
       "1               0.0            0.0            0.0                0.0   \n",
       "2               0.0            0.0            0.0                0.0   \n",
       "3               0.0            0.0            0.0               17.0   \n",
       "4               0.0            0.0            0.0                4.0   \n",
       "\n",
       "      price_m2  \n",
       "0  1732.283465  \n",
       "1  1997.500000  \n",
       "2  2947.368421  \n",
       "3  1976.608187  \n",
       "4  3025.641026  \n",
       "\n",
       "[5 rows x 68 columns]"
      ]
     },
     "execution_count": 2,
     "metadata": {},
     "output_type": "execute_result"
    }
   ],
   "source": [
    "df = pd.read_csv('Properati_data_clean.csv')\n",
    "df.head()"
   ]
  },
  {
   "cell_type": "code",
   "execution_count": 3,
   "metadata": {},
   "outputs": [
    {
     "data": {
      "text/plain": [
       "Index(['index', 'created_on', 'lat', 'lon', 'barrio_publicado', 'rooms',\n",
       "       'surface_total', 'surface_covered', 'price', 'title', 'description',\n",
       "       'property_type', 'barrio', 'densidad', 'NBI', 'Casa', 'Departamento',\n",
       "       'PH', 'AGRONOMIA', 'ALMAGRO', 'BALVANERA', 'BARRACAS', 'BELGRANO',\n",
       "       'BOCA', 'BOEDO', 'CABALLITO', 'CHACARITA', 'COGHLAN', 'COLEGIALES',\n",
       "       'CONSTITUCION', 'FLORES', 'FLORESTA', 'LINIERS', 'MATADEROS',\n",
       "       'MONSERRAT', 'MONTE CASTRO', 'NUEVA POMPEYA', 'NUNEZ', 'PALERMO',\n",
       "       'PARQUE AVELLANEDA', 'PARQUE CHACABUCO', 'PARQUE CHAS',\n",
       "       'PARQUE PATRICIOS', 'PATERNAL', 'PUERTO MADERO', 'RECOLETA', 'RETIRO',\n",
       "       'SAAVEDRA', 'SAN CRISTOBAL', 'SAN NICOLAS', 'SAN TELMO',\n",
       "       'VELEZ SARSFIELD', 'VERSALLES', 'VILLA CRESPO', 'VILLA DEL PARQUE',\n",
       "       'VILLA DEVOTO', 'VILLA GRAL. MITRE', 'VILLA LUGANO', 'VILLA LURO',\n",
       "       'VILLA ORTUZAR', 'VILLA PUEYRREDON', 'VILLA REAL', 'VILLA RIACHUELO',\n",
       "       'VILLA SANTA RITA', 'VILLA SOLDATI', 'VILLA URQUIZA',\n",
       "       'surface_uncovered', 'price_m2'],\n",
       "      dtype='object')"
      ]
     },
     "execution_count": 3,
     "metadata": {},
     "output_type": "execute_result"
    }
   ],
   "source": [
    "# Chequeo columnas\n",
    "df.columns"
   ]
  },
  {
   "cell_type": "code",
   "execution_count": 4,
   "metadata": {},
   "outputs": [
    {
     "data": {
      "text/html": [
       "<div>\n",
       "<style scoped>\n",
       "    .dataframe tbody tr th:only-of-type {\n",
       "        vertical-align: middle;\n",
       "    }\n",
       "\n",
       "    .dataframe tbody tr th {\n",
       "        vertical-align: top;\n",
       "    }\n",
       "\n",
       "    .dataframe thead th {\n",
       "        text-align: right;\n",
       "    }\n",
       "</style>\n",
       "<table border=\"1\" class=\"dataframe\">\n",
       "  <thead>\n",
       "    <tr style=\"text-align: right;\">\n",
       "      <th></th>\n",
       "      <th>lat</th>\n",
       "      <th>lon</th>\n",
       "      <th>surface_covered</th>\n",
       "      <th>surface_uncovered</th>\n",
       "      <th>rooms</th>\n",
       "      <th>NBI</th>\n",
       "      <th>densidad</th>\n",
       "      <th>Casa</th>\n",
       "      <th>Departamento</th>\n",
       "      <th>PH</th>\n",
       "      <th>...</th>\n",
       "      <th>VILLA LUGANO</th>\n",
       "      <th>CONSTITUCION</th>\n",
       "      <th>FLORES</th>\n",
       "      <th>BOCA</th>\n",
       "      <th>NUNEZ</th>\n",
       "      <th>BELGRANO</th>\n",
       "      <th>RECOLETA</th>\n",
       "      <th>PALERMO</th>\n",
       "      <th>price_m2</th>\n",
       "      <th>price</th>\n",
       "    </tr>\n",
       "  </thead>\n",
       "  <tbody>\n",
       "    <tr>\n",
       "      <td>0</td>\n",
       "      <td>-34.601864</td>\n",
       "      <td>-58.443563</td>\n",
       "      <td>60.0</td>\n",
       "      <td>7.0</td>\n",
       "      <td>3.0</td>\n",
       "      <td>0.74</td>\n",
       "      <td>21699.484109</td>\n",
       "      <td>0.0</td>\n",
       "      <td>1.0</td>\n",
       "      <td>0.0</td>\n",
       "      <td>...</td>\n",
       "      <td>0.0</td>\n",
       "      <td>0.0</td>\n",
       "      <td>0.0</td>\n",
       "      <td>0.0</td>\n",
       "      <td>0.0</td>\n",
       "      <td>0.0</td>\n",
       "      <td>0.0</td>\n",
       "      <td>0.0</td>\n",
       "      <td>1732.283465</td>\n",
       "      <td>110000.0</td>\n",
       "    </tr>\n",
       "    <tr>\n",
       "      <td>1</td>\n",
       "      <td>-34.644735</td>\n",
       "      <td>-58.421061</td>\n",
       "      <td>40.0</td>\n",
       "      <td>0.0</td>\n",
       "      <td>2.0</td>\n",
       "      <td>5.80</td>\n",
       "      <td>11797.712026</td>\n",
       "      <td>0.0</td>\n",
       "      <td>1.0</td>\n",
       "      <td>0.0</td>\n",
       "      <td>...</td>\n",
       "      <td>0.0</td>\n",
       "      <td>0.0</td>\n",
       "      <td>0.0</td>\n",
       "      <td>0.0</td>\n",
       "      <td>0.0</td>\n",
       "      <td>0.0</td>\n",
       "      <td>0.0</td>\n",
       "      <td>0.0</td>\n",
       "      <td>1997.500000</td>\n",
       "      <td>79900.0</td>\n",
       "    </tr>\n",
       "    <tr>\n",
       "      <td>2</td>\n",
       "      <td>-34.603423</td>\n",
       "      <td>-58.431140</td>\n",
       "      <td>38.0</td>\n",
       "      <td>0.0</td>\n",
       "      <td>2.0</td>\n",
       "      <td>0.92</td>\n",
       "      <td>63288.443473</td>\n",
       "      <td>0.0</td>\n",
       "      <td>1.0</td>\n",
       "      <td>0.0</td>\n",
       "      <td>...</td>\n",
       "      <td>0.0</td>\n",
       "      <td>0.0</td>\n",
       "      <td>0.0</td>\n",
       "      <td>0.0</td>\n",
       "      <td>0.0</td>\n",
       "      <td>0.0</td>\n",
       "      <td>0.0</td>\n",
       "      <td>0.0</td>\n",
       "      <td>2947.368421</td>\n",
       "      <td>112000.0</td>\n",
       "    </tr>\n",
       "    <tr>\n",
       "      <td>3</td>\n",
       "      <td>-34.609326</td>\n",
       "      <td>-58.492374</td>\n",
       "      <td>77.0</td>\n",
       "      <td>17.0</td>\n",
       "      <td>2.0</td>\n",
       "      <td>0.27</td>\n",
       "      <td>13914.638078</td>\n",
       "      <td>0.0</td>\n",
       "      <td>0.0</td>\n",
       "      <td>1.0</td>\n",
       "      <td>...</td>\n",
       "      <td>0.0</td>\n",
       "      <td>0.0</td>\n",
       "      <td>0.0</td>\n",
       "      <td>0.0</td>\n",
       "      <td>0.0</td>\n",
       "      <td>0.0</td>\n",
       "      <td>0.0</td>\n",
       "      <td>0.0</td>\n",
       "      <td>1976.608187</td>\n",
       "      <td>169000.0</td>\n",
       "    </tr>\n",
       "    <tr>\n",
       "      <td>4</td>\n",
       "      <td>-34.629607</td>\n",
       "      <td>-58.439279</td>\n",
       "      <td>37.0</td>\n",
       "      <td>4.0</td>\n",
       "      <td>1.0</td>\n",
       "      <td>6.03</td>\n",
       "      <td>20216.713377</td>\n",
       "      <td>0.0</td>\n",
       "      <td>1.0</td>\n",
       "      <td>0.0</td>\n",
       "      <td>...</td>\n",
       "      <td>0.0</td>\n",
       "      <td>0.0</td>\n",
       "      <td>0.0</td>\n",
       "      <td>0.0</td>\n",
       "      <td>0.0</td>\n",
       "      <td>0.0</td>\n",
       "      <td>0.0</td>\n",
       "      <td>0.0</td>\n",
       "      <td>3025.641026</td>\n",
       "      <td>118000.0</td>\n",
       "    </tr>\n",
       "  </tbody>\n",
       "</table>\n",
       "<p>5 rows × 21 columns</p>\n",
       "</div>"
      ],
      "text/plain": [
       "         lat        lon  surface_covered  surface_uncovered  rooms   NBI  \\\n",
       "0 -34.601864 -58.443563             60.0                7.0    3.0  0.74   \n",
       "1 -34.644735 -58.421061             40.0                0.0    2.0  5.80   \n",
       "2 -34.603423 -58.431140             38.0                0.0    2.0  0.92   \n",
       "3 -34.609326 -58.492374             77.0               17.0    2.0  0.27   \n",
       "4 -34.629607 -58.439279             37.0                4.0    1.0  6.03   \n",
       "\n",
       "       densidad  Casa  Departamento   PH  ...  VILLA LUGANO  CONSTITUCION  \\\n",
       "0  21699.484109   0.0           1.0  0.0  ...           0.0           0.0   \n",
       "1  11797.712026   0.0           1.0  0.0  ...           0.0           0.0   \n",
       "2  63288.443473   0.0           1.0  0.0  ...           0.0           0.0   \n",
       "3  13914.638078   0.0           0.0  1.0  ...           0.0           0.0   \n",
       "4  20216.713377   0.0           1.0  0.0  ...           0.0           0.0   \n",
       "\n",
       "   FLORES  BOCA  NUNEZ  BELGRANO  RECOLETA  PALERMO     price_m2     price  \n",
       "0     0.0   0.0    0.0       0.0       0.0      0.0  1732.283465  110000.0  \n",
       "1     0.0   0.0    0.0       0.0       0.0      0.0  1997.500000   79900.0  \n",
       "2     0.0   0.0    0.0       0.0       0.0      0.0  2947.368421  112000.0  \n",
       "3     0.0   0.0    0.0       0.0       0.0      0.0  1976.608187  169000.0  \n",
       "4     0.0   0.0    0.0       0.0       0.0      0.0  3025.641026  118000.0  \n",
       "\n",
       "[5 rows x 21 columns]"
      ]
     },
     "execution_count": 4,
     "metadata": {},
     "output_type": "execute_result"
    }
   ],
   "source": [
    "# Me quedo con las columnas que me interesan\n",
    "features = ['lat', 'lon','surface_covered','surface_uncovered','rooms','NBI','densidad','Casa', 'Departamento','PH',]\n",
    "barrios = ['BALVANERA','VILLA LUGANO','CONSTITUCION','FLORES','BOCA','NUNEZ','BELGRANO','RECOLETA','PALERMO']\n",
    "targets = ['price_m2','price',]\n",
    "columnas = features + barrios + targets\n",
    "df = df[columnas]\n",
    "df.head()"
   ]
  },
  {
   "cell_type": "code",
   "execution_count": 5,
   "metadata": {},
   "outputs": [
    {
     "data": {
      "text/plain": [
       "lat                  0\n",
       "lon                  0\n",
       "surface_covered      0\n",
       "surface_uncovered    0\n",
       "rooms                0\n",
       "NBI                  0\n",
       "densidad             0\n",
       "Casa                 0\n",
       "Departamento         0\n",
       "PH                   0\n",
       "BALVANERA            0\n",
       "VILLA LUGANO         0\n",
       "CONSTITUCION         0\n",
       "FLORES               0\n",
       "BOCA                 0\n",
       "NUNEZ                0\n",
       "BELGRANO             0\n",
       "RECOLETA             0\n",
       "PALERMO              0\n",
       "price_m2             0\n",
       "price                0\n",
       "dtype: int64"
      ]
     },
     "execution_count": 5,
     "metadata": {},
     "output_type": "execute_result"
    }
   ],
   "source": [
    "df.dropna(inplace=True)\n",
    "df.isna().sum()"
   ]
  },
  {
   "cell_type": "markdown",
   "metadata": {},
   "source": [
    "### Train/Test Split"
   ]
  },
  {
   "cell_type": "code",
   "execution_count": 6,
   "metadata": {},
   "outputs": [],
   "source": [
    "from sklearn.model_selection import train_test_split\n",
    "\n",
    "# Shuffleamos\n",
    "np.random.seed(seed=49)\n",
    "df_perm = np.random.permutation(df)\n",
    "df = pd.DataFrame(df_perm,columns=df.columns)\n",
    "\n",
    "# Vamos a dividir en tres conjuntos: train, validation, test\n",
    "df_train, df_val_test = train_test_split(df,test_size=0.3,random_state=50)\n",
    "df_validation, df_test = train_test_split(df_val_test,test_size=0.5,random_state=51)"
   ]
  },
  {
   "cell_type": "code",
   "execution_count": 7,
   "metadata": {},
   "outputs": [],
   "source": [
    "# Tomaremos como target la variable precio, y como input todo lo demás\n",
    "X_train = df_train.drop(columns=['price','price_m2'])\n",
    "X_validation = df_validation.drop(columns=['price','price_m2'])\n",
    "X_test = df_test.drop(columns=['price','price_m2'])\n",
    "y_train = df_train['price']\n",
    "y_validation = df_validation['price'] \n",
    "y_test = df_test['price']"
   ]
  },
  {
   "cell_type": "markdown",
   "metadata": {},
   "source": [
    "### Decision Tree"
   ]
  },
  {
   "cell_type": "markdown",
   "metadata": {},
   "source": [
    "Empezamos por utilizar la versión más elemental de esta familia de modelos: el árbol de decisión. Es probable que no constituya nuestro modelo demasiado bueno, pero servirá de benchmark para ir mejorando nuestras predicciones. Comenzaremos con los parámetros default de sci-kit learn."
   ]
  },
  {
   "cell_type": "code",
   "execution_count": 8,
   "metadata": {},
   "outputs": [
    {
     "name": "stdout",
     "output_type": "stream",
     "text": [
      "RMSE: 38414.350877578\n",
      "R2: 0.7860361339131262\n"
     ]
    }
   ],
   "source": [
    "from sklearn.tree import DecisionTreeRegressor\n",
    "from sklearn.metrics import mean_squared_error,r2_score\n",
    "\n",
    "tree1 = DecisionTreeRegressor(random_state=52)\n",
    "tree1.fit(X_train,y_train)\n",
    "y_pred1 = tree1.predict(X_test)\n",
    "rmse1 = np.sqrt(mean_squared_error(y_test,y_pred1))\n",
    "r2_tree1 = r2_score(y_test,y_pred1)\n",
    "print(f\"RMSE: {rmse1}\")\n",
    "print(f\"R2: {r2_tree1}\")"
   ]
  },
  {
   "cell_type": "markdown",
   "metadata": {},
   "source": [
    "### Decision Tree: optimización de hiperparámetros"
   ]
  },
  {
   "cell_type": "code",
   "execution_count": 9,
   "metadata": {},
   "outputs": [
    {
     "data": {
      "text/plain": [
       "GridSearchCV(cv=5, error_score='raise-deprecating',\n",
       "             estimator=DecisionTreeRegressor(criterion='mse', max_depth=None,\n",
       "                                             max_features=None,\n",
       "                                             max_leaf_nodes=None,\n",
       "                                             min_impurity_decrease=0.0,\n",
       "                                             min_impurity_split=None,\n",
       "                                             min_samples_leaf=1,\n",
       "                                             min_samples_split=2,\n",
       "                                             min_weight_fraction_leaf=0.0,\n",
       "                                             presort=False, random_state=52,\n",
       "                                             splitter='best'),\n",
       "             iid='warn', n_jobs=None,\n",
       "             param_grid={'max_depth': [10, 50, 100], 'max_features': [4, 8, 19],\n",
       "                         'splitter': ['best', 'random']},\n",
       "             pre_dispatch='2*n_jobs', refit=True, return_train_score=False,\n",
       "             scoring='neg_mean_squared_error', verbose=0)"
      ]
     },
     "execution_count": 9,
     "metadata": {},
     "output_type": "execute_result"
    }
   ],
   "source": [
    "from sklearn.model_selection import cross_val_score, GridSearchCV, cross_validate\n",
    "\n",
    "# Parámetros a considerar: criterion, splitter, max_depth (regularizador)\n",
    "param_grid1 = {'splitter':['best','random'],'max_depth':[10,50,100],\\\n",
    "              'max_features':[4,8,len(X_train.columns)],}\n",
    "\n",
    "grid_tree1 = GridSearchCV(tree1,param_grid1,scoring='neg_mean_squared_error',cv=5)\n",
    "grid_tree1.fit(X_train,y_train)"
   ]
  },
  {
   "cell_type": "code",
   "execution_count": 10,
   "metadata": {},
   "outputs": [
    {
     "data": {
      "text/html": [
       "<div>\n",
       "<style scoped>\n",
       "    .dataframe tbody tr th:only-of-type {\n",
       "        vertical-align: middle;\n",
       "    }\n",
       "\n",
       "    .dataframe tbody tr th {\n",
       "        vertical-align: top;\n",
       "    }\n",
       "\n",
       "    .dataframe thead th {\n",
       "        text-align: right;\n",
       "    }\n",
       "</style>\n",
       "<table border=\"1\" class=\"dataframe\">\n",
       "  <thead>\n",
       "    <tr style=\"text-align: right;\">\n",
       "      <th></th>\n",
       "      <th>mean_test_score</th>\n",
       "      <th>rank_test_score</th>\n",
       "      <th>param_splitter</th>\n",
       "      <th>param_max_depth</th>\n",
       "      <th>param_max_features</th>\n",
       "      <th>rmse</th>\n",
       "    </tr>\n",
       "  </thead>\n",
       "  <tbody>\n",
       "    <tr>\n",
       "      <td>4</td>\n",
       "      <td>-1.452838e+09</td>\n",
       "      <td>1</td>\n",
       "      <td>best</td>\n",
       "      <td>10</td>\n",
       "      <td>19</td>\n",
       "      <td>38116.106027</td>\n",
       "    </tr>\n",
       "    <tr>\n",
       "      <td>2</td>\n",
       "      <td>-1.589863e+09</td>\n",
       "      <td>2</td>\n",
       "      <td>best</td>\n",
       "      <td>10</td>\n",
       "      <td>8</td>\n",
       "      <td>39873.089683</td>\n",
       "    </tr>\n",
       "    <tr>\n",
       "      <td>8</td>\n",
       "      <td>-1.720033e+09</td>\n",
       "      <td>3</td>\n",
       "      <td>best</td>\n",
       "      <td>50</td>\n",
       "      <td>8</td>\n",
       "      <td>41473.279350</td>\n",
       "    </tr>\n",
       "    <tr>\n",
       "      <td>14</td>\n",
       "      <td>-1.720033e+09</td>\n",
       "      <td>3</td>\n",
       "      <td>best</td>\n",
       "      <td>100</td>\n",
       "      <td>8</td>\n",
       "      <td>41473.279350</td>\n",
       "    </tr>\n",
       "    <tr>\n",
       "      <td>10</td>\n",
       "      <td>-1.733515e+09</td>\n",
       "      <td>5</td>\n",
       "      <td>best</td>\n",
       "      <td>50</td>\n",
       "      <td>19</td>\n",
       "      <td>41635.503346</td>\n",
       "    </tr>\n",
       "    <tr>\n",
       "      <td>16</td>\n",
       "      <td>-1.733515e+09</td>\n",
       "      <td>5</td>\n",
       "      <td>best</td>\n",
       "      <td>100</td>\n",
       "      <td>19</td>\n",
       "      <td>41635.503346</td>\n",
       "    </tr>\n",
       "    <tr>\n",
       "      <td>5</td>\n",
       "      <td>-1.744038e+09</td>\n",
       "      <td>7</td>\n",
       "      <td>random</td>\n",
       "      <td>10</td>\n",
       "      <td>19</td>\n",
       "      <td>41761.681289</td>\n",
       "    </tr>\n",
       "  </tbody>\n",
       "</table>\n",
       "</div>"
      ],
      "text/plain": [
       "    mean_test_score  rank_test_score param_splitter param_max_depth  \\\n",
       "4     -1.452838e+09                1           best              10   \n",
       "2     -1.589863e+09                2           best              10   \n",
       "8     -1.720033e+09                3           best              50   \n",
       "14    -1.720033e+09                3           best             100   \n",
       "10    -1.733515e+09                5           best              50   \n",
       "16    -1.733515e+09                5           best             100   \n",
       "5     -1.744038e+09                7         random              10   \n",
       "\n",
       "   param_max_features          rmse  \n",
       "4                  19  38116.106027  \n",
       "2                   8  39873.089683  \n",
       "8                   8  41473.279350  \n",
       "14                  8  41473.279350  \n",
       "10                 19  41635.503346  \n",
       "16                 19  41635.503346  \n",
       "5                  19  41761.681289  "
      ]
     },
     "execution_count": 10,
     "metadata": {},
     "output_type": "execute_result"
    }
   ],
   "source": [
    "# Creamos un dataframe con los resultados\n",
    "df_scores1 = pd.DataFrame(grid_tree1.cv_results_)\n",
    "# Lo tuneamos un poquito\n",
    "df_scores1 = df_scores1[['mean_test_score','rank_test_score','param_splitter','param_max_depth','param_max_features']]\n",
    "df_scores1['rmse'] = np.sqrt(-df_scores1['mean_test_score'])\n",
    "df_scores1 = df_scores1.sort_values('rank_test_score').head(7)\n",
    "# A ver...\n",
    "df_scores1"
   ]
  },
  {
   "cell_type": "markdown",
   "metadata": {},
   "source": [
    "Vamos entonces a hilar más fino en el tuning de los hiperparámetros. El \"splitter\" lo dejaremos en best, pero veamos qué sucede con max_features (alrededor del 10) y max_depth."
   ]
  },
  {
   "cell_type": "code",
   "execution_count": 11,
   "metadata": {},
   "outputs": [
    {
     "data": {
      "text/plain": [
       "GridSearchCV(cv=5, error_score='raise-deprecating',\n",
       "             estimator=DecisionTreeRegressor(criterion='mse', max_depth=None,\n",
       "                                             max_features=None,\n",
       "                                             max_leaf_nodes=None,\n",
       "                                             min_impurity_decrease=0.0,\n",
       "                                             min_impurity_split=None,\n",
       "                                             min_samples_leaf=1,\n",
       "                                             min_samples_split=2,\n",
       "                                             min_weight_fraction_leaf=0.0,\n",
       "                                             presort=False, random_state=52,\n",
       "                                             splitter='best'),\n",
       "             iid='warn', n_jobs=None,\n",
       "             param_grid={'max_depth': [6, 8, 9, 10, 11, 12, 15, 20],\n",
       "                         'max_features': [8, 13, 19]},\n",
       "             pre_dispatch='2*n_jobs', refit=True, return_train_score=False,\n",
       "             scoring='neg_mean_squared_error', verbose=0)"
      ]
     },
     "execution_count": 11,
     "metadata": {},
     "output_type": "execute_result"
    }
   ],
   "source": [
    "param_grid3 = {'max_depth':[6,8,9,10,11,12,15,20],'max_features':[8,13,19],}\n",
    "\n",
    "grid_tree3 = GridSearchCV(tree1,param_grid3,scoring='neg_mean_squared_error',cv=5)\n",
    "grid_tree3.fit(X_train,y_train)"
   ]
  },
  {
   "cell_type": "code",
   "execution_count": 12,
   "metadata": {},
   "outputs": [
    {
     "data": {
      "text/html": [
       "<div>\n",
       "<style scoped>\n",
       "    .dataframe tbody tr th:only-of-type {\n",
       "        vertical-align: middle;\n",
       "    }\n",
       "\n",
       "    .dataframe tbody tr th {\n",
       "        vertical-align: top;\n",
       "    }\n",
       "\n",
       "    .dataframe thead th {\n",
       "        text-align: right;\n",
       "    }\n",
       "</style>\n",
       "<table border=\"1\" class=\"dataframe\">\n",
       "  <thead>\n",
       "    <tr style=\"text-align: right;\">\n",
       "      <th></th>\n",
       "      <th>mean_test_score</th>\n",
       "      <th>rank_test_score</th>\n",
       "      <th>param_max_depth</th>\n",
       "      <th>param_max_features</th>\n",
       "      <th>rmse</th>\n",
       "    </tr>\n",
       "  </thead>\n",
       "  <tbody>\n",
       "    <tr>\n",
       "      <td>8</td>\n",
       "      <td>-1.448435e+09</td>\n",
       "      <td>1</td>\n",
       "      <td>9</td>\n",
       "      <td>19</td>\n",
       "      <td>38058.315624</td>\n",
       "    </tr>\n",
       "    <tr>\n",
       "      <td>11</td>\n",
       "      <td>-1.452838e+09</td>\n",
       "      <td>2</td>\n",
       "      <td>10</td>\n",
       "      <td>19</td>\n",
       "      <td>38116.106027</td>\n",
       "    </tr>\n",
       "    <tr>\n",
       "      <td>5</td>\n",
       "      <td>-1.463462e+09</td>\n",
       "      <td>3</td>\n",
       "      <td>8</td>\n",
       "      <td>19</td>\n",
       "      <td>38255.225286</td>\n",
       "    </tr>\n",
       "    <tr>\n",
       "      <td>4</td>\n",
       "      <td>-1.479444e+09</td>\n",
       "      <td>4</td>\n",
       "      <td>8</td>\n",
       "      <td>13</td>\n",
       "      <td>38463.547469</td>\n",
       "    </tr>\n",
       "    <tr>\n",
       "      <td>10</td>\n",
       "      <td>-1.487149e+09</td>\n",
       "      <td>5</td>\n",
       "      <td>10</td>\n",
       "      <td>13</td>\n",
       "      <td>38563.569730</td>\n",
       "    </tr>\n",
       "    <tr>\n",
       "      <td>7</td>\n",
       "      <td>-1.497074e+09</td>\n",
       "      <td>6</td>\n",
       "      <td>9</td>\n",
       "      <td>13</td>\n",
       "      <td>38692.037847</td>\n",
       "    </tr>\n",
       "    <tr>\n",
       "      <td>14</td>\n",
       "      <td>-1.498054e+09</td>\n",
       "      <td>7</td>\n",
       "      <td>11</td>\n",
       "      <td>19</td>\n",
       "      <td>38704.697249</td>\n",
       "    </tr>\n",
       "  </tbody>\n",
       "</table>\n",
       "</div>"
      ],
      "text/plain": [
       "    mean_test_score  rank_test_score param_max_depth param_max_features  \\\n",
       "8     -1.448435e+09                1               9                 19   \n",
       "11    -1.452838e+09                2              10                 19   \n",
       "5     -1.463462e+09                3               8                 19   \n",
       "4     -1.479444e+09                4               8                 13   \n",
       "10    -1.487149e+09                5              10                 13   \n",
       "7     -1.497074e+09                6               9                 13   \n",
       "14    -1.498054e+09                7              11                 19   \n",
       "\n",
       "            rmse  \n",
       "8   38058.315624  \n",
       "11  38116.106027  \n",
       "5   38255.225286  \n",
       "4   38463.547469  \n",
       "10  38563.569730  \n",
       "7   38692.037847  \n",
       "14  38704.697249  "
      ]
     },
     "execution_count": 12,
     "metadata": {},
     "output_type": "execute_result"
    }
   ],
   "source": [
    "df_scores3 = pd.DataFrame(grid_tree3.cv_results_)\n",
    "df_scores3 = df_scores3[['mean_test_score','rank_test_score','param_max_depth','param_max_features']]\n",
    "df_scores3['rmse'] = np.sqrt(-df_scores3['mean_test_score'])\n",
    "df_scores3 = df_scores3.sort_values('rank_test_score')\n",
    "df_scores3.head(7)"
   ]
  },
  {
   "cell_type": "markdown",
   "metadata": {},
   "source": [
    "Gráficamente:"
   ]
  },
  {
   "cell_type": "code",
   "execution_count": 13,
   "metadata": {},
   "outputs": [
    {
     "data": {
      "text/plain": [
       "<matplotlib.axes._subplots.AxesSubplot at 0x2474b4053c8>"
      ]
     },
     "execution_count": 13,
     "metadata": {},
     "output_type": "execute_result"
    },
    {
     "data": {
      "image/png": "[encoded data removed]",
      "text/plain": [
       "<Figure size 576x432 with 2 Axes>"
      ]
     },
     "metadata": {},
     "output_type": "display_data"
    }
   ],
   "source": [
    "sns.set()\n",
    "df_heat = df_scores3.groupby(['param_max_depth','param_max_features'])\n",
    "df_heat = df_heat['rmse'].sum().unstack()\n",
    "# Lo paso a miles\n",
    "df_heat = round((df_heat / 1000),4)\n",
    "f, ax = plt.subplots(figsize=(8, 6))\n",
    "sns.heatmap(df_heat, annot=True, fmt='.2f', linewidths=.5, cmap='viridis_r', ax=ax)"
   ]
  },
  {
   "cell_type": "markdown",
   "metadata": {},
   "source": [
    "Tenemos un ganador: max_features = 19 (el total de features) y max_depth = 9. Veamos su performance."
   ]
  },
  {
   "cell_type": "code",
   "execution_count": 14,
   "metadata": {},
   "outputs": [
    {
     "name": "stdout",
     "output_type": "stream",
     "text": [
      "RMSE: 36867.30425047201\n",
      "Mejora RMSE benchmark: 4.03%\n",
      "R2: 0.8029228810703972\n"
     ]
    }
   ],
   "source": [
    "y_pred2 = grid_tree3.predict(X_test)\n",
    "rmse2 = np.sqrt(mean_squared_error(y_test,y_pred2))\n",
    "r2_tree2 = r2_score(y_test,y_pred2)\n",
    "print(f\"RMSE: {rmse2}\")\n",
    "print('Mejora RMSE benchmark: %.2f'% (((rmse1 - rmse2)/rmse1)*100)+'%')\n",
    "print(f\"R2: {r2_tree2}\")"
   ]
  },
  {
   "cell_type": "markdown",
   "metadata": {},
   "source": [
    "### Random Forest Regressor"
   ]
  },
  {
   "cell_type": "markdown",
   "metadata": {},
   "source": [
    "A continuación entrenamos un modelo más poderoso, Random Forest. El procedimiento será similar al apartado anterior."
   ]
  },
  {
   "cell_type": "code",
   "execution_count": 15,
   "metadata": {},
   "outputs": [
    {
     "name": "stderr",
     "output_type": "stream",
     "text": [
      "C:\\Users\\Usuario\\Python\\Anaconda\\lib\\site-packages\\sklearn\\ensemble\\forest.py:245: FutureWarning: The default value of n_estimators will change from 10 in version 0.20 to 100 in 0.22.\n",
      "  \"10 in version 0.20 to 100 in 0.22.\", FutureWarning)\n"
     ]
    },
    {
     "name": "stdout",
     "output_type": "stream",
     "text": [
      "RMSE train: 13184.930649023807\n",
      "RMSE test: 30242.425492227205\n",
      "Mejora benchmark: 21.27 %\n"
     ]
    }
   ],
   "source": [
    "from sklearn.ensemble import RandomForestRegressor\n",
    "\n",
    "rfr = RandomForestRegressor(random_state=52,n_jobs=-1)\n",
    "rfr.fit(X_train,y_train)\n",
    "y_train_pred4 = rfr.predict(X_train)\n",
    "y_test_pred4 = rfr.predict(X_test)\n",
    "rmse_train4 = np.sqrt(mean_squared_error(y_train,y_train_pred4))\n",
    "rmse_test4 = np.sqrt(mean_squared_error(y_test,y_test_pred4))\n",
    "print(f'RMSE train: {rmse_train4}')\n",
    "print(f'RMSE test: {rmse_test4}')\n",
    "print('Mejora benchmark: %.2f'% (((rmse1 - rmse_test4)/rmse1)*100)+' %')"
   ]
  },
  {
   "cell_type": "markdown",
   "metadata": {},
   "source": [
    "Pese a la sustancial mejora respecto de nuestro benchmark, tenemos un enorme grado de overfitting. A continuación haremos Grid Search con cross validation para seguir mejorando la performance."
   ]
  },
  {
   "cell_type": "code",
   "execution_count": 16,
   "metadata": {
    "scrolled": true
   },
   "outputs": [],
   "source": [
    "forest_grid = {'n_estimators':[30,50,70,100,120,150],'max_depth':[None,5,10,20,30,50]}\n",
    "# cv=2 por el tiempo de espera, luego se puede ajustar\n",
    "rnr_grid = GridSearchCV(rfr,forest_grid,cv=2,scoring='neg_mean_squared_error',return_train_score=True).fit(X_train,y_train)"
   ]
  },
  {
   "cell_type": "code",
   "execution_count": 17,
   "metadata": {
    "scrolled": true
   },
   "outputs": [
    {
     "data": {
      "text/html": [
       "<div>\n",
       "<style scoped>\n",
       "    .dataframe tbody tr th:only-of-type {\n",
       "        vertical-align: middle;\n",
       "    }\n",
       "\n",
       "    .dataframe tbody tr th {\n",
       "        vertical-align: top;\n",
       "    }\n",
       "\n",
       "    .dataframe thead th {\n",
       "        text-align: right;\n",
       "    }\n",
       "</style>\n",
       "<table border=\"1\" class=\"dataframe\">\n",
       "  <thead>\n",
       "    <tr style=\"text-align: right;\">\n",
       "      <th></th>\n",
       "      <th>param_max_depth</th>\n",
       "      <th>param_n_estimators</th>\n",
       "      <th>mean_test_score</th>\n",
       "      <th>rank_test_score</th>\n",
       "      <th>mean_fit_time</th>\n",
       "      <th>rmse_test</th>\n",
       "    </tr>\n",
       "  </thead>\n",
       "  <tbody>\n",
       "    <tr>\n",
       "      <td>23</td>\n",
       "      <td>20</td>\n",
       "      <td>150</td>\n",
       "      <td>-1.034626e+09</td>\n",
       "      <td>1</td>\n",
       "      <td>2.347569</td>\n",
       "      <td>32165.602834</td>\n",
       "    </tr>\n",
       "    <tr>\n",
       "      <td>29</td>\n",
       "      <td>30</td>\n",
       "      <td>150</td>\n",
       "      <td>-1.035890e+09</td>\n",
       "      <td>2</td>\n",
       "      <td>2.299994</td>\n",
       "      <td>32185.251825</td>\n",
       "    </tr>\n",
       "    <tr>\n",
       "      <td>22</td>\n",
       "      <td>20</td>\n",
       "      <td>120</td>\n",
       "      <td>-1.036051e+09</td>\n",
       "      <td>3</td>\n",
       "      <td>1.833591</td>\n",
       "      <td>32187.750936</td>\n",
       "    </tr>\n",
       "    <tr>\n",
       "      <td>5</td>\n",
       "      <td>None</td>\n",
       "      <td>150</td>\n",
       "      <td>-1.036071e+09</td>\n",
       "      <td>4</td>\n",
       "      <td>3.069993</td>\n",
       "      <td>32188.052548</td>\n",
       "    </tr>\n",
       "    <tr>\n",
       "      <td>35</td>\n",
       "      <td>50</td>\n",
       "      <td>150</td>\n",
       "      <td>-1.036071e+09</td>\n",
       "      <td>4</td>\n",
       "      <td>2.731476</td>\n",
       "      <td>32188.052548</td>\n",
       "    </tr>\n",
       "    <tr>\n",
       "      <td>28</td>\n",
       "      <td>30</td>\n",
       "      <td>120</td>\n",
       "      <td>-1.037086e+09</td>\n",
       "      <td>6</td>\n",
       "      <td>1.912346</td>\n",
       "      <td>32203.812553</td>\n",
       "    </tr>\n",
       "    <tr>\n",
       "      <td>34</td>\n",
       "      <td>50</td>\n",
       "      <td>120</td>\n",
       "      <td>-1.037323e+09</td>\n",
       "      <td>7</td>\n",
       "      <td>1.653170</td>\n",
       "      <td>32207.501949</td>\n",
       "    </tr>\n",
       "  </tbody>\n",
       "</table>\n",
       "</div>"
      ],
      "text/plain": [
       "   param_max_depth param_n_estimators  mean_test_score  rank_test_score  \\\n",
       "23              20                150    -1.034626e+09                1   \n",
       "29              30                150    -1.035890e+09                2   \n",
       "22              20                120    -1.036051e+09                3   \n",
       "5             None                150    -1.036071e+09                4   \n",
       "35              50                150    -1.036071e+09                4   \n",
       "28              30                120    -1.037086e+09                6   \n",
       "34              50                120    -1.037323e+09                7   \n",
       "\n",
       "    mean_fit_time     rmse_test  \n",
       "23       2.347569  32165.602834  \n",
       "29       2.299994  32185.251825  \n",
       "22       1.833591  32187.750936  \n",
       "5        3.069993  32188.052548  \n",
       "35       2.731476  32188.052548  \n",
       "28       1.912346  32203.812553  \n",
       "34       1.653170  32207.501949  "
      ]
     },
     "execution_count": 17,
     "metadata": {},
     "output_type": "execute_result"
    }
   ],
   "source": [
    "rnrgrid_df1 = pd.DataFrame(rnr_grid.cv_results_)\n",
    "rnrgrid_df1 = rnrgrid_df1[['param_max_depth','param_n_estimators',\\\n",
    "                    'mean_test_score','rank_test_score','mean_fit_time']]\n",
    "rnrgrid_df1 = rnrgrid_df1\n",
    "rnrgrid_df1['rmse_test'] = np.sqrt(-rnrgrid_df1['mean_test_score'])\n",
    "# Veamos una muestra\n",
    "rnrgrid_df1.sort_values(by='rank_test_score').head(7)"
   ]
  },
  {
   "cell_type": "markdown",
   "metadata": {},
   "source": [
    "Gráficamente:"
   ]
  },
  {
   "cell_type": "code",
   "execution_count": 18,
   "metadata": {},
   "outputs": [],
   "source": [
    "# Convierto los None a string para que pandas los tabule\n",
    "rnrgrid_df1.fillna('None',inplace=True)\n",
    "# Creo una tabla tipo pivot con mis parámetros\n",
    "table = rnrgrid_df1.groupby(['param_max_depth','param_n_estimators'])['rmse_test'].sum().unstack()\n",
    "table = round(table/1000,2)"
   ]
  },
  {
   "cell_type": "code",
   "execution_count": 19,
   "metadata": {},
   "outputs": [
    {
     "data": {
      "text/plain": [
       "<matplotlib.axes._subplots.AxesSubplot at 0x24756129dc8>"
      ]
     },
     "execution_count": 19,
     "metadata": {},
     "output_type": "execute_result"
    },
    {
     "data": {
      "image/png": "[encoded data removed]",
      "text/plain": [
       "<Figure size 864x576 with 2 Axes>"
      ]
     },
     "metadata": {},
     "output_type": "display_data"
    }
   ],
   "source": [
    "# Grid Search Heatmap\n",
    "sns.set()\n",
    "f, ax = plt.subplots(figsize=(12, 8))\n",
    "sns.heatmap(table, annot=True, fmt='.2f',linewidths=.5, cmap='viridis_r', ax=ax, vmin=31, vmax=38)"
   ]
  },
  {
   "cell_type": "markdown",
   "metadata": {},
   "source": [
    "El RMSE disminuye a medida que nos movemos hacia abajo (mayor max_depth) y hacia la derecha (mayor n_estimators). A partir de una profunidad de 20 o 30 la ganancia es cada vez más reducida. A continuación haremos un Grid Search con más parámetros."
   ]
  },
  {
   "cell_type": "code",
   "execution_count": 20,
   "metadata": {},
   "outputs": [],
   "source": [
    "forest_grid2 = {'max_depth':[30,50],'max_features':[5,8,11],'n_estimators':[150],'min_samples_split':[2,5,10,20,50]}\n",
    "rnr_grid2 = GridSearchCV(rfr,forest_grid2,cv=2,scoring='neg_mean_squared_error',return_train_score=True).fit(X_train,y_train)"
   ]
  },
  {
   "cell_type": "code",
   "execution_count": 21,
   "metadata": {},
   "outputs": [
    {
     "data": {
      "text/html": [
       "<div>\n",
       "<style scoped>\n",
       "    .dataframe tbody tr th:only-of-type {\n",
       "        vertical-align: middle;\n",
       "    }\n",
       "\n",
       "    .dataframe tbody tr th {\n",
       "        vertical-align: top;\n",
       "    }\n",
       "\n",
       "    .dataframe thead th {\n",
       "        text-align: right;\n",
       "    }\n",
       "</style>\n",
       "<table border=\"1\" class=\"dataframe\">\n",
       "  <thead>\n",
       "    <tr style=\"text-align: right;\">\n",
       "      <th></th>\n",
       "      <th>param_max_depth</th>\n",
       "      <th>param_n_estimators</th>\n",
       "      <th>param_min_samples_split</th>\n",
       "      <th>param_max_features</th>\n",
       "      <th>rank_test_score</th>\n",
       "      <th>mean_fit_time</th>\n",
       "      <th>rmse_test</th>\n",
       "    </tr>\n",
       "  </thead>\n",
       "  <tbody>\n",
       "    <tr>\n",
       "      <td>20</td>\n",
       "      <td>50</td>\n",
       "      <td>150</td>\n",
       "      <td>2</td>\n",
       "      <td>8</td>\n",
       "      <td>1</td>\n",
       "      <td>1.790809</td>\n",
       "      <td>31711.561887</td>\n",
       "    </tr>\n",
       "    <tr>\n",
       "      <td>5</td>\n",
       "      <td>30</td>\n",
       "      <td>150</td>\n",
       "      <td>2</td>\n",
       "      <td>8</td>\n",
       "      <td>2</td>\n",
       "      <td>1.409920</td>\n",
       "      <td>31729.450904</td>\n",
       "    </tr>\n",
       "    <tr>\n",
       "      <td>15</td>\n",
       "      <td>50</td>\n",
       "      <td>150</td>\n",
       "      <td>2</td>\n",
       "      <td>5</td>\n",
       "      <td>3</td>\n",
       "      <td>1.217680</td>\n",
       "      <td>31800.095539</td>\n",
       "    </tr>\n",
       "    <tr>\n",
       "      <td>0</td>\n",
       "      <td>30</td>\n",
       "      <td>150</td>\n",
       "      <td>2</td>\n",
       "      <td>5</td>\n",
       "      <td>4</td>\n",
       "      <td>1.099881</td>\n",
       "      <td>31807.217153</td>\n",
       "    </tr>\n",
       "    <tr>\n",
       "      <td>10</td>\n",
       "      <td>30</td>\n",
       "      <td>150</td>\n",
       "      <td>2</td>\n",
       "      <td>11</td>\n",
       "      <td>5</td>\n",
       "      <td>1.448090</td>\n",
       "      <td>31811.545744</td>\n",
       "    </tr>\n",
       "    <tr>\n",
       "      <td>25</td>\n",
       "      <td>50</td>\n",
       "      <td>150</td>\n",
       "      <td>2</td>\n",
       "      <td>11</td>\n",
       "      <td>6</td>\n",
       "      <td>1.515313</td>\n",
       "      <td>31813.733039</td>\n",
       "    </tr>\n",
       "    <tr>\n",
       "      <td>11</td>\n",
       "      <td>30</td>\n",
       "      <td>150</td>\n",
       "      <td>5</td>\n",
       "      <td>11</td>\n",
       "      <td>7</td>\n",
       "      <td>1.389547</td>\n",
       "      <td>31997.005405</td>\n",
       "    </tr>\n",
       "  </tbody>\n",
       "</table>\n",
       "</div>"
      ],
      "text/plain": [
       "   param_max_depth param_n_estimators param_min_samples_split  \\\n",
       "20              50                150                       2   \n",
       "5               30                150                       2   \n",
       "15              50                150                       2   \n",
       "0               30                150                       2   \n",
       "10              30                150                       2   \n",
       "25              50                150                       2   \n",
       "11              30                150                       5   \n",
       "\n",
       "   param_max_features  rank_test_score  mean_fit_time     rmse_test  \n",
       "20                  8                1       1.790809  31711.561887  \n",
       "5                   8                2       1.409920  31729.450904  \n",
       "15                  5                3       1.217680  31800.095539  \n",
       "0                   5                4       1.099881  31807.217153  \n",
       "10                 11                5       1.448090  31811.545744  \n",
       "25                 11                6       1.515313  31813.733039  \n",
       "11                 11                7       1.389547  31997.005405  "
      ]
     },
     "execution_count": 21,
     "metadata": {},
     "output_type": "execute_result"
    }
   ],
   "source": [
    "rnrgrid_df2 = pd.DataFrame(rnr_grid2.cv_results_)\n",
    "rnrgrid_df2 = rnrgrid_df2[['param_max_depth','param_n_estimators',\\\n",
    "                'param_min_samples_split', 'param_max_features',\\\n",
    "                    'mean_test_score','rank_test_score','mean_fit_time']]\n",
    "rnrgrid_df2['rmse_test'] = np.sqrt(-rnrgrid_df2['mean_test_score'])\n",
    "rnrgrid_df2 = rnrgrid_df2.drop(columns=['mean_test_score'])\n",
    "# Veamos una muestra\n",
    "rnrgrid_df2.sort_values(by='rank_test_score').head(7)"
   ]
  },
  {
   "cell_type": "code",
   "execution_count": 22,
   "metadata": {},
   "outputs": [],
   "source": [
    "# Hilando un poco más fino\n",
    "forest_grid3 = {'max_depth':[30,40,50],'max_features':[7,8,9],'n_estimators':[150,200,300],'min_samples_split':[2]}\n",
    "rnr_grid3 = GridSearchCV(rfr,forest_grid3,cv=2,scoring='neg_mean_squared_error',return_train_score=True).fit(X_train,y_train)"
   ]
  },
  {
   "cell_type": "code",
   "execution_count": 23,
   "metadata": {},
   "outputs": [
    {
     "data": {
      "text/html": [
       "<div>\n",
       "<style scoped>\n",
       "    .dataframe tbody tr th:only-of-type {\n",
       "        vertical-align: middle;\n",
       "    }\n",
       "\n",
       "    .dataframe tbody tr th {\n",
       "        vertical-align: top;\n",
       "    }\n",
       "\n",
       "    .dataframe thead th {\n",
       "        text-align: right;\n",
       "    }\n",
       "</style>\n",
       "<table border=\"1\" class=\"dataframe\">\n",
       "  <thead>\n",
       "    <tr style=\"text-align: right;\">\n",
       "      <th></th>\n",
       "      <th>param_max_depth</th>\n",
       "      <th>param_n_estimators</th>\n",
       "      <th>param_min_samples_split</th>\n",
       "      <th>param_max_features</th>\n",
       "      <th>rank_test_score</th>\n",
       "      <th>mean_fit_time</th>\n",
       "      <th>rmse_test</th>\n",
       "    </tr>\n",
       "  </thead>\n",
       "  <tbody>\n",
       "    <tr>\n",
       "      <td>2</td>\n",
       "      <td>30</td>\n",
       "      <td>300</td>\n",
       "      <td>2</td>\n",
       "      <td>7</td>\n",
       "      <td>1</td>\n",
       "      <td>2.929157</td>\n",
       "      <td>31575.941423</td>\n",
       "    </tr>\n",
       "    <tr>\n",
       "      <td>20</td>\n",
       "      <td>50</td>\n",
       "      <td>300</td>\n",
       "      <td>2</td>\n",
       "      <td>7</td>\n",
       "      <td>2</td>\n",
       "      <td>2.374600</td>\n",
       "      <td>31578.026973</td>\n",
       "    </tr>\n",
       "    <tr>\n",
       "      <td>11</td>\n",
       "      <td>40</td>\n",
       "      <td>300</td>\n",
       "      <td>2</td>\n",
       "      <td>7</td>\n",
       "      <td>2</td>\n",
       "      <td>3.052882</td>\n",
       "      <td>31578.026973</td>\n",
       "    </tr>\n",
       "    <tr>\n",
       "      <td>23</td>\n",
       "      <td>50</td>\n",
       "      <td>300</td>\n",
       "      <td>2</td>\n",
       "      <td>8</td>\n",
       "      <td>4</td>\n",
       "      <td>4.015696</td>\n",
       "      <td>31600.975066</td>\n",
       "    </tr>\n",
       "    <tr>\n",
       "      <td>14</td>\n",
       "      <td>40</td>\n",
       "      <td>300</td>\n",
       "      <td>2</td>\n",
       "      <td>8</td>\n",
       "      <td>4</td>\n",
       "      <td>2.693529</td>\n",
       "      <td>31600.975066</td>\n",
       "    </tr>\n",
       "    <tr>\n",
       "      <td>1</td>\n",
       "      <td>30</td>\n",
       "      <td>200</td>\n",
       "      <td>2</td>\n",
       "      <td>7</td>\n",
       "      <td>6</td>\n",
       "      <td>1.397710</td>\n",
       "      <td>31601.239603</td>\n",
       "    </tr>\n",
       "    <tr>\n",
       "      <td>0</td>\n",
       "      <td>30</td>\n",
       "      <td>150</td>\n",
       "      <td>2</td>\n",
       "      <td>7</td>\n",
       "      <td>7</td>\n",
       "      <td>1.359040</td>\n",
       "      <td>31608.692038</td>\n",
       "    </tr>\n",
       "  </tbody>\n",
       "</table>\n",
       "</div>"
      ],
      "text/plain": [
       "   param_max_depth param_n_estimators param_min_samples_split  \\\n",
       "2               30                300                       2   \n",
       "20              50                300                       2   \n",
       "11              40                300                       2   \n",
       "23              50                300                       2   \n",
       "14              40                300                       2   \n",
       "1               30                200                       2   \n",
       "0               30                150                       2   \n",
       "\n",
       "   param_max_features  rank_test_score  mean_fit_time     rmse_test  \n",
       "2                   7                1       2.929157  31575.941423  \n",
       "20                  7                2       2.374600  31578.026973  \n",
       "11                  7                2       3.052882  31578.026973  \n",
       "23                  8                4       4.015696  31600.975066  \n",
       "14                  8                4       2.693529  31600.975066  \n",
       "1                   7                6       1.397710  31601.239603  \n",
       "0                   7                7       1.359040  31608.692038  "
      ]
     },
     "execution_count": 23,
     "metadata": {},
     "output_type": "execute_result"
    }
   ],
   "source": [
    "rnrgrid_df3 = pd.DataFrame(rnr_grid3.cv_results_)\n",
    "rnrgrid_df3 = rnrgrid_df3[['param_max_depth','param_n_estimators',\\\n",
    "                'param_min_samples_split', 'param_max_features',\\\n",
    "                    'mean_test_score','rank_test_score','mean_fit_time']]\n",
    "rnrgrid_df3['rmse_test'] = np.sqrt(-rnrgrid_df3['mean_test_score'])\n",
    "rnrgrid_df3 = rnrgrid_df3.drop(columns=['mean_test_score'])\n",
    "# Veamos una muestra\n",
    "rnrgrid_df3.sort_values(by='rank_test_score').head(7)"
   ]
  },
  {
   "cell_type": "markdown",
   "metadata": {},
   "source": [
    "Como vemos, las ganancias son cada vez más exiguas. Nos quedaremos entonces con los parámetros óptimos del último Grid Search."
   ]
  },
  {
   "cell_type": "code",
   "execution_count": 24,
   "metadata": {},
   "outputs": [
    {
     "data": {
      "text/plain": [
       "{'max_depth': 30,\n",
       " 'max_features': 7,\n",
       " 'min_samples_split': 2,\n",
       " 'n_estimators': 300}"
      ]
     },
     "execution_count": 24,
     "metadata": {},
     "output_type": "execute_result"
    }
   ],
   "source": [
    "rnr_grid3.best_params_"
   ]
  },
  {
   "cell_type": "markdown",
   "metadata": {},
   "source": [
    "Podría estimarse el modelo directamente desde el Grid Search fiteado, pero para calcular luego la feature importance necesito una instancia del Random Forest Regressor."
   ]
  },
  {
   "cell_type": "code",
   "execution_count": 25,
   "metadata": {},
   "outputs": [
    {
     "name": "stdout",
     "output_type": "stream",
     "text": [
      "RMSE test (Random Forest óptimo): 28102.230375132356\n",
      "Mejora benchmark: 26.84 %\n"
     ]
    }
   ],
   "source": [
    "rfr_opt = RandomForestRegressor(max_depth=30,max_features=7,\n",
    "                                 min_samples_split=2,n_estimators=300)\n",
    "rfr_opt.fit(X_train,y_train)\n",
    "y_pred_rf = rfr_opt.predict(X_test)\n",
    "rmse_rf = np.sqrt(mean_squared_error(y_test,y_pred_rf))\n",
    "print(f'RMSE test (Random Forest óptimo): {rmse_rf}')\n",
    "print('Mejora benchmark: %.2f'% (((rmse1 - rmse_rf)/rmse1)*100)+' %')"
   ]
  },
  {
   "cell_type": "markdown",
   "metadata": {},
   "source": [
    "Una gran ventaja del modelo Random Forest (y de los modelos de árboles de decisión en general) es que tienen un alto grado de interpretabilidad. En particular, poseen una métrica, <b>feature importance</b>, que nos permite entender cuáles son los features que más importancia tienen en la regresión. A continuación la estudiaremos."
   ]
  },
  {
   "cell_type": "code",
   "execution_count": 26,
   "metadata": {},
   "outputs": [
    {
     "data": {
      "text/plain": [
       "([0, 1, 2, 3, 4, 5, 6, 7, 8, 9, 10, 11, 12, 13, 14, 15, 16, 17, 18],\n",
       " <a list of 19 Text xticklabel objects>)"
      ]
     },
     "execution_count": 26,
     "metadata": {},
     "output_type": "execute_result"
    },
    {
     "data": {
      "image/png": "[encoded data removed]",
      "text/plain": [
       "<Figure size 432x432 with 1 Axes>"
      ]
     },
     "metadata": {},
     "output_type": "display_data"
    }
   ],
   "source": [
    "importance = rfr_opt.feature_importances_\n",
    "Xcolumns = X_train.columns\n",
    "plt.figure(figsize=(6,6))\n",
    "plt.bar(Xcolumns,importance)\n",
    "plt.xticks(rotation=90)"
   ]
  },
  {
   "cell_type": "markdown",
   "metadata": {},
   "source": [
    "De aquí surgen algunas observaciones interesantes: en primer lugar, y como es esperable, las variables más importantes son las de superficie; por lejos la superficie total es el factor que más explica el precio de una propiedad. En segundo lugar, se nota la asimetría de las coordenadas geográficas: las latitudes son más importantes que las longitudes. Esto no es otra cosa que el reflejo de una conocida característica del mercado inmobiliario porteño: las diferencias más grandes están entre el Norte y el Sur de la Ciudad (las latitudes se mueven \"verticalmente\" en un mapa, mientras que las longitudes lo hacen de manera \"horizontal\"). Otra cuestión que surge es el hecho de que, de los features que agregamos de otras bases de datos, el ingreso per cápita de la comuna es una variable más relevante que la densidad poblacional a la hora de explicar el precio de una propiedad. Por último, curiosamente, el feature menos relevante entre los que consideramos es el tipo de propiedad."
   ]
  },
  {
   "cell_type": "code",
   "execution_count": 27,
   "metadata": {},
   "outputs": [
    {
     "data": {
      "text/plain": [
       "array([1430.8408095 ,  507.6176781 , 4764.43535526,  568.50254746,\n",
       "       1562.6804192 ,  435.10905169,  358.86702699,   13.40484991,\n",
       "         54.90828819,   67.47106179,   20.0541376 ,   19.29401784,\n",
       "         10.30496102,   11.42951451,    4.84824457,    9.0191343 ,\n",
       "         22.93002947,   49.70361577,   88.57925684])"
      ]
     },
     "execution_count": 27,
     "metadata": {},
     "output_type": "execute_result"
    }
   ],
   "source": [
    "# Exporto feature importance para modelos kNN\n",
    "importance*10000"
   ]
  },
  {
   "cell_type": "markdown",
   "metadata": {},
   "source": [
    "### AdaBoost"
   ]
  },
  {
   "cell_type": "code",
   "execution_count": 28,
   "metadata": {},
   "outputs": [],
   "source": [
    "from sklearn.ensemble import AdaBoostRegressor"
   ]
  },
  {
   "cell_type": "code",
   "execution_count": 29,
   "metadata": {},
   "outputs": [
    {
     "name": "stdout",
     "output_type": "stream",
     "text": [
      "RMSE test (AdaBoost): 42718.81818053583\n",
      "Mejora benchmark: -11.21 %\n"
     ]
    }
   ],
   "source": [
    "ada = AdaBoostRegressor(n_estimators=100)\n",
    "ada.fit(X_train,y_train)\n",
    "y_pred_ada_test = ada.predict(X_test)\n",
    "rmse_ada = np.sqrt(mean_squared_error(y_test,y_pred_ada_test))\n",
    "print(f'RMSE test (AdaBoost): {rmse_ada}')\n",
    "print('Mejora benchmark: %.2f'% (((rmse1 - rmse_ada)/rmse1)*100)+' %')"
   ]
  },
  {
   "cell_type": "markdown",
   "metadata": {},
   "source": [
    "### XGBoost"
   ]
  },
  {
   "cell_type": "code",
   "execution_count": 30,
   "metadata": {},
   "outputs": [],
   "source": [
    "from xgboost import XGBRegressor"
   ]
  },
  {
   "cell_type": "code",
   "execution_count": 31,
   "metadata": {},
   "outputs": [
    {
     "name": "stdout",
     "output_type": "stream",
     "text": [
      "RMSE test (XGBoost): 30521.408569996533\n",
      "Mejora benchmark: 20.55 %\n"
     ]
    }
   ],
   "source": [
    "xgb = XGBRegressor()\n",
    "xgb.fit(X_train,y_train)\n",
    "y_pred_xgb_test = xgb.predict(X_test)\n",
    "rmse_xgb = np.sqrt(mean_squared_error(y_test,y_pred_xgb_test))\n",
    "print(f'RMSE test (XGBoost): {rmse_xgb}')\n",
    "print('Mejora benchmark: %.2f'% (((rmse1 - rmse_xgb)/rmse1)*100)+' %')"
   ]
  },
  {
   "cell_type": "code",
   "execution_count": 32,
   "metadata": {},
   "outputs": [],
   "source": [
    "# xgb_params = {\n",
    "#    'colsample_bytree':[0.4,0.6,0.8],\n",
    "#    'gamma':[0,0.03,0.1,0.3],\n",
    "#    'min_child_weight':[1.5,6,10],\n",
    "#    'learning_rate':[0.1,0.07],\n",
    "#    'max_depth':[3,5],\n",
    "#    'n_estimators':[100,300],\n",
    "#    'reg_alpha':[1e-5, 1e-2,  0.75],\n",
    "#    'reg_lambda':[1e-5, 1e-2, 0.45],\n",
    "#    'subsample':[0.6,0.95]  \n",
    "# }\n",
    "# grid_xgb = GridSearchCV(estimator = xgb, param_grid = xgb_params, n_jobs=-1,scoring='neg_mean_squared_error')\n",
    "# grid_xgb.fit(X_train,y_train)"
   ]
  },
  {
   "cell_type": "markdown",
   "metadata": {},
   "source": [
    "### Export Values"
   ]
  },
  {
   "cell_type": "code",
   "execution_count": 35,
   "metadata": {},
   "outputs": [
    {
     "name": "stderr",
     "output_type": "stream",
     "text": [
      "C:\\Users\\Usuario\\Python\\Anaconda\\lib\\site-packages\\ipykernel_launcher.py:4: SettingWithCopyWarning: \n",
      "A value is trying to be set on a copy of a slice from a DataFrame.\n",
      "Try using .loc[row_indexer,col_indexer] = value instead\n",
      "\n",
      "See the caveats in the documentation: http://pandas.pydata.org/pandas-docs/stable/user_guide/indexing.html#returning-a-view-versus-a-copy\n",
      "  after removing the cwd from sys.path.\n",
      "C:\\Users\\Usuario\\Python\\Anaconda\\lib\\site-packages\\ipykernel_launcher.py:5: SettingWithCopyWarning: \n",
      "A value is trying to be set on a copy of a slice from a DataFrame.\n",
      "Try using .loc[row_indexer,col_indexer] = value instead\n",
      "\n",
      "See the caveats in the documentation: http://pandas.pydata.org/pandas-docs/stable/user_guide/indexing.html#returning-a-view-versus-a-copy\n",
      "  \"\"\"\n",
      "C:\\Users\\Usuario\\Python\\Anaconda\\lib\\site-packages\\ipykernel_launcher.py:6: SettingWithCopyWarning: \n",
      "A value is trying to be set on a copy of a slice from a DataFrame.\n",
      "Try using .loc[row_indexer,col_indexer] = value instead\n",
      "\n",
      "See the caveats in the documentation: http://pandas.pydata.org/pandas-docs/stable/user_guide/indexing.html#returning-a-view-versus-a-copy\n",
      "  \n",
      "C:\\Users\\Usuario\\Python\\Anaconda\\lib\\site-packages\\ipykernel_launcher.py:7: SettingWithCopyWarning: \n",
      "A value is trying to be set on a copy of a slice from a DataFrame.\n",
      "Try using .loc[row_indexer,col_indexer] = value instead\n",
      "\n",
      "See the caveats in the documentation: http://pandas.pydata.org/pandas-docs/stable/user_guide/indexing.html#returning-a-view-versus-a-copy\n",
      "  import sys\n"
     ]
    }
   ],
   "source": [
    "y_test_pred_rfr = rfr_opt.predict(X_test)\n",
    "y_test_pred_xgb = xgb.predict(X_test)\n",
    "df_pred_test = df_test\n",
    "df_pred_test['pred_rfr'] = y_test_pred_rfr\n",
    "df_pred_test['pred_xgb'] = y_test_pred_xgb\n",
    "df_pred_test['err_rfr'] = df_pred_test['price'] - df_pred_test['pred_rfr']\n",
    "df_pred_test['err_xgb'] = df_pred_test['price'] - df_pred_test['pred_xgb']\n",
    "df_pred_test.to_csv('trees_test_pred.csv',sep=',',columns=df_pred_test.columns,index=False)"
   ]
  },
  {
   "cell_type": "code",
   "execution_count": 36,
   "metadata": {},
   "outputs": [
    {
     "name": "stderr",
     "output_type": "stream",
     "text": [
      "C:\\Users\\Usuario\\Python\\Anaconda\\lib\\site-packages\\ipykernel_launcher.py:4: SettingWithCopyWarning: \n",
      "A value is trying to be set on a copy of a slice from a DataFrame.\n",
      "Try using .loc[row_indexer,col_indexer] = value instead\n",
      "\n",
      "See the caveats in the documentation: http://pandas.pydata.org/pandas-docs/stable/user_guide/indexing.html#returning-a-view-versus-a-copy\n",
      "  after removing the cwd from sys.path.\n",
      "C:\\Users\\Usuario\\Python\\Anaconda\\lib\\site-packages\\ipykernel_launcher.py:5: SettingWithCopyWarning: \n",
      "A value is trying to be set on a copy of a slice from a DataFrame.\n",
      "Try using .loc[row_indexer,col_indexer] = value instead\n",
      "\n",
      "See the caveats in the documentation: http://pandas.pydata.org/pandas-docs/stable/user_guide/indexing.html#returning-a-view-versus-a-copy\n",
      "  \"\"\"\n",
      "C:\\Users\\Usuario\\Python\\Anaconda\\lib\\site-packages\\ipykernel_launcher.py:6: SettingWithCopyWarning: \n",
      "A value is trying to be set on a copy of a slice from a DataFrame.\n",
      "Try using .loc[row_indexer,col_indexer] = value instead\n",
      "\n",
      "See the caveats in the documentation: http://pandas.pydata.org/pandas-docs/stable/user_guide/indexing.html#returning-a-view-versus-a-copy\n",
      "  \n",
      "C:\\Users\\Usuario\\Python\\Anaconda\\lib\\site-packages\\ipykernel_launcher.py:7: SettingWithCopyWarning: \n",
      "A value is trying to be set on a copy of a slice from a DataFrame.\n",
      "Try using .loc[row_indexer,col_indexer] = value instead\n",
      "\n",
      "See the caveats in the documentation: http://pandas.pydata.org/pandas-docs/stable/user_guide/indexing.html#returning-a-view-versus-a-copy\n",
      "  import sys\n"
     ]
    }
   ],
   "source": [
    "y_validation_pred_rfr = rfr_opt.predict(X_validation)\n",
    "y_validation_pred_xgb = xgb.predict(X_validation)\n",
    "df_pred_valid = df_validation\n",
    "df_pred_valid['pred_rfr'] = y_validation_pred_rfr\n",
    "df_pred_valid['pred_xgb'] = y_validation_pred_xgb\n",
    "df_pred_valid['err_rfr'] = df_pred_valid['price'] - df_pred_valid['pred_rfr']\n",
    "df_pred_valid['err_xgb'] = df_pred_valid['price'] - df_pred_valid['pred_xgb']\n",
    "df_pred_valid.to_csv('trees_valid_pred.csv',sep=',',columns=df_pred_valid.columns,index=False)"
   ]
  }
 ],
 "metadata": {
  "kernelspec": {
   "display_name": "Python 3",
   "language": "python",
   "name": "python3"
  },
  "language_info": {
   "codemirror_mode": {
    "name": "ipython",
    "version": 3
   },
   "file_extension": ".py",
   "mimetype": "text/x-python",
   "name": "python",
   "nbconvert_exporter": "python",
   "pygments_lexer": "ipython3",
   "version": "3.7.4"
  }
 },
 "nbformat": 4,
 "nbformat_minor": 2
}
