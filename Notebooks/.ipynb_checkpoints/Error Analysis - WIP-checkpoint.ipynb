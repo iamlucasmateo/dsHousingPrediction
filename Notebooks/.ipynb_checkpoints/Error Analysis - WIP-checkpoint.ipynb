{
 "cells": [
  {
   "cell_type": "markdown",
   "metadata": {},
   "source": [
    "# Mercado Inmobiliario: análisis del error y predicción ad hoc"
   ]
  },
  {
   "cell_type": "code",
   "execution_count": 1,
   "metadata": {},
   "outputs": [],
   "source": [
    "import os\n",
    "# import warnings\n",
    "# warnings.filterwarnings('ignore')\n",
    "import numpy as np\n",
    "import pandas as pd\n",
    "import matplotlib.pylab as plt\n",
    "import seaborn as sns"
   ]
  },
  {
   "cell_type": "code",
   "execution_count": 2,
   "metadata": {},
   "outputs": [
    {
     "data": {
      "text/html": [
       "<div>\n",
       "<style scoped>\n",
       "    .dataframe tbody tr th:only-of-type {\n",
       "        vertical-align: middle;\n",
       "    }\n",
       "\n",
       "    .dataframe tbody tr th {\n",
       "        vertical-align: top;\n",
       "    }\n",
       "\n",
       "    .dataframe thead th {\n",
       "        text-align: right;\n",
       "    }\n",
       "</style>\n",
       "<table border=\"1\" class=\"dataframe\">\n",
       "  <thead>\n",
       "    <tr style=\"text-align: right;\">\n",
       "      <th></th>\n",
       "      <th>lat</th>\n",
       "      <th>lon</th>\n",
       "      <th>surface_covered</th>\n",
       "      <th>surface_uncovered</th>\n",
       "      <th>rooms</th>\n",
       "      <th>NBI</th>\n",
       "      <th>densidad</th>\n",
       "      <th>Casa</th>\n",
       "      <th>Departamento</th>\n",
       "      <th>PH</th>\n",
       "      <th>...</th>\n",
       "      <th>VILLA LUGANO</th>\n",
       "      <th>CONSTITUCION</th>\n",
       "      <th>FLORES</th>\n",
       "      <th>BOCA</th>\n",
       "      <th>NUNEZ</th>\n",
       "      <th>BELGRANO</th>\n",
       "      <th>RECOLETA</th>\n",
       "      <th>PALERMO</th>\n",
       "      <th>price_m2</th>\n",
       "      <th>price</th>\n",
       "    </tr>\n",
       "  </thead>\n",
       "  <tbody>\n",
       "    <tr>\n",
       "      <td>0</td>\n",
       "      <td>-34.601864</td>\n",
       "      <td>-58.443563</td>\n",
       "      <td>60.0</td>\n",
       "      <td>7.0</td>\n",
       "      <td>3.0</td>\n",
       "      <td>0.74</td>\n",
       "      <td>21699.484109</td>\n",
       "      <td>0.0</td>\n",
       "      <td>1.0</td>\n",
       "      <td>0.0</td>\n",
       "      <td>...</td>\n",
       "      <td>0.0</td>\n",
       "      <td>0.0</td>\n",
       "      <td>0.0</td>\n",
       "      <td>0.0</td>\n",
       "      <td>0.0</td>\n",
       "      <td>0.0</td>\n",
       "      <td>0.0</td>\n",
       "      <td>0.0</td>\n",
       "      <td>1732.283465</td>\n",
       "      <td>110000.0</td>\n",
       "    </tr>\n",
       "    <tr>\n",
       "      <td>1</td>\n",
       "      <td>-34.644735</td>\n",
       "      <td>-58.421061</td>\n",
       "      <td>40.0</td>\n",
       "      <td>0.0</td>\n",
       "      <td>2.0</td>\n",
       "      <td>5.80</td>\n",
       "      <td>11797.712026</td>\n",
       "      <td>0.0</td>\n",
       "      <td>1.0</td>\n",
       "      <td>0.0</td>\n",
       "      <td>...</td>\n",
       "      <td>0.0</td>\n",
       "      <td>0.0</td>\n",
       "      <td>0.0</td>\n",
       "      <td>0.0</td>\n",
       "      <td>0.0</td>\n",
       "      <td>0.0</td>\n",
       "      <td>0.0</td>\n",
       "      <td>0.0</td>\n",
       "      <td>1997.500000</td>\n",
       "      <td>79900.0</td>\n",
       "    </tr>\n",
       "    <tr>\n",
       "      <td>2</td>\n",
       "      <td>-34.603423</td>\n",
       "      <td>-58.431140</td>\n",
       "      <td>38.0</td>\n",
       "      <td>0.0</td>\n",
       "      <td>2.0</td>\n",
       "      <td>0.92</td>\n",
       "      <td>63288.443473</td>\n",
       "      <td>0.0</td>\n",
       "      <td>1.0</td>\n",
       "      <td>0.0</td>\n",
       "      <td>...</td>\n",
       "      <td>0.0</td>\n",
       "      <td>0.0</td>\n",
       "      <td>0.0</td>\n",
       "      <td>0.0</td>\n",
       "      <td>0.0</td>\n",
       "      <td>0.0</td>\n",
       "      <td>0.0</td>\n",
       "      <td>0.0</td>\n",
       "      <td>2947.368421</td>\n",
       "      <td>112000.0</td>\n",
       "    </tr>\n",
       "    <tr>\n",
       "      <td>3</td>\n",
       "      <td>-34.609326</td>\n",
       "      <td>-58.492374</td>\n",
       "      <td>77.0</td>\n",
       "      <td>17.0</td>\n",
       "      <td>2.0</td>\n",
       "      <td>0.27</td>\n",
       "      <td>13914.638078</td>\n",
       "      <td>0.0</td>\n",
       "      <td>0.0</td>\n",
       "      <td>1.0</td>\n",
       "      <td>...</td>\n",
       "      <td>0.0</td>\n",
       "      <td>0.0</td>\n",
       "      <td>0.0</td>\n",
       "      <td>0.0</td>\n",
       "      <td>0.0</td>\n",
       "      <td>0.0</td>\n",
       "      <td>0.0</td>\n",
       "      <td>0.0</td>\n",
       "      <td>1976.608187</td>\n",
       "      <td>169000.0</td>\n",
       "    </tr>\n",
       "    <tr>\n",
       "      <td>4</td>\n",
       "      <td>-34.629607</td>\n",
       "      <td>-58.439279</td>\n",
       "      <td>37.0</td>\n",
       "      <td>4.0</td>\n",
       "      <td>1.0</td>\n",
       "      <td>6.03</td>\n",
       "      <td>20216.713377</td>\n",
       "      <td>0.0</td>\n",
       "      <td>1.0</td>\n",
       "      <td>0.0</td>\n",
       "      <td>...</td>\n",
       "      <td>0.0</td>\n",
       "      <td>0.0</td>\n",
       "      <td>0.0</td>\n",
       "      <td>0.0</td>\n",
       "      <td>0.0</td>\n",
       "      <td>0.0</td>\n",
       "      <td>0.0</td>\n",
       "      <td>0.0</td>\n",
       "      <td>3025.641026</td>\n",
       "      <td>118000.0</td>\n",
       "    </tr>\n",
       "  </tbody>\n",
       "</table>\n",
       "<p>5 rows × 21 columns</p>\n",
       "</div>"
      ],
      "text/plain": [
       "         lat        lon  surface_covered  surface_uncovered  rooms   NBI  \\\n",
       "0 -34.601864 -58.443563             60.0                7.0    3.0  0.74   \n",
       "1 -34.644735 -58.421061             40.0                0.0    2.0  5.80   \n",
       "2 -34.603423 -58.431140             38.0                0.0    2.0  0.92   \n",
       "3 -34.609326 -58.492374             77.0               17.0    2.0  0.27   \n",
       "4 -34.629607 -58.439279             37.0                4.0    1.0  6.03   \n",
       "\n",
       "       densidad  Casa  Departamento   PH  ...  VILLA LUGANO  CONSTITUCION  \\\n",
       "0  21699.484109   0.0           1.0  0.0  ...           0.0           0.0   \n",
       "1  11797.712026   0.0           1.0  0.0  ...           0.0           0.0   \n",
       "2  63288.443473   0.0           1.0  0.0  ...           0.0           0.0   \n",
       "3  13914.638078   0.0           0.0  1.0  ...           0.0           0.0   \n",
       "4  20216.713377   0.0           1.0  0.0  ...           0.0           0.0   \n",
       "\n",
       "   FLORES  BOCA  NUNEZ  BELGRANO  RECOLETA  PALERMO     price_m2     price  \n",
       "0     0.0   0.0    0.0       0.0       0.0      0.0  1732.283465  110000.0  \n",
       "1     0.0   0.0    0.0       0.0       0.0      0.0  1997.500000   79900.0  \n",
       "2     0.0   0.0    0.0       0.0       0.0      0.0  2947.368421  112000.0  \n",
       "3     0.0   0.0    0.0       0.0       0.0      0.0  1976.608187  169000.0  \n",
       "4     0.0   0.0    0.0       0.0       0.0      0.0  3025.641026  118000.0  \n",
       "\n",
       "[5 rows x 21 columns]"
      ]
     },
     "execution_count": 2,
     "metadata": {},
     "output_type": "execute_result"
    }
   ],
   "source": [
    "df = pd.read_csv('Properati_data_clean.csv')\n",
    "# Me quedo con las columnas que me interesan\n",
    "features = ['lat', 'lon','surface_covered','surface_uncovered','rooms','NBI','densidad','Casa', 'Departamento','PH',]\n",
    "barrios = ['BALVANERA','VILLA LUGANO','CONSTITUCION','FLORES','BOCA','NUNEZ','BELGRANO','RECOLETA','PALERMO']\n",
    "targets = ['price_m2','price',]\n",
    "columnas = features + barrios + targets\n",
    "df = df[columnas]\n",
    "df.dropna(inplace=True)\n",
    "df.head()"
   ]
  },
  {
   "cell_type": "code",
   "execution_count": 3,
   "metadata": {},
   "outputs": [],
   "source": [
    "from sklearn.model_selection import train_test_split\n",
    "\n",
    "# Shuffleamos\n",
    "np.random.seed(seed=49)\n",
    "df_perm = np.random.permutation(df)\n",
    "df = pd.DataFrame(df_perm,columns=df.columns)\n",
    "\n",
    "# Vamos a dividir en tres conjuntos: train, validation, test\n",
    "df_train, df_val_test = train_test_split(df,test_size=0.3,random_state=50)\n",
    "df_validation, df_test = train_test_split(df_val_test,test_size=0.5,random_state=51)"
   ]
  },
  {
   "cell_type": "code",
   "execution_count": 4,
   "metadata": {},
   "outputs": [],
   "source": [
    "# Tomaremos como target la variable precio, y como input todo lo demás\n",
    "X_train = df_train.drop(columns=['price','price_m2'])\n",
    "X_validation = df_validation.drop(columns=['price','price_m2'])\n",
    "X_test = df_test.drop(columns=['price','price_m2'])\n",
    "y_train = df_train['price']\n",
    "y_validation = df_validation['price'] \n",
    "y_test = df_test['price']"
   ]
  },
  {
   "cell_type": "markdown",
   "metadata": {},
   "source": [
    "Importo predicciones"
   ]
  },
  {
   "cell_type": "code",
   "execution_count": 16,
   "metadata": {},
   "outputs": [],
   "source": [
    "df_knn_valid = pd.read_csv('knn_valid_pred.csv')\n",
    "df_knn_test = pd.read_csv('knn_test_pred.csv')\n",
    "df_trees_valid = pd.read_csv('trees_valid_pred.csv')\n",
    "df_trees_test = pd.read_csv('trees_test_pred.csv')"
   ]
  },
  {
   "cell_type": "code",
   "execution_count": 19,
   "metadata": {},
   "outputs": [
    {
     "data": {
      "text/plain": [
       "Index(['lat', 'lon', 'surface_covered', 'surface_uncovered', 'rooms', 'NBI',\n",
       "       'densidad', 'Casa', 'Departamento', 'PH', 'BALVANERA', 'VILLA LUGANO',\n",
       "       'CONSTITUCION', 'FLORES', 'BOCA', 'NUNEZ', 'BELGRANO', 'RECOLETA',\n",
       "       'PALERMO', 'price_m2', 'price', 'pred_rfr', 'pred_xgb', 'err_rfr',\n",
       "       'err_xgb'],\n",
       "      dtype='object')"
      ]
     },
     "execution_count": 19,
     "metadata": {},
     "output_type": "execute_result"
    }
   ],
   "source": [
    "df_trees_valid.columns"
   ]
  },
  {
   "cell_type": "code",
   "execution_count": 17,
   "metadata": {},
   "outputs": [
    {
     "data": {
      "text/plain": [
       "Index(['lat', 'lon', 'surface_covered', 'surface_uncovered', 'rooms', 'NBI',\n",
       "       'densidad', 'Casa', 'Departamento', 'PH', 'BALVANERA', 'VILLA LUGANO',\n",
       "       'CONSTITUCION', 'FLORES', 'BOCA', 'NUNEZ', 'BELGRANO', 'RECOLETA',\n",
       "       'PALERMO', 'price_m2', 'price', 'pred_grid', 'pred_bagging',\n",
       "       'pred_target', 'pred_correlation', 'pred_adaptive', 'err_grid',\n",
       "       'err_bagging', 'err_target', 'err_correlation', 'err_adaptive'],\n",
       "      dtype='object')"
      ]
     },
     "execution_count": 17,
     "metadata": {},
     "output_type": "execute_result"
    }
   ],
   "source": [
    "df_knn_valid.columns"
   ]
  },
  {
   "cell_type": "code",
   "execution_count": 20,
   "metadata": {},
   "outputs": [
    {
     "name": "stderr",
     "output_type": "stream",
     "text": [
      "C:\\Users\\Usuario\\Python\\Anaconda\\lib\\site-packages\\ipykernel_launcher.py:6: SettingWithCopyWarning: \n",
      "A value is trying to be set on a copy of a slice from a DataFrame.\n",
      "Try using .loc[row_indexer,col_indexer] = value instead\n",
      "\n",
      "See the caveats in the documentation: http://pandas.pydata.org/pandas-docs/stable/user_guide/indexing.html#returning-a-view-versus-a-copy\n",
      "  \n",
      "C:\\Users\\Usuario\\Python\\Anaconda\\lib\\site-packages\\ipykernel_launcher.py:8: SettingWithCopyWarning: \n",
      "A value is trying to be set on a copy of a slice from a DataFrame.\n",
      "Try using .loc[row_indexer,col_indexer] = value instead\n",
      "\n",
      "See the caveats in the documentation: http://pandas.pydata.org/pandas-docs/stable/user_guide/indexing.html#returning-a-view-versus-a-copy\n",
      "  \n"
     ]
    },
    {
     "data": {
      "text/html": [
       "<div>\n",
       "<style scoped>\n",
       "    .dataframe tbody tr th:only-of-type {\n",
       "        vertical-align: middle;\n",
       "    }\n",
       "\n",
       "    .dataframe tbody tr th {\n",
       "        vertical-align: top;\n",
       "    }\n",
       "\n",
       "    .dataframe thead th {\n",
       "        text-align: right;\n",
       "    }\n",
       "</style>\n",
       "<table border=\"1\" class=\"dataframe\">\n",
       "  <thead>\n",
       "    <tr style=\"text-align: right;\">\n",
       "      <th></th>\n",
       "      <th>lat</th>\n",
       "      <th>lon</th>\n",
       "      <th>surface_covered</th>\n",
       "      <th>surface_uncovered</th>\n",
       "      <th>rooms</th>\n",
       "      <th>NBI</th>\n",
       "      <th>densidad</th>\n",
       "      <th>Casa</th>\n",
       "      <th>Departamento</th>\n",
       "      <th>PH</th>\n",
       "      <th>...</th>\n",
       "      <th>pred_grid</th>\n",
       "      <th>pred_bagging</th>\n",
       "      <th>pred_target</th>\n",
       "      <th>pred_correlation</th>\n",
       "      <th>pred_adaptive</th>\n",
       "      <th>err_grid</th>\n",
       "      <th>err_bagging</th>\n",
       "      <th>err_target</th>\n",
       "      <th>err_correlation</th>\n",
       "      <th>err_adaptive</th>\n",
       "    </tr>\n",
       "  </thead>\n",
       "  <tbody>\n",
       "    <tr>\n",
       "      <td>15452</td>\n",
       "      <td>-34.618359</td>\n",
       "      <td>-58.445380</td>\n",
       "      <td>82.0</td>\n",
       "      <td>8.0</td>\n",
       "      <td>4.0</td>\n",
       "      <td>0.80</td>\n",
       "      <td>10931.488309</td>\n",
       "      <td>0.0</td>\n",
       "      <td>1.0</td>\n",
       "      <td>0.0</td>\n",
       "      <td>...</td>\n",
       "      <td>252716.297611</td>\n",
       "      <td>244898.850799</td>\n",
       "      <td>2957.960787</td>\n",
       "      <td>221560.354404</td>\n",
       "      <td>224601.485953</td>\n",
       "      <td>17283.702389</td>\n",
       "      <td>25101.149201</td>\n",
       "      <td>267042.039213</td>\n",
       "      <td>48439.645596</td>\n",
       "      <td>45398.514047</td>\n",
       "    </tr>\n",
       "    <tr>\n",
       "      <td>25217</td>\n",
       "      <td>-34.621381</td>\n",
       "      <td>-58.460179</td>\n",
       "      <td>76.0</td>\n",
       "      <td>2.0</td>\n",
       "      <td>3.0</td>\n",
       "      <td>7.59</td>\n",
       "      <td>22218.124860</td>\n",
       "      <td>0.0</td>\n",
       "      <td>1.0</td>\n",
       "      <td>0.0</td>\n",
       "      <td>...</td>\n",
       "      <td>170650.897211</td>\n",
       "      <td>166142.223191</td>\n",
       "      <td>2214.254657</td>\n",
       "      <td>165150.304170</td>\n",
       "      <td>179865.614096</td>\n",
       "      <td>39349.102789</td>\n",
       "      <td>43857.776809</td>\n",
       "      <td>207785.745343</td>\n",
       "      <td>44849.695830</td>\n",
       "      <td>30134.385904</td>\n",
       "    </tr>\n",
       "    <tr>\n",
       "      <td>24923</td>\n",
       "      <td>-34.628556</td>\n",
       "      <td>-58.390130</td>\n",
       "      <td>72.0</td>\n",
       "      <td>6.0</td>\n",
       "      <td>3.0</td>\n",
       "      <td>33.57</td>\n",
       "      <td>33285.248098</td>\n",
       "      <td>0.0</td>\n",
       "      <td>0.0</td>\n",
       "      <td>1.0</td>\n",
       "      <td>...</td>\n",
       "      <td>110639.186704</td>\n",
       "      <td>112399.377142</td>\n",
       "      <td>1476.766158</td>\n",
       "      <td>110231.668756</td>\n",
       "      <td>108431.514750</td>\n",
       "      <td>-639.186704</td>\n",
       "      <td>-2399.377142</td>\n",
       "      <td>108523.233842</td>\n",
       "      <td>-231.668756</td>\n",
       "      <td>1568.485250</td>\n",
       "    </tr>\n",
       "    <tr>\n",
       "      <td>10598</td>\n",
       "      <td>-34.582264</td>\n",
       "      <td>-58.448658</td>\n",
       "      <td>74.0</td>\n",
       "      <td>5.0</td>\n",
       "      <td>3.0</td>\n",
       "      <td>18.18</td>\n",
       "      <td>13429.268571</td>\n",
       "      <td>0.0</td>\n",
       "      <td>1.0</td>\n",
       "      <td>0.0</td>\n",
       "      <td>...</td>\n",
       "      <td>372516.230662</td>\n",
       "      <td>293708.250291</td>\n",
       "      <td>4786.329898</td>\n",
       "      <td>378454.619806</td>\n",
       "      <td>372600.748231</td>\n",
       "      <td>-22516.230662</td>\n",
       "      <td>56291.749709</td>\n",
       "      <td>345213.670102</td>\n",
       "      <td>-28454.619806</td>\n",
       "      <td>-22600.748231</td>\n",
       "    </tr>\n",
       "    <tr>\n",
       "      <td>3808</td>\n",
       "      <td>-34.628397</td>\n",
       "      <td>-58.403744</td>\n",
       "      <td>125.0</td>\n",
       "      <td>17.0</td>\n",
       "      <td>5.0</td>\n",
       "      <td>21.57</td>\n",
       "      <td>23115.688027</td>\n",
       "      <td>0.0</td>\n",
       "      <td>0.0</td>\n",
       "      <td>1.0</td>\n",
       "      <td>...</td>\n",
       "      <td>233971.902652</td>\n",
       "      <td>221187.003702</td>\n",
       "      <td>1817.938631</td>\n",
       "      <td>297647.701223</td>\n",
       "      <td>284230.423891</td>\n",
       "      <td>15028.097348</td>\n",
       "      <td>27812.996298</td>\n",
       "      <td>247182.061369</td>\n",
       "      <td>-48647.701223</td>\n",
       "      <td>-35230.423891</td>\n",
       "    </tr>\n",
       "  </tbody>\n",
       "</table>\n",
       "<p>5 rows × 35 columns</p>\n",
       "</div>"
      ],
      "text/plain": [
       "             lat        lon  surface_covered  surface_uncovered  rooms    NBI  \\\n",
       "15452 -34.618359 -58.445380             82.0                8.0    4.0   0.80   \n",
       "25217 -34.621381 -58.460179             76.0                2.0    3.0   7.59   \n",
       "24923 -34.628556 -58.390130             72.0                6.0    3.0  33.57   \n",
       "10598 -34.582264 -58.448658             74.0                5.0    3.0  18.18   \n",
       "3808  -34.628397 -58.403744            125.0               17.0    5.0  21.57   \n",
       "\n",
       "           densidad  Casa  Departamento   PH  ...      pred_grid  \\\n",
       "15452  10931.488309   0.0           1.0  0.0  ...  252716.297611   \n",
       "25217  22218.124860   0.0           1.0  0.0  ...  170650.897211   \n",
       "24923  33285.248098   0.0           0.0  1.0  ...  110639.186704   \n",
       "10598  13429.268571   0.0           1.0  0.0  ...  372516.230662   \n",
       "3808   23115.688027   0.0           0.0  1.0  ...  233971.902652   \n",
       "\n",
       "        pred_bagging  pred_target  pred_correlation  pred_adaptive  \\\n",
       "15452  244898.850799  2957.960787     221560.354404  224601.485953   \n",
       "25217  166142.223191  2214.254657     165150.304170  179865.614096   \n",
       "24923  112399.377142  1476.766158     110231.668756  108431.514750   \n",
       "10598  293708.250291  4786.329898     378454.619806  372600.748231   \n",
       "3808   221187.003702  1817.938631     297647.701223  284230.423891   \n",
       "\n",
       "           err_grid   err_bagging     err_target  err_correlation  \\\n",
       "15452  17283.702389  25101.149201  267042.039213     48439.645596   \n",
       "25217  39349.102789  43857.776809  207785.745343     44849.695830   \n",
       "24923   -639.186704  -2399.377142  108523.233842      -231.668756   \n",
       "10598 -22516.230662  56291.749709  345213.670102    -28454.619806   \n",
       "3808   15028.097348  27812.996298  247182.061369    -48647.701223   \n",
       "\n",
       "       err_adaptive  \n",
       "15452  45398.514047  \n",
       "25217  30134.385904  \n",
       "24923   1568.485250  \n",
       "10598 -22600.748231  \n",
       "3808  -35230.423891  \n",
       "\n",
       "[5 rows x 35 columns]"
      ]
     },
     "execution_count": 20,
     "metadata": {},
     "output_type": "execute_result"
    }
   ],
   "source": [
    "df_valid = df_validation\n",
    "columnas1 = ['pred_rfr', 'pred_xgb', 'err_rfr','err_xgb']\n",
    "columnas2 = ['pred_grid', 'pred_bagging','pred_target', 'pred_correlation',\\\n",
    "             'pred_adaptive','err_grid','err_bagging', 'err_target', 'err_correlation', 'err_adaptive']\n",
    "for x in columnas1:\n",
    "    df_valid[x] = df_trees_valid[x].values\n",
    "for y in columnas2:\n",
    "    df_valid[y] = df_knn_valid[y].values\n",
    "df_valid.head()"
   ]
  },
  {
   "cell_type": "code",
   "execution_count": 24,
   "metadata": {},
   "outputs": [
    {
     "data": {
      "text/html": [
       "<div>\n",
       "<style scoped>\n",
       "    .dataframe tbody tr th:only-of-type {\n",
       "        vertical-align: middle;\n",
       "    }\n",
       "\n",
       "    .dataframe tbody tr th {\n",
       "        vertical-align: top;\n",
       "    }\n",
       "\n",
       "    .dataframe thead th {\n",
       "        text-align: right;\n",
       "    }\n",
       "</style>\n",
       "<table border=\"1\" class=\"dataframe\">\n",
       "  <thead>\n",
       "    <tr style=\"text-align: right;\">\n",
       "      <th></th>\n",
       "      <th>err_rfr</th>\n",
       "      <th>err_xgb</th>\n",
       "      <th>err_grid</th>\n",
       "      <th>err_bagging</th>\n",
       "      <th>err_target</th>\n",
       "      <th>err_correlation</th>\n",
       "      <th>err_adaptive</th>\n",
       "    </tr>\n",
       "  </thead>\n",
       "  <tbody>\n",
       "    <tr>\n",
       "      <td>err_rfr</td>\n",
       "      <td>1.000000</td>\n",
       "      <td>0.886291</td>\n",
       "      <td>0.837310</td>\n",
       "      <td>0.880277</td>\n",
       "      <td>0.392177</td>\n",
       "      <td>0.869868</td>\n",
       "      <td>0.878388</td>\n",
       "    </tr>\n",
       "    <tr>\n",
       "      <td>err_xgb</td>\n",
       "      <td>0.886291</td>\n",
       "      <td>1.000000</td>\n",
       "      <td>0.715274</td>\n",
       "      <td>0.795971</td>\n",
       "      <td>0.344595</td>\n",
       "      <td>0.732642</td>\n",
       "      <td>0.753287</td>\n",
       "    </tr>\n",
       "    <tr>\n",
       "      <td>err_grid</td>\n",
       "      <td>0.837310</td>\n",
       "      <td>0.715274</td>\n",
       "      <td>1.000000</td>\n",
       "      <td>0.950512</td>\n",
       "      <td>0.398942</td>\n",
       "      <td>0.853108</td>\n",
       "      <td>0.803018</td>\n",
       "    </tr>\n",
       "    <tr>\n",
       "      <td>err_bagging</td>\n",
       "      <td>0.880277</td>\n",
       "      <td>0.795971</td>\n",
       "      <td>0.950512</td>\n",
       "      <td>1.000000</td>\n",
       "      <td>0.500740</td>\n",
       "      <td>0.842909</td>\n",
       "      <td>0.794979</td>\n",
       "    </tr>\n",
       "    <tr>\n",
       "      <td>err_target</td>\n",
       "      <td>0.392177</td>\n",
       "      <td>0.344595</td>\n",
       "      <td>0.398942</td>\n",
       "      <td>0.500740</td>\n",
       "      <td>1.000000</td>\n",
       "      <td>0.349732</td>\n",
       "      <td>0.318937</td>\n",
       "    </tr>\n",
       "    <tr>\n",
       "      <td>err_correlation</td>\n",
       "      <td>0.869868</td>\n",
       "      <td>0.732642</td>\n",
       "      <td>0.853108</td>\n",
       "      <td>0.842909</td>\n",
       "      <td>0.349732</td>\n",
       "      <td>1.000000</td>\n",
       "      <td>0.884232</td>\n",
       "    </tr>\n",
       "    <tr>\n",
       "      <td>err_adaptive</td>\n",
       "      <td>0.878388</td>\n",
       "      <td>0.753287</td>\n",
       "      <td>0.803018</td>\n",
       "      <td>0.794979</td>\n",
       "      <td>0.318937</td>\n",
       "      <td>0.884232</td>\n",
       "      <td>1.000000</td>\n",
       "    </tr>\n",
       "  </tbody>\n",
       "</table>\n",
       "</div>"
      ],
      "text/plain": [
       "                  err_rfr   err_xgb  err_grid  err_bagging  err_target  \\\n",
       "err_rfr          1.000000  0.886291  0.837310     0.880277    0.392177   \n",
       "err_xgb          0.886291  1.000000  0.715274     0.795971    0.344595   \n",
       "err_grid         0.837310  0.715274  1.000000     0.950512    0.398942   \n",
       "err_bagging      0.880277  0.795971  0.950512     1.000000    0.500740   \n",
       "err_target       0.392177  0.344595  0.398942     0.500740    1.000000   \n",
       "err_correlation  0.869868  0.732642  0.853108     0.842909    0.349732   \n",
       "err_adaptive     0.878388  0.753287  0.803018     0.794979    0.318937   \n",
       "\n",
       "                 err_correlation  err_adaptive  \n",
       "err_rfr                 0.869868      0.878388  \n",
       "err_xgb                 0.732642      0.753287  \n",
       "err_grid                0.853108      0.803018  \n",
       "err_bagging             0.842909      0.794979  \n",
       "err_target              0.349732      0.318937  \n",
       "err_correlation         1.000000      0.884232  \n",
       "err_adaptive            0.884232      1.000000  "
      ]
     },
     "execution_count": 24,
     "metadata": {},
     "output_type": "execute_result"
    }
   ],
   "source": [
    "corr = df_valid[['err_rfr','err_xgb','err_grid','err_bagging', 'err_target', 'err_correlation', 'err_adaptive']].corr()\n",
    "corr"
   ]
  },
  {
   "cell_type": "code",
   "execution_count": 25,
   "metadata": {},
   "outputs": [
    {
     "data": {
      "image/png": "[encoded data removed]",
      "text/plain": [
       "<Figure size 864x720 with 2 Axes>"
      ]
     },
     "metadata": {
      "needs_background": "light"
     },
     "output_type": "display_data"
    }
   ],
   "source": [
    "plt.figure(figsize=(12,10))\n",
    "sns.heatmap(corr, cbar = True,  square = False, annot=True, fmt= '.2f'\n",
    "            ,annot_kws={'size': 15},cmap= 'coolwarm')\n",
    "# Arreglamos un pequeño problema de visualización\n",
    "b, t = plt.ylim() # discover the values for bottom and top\n",
    "b += 0.5 # Add 0.5 to the bottom\n",
    "t -= 0.5 # Subtract 0.5 from the top\n",
    "plt.ylim(b, t) # update the ylim(bottom, top) values\n",
    "plt.show()"
   ]
  },
  {
   "cell_type": "markdown",
   "metadata": {},
   "source": [
    "### Ensemble: mean"
   ]
  },
  {
   "cell_type": "code",
   "execution_count": 99,
   "metadata": {},
   "outputs": [],
   "source": [
    "y_pred_mean = []\n",
    "model_list = ['pred_rfr', 'pred_xgb', 'pred_grid',\\\n",
    "       'pred_bagging', 'pred_target', 'pred_correlation', 'pred_adaptive']\n",
    "for i,index in enumerate(df_test.index):\n",
    "    mean = 0\n",
    "    for k,x in enumerate(model_list):\n",
    "        valor = df_test.at[index,x]/7\n",
    "        # Le sumo su ponderación\n",
    "        mean += valor\n",
    "    y_pred_mean.append(mean)"
   ]
  },
  {
   "cell_type": "code",
   "execution_count": 102,
   "metadata": {},
   "outputs": [
    {
     "data": {
      "text/plain": [
       "27915.25706664498"
      ]
     },
     "execution_count": 102,
     "metadata": {},
     "output_type": "execute_result"
    }
   ],
   "source": [
    "from sklearn.metrics import mean_squared_error\n",
    "rmse1 = np.sqrt(mean_squared_error(y_pred_mean,y_test))\n",
    "rmse1"
   ]
  },
  {
   "cell_type": "markdown",
   "metadata": {},
   "source": [
    "Este valor mejora nuestro mejor modelo hasta ahora."
   ]
  },
  {
   "cell_type": "code",
   "execution_count": 104,
   "metadata": {},
   "outputs": [
    {
     "data": {
      "text/plain": [
       "18380.934204114874"
      ]
     },
     "execution_count": 104,
     "metadata": {},
     "output_type": "execute_result"
    }
   ],
   "source": [
    "from sklearn.metrics import mean_absolute_error\n",
    "mae1 = mean_absolute_error(y_pred_mean,y_test)\n",
    "mae1"
   ]
  },
  {
   "cell_type": "markdown",
   "metadata": {},
   "source": [
    "## Error-based ensembles"
   ]
  },
  {
   "cell_type": "markdown",
   "metadata": {},
   "source": [
    "Calculamos el modelo con el error mínimo."
   ]
  },
  {
   "cell_type": "code",
   "execution_count": 44,
   "metadata": {},
   "outputs": [
    {
     "data": {
      "text/html": [
       "<div>\n",
       "<style scoped>\n",
       "    .dataframe tbody tr th:only-of-type {\n",
       "        vertical-align: middle;\n",
       "    }\n",
       "\n",
       "    .dataframe tbody tr th {\n",
       "        vertical-align: top;\n",
       "    }\n",
       "\n",
       "    .dataframe thead th {\n",
       "        text-align: right;\n",
       "    }\n",
       "</style>\n",
       "<table border=\"1\" class=\"dataframe\">\n",
       "  <thead>\n",
       "    <tr style=\"text-align: right;\">\n",
       "      <th></th>\n",
       "      <th>lat</th>\n",
       "      <th>lon</th>\n",
       "      <th>surface_covered</th>\n",
       "      <th>surface_uncovered</th>\n",
       "      <th>rooms</th>\n",
       "      <th>NBI</th>\n",
       "      <th>densidad</th>\n",
       "      <th>Casa</th>\n",
       "      <th>Departamento</th>\n",
       "      <th>PH</th>\n",
       "      <th>...</th>\n",
       "      <th>pred_bagging</th>\n",
       "      <th>pred_target</th>\n",
       "      <th>pred_correlation</th>\n",
       "      <th>pred_adaptive</th>\n",
       "      <th>err_grid</th>\n",
       "      <th>err_bagging</th>\n",
       "      <th>err_target</th>\n",
       "      <th>err_correlation</th>\n",
       "      <th>err_adaptive</th>\n",
       "      <th>best</th>\n",
       "    </tr>\n",
       "  </thead>\n",
       "  <tbody>\n",
       "    <tr>\n",
       "      <td>15452</td>\n",
       "      <td>-34.618359</td>\n",
       "      <td>-58.445380</td>\n",
       "      <td>82.0</td>\n",
       "      <td>8.0</td>\n",
       "      <td>4.0</td>\n",
       "      <td>0.80</td>\n",
       "      <td>10931.488309</td>\n",
       "      <td>0.0</td>\n",
       "      <td>1.0</td>\n",
       "      <td>0.0</td>\n",
       "      <td>...</td>\n",
       "      <td>244898.850799</td>\n",
       "      <td>2957.960787</td>\n",
       "      <td>221560.354404</td>\n",
       "      <td>224601.485953</td>\n",
       "      <td>17283.702389</td>\n",
       "      <td>25101.149201</td>\n",
       "      <td>267042.039213</td>\n",
       "      <td>48439.645596</td>\n",
       "      <td>45398.514047</td>\n",
       "      <td>err_grid</td>\n",
       "    </tr>\n",
       "    <tr>\n",
       "      <td>25217</td>\n",
       "      <td>-34.621381</td>\n",
       "      <td>-58.460179</td>\n",
       "      <td>76.0</td>\n",
       "      <td>2.0</td>\n",
       "      <td>3.0</td>\n",
       "      <td>7.59</td>\n",
       "      <td>22218.124860</td>\n",
       "      <td>0.0</td>\n",
       "      <td>1.0</td>\n",
       "      <td>0.0</td>\n",
       "      <td>...</td>\n",
       "      <td>166142.223191</td>\n",
       "      <td>2214.254657</td>\n",
       "      <td>165150.304170</td>\n",
       "      <td>179865.614096</td>\n",
       "      <td>39349.102789</td>\n",
       "      <td>43857.776809</td>\n",
       "      <td>207785.745343</td>\n",
       "      <td>44849.695830</td>\n",
       "      <td>30134.385904</td>\n",
       "      <td>err_adaptive</td>\n",
       "    </tr>\n",
       "    <tr>\n",
       "      <td>24923</td>\n",
       "      <td>-34.628556</td>\n",
       "      <td>-58.390130</td>\n",
       "      <td>72.0</td>\n",
       "      <td>6.0</td>\n",
       "      <td>3.0</td>\n",
       "      <td>33.57</td>\n",
       "      <td>33285.248098</td>\n",
       "      <td>0.0</td>\n",
       "      <td>0.0</td>\n",
       "      <td>1.0</td>\n",
       "      <td>...</td>\n",
       "      <td>112399.377142</td>\n",
       "      <td>1476.766158</td>\n",
       "      <td>110231.668756</td>\n",
       "      <td>108431.514750</td>\n",
       "      <td>-639.186704</td>\n",
       "      <td>-2399.377142</td>\n",
       "      <td>108523.233842</td>\n",
       "      <td>-231.668756</td>\n",
       "      <td>1568.485250</td>\n",
       "      <td>err_correlation</td>\n",
       "    </tr>\n",
       "    <tr>\n",
       "      <td>10598</td>\n",
       "      <td>-34.582264</td>\n",
       "      <td>-58.448658</td>\n",
       "      <td>74.0</td>\n",
       "      <td>5.0</td>\n",
       "      <td>3.0</td>\n",
       "      <td>18.18</td>\n",
       "      <td>13429.268571</td>\n",
       "      <td>0.0</td>\n",
       "      <td>1.0</td>\n",
       "      <td>0.0</td>\n",
       "      <td>...</td>\n",
       "      <td>293708.250291</td>\n",
       "      <td>4786.329898</td>\n",
       "      <td>378454.619806</td>\n",
       "      <td>372600.748231</td>\n",
       "      <td>-22516.230662</td>\n",
       "      <td>56291.749709</td>\n",
       "      <td>345213.670102</td>\n",
       "      <td>-28454.619806</td>\n",
       "      <td>-22600.748231</td>\n",
       "      <td>err_grid</td>\n",
       "    </tr>\n",
       "    <tr>\n",
       "      <td>3808</td>\n",
       "      <td>-34.628397</td>\n",
       "      <td>-58.403744</td>\n",
       "      <td>125.0</td>\n",
       "      <td>17.0</td>\n",
       "      <td>5.0</td>\n",
       "      <td>21.57</td>\n",
       "      <td>23115.688027</td>\n",
       "      <td>0.0</td>\n",
       "      <td>0.0</td>\n",
       "      <td>1.0</td>\n",
       "      <td>...</td>\n",
       "      <td>221187.003702</td>\n",
       "      <td>1817.938631</td>\n",
       "      <td>297647.701223</td>\n",
       "      <td>284230.423891</td>\n",
       "      <td>15028.097348</td>\n",
       "      <td>27812.996298</td>\n",
       "      <td>247182.061369</td>\n",
       "      <td>-48647.701223</td>\n",
       "      <td>-35230.423891</td>\n",
       "      <td>err_rfr</td>\n",
       "    </tr>\n",
       "  </tbody>\n",
       "</table>\n",
       "<p>5 rows × 36 columns</p>\n",
       "</div>"
      ],
      "text/plain": [
       "             lat        lon  surface_covered  surface_uncovered  rooms    NBI  \\\n",
       "15452 -34.618359 -58.445380             82.0                8.0    4.0   0.80   \n",
       "25217 -34.621381 -58.460179             76.0                2.0    3.0   7.59   \n",
       "24923 -34.628556 -58.390130             72.0                6.0    3.0  33.57   \n",
       "10598 -34.582264 -58.448658             74.0                5.0    3.0  18.18   \n",
       "3808  -34.628397 -58.403744            125.0               17.0    5.0  21.57   \n",
       "\n",
       "           densidad  Casa  Departamento   PH  ...   pred_bagging  pred_target  \\\n",
       "15452  10931.488309   0.0           1.0  0.0  ...  244898.850799  2957.960787   \n",
       "25217  22218.124860   0.0           1.0  0.0  ...  166142.223191  2214.254657   \n",
       "24923  33285.248098   0.0           0.0  1.0  ...  112399.377142  1476.766158   \n",
       "10598  13429.268571   0.0           1.0  0.0  ...  293708.250291  4786.329898   \n",
       "3808   23115.688027   0.0           0.0  1.0  ...  221187.003702  1817.938631   \n",
       "\n",
       "       pred_correlation  pred_adaptive      err_grid   err_bagging  \\\n",
       "15452     221560.354404  224601.485953  17283.702389  25101.149201   \n",
       "25217     165150.304170  179865.614096  39349.102789  43857.776809   \n",
       "24923     110231.668756  108431.514750   -639.186704  -2399.377142   \n",
       "10598     378454.619806  372600.748231 -22516.230662  56291.749709   \n",
       "3808      297647.701223  284230.423891  15028.097348  27812.996298   \n",
       "\n",
       "          err_target  err_correlation  err_adaptive             best  \n",
       "15452  267042.039213     48439.645596  45398.514047         err_grid  \n",
       "25217  207785.745343     44849.695830  30134.385904     err_adaptive  \n",
       "24923  108523.233842      -231.668756   1568.485250  err_correlation  \n",
       "10598  345213.670102    -28454.619806 -22600.748231         err_grid  \n",
       "3808   247182.061369    -48647.701223 -35230.423891          err_rfr  \n",
       "\n",
       "[5 rows x 36 columns]"
      ]
     },
     "execution_count": 44,
     "metadata": {},
     "output_type": "execute_result"
    }
   ],
   "source": [
    "for i,j in zip(df_valid.index,range(df_valid.shape[0])):\n",
    "    df_err = df_valid[['err_rfr','err_xgb','err_grid','err_bagging', 'err_target', 'err_correlation', 'err_adaptive']]\n",
    "    min_aux = np.argmin(abs(df_err.iloc[j,:]))\n",
    "    df_valid.at[i,'best'] = min_aux\n",
    "df_valid.head()"
   ]
  },
  {
   "cell_type": "code",
   "execution_count": 45,
   "metadata": {},
   "outputs": [
    {
     "data": {
      "text/plain": [
       "array(['err_grid', 'err_adaptive', 'err_correlation', 'err_rfr',\n",
       "       'err_bagging', 'err_xgb', 'err_target'], dtype=object)"
      ]
     },
     "execution_count": 45,
     "metadata": {},
     "output_type": "execute_result"
    }
   ],
   "source": [
    "df_valid.best.unique()"
   ]
  },
  {
   "cell_type": "markdown",
   "metadata": {},
   "source": [
    "### Ensemble: Random Forest"
   ]
  },
  {
   "cell_type": "code",
   "execution_count": 43,
   "metadata": {},
   "outputs": [],
   "source": [
    "from sklearn.ensemble import RandomForestClassifier"
   ]
  },
  {
   "cell_type": "code",
   "execution_count": 49,
   "metadata": {},
   "outputs": [
    {
     "data": {
      "text/plain": [
       "RandomForestClassifier(bootstrap=True, class_weight=None, criterion='gini',\n",
       "                       max_depth=None, max_features='auto', max_leaf_nodes=None,\n",
       "                       min_impurity_decrease=0.0, min_impurity_split=None,\n",
       "                       min_samples_leaf=1, min_samples_split=2,\n",
       "                       min_weight_fraction_leaf=0.0, n_estimators=100,\n",
       "                       n_jobs=-1, oob_score=False, random_state=None, verbose=0,\n",
       "                       warm_start=False)"
      ]
     },
     "execution_count": 49,
     "metadata": {},
     "output_type": "execute_result"
    }
   ],
   "source": [
    "X_valid = df_valid[['lat', 'lon', 'surface_covered', 'surface_uncovered', 'rooms', 'NBI',\n",
    "       'densidad', 'Casa', 'Departamento', 'PH', 'BALVANERA', 'VILLA LUGANO',\n",
    "       'CONSTITUCION', 'FLORES', 'BOCA', 'NUNEZ', 'BELGRANO', 'RECOLETA',\n",
    "       'PALERMO']]\n",
    "y_valid = df_valid['best']\n",
    "rfc = RandomForestClassifier(n_estimators = 100, n_jobs = -1)\n",
    "rfc.fit(X_valid,y_valid)"
   ]
  },
  {
   "cell_type": "code",
   "execution_count": 51,
   "metadata": {},
   "outputs": [
    {
     "name": "stderr",
     "output_type": "stream",
     "text": [
      "C:\\Users\\Usuario\\Python\\Anaconda\\lib\\site-packages\\ipykernel_launcher.py:5: SettingWithCopyWarning: \n",
      "A value is trying to be set on a copy of a slice from a DataFrame.\n",
      "Try using .loc[row_indexer,col_indexer] = value instead\n",
      "\n",
      "See the caveats in the documentation: http://pandas.pydata.org/pandas-docs/stable/user_guide/indexing.html#returning-a-view-versus-a-copy\n",
      "  \"\"\"\n",
      "C:\\Users\\Usuario\\Python\\Anaconda\\lib\\site-packages\\ipykernel_launcher.py:7: SettingWithCopyWarning: \n",
      "A value is trying to be set on a copy of a slice from a DataFrame.\n",
      "Try using .loc[row_indexer,col_indexer] = value instead\n",
      "\n",
      "See the caveats in the documentation: http://pandas.pydata.org/pandas-docs/stable/user_guide/indexing.html#returning-a-view-versus-a-copy\n",
      "  import sys\n"
     ]
    },
    {
     "data": {
      "text/html": [
       "<div>\n",
       "<style scoped>\n",
       "    .dataframe tbody tr th:only-of-type {\n",
       "        vertical-align: middle;\n",
       "    }\n",
       "\n",
       "    .dataframe tbody tr th {\n",
       "        vertical-align: top;\n",
       "    }\n",
       "\n",
       "    .dataframe thead th {\n",
       "        text-align: right;\n",
       "    }\n",
       "</style>\n",
       "<table border=\"1\" class=\"dataframe\">\n",
       "  <thead>\n",
       "    <tr style=\"text-align: right;\">\n",
       "      <th></th>\n",
       "      <th>lat</th>\n",
       "      <th>lon</th>\n",
       "      <th>surface_covered</th>\n",
       "      <th>surface_uncovered</th>\n",
       "      <th>rooms</th>\n",
       "      <th>NBI</th>\n",
       "      <th>densidad</th>\n",
       "      <th>Casa</th>\n",
       "      <th>Departamento</th>\n",
       "      <th>PH</th>\n",
       "      <th>...</th>\n",
       "      <th>pred_grid</th>\n",
       "      <th>pred_bagging</th>\n",
       "      <th>pred_target</th>\n",
       "      <th>pred_correlation</th>\n",
       "      <th>pred_adaptive</th>\n",
       "      <th>err_grid</th>\n",
       "      <th>err_bagging</th>\n",
       "      <th>err_target</th>\n",
       "      <th>err_correlation</th>\n",
       "      <th>err_adaptive</th>\n",
       "    </tr>\n",
       "  </thead>\n",
       "  <tbody>\n",
       "    <tr>\n",
       "      <td>20051</td>\n",
       "      <td>-34.566249</td>\n",
       "      <td>-58.435773</td>\n",
       "      <td>42.0</td>\n",
       "      <td>2.0</td>\n",
       "      <td>2.0</td>\n",
       "      <td>0.44</td>\n",
       "      <td>29699.316073</td>\n",
       "      <td>0.0</td>\n",
       "      <td>1.0</td>\n",
       "      <td>0.0</td>\n",
       "      <td>...</td>\n",
       "      <td>175722.409825</td>\n",
       "      <td>172298.330775</td>\n",
       "      <td>156856.006793</td>\n",
       "      <td>172134.022894</td>\n",
       "      <td>158758.882963</td>\n",
       "      <td>-30722.409825</td>\n",
       "      <td>-27298.330775</td>\n",
       "      <td>-11856.006793</td>\n",
       "      <td>-27134.022894</td>\n",
       "      <td>-13758.882963</td>\n",
       "    </tr>\n",
       "    <tr>\n",
       "      <td>5831</td>\n",
       "      <td>-34.589389</td>\n",
       "      <td>-58.432844</td>\n",
       "      <td>61.0</td>\n",
       "      <td>19.0</td>\n",
       "      <td>3.0</td>\n",
       "      <td>14.62</td>\n",
       "      <td>15852.996062</td>\n",
       "      <td>0.0</td>\n",
       "      <td>1.0</td>\n",
       "      <td>0.0</td>\n",
       "      <td>...</td>\n",
       "      <td>261823.008135</td>\n",
       "      <td>249179.784396</td>\n",
       "      <td>239294.403200</td>\n",
       "      <td>277881.727786</td>\n",
       "      <td>235809.681662</td>\n",
       "      <td>-41823.008135</td>\n",
       "      <td>-29179.784396</td>\n",
       "      <td>-19294.403200</td>\n",
       "      <td>-57881.727786</td>\n",
       "      <td>-15809.681662</td>\n",
       "    </tr>\n",
       "    <tr>\n",
       "      <td>15088</td>\n",
       "      <td>-34.563948</td>\n",
       "      <td>-58.493088</td>\n",
       "      <td>47.0</td>\n",
       "      <td>9.0</td>\n",
       "      <td>2.0</td>\n",
       "      <td>4.68</td>\n",
       "      <td>11931.125315</td>\n",
       "      <td>0.0</td>\n",
       "      <td>1.0</td>\n",
       "      <td>0.0</td>\n",
       "      <td>...</td>\n",
       "      <td>154892.455080</td>\n",
       "      <td>153876.797042</td>\n",
       "      <td>159554.432176</td>\n",
       "      <td>167351.710535</td>\n",
       "      <td>153735.173950</td>\n",
       "      <td>30107.544920</td>\n",
       "      <td>31123.202958</td>\n",
       "      <td>25445.567824</td>\n",
       "      <td>17648.289465</td>\n",
       "      <td>31264.826050</td>\n",
       "    </tr>\n",
       "    <tr>\n",
       "      <td>21379</td>\n",
       "      <td>-34.559046</td>\n",
       "      <td>-58.475664</td>\n",
       "      <td>67.0</td>\n",
       "      <td>20.0</td>\n",
       "      <td>3.0</td>\n",
       "      <td>2.88</td>\n",
       "      <td>11832.936445</td>\n",
       "      <td>0.0</td>\n",
       "      <td>0.0</td>\n",
       "      <td>1.0</td>\n",
       "      <td>...</td>\n",
       "      <td>212968.819446</td>\n",
       "      <td>204228.461492</td>\n",
       "      <td>209484.286092</td>\n",
       "      <td>217129.343347</td>\n",
       "      <td>239762.185641</td>\n",
       "      <td>-22968.819446</td>\n",
       "      <td>-14228.461492</td>\n",
       "      <td>-19484.286092</td>\n",
       "      <td>-27129.343347</td>\n",
       "      <td>-49762.185641</td>\n",
       "    </tr>\n",
       "    <tr>\n",
       "      <td>15377</td>\n",
       "      <td>-34.573314</td>\n",
       "      <td>-58.486807</td>\n",
       "      <td>54.0</td>\n",
       "      <td>25.0</td>\n",
       "      <td>3.0</td>\n",
       "      <td>1.78</td>\n",
       "      <td>20794.036925</td>\n",
       "      <td>0.0</td>\n",
       "      <td>1.0</td>\n",
       "      <td>0.0</td>\n",
       "      <td>...</td>\n",
       "      <td>204268.313680</td>\n",
       "      <td>202061.734417</td>\n",
       "      <td>193127.804597</td>\n",
       "      <td>203968.636536</td>\n",
       "      <td>190209.259698</td>\n",
       "      <td>-29268.313680</td>\n",
       "      <td>-27061.734417</td>\n",
       "      <td>-18127.804597</td>\n",
       "      <td>-28968.636536</td>\n",
       "      <td>-15209.259698</td>\n",
       "    </tr>\n",
       "  </tbody>\n",
       "</table>\n",
       "<p>5 rows × 35 columns</p>\n",
       "</div>"
      ],
      "text/plain": [
       "             lat        lon  surface_covered  surface_uncovered  rooms    NBI  \\\n",
       "20051 -34.566249 -58.435773             42.0                2.0    2.0   0.44   \n",
       "5831  -34.589389 -58.432844             61.0               19.0    3.0  14.62   \n",
       "15088 -34.563948 -58.493088             47.0                9.0    2.0   4.68   \n",
       "21379 -34.559046 -58.475664             67.0               20.0    3.0   2.88   \n",
       "15377 -34.573314 -58.486807             54.0               25.0    3.0   1.78   \n",
       "\n",
       "           densidad  Casa  Departamento   PH  ...      pred_grid  \\\n",
       "20051  29699.316073   0.0           1.0  0.0  ...  175722.409825   \n",
       "5831   15852.996062   0.0           1.0  0.0  ...  261823.008135   \n",
       "15088  11931.125315   0.0           1.0  0.0  ...  154892.455080   \n",
       "21379  11832.936445   0.0           0.0  1.0  ...  212968.819446   \n",
       "15377  20794.036925   0.0           1.0  0.0  ...  204268.313680   \n",
       "\n",
       "        pred_bagging    pred_target  pred_correlation  pred_adaptive  \\\n",
       "20051  172298.330775  156856.006793     172134.022894  158758.882963   \n",
       "5831   249179.784396  239294.403200     277881.727786  235809.681662   \n",
       "15088  153876.797042  159554.432176     167351.710535  153735.173950   \n",
       "21379  204228.461492  209484.286092     217129.343347  239762.185641   \n",
       "15377  202061.734417  193127.804597     203968.636536  190209.259698   \n",
       "\n",
       "           err_grid   err_bagging    err_target  err_correlation  err_adaptive  \n",
       "20051 -30722.409825 -27298.330775 -11856.006793    -27134.022894 -13758.882963  \n",
       "5831  -41823.008135 -29179.784396 -19294.403200    -57881.727786 -15809.681662  \n",
       "15088  30107.544920  31123.202958  25445.567824     17648.289465  31264.826050  \n",
       "21379 -22968.819446 -14228.461492 -19484.286092    -27129.343347 -49762.185641  \n",
       "15377 -29268.313680 -27061.734417 -18127.804597    -28968.636536 -15209.259698  \n",
       "\n",
       "[5 rows x 35 columns]"
      ]
     },
     "execution_count": 51,
     "metadata": {},
     "output_type": "execute_result"
    }
   ],
   "source": [
    "columnas1 = ['pred_rfr', 'pred_xgb', 'err_rfr','err_xgb']\n",
    "columnas2 = ['pred_grid', 'pred_bagging','pred_target', 'pred_correlation',\\\n",
    "             'pred_adaptive','err_grid','err_bagging', 'err_target', 'err_correlation', 'err_adaptive']\n",
    "for x in columnas1:\n",
    "    df_test[x] = df_trees_test[x].values\n",
    "for y in columnas2:\n",
    "    df_test[y] = df_knn_test[y].values\n",
    "df_test.head()"
   ]
  },
  {
   "cell_type": "code",
   "execution_count": 57,
   "metadata": {},
   "outputs": [],
   "source": [
    "X_test = df_test[['lat', 'lon', 'surface_covered', 'surface_uncovered', 'rooms', 'NBI',\n",
    "       'densidad', 'Casa', 'Departamento', 'PH', 'BALVANERA', 'VILLA LUGANO',\n",
    "       'CONSTITUCION', 'FLORES', 'BOCA', 'NUNEZ', 'BELGRANO', 'RECOLETA',\n",
    "       'PALERMO']]\n",
    "y_test = df_test['price']"
   ]
  },
  {
   "cell_type": "code",
   "execution_count": 55,
   "metadata": {},
   "outputs": [],
   "source": [
    "y_aux_test_pred = rfc.predict(X_test)"
   ]
  },
  {
   "cell_type": "code",
   "execution_count": 64,
   "metadata": {},
   "outputs": [
    {
     "data": {
      "text/plain": [
       "'pred_adaptive'"
      ]
     },
     "execution_count": 64,
     "metadata": {},
     "output_type": "execute_result"
    }
   ],
   "source": [
    "'pred_'+y_aux_test_pred[4][4:len(y_aux_test_pred[4])]"
   ]
  },
  {
   "cell_type": "code",
   "execution_count": 65,
   "metadata": {},
   "outputs": [],
   "source": [
    "y_test_pred = []\n",
    "for i,index in enumerate(df_test.index):\n",
    "    # Elijo el modelo que tuvo menor error\n",
    "    modelo = 'pred_'+y_aux_test_pred[4][4:len(y_aux_test_pred[4])]\n",
    "    # Utilizo como predicción la de ese modelo\n",
    "    prediction = df_test.at[index,modelo]\n",
    "    y_test_pred.append(prediction)"
   ]
  },
  {
   "cell_type": "code",
   "execution_count": 100,
   "metadata": {},
   "outputs": [
    {
     "data": {
      "text/plain": [
       "29525.07899773691"
      ]
     },
     "execution_count": 100,
     "metadata": {},
     "output_type": "execute_result"
    }
   ],
   "source": [
    "rmse2 = np.sqrt(mean_squared_error(y_test_pred,y_test))\n",
    "rmse2"
   ]
  },
  {
   "cell_type": "markdown",
   "metadata": {},
   "source": [
    "### Ensemble: Decision Tree"
   ]
  },
  {
   "cell_type": "code",
   "execution_count": 68,
   "metadata": {},
   "outputs": [],
   "source": [
    "from sklearn.tree import DecisionTreeClassifier"
   ]
  },
  {
   "cell_type": "code",
   "execution_count": 105,
   "metadata": {},
   "outputs": [],
   "source": [
    "tree = DecisionTreeClassifier(max_depth=10)\n",
    "tree.fit(X_valid,y_valid)\n",
    "y_proba_pred = tree.predict_proba(X_test)"
   ]
  },
  {
   "cell_type": "code",
   "execution_count": 83,
   "metadata": {},
   "outputs": [
    {
     "data": {
      "text/plain": [
       "array([0.10785824, 0.11710324, 0.1248074 , 0.36671803, 0.13405239,\n",
       "       0.        , 0.14946071])"
      ]
     },
     "execution_count": 83,
     "metadata": {},
     "output_type": "execute_result"
    }
   ],
   "source": [
    "y_proba_pred[0]"
   ]
  },
  {
   "cell_type": "code",
   "execution_count": 92,
   "metadata": {},
   "outputs": [
    {
     "data": {
      "text/plain": [
       "Index(['pred_rfr', 'pred_xgb', 'err_rfr', 'err_xgb', 'pred_grid',\n",
       "       'pred_bagging', 'pred_target', 'pred_correlation', 'pred_adaptive'],\n",
       "      dtype='object')"
      ]
     },
     "execution_count": 92,
     "metadata": {},
     "output_type": "execute_result"
    }
   ],
   "source": [
    "df_valid.columns[21:30]"
   ]
  },
  {
   "cell_type": "code",
   "execution_count": 96,
   "metadata": {},
   "outputs": [],
   "source": [
    "y_pred_tree = []\n",
    "model_list = ['pred_rfr', 'pred_xgb', 'pred_grid',\\\n",
    "       'pred_bagging', 'pred_target', 'pred_correlation', 'pred_adaptive']\n",
    "for i,index in enumerate(df_test.index):\n",
    "    mean = 0\n",
    "    for k,x in enumerate(model_list):\n",
    "        # Me da la prediccion de cada modelo\n",
    "        pred = df_test.at[index,x]\n",
    "        # Le sumo su ponderación\n",
    "        mean += pred*y_proba_pred[i][k]\n",
    "    y_pred_tree.append(mean)"
   ]
  },
  {
   "cell_type": "code",
   "execution_count": 101,
   "metadata": {
    "scrolled": true
   },
   "outputs": [
    {
     "data": {
      "text/plain": [
       "28783.650980171522"
      ]
     },
     "execution_count": 101,
     "metadata": {},
     "output_type": "execute_result"
    }
   ],
   "source": [
    "rmse3 = np.sqrt(mean_squared_error(y_pred_tree,y_test))\n",
    "rmse3"
   ]
  },
  {
   "cell_type": "markdown",
   "metadata": {},
   "source": [
    "### Ensemble: Decision Tree 2"
   ]
  },
  {
   "cell_type": "code",
   "execution_count": 106,
   "metadata": {},
   "outputs": [],
   "source": [
    "tree2 = DecisionTreeClassifier(max_depth=5)\n",
    "tree2.fit(X_valid,y_valid)\n",
    "y_proba_pred2 = tree2.predict_proba(X_test)"
   ]
  },
  {
   "cell_type": "code",
   "execution_count": 107,
   "metadata": {},
   "outputs": [],
   "source": [
    "y_pred_tree2 = []\n",
    "model_list = ['pred_rfr', 'pred_xgb', 'pred_grid',\\\n",
    "       'pred_bagging', 'pred_target', 'pred_correlation', 'pred_adaptive']\n",
    "for i,index in enumerate(df_test.index):\n",
    "    mean = 0\n",
    "    for k,x in enumerate(model_list):\n",
    "        # Me da la prediccion de cada modelo\n",
    "        pred = df_test.at[index,x]\n",
    "        # Le sumo su ponderación\n",
    "        mean += pred*y_proba_pred2[i][k]\n",
    "    y_pred_tree2.append(mean)"
   ]
  },
  {
   "cell_type": "code",
   "execution_count": 108,
   "metadata": {
    "scrolled": true
   },
   "outputs": [
    {
     "data": {
      "text/plain": [
       "28371.16843423672"
      ]
     },
     "execution_count": 108,
     "metadata": {},
     "output_type": "execute_result"
    }
   ],
   "source": [
    "rmse4 = np.sqrt(mean_squared_error(y_pred_tree2,y_test))\n",
    "rmse4"
   ]
  }
 ],
 "metadata": {
  "kernelspec": {
   "display_name": "Python 3",
   "language": "python",
   "name": "python3"
  },
  "language_info": {
   "codemirror_mode": {
    "name": "ipython",
    "version": 3
   },
   "file_extension": ".py",
   "mimetype": "text/x-python",
   "name": "python",
   "nbconvert_exporter": "python",
   "pygments_lexer": "ipython3",
   "version": "3.7.4"
  }
 },
 "nbformat": 4,
 "nbformat_minor": 2
}
