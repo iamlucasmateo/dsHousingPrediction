{
 "cells": [
  {
   "cell_type": "markdown",
   "metadata": {},
   "source": [
    "# Decision Tree Models para el mercado inmobiliario"
   ]
  },
  {
   "cell_type": "markdown",
   "metadata": {},
   "source": [
    "En el presente notebook investigamos distintos tipos de modelos basados en árboles de decisión para predecir los valores de las propiedades en el mercado inmobiliario de Buenos Aires. Los árboles de decisión y sus ensambles tienen la capacidad de generar buenos ajustes en datasets heterogéneos y complejos como el que trabajamos aquí. La información ha sido extraída de [Properati](https://www.properati.com.ar/data/).\n",
    "\n",
    "Empezamos por importar librerías, y acomodar el dataset para su posterior modelado."
   ]
  },
  {
   "cell_type": "code",
   "execution_count": 1,
   "metadata": {},
   "outputs": [],
   "source": [
    "import os\n",
    "# import warnings\n",
    "# warnings.filterwarnings('ignore')\n",
    "import pandas as pd\n",
    "import numpy as np\n",
    "import matplotlib.pylab as plt\n",
    "import seaborn as sns"
   ]
  },
  {
   "cell_type": "code",
   "execution_count": 2,
   "metadata": {},
   "outputs": [
    {
     "data": {
      "text/html": [
       "<div>\n",
       "<style scoped>\n",
       "    .dataframe tbody tr th:only-of-type {\n",
       "        vertical-align: middle;\n",
       "    }\n",
       "\n",
       "    .dataframe tbody tr th {\n",
       "        vertical-align: top;\n",
       "    }\n",
       "\n",
       "    .dataframe thead th {\n",
       "        text-align: right;\n",
       "    }\n",
       "</style>\n",
       "<table border=\"1\" class=\"dataframe\">\n",
       "  <thead>\n",
       "    <tr style=\"text-align: right;\">\n",
       "      <th></th>\n",
       "      <th>created_on</th>\n",
       "      <th>lat</th>\n",
       "      <th>lon</th>\n",
       "      <th>barrio_publicado</th>\n",
       "      <th>rooms</th>\n",
       "      <th>surface_total</th>\n",
       "      <th>surface_covered</th>\n",
       "      <th>price</th>\n",
       "      <th>title</th>\n",
       "      <th>description</th>\n",
       "      <th>property_type</th>\n",
       "      <th>barrio</th>\n",
       "      <th>surface_uncovered</th>\n",
       "      <th>price_m2</th>\n",
       "    </tr>\n",
       "  </thead>\n",
       "  <tbody>\n",
       "    <tr>\n",
       "      <td>0</td>\n",
       "      <td>2019-08-04</td>\n",
       "      <td>-34.601864</td>\n",
       "      <td>-58.443563</td>\n",
       "      <td>Villa Crespo</td>\n",
       "      <td>3.0</td>\n",
       "      <td>67.0</td>\n",
       "      <td>60.0</td>\n",
       "      <td>110000.0</td>\n",
       "      <td>Departamento venta</td>\n",
       "      <td>Warnes al 500 – Villa Crespo – CABA. \\r\\nAmpli...</td>\n",
       "      <td>Departamento</td>\n",
       "      <td>VILLA CRESPO</td>\n",
       "      <td>7.0</td>\n",
       "      <td>1732.283465</td>\n",
       "    </tr>\n",
       "    <tr>\n",
       "      <td>1</td>\n",
       "      <td>2019-08-04</td>\n",
       "      <td>-34.644735</td>\n",
       "      <td>-58.421061</td>\n",
       "      <td>Boedo</td>\n",
       "      <td>2.0</td>\n",
       "      <td>40.0</td>\n",
       "      <td>40.0</td>\n",
       "      <td>79900.0</td>\n",
       "      <td>Departamento - Boedo - 2 amb  MUY LUMINOSO!!  ...</td>\n",
       "      <td>GRAN OPORTUNIDAD, SE BAJO DE PRECIO!!  IDEAL I...</td>\n",
       "      <td>Departamento</td>\n",
       "      <td>NUEVA POMPEYA</td>\n",
       "      <td>0.0</td>\n",
       "      <td>1997.500000</td>\n",
       "    </tr>\n",
       "    <tr>\n",
       "      <td>2</td>\n",
       "      <td>2019-08-04</td>\n",
       "      <td>-34.603423</td>\n",
       "      <td>-58.431140</td>\n",
       "      <td>Almagro</td>\n",
       "      <td>2.0</td>\n",
       "      <td>38.0</td>\n",
       "      <td>38.0</td>\n",
       "      <td>112000.0</td>\n",
       "      <td>Dos Ambientes Reciclado a 1 cuadra del Subte B</td>\n",
       "      <td>Dos Ambientes Reciclado, primer piso contrafre...</td>\n",
       "      <td>Departamento</td>\n",
       "      <td>ALMAGRO</td>\n",
       "      <td>0.0</td>\n",
       "      <td>2947.368421</td>\n",
       "    </tr>\n",
       "    <tr>\n",
       "      <td>3</td>\n",
       "      <td>2019-08-04</td>\n",
       "      <td>-34.609326</td>\n",
       "      <td>-58.492374</td>\n",
       "      <td>Villa del Parque</td>\n",
       "      <td>2.0</td>\n",
       "      <td>94.0</td>\n",
       "      <td>77.0</td>\n",
       "      <td>169000.0</td>\n",
       "      <td>PH  DE 3 PLANTAS  CON COCHERA PROPIA Y TERRAZA</td>\n",
       "      <td>Hermoso e impecable triplex con vista verde ha...</td>\n",
       "      <td>PH</td>\n",
       "      <td>VILLA DEL PARQUE</td>\n",
       "      <td>17.0</td>\n",
       "      <td>1976.608187</td>\n",
       "    </tr>\n",
       "    <tr>\n",
       "      <td>4</td>\n",
       "      <td>2019-05-27</td>\n",
       "      <td>-34.629607</td>\n",
       "      <td>-58.439279</td>\n",
       "      <td>NaN</td>\n",
       "      <td>1.0</td>\n",
       "      <td>41.0</td>\n",
       "      <td>37.0</td>\n",
       "      <td>118000.0</td>\n",
       "      <td>Departamento venta</td>\n",
       "      <td>Increible departamento 41 m2, mono ambiente en...</td>\n",
       "      <td>Departamento</td>\n",
       "      <td>PARQUE CHACABUCO</td>\n",
       "      <td>4.0</td>\n",
       "      <td>3025.641026</td>\n",
       "    </tr>\n",
       "  </tbody>\n",
       "</table>\n",
       "</div>"
      ],
      "text/plain": [
       "   created_on        lat        lon  barrio_publicado  rooms  surface_total  \\\n",
       "0  2019-08-04 -34.601864 -58.443563      Villa Crespo    3.0           67.0   \n",
       "1  2019-08-04 -34.644735 -58.421061             Boedo    2.0           40.0   \n",
       "2  2019-08-04 -34.603423 -58.431140           Almagro    2.0           38.0   \n",
       "3  2019-08-04 -34.609326 -58.492374  Villa del Parque    2.0           94.0   \n",
       "4  2019-05-27 -34.629607 -58.439279               NaN    1.0           41.0   \n",
       "\n",
       "   surface_covered     price  \\\n",
       "0             60.0  110000.0   \n",
       "1             40.0   79900.0   \n",
       "2             38.0  112000.0   \n",
       "3             77.0  169000.0   \n",
       "4             37.0  118000.0   \n",
       "\n",
       "                                               title  \\\n",
       "0                                 Departamento venta   \n",
       "1  Departamento - Boedo - 2 amb  MUY LUMINOSO!!  ...   \n",
       "2     Dos Ambientes Reciclado a 1 cuadra del Subte B   \n",
       "3     PH  DE 3 PLANTAS  CON COCHERA PROPIA Y TERRAZA   \n",
       "4                                 Departamento venta   \n",
       "\n",
       "                                         description property_type  \\\n",
       "0  Warnes al 500 – Villa Crespo – CABA. \\r\\nAmpli...  Departamento   \n",
       "1  GRAN OPORTUNIDAD, SE BAJO DE PRECIO!!  IDEAL I...  Departamento   \n",
       "2  Dos Ambientes Reciclado, primer piso contrafre...  Departamento   \n",
       "3  Hermoso e impecable triplex con vista verde ha...            PH   \n",
       "4  Increible departamento 41 m2, mono ambiente en...  Departamento   \n",
       "\n",
       "             barrio  surface_uncovered     price_m2  \n",
       "0      VILLA CRESPO                7.0  1732.283465  \n",
       "1     NUEVA POMPEYA                0.0  1997.500000  \n",
       "2           ALMAGRO                0.0  2947.368421  \n",
       "3  VILLA DEL PARQUE               17.0  1976.608187  \n",
       "4  PARQUE CHACABUCO                4.0  3025.641026  "
      ]
     },
     "execution_count": 2,
     "metadata": {},
     "output_type": "execute_result"
    }
   ],
   "source": [
    "os.chdir('..')\n",
    "df = pd.read_csv('Data/Properati_data_clean.csv')\n",
    "os.chdir('Notebooks')\n",
    "df.head()"
   ]
  },
  {
   "cell_type": "markdown",
   "metadata": {},
   "source": [
    "### Feature Engineering"
   ]
  },
  {
   "cell_type": "markdown",
   "metadata": {},
   "source": [
    "Vamos a eliminar algunas variables que no consideremos relevantes, convertir otras a dummies y agregar algunas cruzando nuestro dataset con información extraída de otras fuentes."
   ]
  },
  {
   "cell_type": "code",
   "execution_count": 3,
   "metadata": {},
   "outputs": [
    {
     "data": {
      "text/html": [
       "<div>\n",
       "<style scoped>\n",
       "    .dataframe tbody tr th:only-of-type {\n",
       "        vertical-align: middle;\n",
       "    }\n",
       "\n",
       "    .dataframe tbody tr th {\n",
       "        vertical-align: top;\n",
       "    }\n",
       "\n",
       "    .dataframe thead th {\n",
       "        text-align: right;\n",
       "    }\n",
       "</style>\n",
       "<table border=\"1\" class=\"dataframe\">\n",
       "  <thead>\n",
       "    <tr style=\"text-align: right;\">\n",
       "      <th></th>\n",
       "      <th>lat</th>\n",
       "      <th>lon</th>\n",
       "      <th>rooms</th>\n",
       "      <th>surface_total</th>\n",
       "      <th>surface_covered</th>\n",
       "      <th>price</th>\n",
       "      <th>barrio</th>\n",
       "      <th>surface_uncovered</th>\n",
       "      <th>PH</th>\n",
       "      <th>Casa</th>\n",
       "    </tr>\n",
       "  </thead>\n",
       "  <tbody>\n",
       "    <tr>\n",
       "      <td>0</td>\n",
       "      <td>-34.601864</td>\n",
       "      <td>-58.443563</td>\n",
       "      <td>3.0</td>\n",
       "      <td>67.0</td>\n",
       "      <td>60.0</td>\n",
       "      <td>110000.0</td>\n",
       "      <td>VILLA CRESPO</td>\n",
       "      <td>7.0</td>\n",
       "      <td>0</td>\n",
       "      <td>0</td>\n",
       "    </tr>\n",
       "    <tr>\n",
       "      <td>1</td>\n",
       "      <td>-34.644735</td>\n",
       "      <td>-58.421061</td>\n",
       "      <td>2.0</td>\n",
       "      <td>40.0</td>\n",
       "      <td>40.0</td>\n",
       "      <td>79900.0</td>\n",
       "      <td>NUEVA POMPEYA</td>\n",
       "      <td>0.0</td>\n",
       "      <td>0</td>\n",
       "      <td>0</td>\n",
       "    </tr>\n",
       "    <tr>\n",
       "      <td>2</td>\n",
       "      <td>-34.603423</td>\n",
       "      <td>-58.431140</td>\n",
       "      <td>2.0</td>\n",
       "      <td>38.0</td>\n",
       "      <td>38.0</td>\n",
       "      <td>112000.0</td>\n",
       "      <td>ALMAGRO</td>\n",
       "      <td>0.0</td>\n",
       "      <td>0</td>\n",
       "      <td>0</td>\n",
       "    </tr>\n",
       "    <tr>\n",
       "      <td>3</td>\n",
       "      <td>-34.609326</td>\n",
       "      <td>-58.492374</td>\n",
       "      <td>2.0</td>\n",
       "      <td>94.0</td>\n",
       "      <td>77.0</td>\n",
       "      <td>169000.0</td>\n",
       "      <td>VILLA DEL PARQUE</td>\n",
       "      <td>17.0</td>\n",
       "      <td>1</td>\n",
       "      <td>0</td>\n",
       "    </tr>\n",
       "    <tr>\n",
       "      <td>4</td>\n",
       "      <td>-34.629607</td>\n",
       "      <td>-58.439279</td>\n",
       "      <td>1.0</td>\n",
       "      <td>41.0</td>\n",
       "      <td>37.0</td>\n",
       "      <td>118000.0</td>\n",
       "      <td>PARQUE CHACABUCO</td>\n",
       "      <td>4.0</td>\n",
       "      <td>0</td>\n",
       "      <td>0</td>\n",
       "    </tr>\n",
       "    <tr>\n",
       "      <td>...</td>\n",
       "      <td>...</td>\n",
       "      <td>...</td>\n",
       "      <td>...</td>\n",
       "      <td>...</td>\n",
       "      <td>...</td>\n",
       "      <td>...</td>\n",
       "      <td>...</td>\n",
       "      <td>...</td>\n",
       "      <td>...</td>\n",
       "      <td>...</td>\n",
       "    </tr>\n",
       "    <tr>\n",
       "      <td>25505</td>\n",
       "      <td>-34.580718</td>\n",
       "      <td>-58.440610</td>\n",
       "      <td>4.0</td>\n",
       "      <td>82.0</td>\n",
       "      <td>77.0</td>\n",
       "      <td>250000.0</td>\n",
       "      <td>PALERMO</td>\n",
       "      <td>5.0</td>\n",
       "      <td>0</td>\n",
       "      <td>0</td>\n",
       "    </tr>\n",
       "    <tr>\n",
       "      <td>25506</td>\n",
       "      <td>-34.578688</td>\n",
       "      <td>-58.435533</td>\n",
       "      <td>2.0</td>\n",
       "      <td>80.0</td>\n",
       "      <td>80.0</td>\n",
       "      <td>170000.0</td>\n",
       "      <td>PALERMO</td>\n",
       "      <td>0.0</td>\n",
       "      <td>0</td>\n",
       "      <td>0</td>\n",
       "    </tr>\n",
       "    <tr>\n",
       "      <td>25507</td>\n",
       "      <td>-34.581425</td>\n",
       "      <td>-58.442707</td>\n",
       "      <td>3.0</td>\n",
       "      <td>88.0</td>\n",
       "      <td>82.0</td>\n",
       "      <td>399000.0</td>\n",
       "      <td>PALERMO</td>\n",
       "      <td>6.0</td>\n",
       "      <td>0</td>\n",
       "      <td>0</td>\n",
       "    </tr>\n",
       "    <tr>\n",
       "      <td>25508</td>\n",
       "      <td>-34.576573</td>\n",
       "      <td>-58.434394</td>\n",
       "      <td>3.0</td>\n",
       "      <td>84.0</td>\n",
       "      <td>84.0</td>\n",
       "      <td>178000.0</td>\n",
       "      <td>PALERMO</td>\n",
       "      <td>0.0</td>\n",
       "      <td>1</td>\n",
       "      <td>0</td>\n",
       "    </tr>\n",
       "    <tr>\n",
       "      <td>25509</td>\n",
       "      <td>-34.583995</td>\n",
       "      <td>-58.417645</td>\n",
       "      <td>3.0</td>\n",
       "      <td>145.0</td>\n",
       "      <td>145.0</td>\n",
       "      <td>420000.0</td>\n",
       "      <td>PALERMO</td>\n",
       "      <td>0.0</td>\n",
       "      <td>0</td>\n",
       "      <td>0</td>\n",
       "    </tr>\n",
       "  </tbody>\n",
       "</table>\n",
       "<p>25510 rows × 10 columns</p>\n",
       "</div>"
      ],
      "text/plain": [
       "             lat        lon  rooms  surface_total  surface_covered     price  \\\n",
       "0     -34.601864 -58.443563    3.0           67.0             60.0  110000.0   \n",
       "1     -34.644735 -58.421061    2.0           40.0             40.0   79900.0   \n",
       "2     -34.603423 -58.431140    2.0           38.0             38.0  112000.0   \n",
       "3     -34.609326 -58.492374    2.0           94.0             77.0  169000.0   \n",
       "4     -34.629607 -58.439279    1.0           41.0             37.0  118000.0   \n",
       "...          ...        ...    ...            ...              ...       ...   \n",
       "25505 -34.580718 -58.440610    4.0           82.0             77.0  250000.0   \n",
       "25506 -34.578688 -58.435533    2.0           80.0             80.0  170000.0   \n",
       "25507 -34.581425 -58.442707    3.0           88.0             82.0  399000.0   \n",
       "25508 -34.576573 -58.434394    3.0           84.0             84.0  178000.0   \n",
       "25509 -34.583995 -58.417645    3.0          145.0            145.0  420000.0   \n",
       "\n",
       "                 barrio  surface_uncovered  PH  Casa  \n",
       "0          VILLA CRESPO                7.0   0     0  \n",
       "1         NUEVA POMPEYA                0.0   0     0  \n",
       "2               ALMAGRO                0.0   0     0  \n",
       "3      VILLA DEL PARQUE               17.0   1     0  \n",
       "4      PARQUE CHACABUCO                4.0   0     0  \n",
       "...                 ...                ...  ..   ...  \n",
       "25505           PALERMO                5.0   0     0  \n",
       "25506           PALERMO                0.0   0     0  \n",
       "25507           PALERMO                6.0   0     0  \n",
       "25508           PALERMO                0.0   1     0  \n",
       "25509           PALERMO                0.0   0     0  \n",
       "\n",
       "[25510 rows x 10 columns]"
      ]
     },
     "execution_count": 3,
     "metadata": {},
     "output_type": "execute_result"
    }
   ],
   "source": [
    "# Dropeamos columnas\n",
    "df.drop(columns=['created_on','barrio_publicado','title','description','price_m2'],inplace=True)\n",
    "# Agregamos dummies para property_type (tres tipos, dos dummies)\n",
    "df['PH'] = np.where((df.property_type == 'PH'),1,0)\n",
    "df['Casa'] = np.where((df.property_type == 'casa'),1,0)\n",
    "# Eliminamos esta columna cualitativa\n",
    "df.drop(columns='property_type',inplace=True)\n",
    "# Eliminamos los NaNs (están en la columna Rooms) y reseteamos el index\n",
    "df.dropna(inplace=True)\n",
    "df.reset_index(inplace=True,drop=True)\n",
    "# A ver...\n",
    "df"
   ]
  },
  {
   "cell_type": "markdown",
   "metadata": {},
   "source": [
    "A continuación vamos a agregar algunos features que podrían ser relevantes para determinar el valor de una propiedad, y que, cuando están disponibles, suelen utilizarse en modelos predictivos del precio. Se trata de la densidad poblacional y el ingreso pér capita. En el caso de la Ciudad de Buenos Aires, dicha información es publicada por comuna, por la [Dirección de Estadística y Censos](https://www.estadisticaciudad.gob.ar/eyc/). Para poder aplicarla a nuestro dataset, vamos a utilizar adicionalmente el mapeo de barrios a comunas publicado en [BA Data](https://data.buenosaires.gob.ar/dataset/barrios)."
   ]
  },
  {
   "cell_type": "code",
   "execution_count": 4,
   "metadata": {},
   "outputs": [
    {
     "data": {
      "text/html": [
       "<div>\n",
       "<style scoped>\n",
       "    .dataframe tbody tr th:only-of-type {\n",
       "        vertical-align: middle;\n",
       "    }\n",
       "\n",
       "    .dataframe tbody tr th {\n",
       "        vertical-align: top;\n",
       "    }\n",
       "\n",
       "    .dataframe thead th {\n",
       "        text-align: right;\n",
       "    }\n",
       "</style>\n",
       "<table border=\"1\" class=\"dataframe\">\n",
       "  <thead>\n",
       "    <tr style=\"text-align: right;\">\n",
       "      <th></th>\n",
       "      <th>BARRIO</th>\n",
       "      <th>COMUNA</th>\n",
       "    </tr>\n",
       "  </thead>\n",
       "  <tbody>\n",
       "    <tr>\n",
       "      <td>0</td>\n",
       "      <td>AGRONOMIA</td>\n",
       "      <td>15</td>\n",
       "    </tr>\n",
       "    <tr>\n",
       "      <td>1</td>\n",
       "      <td>ALMAGRO</td>\n",
       "      <td>5</td>\n",
       "    </tr>\n",
       "    <tr>\n",
       "      <td>2</td>\n",
       "      <td>BALVANERA</td>\n",
       "      <td>3</td>\n",
       "    </tr>\n",
       "    <tr>\n",
       "      <td>3</td>\n",
       "      <td>BARRACAS</td>\n",
       "      <td>4</td>\n",
       "    </tr>\n",
       "    <tr>\n",
       "      <td>4</td>\n",
       "      <td>BELGRANO</td>\n",
       "      <td>13</td>\n",
       "    </tr>\n",
       "  </tbody>\n",
       "</table>\n",
       "</div>"
      ],
      "text/plain": [
       "      BARRIO  COMUNA\n",
       "0  AGRONOMIA      15\n",
       "1    ALMAGRO       5\n",
       "2  BALVANERA       3\n",
       "3   BARRACAS       4\n",
       "4   BELGRANO      13"
      ]
     },
     "execution_count": 4,
     "metadata": {},
     "output_type": "execute_result"
    }
   ],
   "source": [
    "os.chdir('..')\n",
    "df_comunas = pd.read_csv('Data/barrios_comunas.csv')\n",
    "df_densidad = pd.read_csv('Data/densidad_poblacional_por_comuna_CABA_2018.csv')\n",
    "df_ingreso = pd.read_csv('Data/ingreso_per_cap_2018_por_comuna_CABA.csv')\n",
    "os.chdir('Notebooks')\n",
    "df_comunas.head()"
   ]
  },
  {
   "cell_type": "code",
   "execution_count": 5,
   "metadata": {},
   "outputs": [],
   "source": [
    "# Creamos función que asigna comunas a barrios\n",
    "def comuna(barrio):\n",
    "    for j in range(len(df_comunas)):\n",
    "        comuna = 0\n",
    "        if df_comunas.at[j,'BARRIO'] == barrio:\n",
    "            comuna = df_comunas.at[j,'COMUNA']\n",
    "            break\n",
    "    return comuna"
   ]
  },
  {
   "cell_type": "code",
   "execution_count": 6,
   "metadata": {},
   "outputs": [],
   "source": [
    "# Asignamos comuna al df con la función así definida\n",
    "df['comuna'] = 0\n",
    "for i in range(len(df)):\n",
    "    df.at[i,'comuna'] = comuna(df.at[i,'barrio'])"
   ]
  },
  {
   "cell_type": "markdown",
   "metadata": {},
   "source": [
    "Ahora sí agregamos ingreso pér cápita y densidad poblacional a cada propiedad, en función de su comuna. Nótese que como éstas dos variables no están perfectamente correlacionadas, puede servirnos agregar las dos a pesar de que dividan el dataset en las mismas comunas."
   ]
  },
  {
   "cell_type": "code",
   "execution_count": 7,
   "metadata": {},
   "outputs": [
    {
     "data": {
      "text/html": [
       "<div>\n",
       "<style scoped>\n",
       "    .dataframe tbody tr th:only-of-type {\n",
       "        vertical-align: middle;\n",
       "    }\n",
       "\n",
       "    .dataframe tbody tr th {\n",
       "        vertical-align: top;\n",
       "    }\n",
       "\n",
       "    .dataframe thead th {\n",
       "        text-align: right;\n",
       "    }\n",
       "</style>\n",
       "<table border=\"1\" class=\"dataframe\">\n",
       "  <thead>\n",
       "    <tr style=\"text-align: right;\">\n",
       "      <th></th>\n",
       "      <th>comuna</th>\n",
       "      <th>ingreso</th>\n",
       "    </tr>\n",
       "  </thead>\n",
       "  <tbody>\n",
       "    <tr>\n",
       "      <td>0</td>\n",
       "      <td>1</td>\n",
       "      <td>22162</td>\n",
       "    </tr>\n",
       "    <tr>\n",
       "      <td>1</td>\n",
       "      <td>2</td>\n",
       "      <td>31249</td>\n",
       "    </tr>\n",
       "    <tr>\n",
       "      <td>2</td>\n",
       "      <td>3</td>\n",
       "      <td>19692</td>\n",
       "    </tr>\n",
       "    <tr>\n",
       "      <td>3</td>\n",
       "      <td>4</td>\n",
       "      <td>14176</td>\n",
       "    </tr>\n",
       "    <tr>\n",
       "      <td>4</td>\n",
       "      <td>5</td>\n",
       "      <td>22502</td>\n",
       "    </tr>\n",
       "  </tbody>\n",
       "</table>\n",
       "</div>"
      ],
      "text/plain": [
       "   comuna  ingreso\n",
       "0       1    22162\n",
       "1       2    31249\n",
       "2       3    19692\n",
       "3       4    14176\n",
       "4       5    22502"
      ]
     },
     "execution_count": 7,
     "metadata": {},
     "output_type": "execute_result"
    }
   ],
   "source": [
    "df_ingreso.head()"
   ]
  },
  {
   "cell_type": "code",
   "execution_count": 8,
   "metadata": {},
   "outputs": [],
   "source": [
    "# Función para asignar valor según comuna, nos servirá para ingreso y densidad\n",
    "\n",
    "def valor(df,comuna,rubro):\n",
    "    valor = 0\n",
    "    for i in range(len(df)):\n",
    "        if df.at[i,'comuna'] == comuna:\n",
    "            valor = df.at[i,rubro]\n",
    "    return valor"
   ]
  },
  {
   "cell_type": "code",
   "execution_count": 9,
   "metadata": {},
   "outputs": [],
   "source": [
    "# Asignamos ingreso y densidad al df con esta función\n",
    "df['ingres_pcap'] = 0\n",
    "df['densidad'] = 0\n",
    "for i in range(len(df)):\n",
    "    df.at[i,'ingres_pcap'] = valor(df_ingreso,df.at[i,'comuna'],'ingreso')\n",
    "    df.at[i,'densidad'] = valor(df_densidad,df.at[i,'comuna'],'densidad')"
   ]
  },
  {
   "cell_type": "code",
   "execution_count": 10,
   "metadata": {},
   "outputs": [
    {
     "data": {
      "text/html": [
       "<div>\n",
       "<style scoped>\n",
       "    .dataframe tbody tr th:only-of-type {\n",
       "        vertical-align: middle;\n",
       "    }\n",
       "\n",
       "    .dataframe tbody tr th {\n",
       "        vertical-align: top;\n",
       "    }\n",
       "\n",
       "    .dataframe thead th {\n",
       "        text-align: right;\n",
       "    }\n",
       "</style>\n",
       "<table border=\"1\" class=\"dataframe\">\n",
       "  <thead>\n",
       "    <tr style=\"text-align: right;\">\n",
       "      <th></th>\n",
       "      <th>lat</th>\n",
       "      <th>lon</th>\n",
       "      <th>rooms</th>\n",
       "      <th>surface_total</th>\n",
       "      <th>surface_covered</th>\n",
       "      <th>price</th>\n",
       "      <th>surface_uncovered</th>\n",
       "      <th>PH</th>\n",
       "      <th>Casa</th>\n",
       "      <th>comuna</th>\n",
       "      <th>ingres_pcap</th>\n",
       "      <th>densidad</th>\n",
       "    </tr>\n",
       "  </thead>\n",
       "  <tbody>\n",
       "    <tr>\n",
       "      <td>0</td>\n",
       "      <td>-34.601864</td>\n",
       "      <td>-58.443563</td>\n",
       "      <td>3.0</td>\n",
       "      <td>67.0</td>\n",
       "      <td>60.0</td>\n",
       "      <td>110000.0</td>\n",
       "      <td>7.0</td>\n",
       "      <td>0</td>\n",
       "      <td>0</td>\n",
       "      <td>15</td>\n",
       "      <td>20204</td>\n",
       "      <td>12737</td>\n",
       "    </tr>\n",
       "    <tr>\n",
       "      <td>1</td>\n",
       "      <td>-34.644735</td>\n",
       "      <td>-58.421061</td>\n",
       "      <td>2.0</td>\n",
       "      <td>40.0</td>\n",
       "      <td>40.0</td>\n",
       "      <td>79900.0</td>\n",
       "      <td>0.0</td>\n",
       "      <td>0</td>\n",
       "      <td>0</td>\n",
       "      <td>4</td>\n",
       "      <td>14176</td>\n",
       "      <td>11042</td>\n",
       "    </tr>\n",
       "    <tr>\n",
       "      <td>2</td>\n",
       "      <td>-34.603423</td>\n",
       "      <td>-58.431140</td>\n",
       "      <td>2.0</td>\n",
       "      <td>38.0</td>\n",
       "      <td>38.0</td>\n",
       "      <td>112000.0</td>\n",
       "      <td>0.0</td>\n",
       "      <td>0</td>\n",
       "      <td>0</td>\n",
       "      <td>5</td>\n",
       "      <td>22502</td>\n",
       "      <td>28106</td>\n",
       "    </tr>\n",
       "    <tr>\n",
       "      <td>3</td>\n",
       "      <td>-34.609326</td>\n",
       "      <td>-58.492374</td>\n",
       "      <td>2.0</td>\n",
       "      <td>94.0</td>\n",
       "      <td>77.0</td>\n",
       "      <td>169000.0</td>\n",
       "      <td>17.0</td>\n",
       "      <td>1</td>\n",
       "      <td>0</td>\n",
       "      <td>11</td>\n",
       "      <td>20827</td>\n",
       "      <td>13458</td>\n",
       "    </tr>\n",
       "    <tr>\n",
       "      <td>4</td>\n",
       "      <td>-34.629607</td>\n",
       "      <td>-58.439279</td>\n",
       "      <td>1.0</td>\n",
       "      <td>41.0</td>\n",
       "      <td>37.0</td>\n",
       "      <td>118000.0</td>\n",
       "      <td>4.0</td>\n",
       "      <td>0</td>\n",
       "      <td>0</td>\n",
       "      <td>7</td>\n",
       "      <td>17272</td>\n",
       "      <td>19398</td>\n",
       "    </tr>\n",
       "    <tr>\n",
       "      <td>...</td>\n",
       "      <td>...</td>\n",
       "      <td>...</td>\n",
       "      <td>...</td>\n",
       "      <td>...</td>\n",
       "      <td>...</td>\n",
       "      <td>...</td>\n",
       "      <td>...</td>\n",
       "      <td>...</td>\n",
       "      <td>...</td>\n",
       "      <td>...</td>\n",
       "      <td>...</td>\n",
       "      <td>...</td>\n",
       "    </tr>\n",
       "    <tr>\n",
       "      <td>25505</td>\n",
       "      <td>-34.580718</td>\n",
       "      <td>-58.440610</td>\n",
       "      <td>4.0</td>\n",
       "      <td>82.0</td>\n",
       "      <td>77.0</td>\n",
       "      <td>250000.0</td>\n",
       "      <td>5.0</td>\n",
       "      <td>0</td>\n",
       "      <td>0</td>\n",
       "      <td>14</td>\n",
       "      <td>34357</td>\n",
       "      <td>14325</td>\n",
       "    </tr>\n",
       "    <tr>\n",
       "      <td>25506</td>\n",
       "      <td>-34.578688</td>\n",
       "      <td>-58.435533</td>\n",
       "      <td>2.0</td>\n",
       "      <td>80.0</td>\n",
       "      <td>80.0</td>\n",
       "      <td>170000.0</td>\n",
       "      <td>0.0</td>\n",
       "      <td>0</td>\n",
       "      <td>0</td>\n",
       "      <td>14</td>\n",
       "      <td>34357</td>\n",
       "      <td>14325</td>\n",
       "    </tr>\n",
       "    <tr>\n",
       "      <td>25507</td>\n",
       "      <td>-34.581425</td>\n",
       "      <td>-58.442707</td>\n",
       "      <td>3.0</td>\n",
       "      <td>88.0</td>\n",
       "      <td>82.0</td>\n",
       "      <td>399000.0</td>\n",
       "      <td>6.0</td>\n",
       "      <td>0</td>\n",
       "      <td>0</td>\n",
       "      <td>14</td>\n",
       "      <td>34357</td>\n",
       "      <td>14325</td>\n",
       "    </tr>\n",
       "    <tr>\n",
       "      <td>25508</td>\n",
       "      <td>-34.576573</td>\n",
       "      <td>-58.434394</td>\n",
       "      <td>3.0</td>\n",
       "      <td>84.0</td>\n",
       "      <td>84.0</td>\n",
       "      <td>178000.0</td>\n",
       "      <td>0.0</td>\n",
       "      <td>1</td>\n",
       "      <td>0</td>\n",
       "      <td>14</td>\n",
       "      <td>34357</td>\n",
       "      <td>14325</td>\n",
       "    </tr>\n",
       "    <tr>\n",
       "      <td>25509</td>\n",
       "      <td>-34.583995</td>\n",
       "      <td>-58.417645</td>\n",
       "      <td>3.0</td>\n",
       "      <td>145.0</td>\n",
       "      <td>145.0</td>\n",
       "      <td>420000.0</td>\n",
       "      <td>0.0</td>\n",
       "      <td>0</td>\n",
       "      <td>0</td>\n",
       "      <td>14</td>\n",
       "      <td>34357</td>\n",
       "      <td>14325</td>\n",
       "    </tr>\n",
       "  </tbody>\n",
       "</table>\n",
       "<p>25510 rows × 12 columns</p>\n",
       "</div>"
      ],
      "text/plain": [
       "             lat        lon  rooms  surface_total  surface_covered     price  \\\n",
       "0     -34.601864 -58.443563    3.0           67.0             60.0  110000.0   \n",
       "1     -34.644735 -58.421061    2.0           40.0             40.0   79900.0   \n",
       "2     -34.603423 -58.431140    2.0           38.0             38.0  112000.0   \n",
       "3     -34.609326 -58.492374    2.0           94.0             77.0  169000.0   \n",
       "4     -34.629607 -58.439279    1.0           41.0             37.0  118000.0   \n",
       "...          ...        ...    ...            ...              ...       ...   \n",
       "25505 -34.580718 -58.440610    4.0           82.0             77.0  250000.0   \n",
       "25506 -34.578688 -58.435533    2.0           80.0             80.0  170000.0   \n",
       "25507 -34.581425 -58.442707    3.0           88.0             82.0  399000.0   \n",
       "25508 -34.576573 -58.434394    3.0           84.0             84.0  178000.0   \n",
       "25509 -34.583995 -58.417645    3.0          145.0            145.0  420000.0   \n",
       "\n",
       "       surface_uncovered  PH  Casa  comuna  ingres_pcap  densidad  \n",
       "0                    7.0   0     0      15        20204     12737  \n",
       "1                    0.0   0     0       4        14176     11042  \n",
       "2                    0.0   0     0       5        22502     28106  \n",
       "3                   17.0   1     0      11        20827     13458  \n",
       "4                    4.0   0     0       7        17272     19398  \n",
       "...                  ...  ..   ...     ...          ...       ...  \n",
       "25505                5.0   0     0      14        34357     14325  \n",
       "25506                0.0   0     0      14        34357     14325  \n",
       "25507                6.0   0     0      14        34357     14325  \n",
       "25508                0.0   1     0      14        34357     14325  \n",
       "25509                0.0   0     0      14        34357     14325  \n",
       "\n",
       "[25510 rows x 12 columns]"
      ]
     },
     "execution_count": 10,
     "metadata": {},
     "output_type": "execute_result"
    }
   ],
   "source": [
    "# Eliminamos el feature categórico \"barrio\"\n",
    "df.drop(columns='barrio',inplace=True)\n",
    "# A ver como quedo\n",
    "df"
   ]
  },
  {
   "cell_type": "markdown",
   "metadata": {},
   "source": [
    "### Train/Test Split"
   ]
  },
  {
   "cell_type": "code",
   "execution_count": 11,
   "metadata": {},
   "outputs": [],
   "source": [
    "from sklearn.model_selection import train_test_split\n",
    "\n",
    "# Shuffleamos\n",
    "np.random.seed(seed=49)\n",
    "df_perm = np.random.permutation(df)\n",
    "df = pd.DataFrame(df_perm,columns=df.columns)\n",
    "\n",
    "# Dividimos en tres conjuntos: train, validation, test\n",
    "df_train, df_2 = train_test_split(df,test_size=0.3,random_state=50)\n",
    "df_validation, df_test = train_test_split(df_2,test_size=0.5,random_state=51)"
   ]
  },
  {
   "cell_type": "code",
   "execution_count": 64,
   "metadata": {},
   "outputs": [],
   "source": [
    "# Tomaremos como target la variable precio, y como input todo lo demás\n",
    "# Empezaremos por utilizar el dataset sin los features agregados\n",
    "X_train1 = df_train.drop(columns=['price','comuna','ingres_pcap','densidad'])\n",
    "X_test1 = df_test.drop(columns=['price','comuna','ingres_pcap','densidad'])\n",
    "y_train = df_train['price']\n",
    "y_validation = df_validation['price'] \n",
    "y_test = df_test['price']"
   ]
  },
  {
   "cell_type": "markdown",
   "metadata": {},
   "source": [
    "### Decision Tree"
   ]
  },
  {
   "cell_type": "markdown",
   "metadata": {},
   "source": [
    "Empezamos por utilizar la versión más elemental de esta familia de modelos: el árbol de decisión. Es probable que no constituya nuestro modelo demasiado bueno, pero servirá de benchmark para ir mejorando nuestras predicciones. Comenzaremos con los parámetros default de sci-kit learn."
   ]
  },
  {
   "cell_type": "code",
   "execution_count": 68,
   "metadata": {},
   "outputs": [
    {
     "name": "stdout",
     "output_type": "stream",
     "text": [
      "RMSE: 40346.81103132974\n",
      "R2: 0.758761513624177\n"
     ]
    }
   ],
   "source": [
    "from sklearn.tree import DecisionTreeRegressor\n",
    "from sklearn.metrics import mean_squared_error,r2_score\n",
    "\n",
    "tree1 = DecisionTreeRegressor(random_state=52)\n",
    "tree1.fit(X_train1,y_train)\n",
    "y_pred1 = tree1.predict(X_test1)\n",
    "rmse1 = np.sqrt(mean_squared_error(y_test,y_pred1))\n",
    "r2_tree1 = r2_score(y_test,y_pred1)\n",
    "print(f\"RMSE: {rmse1}\")\n",
    "print(f\"R2: {r2_tree1}\")"
   ]
  },
  {
   "cell_type": "markdown",
   "metadata": {},
   "source": [
    "### Decision Tree: feature engineering"
   ]
  },
  {
   "cell_type": "markdown",
   "metadata": {},
   "source": [
    "Veamos ahora si el agregado de variables realizado en la sección de feature engineering logra aportar mayor valor."
   ]
  },
  {
   "cell_type": "code",
   "execution_count": 66,
   "metadata": {},
   "outputs": [],
   "source": [
    "# Conjuntos de features con todos los features\n",
    "X_train = df_train.drop(columns=['price'])\n",
    "X_validation = df_validation.drop(columns=['price'])\n",
    "X_test = df_test.drop(columns=['price'])"
   ]
  },
  {
   "cell_type": "code",
   "execution_count": 88,
   "metadata": {},
   "outputs": [
    {
     "name": "stdout",
     "output_type": "stream",
     "text": [
      "RMSE: 39961.6753431997\n",
      "Mejora RMSE benchmark: 0.95%\n",
      "R2: 0.7633450783740112\n"
     ]
    }
   ],
   "source": [
    "tree2 = DecisionTreeRegressor(random_state=52)\n",
    "tree2.fit(X_train,y_train)\n",
    "y_pred2 = tree2.predict(X_test)\n",
    "rmse2 = np.sqrt(mean_squared_error(y_test,y_pred2))\n",
    "r2_tree2 = r2_score(y_test,y_pred2)\n",
    "print(f\"RMSE: {rmse2}\")\n",
    "print(f'Mejora RMSE benchmark: %.2f'% (((rmse1 - rmse2)/rmse1)*100)+'%')\n",
    "print(f\"R2: {r2_tree2}\")"
   ]
  },
  {
   "cell_type": "markdown",
   "metadata": {},
   "source": [
    "La performance es apenas mejor. Para compararlos con más entendimiento, y mejorar la performance de ambos, vamos a hacer un Grid Search sobre los parámetros."
   ]
  },
  {
   "cell_type": "markdown",
   "metadata": {},
   "source": [
    "### Decision Tree: optimización de hiperparámetros"
   ]
  },
  {
   "cell_type": "code",
   "execution_count": 17,
   "metadata": {
    "collapsed": true
   },
   "outputs": [
    {
     "data": {
      "text/plain": [
       "GridSearchCV(cv=5, error_score='raise-deprecating',\n",
       "             estimator=DecisionTreeRegressor(criterion='mse', max_depth=None,\n",
       "                                             max_features=None,\n",
       "                                             max_leaf_nodes=None,\n",
       "                                             min_impurity_decrease=0.0,\n",
       "                                             min_impurity_split=None,\n",
       "                                             min_samples_leaf=1,\n",
       "                                             min_samples_split=2,\n",
       "                                             min_weight_fraction_leaf=0.0,\n",
       "                                             presort=False, random_state=52,\n",
       "                                             splitter='best'),\n",
       "             iid='warn', n_jobs=None,\n",
       "             param_grid={'max_depth': [10, 50, 100], 'max_features': [4, 8, 11],\n",
       "                         'splitter': ['best', 'random']},\n",
       "             pre_dispatch='2*n_jobs', refit=True, return_train_score=False,\n",
       "             scoring='neg_mean_squared_error', verbose=0)"
      ]
     },
     "execution_count": 17,
     "metadata": {},
     "output_type": "execute_result"
    }
   ],
   "source": [
    "from sklearn.model_selection import cross_val_score, GridSearchCV, cross_validate\n",
    "\n",
    "# Parámetros a considerar: criterion, splitter, max_depth (regularizador)\n",
    "param_grid1 = {'splitter':['best','random'],'max_depth':[10,50,100],\\\n",
    "              'max_features':[4,6,len(X_train1.columns)],}\n",
    "param_grid2 = {'splitter':['best','random'],'max_depth':[10,50,100],\\\n",
    "              'max_features':[4,8,len(X_train.columns)],}\n",
    "\n",
    "grid_tree1 = GridSearchCV(tree1,param_grid1,scoring='neg_mean_squared_error',cv=5)\n",
    "grid_tree2 = GridSearchCV(tree2,param_grid2,scoring='neg_mean_squared_error',cv=5)\n",
    "grid_tree1.fit(X_train1,y_train)\n",
    "grid_tree2.fit(X_train,y_train)"
   ]
  },
  {
   "cell_type": "code",
   "execution_count": 43,
   "metadata": {},
   "outputs": [
    {
     "data": {
      "text/html": [
       "<div>\n",
       "<style scoped>\n",
       "    .dataframe tbody tr th:only-of-type {\n",
       "        vertical-align: middle;\n",
       "    }\n",
       "\n",
       "    .dataframe tbody tr th {\n",
       "        vertical-align: top;\n",
       "    }\n",
       "\n",
       "    .dataframe thead th {\n",
       "        text-align: right;\n",
       "    }\n",
       "</style>\n",
       "<table border=\"1\" class=\"dataframe\">\n",
       "  <thead>\n",
       "    <tr style=\"text-align: right;\">\n",
       "      <th></th>\n",
       "      <th>mean_test_score</th>\n",
       "      <th>rank_test_score</th>\n",
       "      <th>param_splitter</th>\n",
       "      <th>param_max_depth</th>\n",
       "      <th>param_max_features</th>\n",
       "      <th>rmse</th>\n",
       "    </tr>\n",
       "  </thead>\n",
       "  <tbody>\n",
       "    <tr>\n",
       "      <td>4</td>\n",
       "      <td>-1.405689e+09</td>\n",
       "      <td>1</td>\n",
       "      <td>best</td>\n",
       "      <td>10</td>\n",
       "      <td>8</td>\n",
       "      <td>37492.514919</td>\n",
       "    </tr>\n",
       "    <tr>\n",
       "      <td>2</td>\n",
       "      <td>-1.416733e+09</td>\n",
       "      <td>2</td>\n",
       "      <td>best</td>\n",
       "      <td>10</td>\n",
       "      <td>6</td>\n",
       "      <td>37639.511700</td>\n",
       "    </tr>\n",
       "    <tr>\n",
       "      <td>0</td>\n",
       "      <td>-1.452160e+09</td>\n",
       "      <td>3</td>\n",
       "      <td>best</td>\n",
       "      <td>10</td>\n",
       "      <td>4</td>\n",
       "      <td>38107.212695</td>\n",
       "    </tr>\n",
       "    <tr>\n",
       "      <td>5</td>\n",
       "      <td>-1.536601e+09</td>\n",
       "      <td>4</td>\n",
       "      <td>random</td>\n",
       "      <td>10</td>\n",
       "      <td>8</td>\n",
       "      <td>39199.496400</td>\n",
       "    </tr>\n",
       "    <tr>\n",
       "      <td>14</td>\n",
       "      <td>-1.669071e+09</td>\n",
       "      <td>5</td>\n",
       "      <td>best</td>\n",
       "      <td>100</td>\n",
       "      <td>6</td>\n",
       "      <td>40854.262948</td>\n",
       "    </tr>\n",
       "    <tr>\n",
       "      <td>8</td>\n",
       "      <td>-1.669071e+09</td>\n",
       "      <td>5</td>\n",
       "      <td>best</td>\n",
       "      <td>50</td>\n",
       "      <td>6</td>\n",
       "      <td>40854.262948</td>\n",
       "    </tr>\n",
       "    <tr>\n",
       "      <td>16</td>\n",
       "      <td>-1.686136e+09</td>\n",
       "      <td>7</td>\n",
       "      <td>best</td>\n",
       "      <td>100</td>\n",
       "      <td>8</td>\n",
       "      <td>41062.590729</td>\n",
       "    </tr>\n",
       "  </tbody>\n",
       "</table>\n",
       "</div>"
      ],
      "text/plain": [
       "    mean_test_score  rank_test_score param_splitter param_max_depth  \\\n",
       "4     -1.405689e+09                1           best              10   \n",
       "2     -1.416733e+09                2           best              10   \n",
       "0     -1.452160e+09                3           best              10   \n",
       "5     -1.536601e+09                4         random              10   \n",
       "14    -1.669071e+09                5           best             100   \n",
       "8     -1.669071e+09                5           best              50   \n",
       "16    -1.686136e+09                7           best             100   \n",
       "\n",
       "   param_max_features          rmse  \n",
       "4                   8  37492.514919  \n",
       "2                   6  37639.511700  \n",
       "0                   4  38107.212695  \n",
       "5                   8  39199.496400  \n",
       "14                  6  40854.262948  \n",
       "8                   6  40854.262948  \n",
       "16                  8  41062.590729  "
      ]
     },
     "execution_count": 43,
     "metadata": {},
     "output_type": "execute_result"
    }
   ],
   "source": [
    "# Creamos un dataframe con los resultados\n",
    "df_scores1 = pd.DataFrame(grid_tree1.cv_results_)\n",
    "# Lo tuneamos un poquito\n",
    "df_scores1 = df_scores1[['mean_test_score','rank_test_score','param_splitter','param_max_depth','param_max_features']]\n",
    "df_scores1['rmse'] = np.sqrt(-df_scores1['mean_test_score'])\n",
    "df_scores1 = df_scores1.sort_values('rank_test_score').head(7)\n",
    "# A ver...\n",
    "df_scores1"
   ]
  },
  {
   "cell_type": "code",
   "execution_count": 44,
   "metadata": {},
   "outputs": [
    {
     "data": {
      "text/html": [
       "<div>\n",
       "<style scoped>\n",
       "    .dataframe tbody tr th:only-of-type {\n",
       "        vertical-align: middle;\n",
       "    }\n",
       "\n",
       "    .dataframe tbody tr th {\n",
       "        vertical-align: top;\n",
       "    }\n",
       "\n",
       "    .dataframe thead th {\n",
       "        text-align: right;\n",
       "    }\n",
       "</style>\n",
       "<table border=\"1\" class=\"dataframe\">\n",
       "  <thead>\n",
       "    <tr style=\"text-align: right;\">\n",
       "      <th></th>\n",
       "      <th>mean_test_score</th>\n",
       "      <th>rank_test_score</th>\n",
       "      <th>param_splitter</th>\n",
       "      <th>param_max_depth</th>\n",
       "      <th>param_max_features</th>\n",
       "      <th>rmse</th>\n",
       "    </tr>\n",
       "  </thead>\n",
       "  <tbody>\n",
       "    <tr>\n",
       "      <td>2</td>\n",
       "      <td>-1.386071e+09</td>\n",
       "      <td>1</td>\n",
       "      <td>best</td>\n",
       "      <td>10</td>\n",
       "      <td>8</td>\n",
       "      <td>37229.979523</td>\n",
       "    </tr>\n",
       "    <tr>\n",
       "      <td>4</td>\n",
       "      <td>-1.387617e+09</td>\n",
       "      <td>2</td>\n",
       "      <td>best</td>\n",
       "      <td>10</td>\n",
       "      <td>11</td>\n",
       "      <td>37250.729091</td>\n",
       "    </tr>\n",
       "    <tr>\n",
       "      <td>0</td>\n",
       "      <td>-1.401472e+09</td>\n",
       "      <td>3</td>\n",
       "      <td>best</td>\n",
       "      <td>10</td>\n",
       "      <td>4</td>\n",
       "      <td>37436.237517</td>\n",
       "    </tr>\n",
       "    <tr>\n",
       "      <td>5</td>\n",
       "      <td>-1.454579e+09</td>\n",
       "      <td>4</td>\n",
       "      <td>random</td>\n",
       "      <td>10</td>\n",
       "      <td>11</td>\n",
       "      <td>38138.942383</td>\n",
       "    </tr>\n",
       "    <tr>\n",
       "      <td>3</td>\n",
       "      <td>-1.469161e+09</td>\n",
       "      <td>5</td>\n",
       "      <td>random</td>\n",
       "      <td>10</td>\n",
       "      <td>8</td>\n",
       "      <td>38329.632833</td>\n",
       "    </tr>\n",
       "    <tr>\n",
       "      <td>1</td>\n",
       "      <td>-1.595502e+09</td>\n",
       "      <td>6</td>\n",
       "      <td>random</td>\n",
       "      <td>10</td>\n",
       "      <td>4</td>\n",
       "      <td>39943.738055</td>\n",
       "    </tr>\n",
       "    <tr>\n",
       "      <td>14</td>\n",
       "      <td>-1.602720e+09</td>\n",
       "      <td>7</td>\n",
       "      <td>best</td>\n",
       "      <td>100</td>\n",
       "      <td>8</td>\n",
       "      <td>40033.984011</td>\n",
       "    </tr>\n",
       "  </tbody>\n",
       "</table>\n",
       "</div>"
      ],
      "text/plain": [
       "    mean_test_score  rank_test_score param_splitter param_max_depth  \\\n",
       "2     -1.386071e+09                1           best              10   \n",
       "4     -1.387617e+09                2           best              10   \n",
       "0     -1.401472e+09                3           best              10   \n",
       "5     -1.454579e+09                4         random              10   \n",
       "3     -1.469161e+09                5         random              10   \n",
       "1     -1.595502e+09                6         random              10   \n",
       "14    -1.602720e+09                7           best             100   \n",
       "\n",
       "   param_max_features          rmse  \n",
       "2                   8  37229.979523  \n",
       "4                  11  37250.729091  \n",
       "0                   4  37436.237517  \n",
       "5                  11  38138.942383  \n",
       "3                   8  38329.632833  \n",
       "1                   4  39943.738055  \n",
       "14                  8  40033.984011  "
      ]
     },
     "execution_count": 44,
     "metadata": {},
     "output_type": "execute_result"
    }
   ],
   "source": [
    "df_scores2 = pd.DataFrame(grid_tree2.cv_results_)\n",
    "df_scores2 = df_scores2[['mean_test_score','rank_test_score','param_splitter','param_max_depth','param_max_features']]\n",
    "df_scores2['rmse'] = np.sqrt(-df_scores2['mean_test_score'])\n",
    "df_scores2 = df_scores2.sort_values('rank_test_score').head(7)\n",
    "df_scores2"
   ]
  },
  {
   "cell_type": "markdown",
   "metadata": {},
   "source": [
    "Efectivamente, el modelo con más features tiene un rendimiento (levemente) superior. Gráficamente:"
   ]
  },
  {
   "cell_type": "code",
   "execution_count": 45,
   "metadata": {},
   "outputs": [
    {
     "data": {
      "text/plain": [
       "Text(0.5, 1.0, 'RMSE for Decision Tree Models')"
      ]
     },
     "execution_count": 45,
     "metadata": {},
     "output_type": "execute_result"
    },
    {
     "data": {
      "image/png": "[encoded data removed]",
      "text/plain": [
       "<Figure size 432x432 with 1 Axes>"
      ]
     },
     "metadata": {
      "needs_background": "light"
     },
     "output_type": "display_data"
    }
   ],
   "source": [
    "plt.figure(figsize=(6,6))\n",
    "plt.plot(df_scores1.rank_test_score,df_scores1.rmse,label='No feature engineering')\n",
    "plt.plot(df_scores2.rank_test_score,df_scores2.rmse,label='Using all features')\n",
    "plt.legend()\n",
    "plt.xlabel('Model Rank')\n",
    "plt.ylabel('RMSE')\n",
    "plt.title('RMSE for Decision Tree Models')"
   ]
  },
  {
   "cell_type": "markdown",
   "metadata": {},
   "source": [
    "De modo que vamos a utilizar todos nuestros features, incluidos los que agregamos en el apartado de feature engineering. Vamos entonces a hilar más fino en el tuning de los hiperparámetros. El \"splitter\" lo dejaremos en best, pero veamos qué sucede con max_features (alrededor del 10) y max_depth (entre 8 y 11)."
   ]
  },
  {
   "cell_type": "code",
   "execution_count": 49,
   "metadata": {
    "collapsed": true
   },
   "outputs": [
    {
     "data": {
      "text/plain": [
       "GridSearchCV(cv=5, error_score='raise-deprecating',\n",
       "             estimator=DecisionTreeRegressor(criterion='mse', max_depth=None,\n",
       "                                             max_features=None,\n",
       "                                             max_leaf_nodes=None,\n",
       "                                             min_impurity_decrease=0.0,\n",
       "                                             min_impurity_split=None,\n",
       "                                             min_samples_leaf=1,\n",
       "                                             min_samples_split=2,\n",
       "                                             min_weight_fraction_leaf=0.0,\n",
       "                                             presort=False, random_state=52,\n",
       "                                             splitter='best'),\n",
       "             iid='warn', n_jobs=None,\n",
       "             param_grid={'max_depth': [6, 8, 9, 10, 11, 12, 15, 20],\n",
       "                         'max_features': [8, 9, 10, 11]},\n",
       "             pre_dispatch='2*n_jobs', refit=True, return_train_score=False,\n",
       "             scoring='neg_mean_squared_error', verbose=0)"
      ]
     },
     "execution_count": 49,
     "metadata": {},
     "output_type": "execute_result"
    }
   ],
   "source": [
    "param_grid3 = {'max_depth':[6,8,9,10,11,12,15,20],'max_features':[8,9,10,11],}\n",
    "\n",
    "grid_tree3 = GridSearchCV(tree2,param_grid3,scoring='neg_mean_squared_error',cv=5)\n",
    "grid_tree3.fit(X_train,y_train)"
   ]
  },
  {
   "cell_type": "code",
   "execution_count": 50,
   "metadata": {},
   "outputs": [
    {
     "data": {
      "text/html": [
       "<div>\n",
       "<style scoped>\n",
       "    .dataframe tbody tr th:only-of-type {\n",
       "        vertical-align: middle;\n",
       "    }\n",
       "\n",
       "    .dataframe tbody tr th {\n",
       "        vertical-align: top;\n",
       "    }\n",
       "\n",
       "    .dataframe thead th {\n",
       "        text-align: right;\n",
       "    }\n",
       "</style>\n",
       "<table border=\"1\" class=\"dataframe\">\n",
       "  <thead>\n",
       "    <tr style=\"text-align: right;\">\n",
       "      <th></th>\n",
       "      <th>mean_test_score</th>\n",
       "      <th>rank_test_score</th>\n",
       "      <th>param_max_depth</th>\n",
       "      <th>param_max_features</th>\n",
       "      <th>rmse</th>\n",
       "    </tr>\n",
       "  </thead>\n",
       "  <tbody>\n",
       "    <tr>\n",
       "      <td>9</td>\n",
       "      <td>-1.376204e+09</td>\n",
       "      <td>1</td>\n",
       "      <td>9</td>\n",
       "      <td>9</td>\n",
       "      <td>37097.226174</td>\n",
       "    </tr>\n",
       "    <tr>\n",
       "      <td>10</td>\n",
       "      <td>-1.377331e+09</td>\n",
       "      <td>2</td>\n",
       "      <td>9</td>\n",
       "      <td>10</td>\n",
       "      <td>37112.415469</td>\n",
       "    </tr>\n",
       "    <tr>\n",
       "      <td>5</td>\n",
       "      <td>-1.381018e+09</td>\n",
       "      <td>3</td>\n",
       "      <td>8</td>\n",
       "      <td>9</td>\n",
       "      <td>37162.055721</td>\n",
       "    </tr>\n",
       "    <tr>\n",
       "      <td>11</td>\n",
       "      <td>-1.382920e+09</td>\n",
       "      <td>4</td>\n",
       "      <td>9</td>\n",
       "      <td>11</td>\n",
       "      <td>37187.632645</td>\n",
       "    </tr>\n",
       "    <tr>\n",
       "      <td>7</td>\n",
       "      <td>-1.384999e+09</td>\n",
       "      <td>5</td>\n",
       "      <td>8</td>\n",
       "      <td>11</td>\n",
       "      <td>37215.580502</td>\n",
       "    </tr>\n",
       "    <tr>\n",
       "      <td>4</td>\n",
       "      <td>-1.385484e+09</td>\n",
       "      <td>6</td>\n",
       "      <td>8</td>\n",
       "      <td>8</td>\n",
       "      <td>37222.083607</td>\n",
       "    </tr>\n",
       "    <tr>\n",
       "      <td>12</td>\n",
       "      <td>-1.386071e+09</td>\n",
       "      <td>7</td>\n",
       "      <td>10</td>\n",
       "      <td>8</td>\n",
       "      <td>37229.979523</td>\n",
       "    </tr>\n",
       "  </tbody>\n",
       "</table>\n",
       "</div>"
      ],
      "text/plain": [
       "    mean_test_score  rank_test_score param_max_depth param_max_features  \\\n",
       "9     -1.376204e+09                1               9                  9   \n",
       "10    -1.377331e+09                2               9                 10   \n",
       "5     -1.381018e+09                3               8                  9   \n",
       "11    -1.382920e+09                4               9                 11   \n",
       "7     -1.384999e+09                5               8                 11   \n",
       "4     -1.385484e+09                6               8                  8   \n",
       "12    -1.386071e+09                7              10                  8   \n",
       "\n",
       "            rmse  \n",
       "9   37097.226174  \n",
       "10  37112.415469  \n",
       "5   37162.055721  \n",
       "11  37187.632645  \n",
       "7   37215.580502  \n",
       "4   37222.083607  \n",
       "12  37229.979523  "
      ]
     },
     "execution_count": 50,
     "metadata": {},
     "output_type": "execute_result"
    }
   ],
   "source": [
    "df_scores3 = pd.DataFrame(grid_tree3.cv_results_)\n",
    "df_scores3 = df_scores3[['mean_test_score','rank_test_score','param_max_depth','param_max_features']]\n",
    "df_scores3['rmse'] = np.sqrt(-df_scores3['mean_test_score'])\n",
    "df_scores3 = df_scores3.sort_values('rank_test_score')\n",
    "df_scores3.head(7)"
   ]
  },
  {
   "cell_type": "markdown",
   "metadata": {},
   "source": [
    "Gráficamente:"
   ]
  },
  {
   "cell_type": "code",
   "execution_count": 180,
   "metadata": {},
   "outputs": [
    {
     "data": {
      "text/plain": [
       "<matplotlib.axes._subplots.AxesSubplot at 0x1d605812bc8>"
      ]
     },
     "execution_count": 180,
     "metadata": {},
     "output_type": "execute_result"
    },
    {
     "data": {
      "image/png": "[encoded data removed]",
      "text/plain": [
       "<Figure size 576x432 with 2 Axes>"
      ]
     },
     "metadata": {},
     "output_type": "display_data"
    }
   ],
   "source": [
    "sns.set()\n",
    "df_heat = df_scores3.groupby(['param_max_depth','param_max_features'])\n",
    "df_heat = df_heat['rmse'].sum().unstack()\n",
    "# Lo paso a miles\n",
    "df_heat = round((df_heat / 1000),4)\n",
    "f, ax = plt.subplots(figsize=(8, 6))\n",
    "sns.heatmap(df_heat, annot=True, fmt='.2f', linewidths=.5, cmap='viridis_r', ax=ax)"
   ]
  },
  {
   "cell_type": "markdown",
   "metadata": {},
   "source": [
    "Tenemos un ganador, veamos su performance."
   ]
  },
  {
   "cell_type": "code",
   "execution_count": 87,
   "metadata": {},
   "outputs": [
    {
     "name": "stdout",
     "output_type": "stream",
     "text": [
      "RMSE: 37168.42358734967\n",
      "Mejora RMSE benchmark: 7.88%\n",
      "R2: 0.7633450783740112\n"
     ]
    }
   ],
   "source": [
    "y_pred3 = grid_tree3.predict(X_test)\n",
    "rmse3 = np.sqrt(mean_squared_error(y_test,y_pred3))\n",
    "r2_tree3 = r2_score(y_test,y_pred2)\n",
    "print(f\"RMSE: {rmse3}\")\n",
    "print('Mejora RMSE benchmark: %.2f'% (((rmse1 - rmse3)/rmse1)*100)+'%')\n",
    "print(f\"R2: {r2_tree3}\")"
   ]
  },
  {
   "cell_type": "markdown",
   "metadata": {},
   "source": [
    "### Random Forest Regressor"
   ]
  },
  {
   "cell_type": "markdown",
   "metadata": {},
   "source": [
    "A continuación entrenamos un modelo más poderoso, Random Forest. El procedimiento será similar al apartado anterior."
   ]
  },
  {
   "cell_type": "code",
   "execution_count": 86,
   "metadata": {},
   "outputs": [
    {
     "name": "stderr",
     "output_type": "stream",
     "text": [
      "C:\\Users\\Usuario\\Python\\Anaconda\\lib\\site-packages\\sklearn\\ensemble\\forest.py:245: FutureWarning: The default value of n_estimators will change from 10 in version 0.20 to 100 in 0.22.\n",
      "  \"10 in version 0.20 to 100 in 0.22.\", FutureWarning)\n"
     ]
    },
    {
     "name": "stdout",
     "output_type": "stream",
     "text": [
      "RMSE train: 13004.557949541839\n",
      "RMSE test: 30317.418855065273\n",
      "Mejora benchmark: 23.30 %\n"
     ]
    }
   ],
   "source": [
    "from sklearn.ensemble import RandomForestRegressor\n",
    "\n",
    "rfr = RandomForestRegressor(random_state=52)\n",
    "rfr.fit(X_train,y_train)\n",
    "y_train_pred4 = rfr.predict(X_train)\n",
    "y_test_pred4 = rfr.predict(X_test)\n",
    "rmse_train4 = np.sqrt(mean_squared_error(y_train,y_train_pred4))\n",
    "rmse_test4 = np.sqrt(mean_squared_error(y_test,y_test_pred4))\n",
    "print(f'RMSE train: {rmse_train}')\n",
    "print(f'RMSE test: {rmse_test}')\n",
    "print('Mejora benchmark: %.2f'% (((rmse1 - rmse_test4)/rmse1)*100)+' %')"
   ]
  },
  {
   "cell_type": "markdown",
   "metadata": {},
   "source": [
    "Pese a la sustancial mejora respecto de nuestro benchmark, tenemos un enorme grado de overfitting. A continuación haremos Grid Search con cross validation para atacar este problema."
   ]
  },
  {
   "cell_type": "code",
   "execution_count": 91,
   "metadata": {
    "scrolled": true
   },
   "outputs": [],
   "source": [
    "forest_grid = {'n_estimators':[30,50,70,100,120,150],'max_depth':[None,5,10,20,30,50]}\n",
    "# cv=2 por el tiempo de espera, luego se puede ajustar\n",
    "rnr_grid = GridSearchCV(rfr,forest_grid,cv=2,scoring='neg_mean_squared_error',return_train_score=True).fit(X_train,y_train)"
   ]
  },
  {
   "cell_type": "code",
   "execution_count": 223,
   "metadata": {
    "scrolled": true
   },
   "outputs": [
    {
     "data": {
      "text/html": [
       "<div>\n",
       "<style scoped>\n",
       "    .dataframe tbody tr th:only-of-type {\n",
       "        vertical-align: middle;\n",
       "    }\n",
       "\n",
       "    .dataframe tbody tr th {\n",
       "        vertical-align: top;\n",
       "    }\n",
       "\n",
       "    .dataframe thead th {\n",
       "        text-align: right;\n",
       "    }\n",
       "</style>\n",
       "<table border=\"1\" class=\"dataframe\">\n",
       "  <thead>\n",
       "    <tr style=\"text-align: right;\">\n",
       "      <th></th>\n",
       "      <th>param_max_depth</th>\n",
       "      <th>param_n_estimators</th>\n",
       "      <th>mean_test_score</th>\n",
       "      <th>rank_test_score</th>\n",
       "      <th>mean_fit_time</th>\n",
       "      <th>rmse_test</th>\n",
       "    </tr>\n",
       "  </thead>\n",
       "  <tbody>\n",
       "    <tr>\n",
       "      <td>29</td>\n",
       "      <td>30</td>\n",
       "      <td>150</td>\n",
       "      <td>-1.039669e+09</td>\n",
       "      <td>1</td>\n",
       "      <td>5.779660</td>\n",
       "      <td>32243.893615</td>\n",
       "    </tr>\n",
       "    <tr>\n",
       "      <td>5</td>\n",
       "      <td>None</td>\n",
       "      <td>150</td>\n",
       "      <td>-1.040213e+09</td>\n",
       "      <td>2</td>\n",
       "      <td>5.559671</td>\n",
       "      <td>32252.332725</td>\n",
       "    </tr>\n",
       "    <tr>\n",
       "      <td>35</td>\n",
       "      <td>50</td>\n",
       "      <td>150</td>\n",
       "      <td>-1.040213e+09</td>\n",
       "      <td>2</td>\n",
       "      <td>5.548254</td>\n",
       "      <td>32252.332725</td>\n",
       "    </tr>\n",
       "    <tr>\n",
       "      <td>28</td>\n",
       "      <td>30</td>\n",
       "      <td>120</td>\n",
       "      <td>-1.041319e+09</td>\n",
       "      <td>4</td>\n",
       "      <td>4.362354</td>\n",
       "      <td>32269.475335</td>\n",
       "    </tr>\n",
       "    <tr>\n",
       "      <td>4</td>\n",
       "      <td>None</td>\n",
       "      <td>120</td>\n",
       "      <td>-1.041802e+09</td>\n",
       "      <td>5</td>\n",
       "      <td>4.818660</td>\n",
       "      <td>32276.961120</td>\n",
       "    </tr>\n",
       "    <tr>\n",
       "      <td>34</td>\n",
       "      <td>50</td>\n",
       "      <td>120</td>\n",
       "      <td>-1.041802e+09</td>\n",
       "      <td>5</td>\n",
       "      <td>4.744757</td>\n",
       "      <td>32276.961120</td>\n",
       "    </tr>\n",
       "    <tr>\n",
       "      <td>27</td>\n",
       "      <td>30</td>\n",
       "      <td>100</td>\n",
       "      <td>-1.042522e+09</td>\n",
       "      <td>7</td>\n",
       "      <td>3.894858</td>\n",
       "      <td>32288.114231</td>\n",
       "    </tr>\n",
       "  </tbody>\n",
       "</table>\n",
       "</div>"
      ],
      "text/plain": [
       "   param_max_depth param_n_estimators  mean_test_score  rank_test_score  \\\n",
       "29              30                150    -1.039669e+09                1   \n",
       "5             None                150    -1.040213e+09                2   \n",
       "35              50                150    -1.040213e+09                2   \n",
       "28              30                120    -1.041319e+09                4   \n",
       "4             None                120    -1.041802e+09                5   \n",
       "34              50                120    -1.041802e+09                5   \n",
       "27              30                100    -1.042522e+09                7   \n",
       "\n",
       "    mean_fit_time     rmse_test  \n",
       "29       5.779660  32243.893615  \n",
       "5        5.559671  32252.332725  \n",
       "35       5.548254  32252.332725  \n",
       "28       4.362354  32269.475335  \n",
       "4        4.818660  32276.961120  \n",
       "34       4.744757  32276.961120  \n",
       "27       3.894858  32288.114231  "
      ]
     },
     "execution_count": 223,
     "metadata": {},
     "output_type": "execute_result"
    }
   ],
   "source": [
    "rnrgrid_df1 = pd.DataFrame(rnr_grid.cv_results_)\n",
    "rnrgrid_df1 = rnrgrid_df1[['param_max_depth','param_n_estimators',\\\n",
    "                    'mean_test_score','rank_test_score','mean_fit_time']]\n",
    "rnrgrid_df1 = rnrgrid_df1\n",
    "rnrgrid_df1['rmse_test'] = np.sqrt(-rnrgrid_df1['mean_test_score'])\n",
    "# Veamos una muestra\n",
    "rnrgrid_df1.sort_values(by='rank_test_score').head(7)"
   ]
  },
  {
   "cell_type": "markdown",
   "metadata": {},
   "source": [
    "Gráficamente:"
   ]
  },
  {
   "cell_type": "code",
   "execution_count": 227,
   "metadata": {},
   "outputs": [],
   "source": [
    "# Convierto los None a string para que pandas los tabule\n",
    "rnrgrid_df1.fillna('None',inplace=True)\n",
    "# Creo una tabla tipo pivot con mis parámetros\n",
    "table = rnrgrid_df1.groupby(['param_max_depth','param_n_estimators'])['rmse_test'].sum().unstack()\n",
    "table = round(table/1000,2)"
   ]
  },
  {
   "cell_type": "code",
   "execution_count": 228,
   "metadata": {},
   "outputs": [
    {
     "data": {
      "text/plain": [
       "<matplotlib.axes._subplots.AxesSubplot at 0x1d618167048>"
      ]
     },
     "execution_count": 228,
     "metadata": {},
     "output_type": "execute_result"
    },
    {
     "data": {
      "image/png": "[encoded data removed]",
      "text/plain": [
       "<Figure size 864x576 with 2 Axes>"
      ]
     },
     "metadata": {},
     "output_type": "display_data"
    }
   ],
   "source": [
    "# Grid Search Heatmap\n",
    "sns.set()\n",
    "f, ax = plt.subplots(figsize=(12, 8))\n",
    "sns.heatmap(table, annot=True, fmt='.2f',linewidths=.5, cmap='viridis', ax=ax, vmin=31, vmax=38)"
   ]
  },
  {
   "cell_type": "markdown",
   "metadata": {},
   "source": [
    "El RMSE disminuye a medida que nos movemos hacia abajo (mayor max_depth) y hacia la derecha (mayor n_estimators). A partir de una profunidad de 20 o 30 la ganancia es cada vez más reducida. A continuación haremos un Grid Search con más parámetros."
   ]
  },
  {
   "cell_type": "code",
   "execution_count": 229,
   "metadata": {},
   "outputs": [],
   "source": [
    "forest_grid2 = {'max_depth':[30,50],'max_features':[5,8,11],'n_estimators':[150],'min_samples_split':[2,5,10,20,50]}\n",
    "rnr_grid2 = GridSearchCV(rfr,forest_grid2,cv=2,scoring='neg_mean_squared_error',return_train_score=True).fit(X_train,y_train)"
   ]
  },
  {
   "cell_type": "code",
   "execution_count": 241,
   "metadata": {},
   "outputs": [
    {
     "data": {
      "text/html": [
       "<div>\n",
       "<style scoped>\n",
       "    .dataframe tbody tr th:only-of-type {\n",
       "        vertical-align: middle;\n",
       "    }\n",
       "\n",
       "    .dataframe tbody tr th {\n",
       "        vertical-align: top;\n",
       "    }\n",
       "\n",
       "    .dataframe thead th {\n",
       "        text-align: right;\n",
       "    }\n",
       "</style>\n",
       "<table border=\"1\" class=\"dataframe\">\n",
       "  <thead>\n",
       "    <tr style=\"text-align: right;\">\n",
       "      <th></th>\n",
       "      <th>param_max_depth</th>\n",
       "      <th>param_n_estimators</th>\n",
       "      <th>param_min_samples_split</th>\n",
       "      <th>param_max_features</th>\n",
       "      <th>rank_test_score</th>\n",
       "      <th>mean_fit_time</th>\n",
       "      <th>rmse_test</th>\n",
       "    </tr>\n",
       "  </thead>\n",
       "  <tbody>\n",
       "    <tr>\n",
       "      <td>5</td>\n",
       "      <td>30</td>\n",
       "      <td>150</td>\n",
       "      <td>2</td>\n",
       "      <td>8</td>\n",
       "      <td>1</td>\n",
       "      <td>4.234339</td>\n",
       "      <td>32094.950195</td>\n",
       "    </tr>\n",
       "    <tr>\n",
       "      <td>20</td>\n",
       "      <td>50</td>\n",
       "      <td>150</td>\n",
       "      <td>2</td>\n",
       "      <td>8</td>\n",
       "      <td>2</td>\n",
       "      <td>4.498986</td>\n",
       "      <td>32103.882661</td>\n",
       "    </tr>\n",
       "    <tr>\n",
       "      <td>15</td>\n",
       "      <td>50</td>\n",
       "      <td>150</td>\n",
       "      <td>2</td>\n",
       "      <td>5</td>\n",
       "      <td>3</td>\n",
       "      <td>3.089316</td>\n",
       "      <td>32108.988656</td>\n",
       "    </tr>\n",
       "    <tr>\n",
       "      <td>0</td>\n",
       "      <td>30</td>\n",
       "      <td>150</td>\n",
       "      <td>2</td>\n",
       "      <td>5</td>\n",
       "      <td>4</td>\n",
       "      <td>3.118141</td>\n",
       "      <td>32121.521233</td>\n",
       "    </tr>\n",
       "    <tr>\n",
       "      <td>10</td>\n",
       "      <td>30</td>\n",
       "      <td>150</td>\n",
       "      <td>2</td>\n",
       "      <td>11</td>\n",
       "      <td>5</td>\n",
       "      <td>6.088236</td>\n",
       "      <td>32243.893615</td>\n",
       "    </tr>\n",
       "    <tr>\n",
       "      <td>25</td>\n",
       "      <td>50</td>\n",
       "      <td>150</td>\n",
       "      <td>2</td>\n",
       "      <td>11</td>\n",
       "      <td>6</td>\n",
       "      <td>5.656644</td>\n",
       "      <td>32252.332725</td>\n",
       "    </tr>\n",
       "    <tr>\n",
       "      <td>21</td>\n",
       "      <td>50</td>\n",
       "      <td>150</td>\n",
       "      <td>5</td>\n",
       "      <td>8</td>\n",
       "      <td>7</td>\n",
       "      <td>3.785478</td>\n",
       "      <td>32302.360095</td>\n",
       "    </tr>\n",
       "  </tbody>\n",
       "</table>\n",
       "</div>"
      ],
      "text/plain": [
       "   param_max_depth param_n_estimators param_min_samples_split  \\\n",
       "5               30                150                       2   \n",
       "20              50                150                       2   \n",
       "15              50                150                       2   \n",
       "0               30                150                       2   \n",
       "10              30                150                       2   \n",
       "25              50                150                       2   \n",
       "21              50                150                       5   \n",
       "\n",
       "   param_max_features  rank_test_score  mean_fit_time     rmse_test  \n",
       "5                   8                1       4.234339  32094.950195  \n",
       "20                  8                2       4.498986  32103.882661  \n",
       "15                  5                3       3.089316  32108.988656  \n",
       "0                   5                4       3.118141  32121.521233  \n",
       "10                 11                5       6.088236  32243.893615  \n",
       "25                 11                6       5.656644  32252.332725  \n",
       "21                  8                7       3.785478  32302.360095  "
      ]
     },
     "execution_count": 241,
     "metadata": {},
     "output_type": "execute_result"
    }
   ],
   "source": [
    "rnrgrid_df2 = pd.DataFrame(rnr_grid2.cv_results_)\n",
    "rnrgrid_df2 = rnrgrid_df2[['param_max_depth','param_n_estimators',\\\n",
    "                'param_min_samples_split', 'param_max_features',\\\n",
    "                    'mean_test_score','rank_test_score','mean_fit_time']]\n",
    "rnrgrid_df2['rmse_test'] = np.sqrt(-rnrgrid_df2['mean_test_score'])\n",
    "rnrgrid_df2 = rnrgrid_df2.drop(columns=['mean_test_score'])\n",
    "# Veamos una muestra\n",
    "rnrgrid_df2.sort_values(by='rank_test_score').head(7)"
   ]
  },
  {
   "cell_type": "code",
   "execution_count": 242,
   "metadata": {},
   "outputs": [],
   "source": [
    "# Hilando un poco más fino\n",
    "forest_grid3 = {'max_depth':[30,40,50],'max_features':[7,8,9],'n_estimators':[150,200,300],'min_samples_split':[2]}\n",
    "rnr_grid3 = GridSearchCV(rfr,forest_grid3,cv=2,scoring='neg_mean_squared_error',return_train_score=True).fit(X_train,y_train)"
   ]
  },
  {
   "cell_type": "code",
   "execution_count": 243,
   "metadata": {},
   "outputs": [
    {
     "data": {
      "text/html": [
       "<div>\n",
       "<style scoped>\n",
       "    .dataframe tbody tr th:only-of-type {\n",
       "        vertical-align: middle;\n",
       "    }\n",
       "\n",
       "    .dataframe tbody tr th {\n",
       "        vertical-align: top;\n",
       "    }\n",
       "\n",
       "    .dataframe thead th {\n",
       "        text-align: right;\n",
       "    }\n",
       "</style>\n",
       "<table border=\"1\" class=\"dataframe\">\n",
       "  <thead>\n",
       "    <tr style=\"text-align: right;\">\n",
       "      <th></th>\n",
       "      <th>param_max_depth</th>\n",
       "      <th>param_n_estimators</th>\n",
       "      <th>param_min_samples_split</th>\n",
       "      <th>param_max_features</th>\n",
       "      <th>rank_test_score</th>\n",
       "      <th>mean_fit_time</th>\n",
       "      <th>rmse_test</th>\n",
       "    </tr>\n",
       "  </thead>\n",
       "  <tbody>\n",
       "    <tr>\n",
       "      <td>4</td>\n",
       "      <td>30</td>\n",
       "      <td>200</td>\n",
       "      <td>2</td>\n",
       "      <td>8</td>\n",
       "      <td>1</td>\n",
       "      <td>6.182678</td>\n",
       "      <td>32046.770944</td>\n",
       "    </tr>\n",
       "    <tr>\n",
       "      <td>5</td>\n",
       "      <td>30</td>\n",
       "      <td>300</td>\n",
       "      <td>2</td>\n",
       "      <td>8</td>\n",
       "      <td>2</td>\n",
       "      <td>9.159861</td>\n",
       "      <td>32053.964193</td>\n",
       "    </tr>\n",
       "    <tr>\n",
       "      <td>13</td>\n",
       "      <td>40</td>\n",
       "      <td>200</td>\n",
       "      <td>2</td>\n",
       "      <td>8</td>\n",
       "      <td>3</td>\n",
       "      <td>6.148448</td>\n",
       "      <td>32054.492834</td>\n",
       "    </tr>\n",
       "    <tr>\n",
       "      <td>22</td>\n",
       "      <td>50</td>\n",
       "      <td>200</td>\n",
       "      <td>2</td>\n",
       "      <td>8</td>\n",
       "      <td>3</td>\n",
       "      <td>6.679379</td>\n",
       "      <td>32054.492834</td>\n",
       "    </tr>\n",
       "    <tr>\n",
       "      <td>23</td>\n",
       "      <td>50</td>\n",
       "      <td>300</td>\n",
       "      <td>2</td>\n",
       "      <td>8</td>\n",
       "      <td>5</td>\n",
       "      <td>10.436625</td>\n",
       "      <td>32056.572152</td>\n",
       "    </tr>\n",
       "    <tr>\n",
       "      <td>14</td>\n",
       "      <td>40</td>\n",
       "      <td>300</td>\n",
       "      <td>2</td>\n",
       "      <td>8</td>\n",
       "      <td>5</td>\n",
       "      <td>9.306728</td>\n",
       "      <td>32056.572152</td>\n",
       "    </tr>\n",
       "    <tr>\n",
       "      <td>2</td>\n",
       "      <td>30</td>\n",
       "      <td>300</td>\n",
       "      <td>2</td>\n",
       "      <td>7</td>\n",
       "      <td>7</td>\n",
       "      <td>8.103129</td>\n",
       "      <td>32063.353422</td>\n",
       "    </tr>\n",
       "  </tbody>\n",
       "</table>\n",
       "</div>"
      ],
      "text/plain": [
       "   param_max_depth param_n_estimators param_min_samples_split  \\\n",
       "4               30                200                       2   \n",
       "5               30                300                       2   \n",
       "13              40                200                       2   \n",
       "22              50                200                       2   \n",
       "23              50                300                       2   \n",
       "14              40                300                       2   \n",
       "2               30                300                       2   \n",
       "\n",
       "   param_max_features  rank_test_score  mean_fit_time     rmse_test  \n",
       "4                   8                1       6.182678  32046.770944  \n",
       "5                   8                2       9.159861  32053.964193  \n",
       "13                  8                3       6.148448  32054.492834  \n",
       "22                  8                3       6.679379  32054.492834  \n",
       "23                  8                5      10.436625  32056.572152  \n",
       "14                  8                5       9.306728  32056.572152  \n",
       "2                   7                7       8.103129  32063.353422  "
      ]
     },
     "execution_count": 243,
     "metadata": {},
     "output_type": "execute_result"
    }
   ],
   "source": [
    "rnrgrid_df3 = pd.DataFrame(rnr_grid3.cv_results_)\n",
    "rnrgrid_df3 = rnrgrid_df3[['param_max_depth','param_n_estimators',\\\n",
    "                'param_min_samples_split', 'param_max_features',\\\n",
    "                    'mean_test_score','rank_test_score','mean_fit_time']]\n",
    "rnrgrid_df3['rmse_test'] = np.sqrt(-rnrgrid_df3['mean_test_score'])\n",
    "rnrgrid_df3 = rnrgrid_df3.drop(columns=['mean_test_score'])\n",
    "# Veamos una muestra\n",
    "rnrgrid_df3.sort_values(by='rank_test_score').head(7)"
   ]
  },
  {
   "cell_type": "markdown",
   "metadata": {},
   "source": [
    "Como vemos, las ganancias son cada vez más exiguas. Nos quedaremos entonces con los parámetros óptimos del último Grid Search."
   ]
  },
  {
   "cell_type": "code",
   "execution_count": 246,
   "metadata": {},
   "outputs": [
    {
     "data": {
      "text/plain": [
       "{'max_depth': 30,\n",
       " 'max_features': 8,\n",
       " 'min_samples_split': 2,\n",
       " 'n_estimators': 200}"
      ]
     },
     "execution_count": 246,
     "metadata": {},
     "output_type": "execute_result"
    }
   ],
   "source": [
    "rnr_grid3.best_params_"
   ]
  },
  {
   "cell_type": "markdown",
   "metadata": {},
   "source": [
    "Podría estimarse el modelo directamente desde el Grid Search fiteado, pero para calcular luego la feature importance necesito una instancia del Random Forest Regressor."
   ]
  },
  {
   "cell_type": "code",
   "execution_count": 247,
   "metadata": {},
   "outputs": [
    {
     "name": "stdout",
     "output_type": "stream",
     "text": [
      "RMSE test (Random Forest óptimo): 28953.50808244486\n",
      "Mejora benchmark: 28.24 %\n"
     ]
    }
   ],
   "source": [
    "rfr_opt = RandomForestRegressor(max_depth=30,max_features=8,\n",
    "                                 min_samples_split=2,n_estimators=200)\n",
    "rfr_opt.fit(X_train,y_train)\n",
    "y_pred_rf = rfr_opt.predict(X_test)\n",
    "rmse_rf = np.sqrt(mean_squared_error(y_test,y_pred_rf))\n",
    "print(f'RMSE test (Random Forest óptimo): {rmse_rf}')\n",
    "print('Mejora benchmark: %.2f'% (((rmse1 - rmse_rf)/rmse1)*100)+' %')"
   ]
  },
  {
   "cell_type": "markdown",
   "metadata": {},
   "source": [
    "Una gran ventaja del modelo Random Forest (y de los modelos de árboles de decisión en general) es que tienen un alto grado de interpretabilidad. En particular, poseen una métrica, <b>feature importance</b>, que nos permite entender cuáles son los features que más importancia tienen en la regresión. A continuación la estudiaremos."
   ]
  },
  {
   "cell_type": "code",
   "execution_count": 274,
   "metadata": {},
   "outputs": [
    {
     "data": {
      "text/plain": [
       "([0, 1, 2, 3, 4, 5, 6, 7, 8, 9, 10], <a list of 11 Text xticklabel objects>)"
      ]
     },
     "execution_count": 274,
     "metadata": {},
     "output_type": "execute_result"
    },
    {
     "data": {
      "image/png": "[encoded data removed]",
      "text/plain": [
       "<Figure size 432x432 with 1 Axes>"
      ]
     },
     "metadata": {},
     "output_type": "display_data"
    }
   ],
   "source": [
    "importance = rfr_opt.feature_importances_\n",
    "Xcolumns = X_train.columns\n",
    "plt.figure(figsize=(6,6))\n",
    "plt.bar(Xcolumns,importance)\n",
    "plt.xticks(rotation=90)"
   ]
  },
  {
   "cell_type": "markdown",
   "metadata": {},
   "source": [
    "De aquí surgen algunas observaciones interesantes: en primer lugar, y como es esperable, las variables más importantes son las de superficie; por lejos la superficie total es el factor que más explica el precio de una propiedad. En segundo lugar, se nota la asimetría de las coordenadas geográficas: las latitudes son más importantes que las longitudes. Esto no es otra cosa que el reflejo de una conocida característica del mercado inmobiliario porteño: las diferencias más grandes están entre el Norte y el Sur de la Ciudad (las latitudes se mueven \"verticalmente\" en un mapa, mientras que las longitudes lo hacen de manera \"horizontal\"). Otra cuestión que surge es el hecho de que, de los features que agregamos de otras bases de datos, el ingreso per cápita de la comuna es una variable más relevante que la densidad poblacional a la hora de explicar el precio de una propiedad. Por último, curiosamente, el feature menos relevante entre los que consideramos es el tipo de propiedad."
   ]
  }
 ],
 "metadata": {
  "kernelspec": {
   "display_name": "Python 3",
   "language": "python",
   "name": "python3"
  },
  "language_info": {
   "codemirror_mode": {
    "name": "ipython",
    "version": 3
   },
   "file_extension": ".py",
   "mimetype": "text/x-python",
   "name": "python",
   "nbconvert_exporter": "python",
   "pygments_lexer": "ipython3",
   "version": "3.7.4"
  }
 },
 "nbformat": 4,
 "nbformat_minor": 2
}
